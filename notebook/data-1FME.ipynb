{
 "cells": [
  {
   "cell_type": "code",
   "execution_count": 7,
   "metadata": {},
   "outputs": [],
   "source": [
    "import pyemma\n",
    "import pickle\n",
    "import os\n",
    "import glob\n",
    "import torch\n",
    "\n",
    "import mdtraj as md\n",
    "import numpy as np\n",
    "import nglview as nv\n",
    "import matplotlib.pyplot as plt\n",
    "import numpy as np\n",
    "\n",
    "np.bool = np.bool_\n",
    "\n",
    "from tqdm import tqdm\n",
    "from matplotlib.colors import LogNorm\n",
    "from itertools import combinations\n",
    "\n",
    "blue = (70 / 255, 110 / 255, 250 / 255)\n",
    "green = (100 / 255, 170 / 255, 120 / 255)\n",
    "\n",
    "molecule = \"1FME\"\n",
    "simulation_idx = 0\n",
    "base_dir = f\"/home/shpark/prj-mlcv/lib/DESRES/DESRES-Trajectory_{molecule}-{simulation_idx}-protein/{molecule}-{simulation_idx}-protein\"\n",
    "save_dir = f\"/home/shpark/prj-mlcv/lib/DESRES/DESRES-Trajectory_{molecule}-{simulation_idx}-protein\"\n",
    "pdb_path = f\"/home/shpark/prj-mlcv/lib/DESRES/data/{molecule}/{molecule}.pdb\""
   ]
  },
  {
   "cell_type": "markdown",
   "metadata": {},
   "source": [
    "# Visualization"
   ]
  },
  {
   "cell_type": "code",
   "execution_count": 21,
   "metadata": {},
   "outputs": [
    {
     "name": "stdout",
     "output_type": "stream",
     "text": [
      "EQYTAKYKGRTFRNEKELRDFIEKFKGR\n"
     ]
    }
   ],
   "source": [
    "name2letter = {\n",
    "\t\"ALA\": \"A\",\n",
    "\t\"CYS\": \"C\",\n",
    "\t\"ASP\": \"D\",\n",
    "\t\"GLU\": \"E\",\n",
    "\t\"PHE\": \"F\",\n",
    "\t\"GLY\": \"G\",\n",
    "\t\"HIS\": \"H\",\n",
    "\t\"ILE\": \"I\",\n",
    "\t\"LYS\": \"K\",\n",
    "\t\"LEU\": \"L\",\n",
    "\t\"MET\": \"M\",\n",
    "\t\"ASN\": \"N\",\n",
    "\t\"PRO\": \"P\",\n",
    "\t\"GLN\": \"Q\",\n",
    "\t\"ARG\": \"R\",\n",
    "\t\"SER\": \"S\",\n",
    "\t\"THR\": \"T\",\n",
    "\t\"VAL\": \"V\",\n",
    "\t\"TRP\": \"W\",\n",
    "\t\"TYR\": \"Y\",\n",
    "\t\"NLE\": \"X\",\n",
    "}\n",
    "\n",
    "pdb_traj = md.load_pdb(pdb_path) \n",
    "residue_names = [residue.name for residue in pdb_traj.topology.residues]\n",
    "one_letter_str = \"\"\n",
    "for idx, names in enumerate(residue_names):\n",
    "    # print(f\"Letter {idx}: {name2letter[names]}\")\n",
    "    one_letter_str += name2letter[names]\n",
    "print(one_letter_str)"
   ]
  },
  {
   "cell_type": "code",
   "execution_count": 8,
   "metadata": {},
   "outputs": [
    {
     "name": "stdout",
     "output_type": "stream",
     "text": [
      "<mdtraj.Trajectory with 1 frames, 504 atoms, 28 residues, and unitcells>\n"
     ]
    },
    {
     "data": {
      "application/vnd.jupyter.widget-view+json": {
       "model_id": "aa5a0a54c9174edf9b5fac057e004e49",
       "version_major": 2,
       "version_minor": 0
      },
      "text/plain": [
       "NGLWidget()"
      ]
     },
     "metadata": {},
     "output_type": "display_data"
    }
   ],
   "source": [
    "# PDB\n",
    "pdb_traj = md.load_pdb(pdb_path)\n",
    "pdb_view = nv.show_mdtraj(\n",
    "    pdb_traj,\n",
    "    height=\"400px\",\n",
    "    width=\"400px\"\n",
    ")\n",
    "pdb_view.add_representation(\"licorice\", selection=\"protein\")\n",
    "\n",
    "print(pdb_traj)\n",
    "pdb_view"
   ]
  },
  {
   "cell_type": "code",
   "execution_count": 9,
   "metadata": {},
   "outputs": [
    {
     "name": "stdout",
     "output_type": "stream",
     "text": [
      "d1: DISTANCE ATOMS=5,20\n",
      "d2: DISTANCE ATOMS=5,37\n",
      "d3: DISTANCE ATOMS=5,58\n",
      "d4: DISTANCE ATOMS=5,72\n",
      "d5: DISTANCE ATOMS=5,82\n",
      "d6: DISTANCE ATOMS=5,104\n",
      "d7: DISTANCE ATOMS=5,125\n",
      "d8: DISTANCE ATOMS=5,147\n",
      "d9: DISTANCE ATOMS=5,154\n",
      "d10: DISTANCE ATOMS=5,178\n",
      "d11: DISTANCE ATOMS=5,192\n",
      "d12: DISTANCE ATOMS=5,212\n",
      "d13: DISTANCE ATOMS=5,236\n",
      "d14: DISTANCE ATOMS=5,250\n",
      "d15: DISTANCE ATOMS=5,265\n",
      "d16: DISTANCE ATOMS=5,287\n",
      "d17: DISTANCE ATOMS=5,302\n",
      "d18: DISTANCE ATOMS=5,321\n",
      "d19: DISTANCE ATOMS=5,345\n",
      "d20: DISTANCE ATOMS=5,357\n",
      "d21: DISTANCE ATOMS=5,377\n",
      "d22: DISTANCE ATOMS=5,396\n",
      "d23: DISTANCE ATOMS=5,411\n",
      "d24: DISTANCE ATOMS=5,433\n",
      "d25: DISTANCE ATOMS=5,453\n",
      "d26: DISTANCE ATOMS=5,475\n",
      "d27: DISTANCE ATOMS=5,485\n",
      "d28: DISTANCE ATOMS=20,37\n",
      "d29: DISTANCE ATOMS=20,58\n",
      "d30: DISTANCE ATOMS=20,72\n",
      "d31: DISTANCE ATOMS=20,82\n",
      "d32: DISTANCE ATOMS=20,104\n",
      "d33: DISTANCE ATOMS=20,125\n",
      "d34: DISTANCE ATOMS=20,147\n",
      "d35: DISTANCE ATOMS=20,154\n",
      "d36: DISTANCE ATOMS=20,178\n",
      "d37: DISTANCE ATOMS=20,192\n",
      "d38: DISTANCE ATOMS=20,212\n",
      "d39: DISTANCE ATOMS=20,236\n",
      "d40: DISTANCE ATOMS=20,250\n",
      "d41: DISTANCE ATOMS=20,265\n",
      "d42: DISTANCE ATOMS=20,287\n",
      "d43: DISTANCE ATOMS=20,302\n",
      "d44: DISTANCE ATOMS=20,321\n",
      "d45: DISTANCE ATOMS=20,345\n",
      "d46: DISTANCE ATOMS=20,357\n",
      "d47: DISTANCE ATOMS=20,377\n",
      "d48: DISTANCE ATOMS=20,396\n",
      "d49: DISTANCE ATOMS=20,411\n",
      "d50: DISTANCE ATOMS=20,433\n",
      "d51: DISTANCE ATOMS=20,453\n",
      "d52: DISTANCE ATOMS=20,475\n",
      "d53: DISTANCE ATOMS=20,485\n",
      "d54: DISTANCE ATOMS=37,58\n",
      "d55: DISTANCE ATOMS=37,72\n",
      "d56: DISTANCE ATOMS=37,82\n",
      "d57: DISTANCE ATOMS=37,104\n",
      "d58: DISTANCE ATOMS=37,125\n",
      "d59: DISTANCE ATOMS=37,147\n",
      "d60: DISTANCE ATOMS=37,154\n",
      "d61: DISTANCE ATOMS=37,178\n",
      "d62: DISTANCE ATOMS=37,192\n",
      "d63: DISTANCE ATOMS=37,212\n",
      "d64: DISTANCE ATOMS=37,236\n",
      "d65: DISTANCE ATOMS=37,250\n",
      "d66: DISTANCE ATOMS=37,265\n",
      "d67: DISTANCE ATOMS=37,287\n",
      "d68: DISTANCE ATOMS=37,302\n",
      "d69: DISTANCE ATOMS=37,321\n",
      "d70: DISTANCE ATOMS=37,345\n",
      "d71: DISTANCE ATOMS=37,357\n",
      "d72: DISTANCE ATOMS=37,377\n",
      "d73: DISTANCE ATOMS=37,396\n",
      "d74: DISTANCE ATOMS=37,411\n",
      "d75: DISTANCE ATOMS=37,433\n",
      "d76: DISTANCE ATOMS=37,453\n",
      "d77: DISTANCE ATOMS=37,475\n",
      "d78: DISTANCE ATOMS=37,485\n",
      "d79: DISTANCE ATOMS=58,72\n",
      "d80: DISTANCE ATOMS=58,82\n",
      "d81: DISTANCE ATOMS=58,104\n",
      "d82: DISTANCE ATOMS=58,125\n",
      "d83: DISTANCE ATOMS=58,147\n",
      "d84: DISTANCE ATOMS=58,154\n",
      "d85: DISTANCE ATOMS=58,178\n",
      "d86: DISTANCE ATOMS=58,192\n",
      "d87: DISTANCE ATOMS=58,212\n",
      "d88: DISTANCE ATOMS=58,236\n",
      "d89: DISTANCE ATOMS=58,250\n",
      "d90: DISTANCE ATOMS=58,265\n",
      "d91: DISTANCE ATOMS=58,287\n",
      "d92: DISTANCE ATOMS=58,302\n",
      "d93: DISTANCE ATOMS=58,321\n",
      "d94: DISTANCE ATOMS=58,345\n",
      "d95: DISTANCE ATOMS=58,357\n",
      "d96: DISTANCE ATOMS=58,377\n",
      "d97: DISTANCE ATOMS=58,396\n",
      "d98: DISTANCE ATOMS=58,411\n",
      "d99: DISTANCE ATOMS=58,433\n",
      "d100: DISTANCE ATOMS=58,453\n",
      "d101: DISTANCE ATOMS=58,475\n",
      "d102: DISTANCE ATOMS=58,485\n",
      "d103: DISTANCE ATOMS=72,82\n",
      "d104: DISTANCE ATOMS=72,104\n",
      "d105: DISTANCE ATOMS=72,125\n",
      "d106: DISTANCE ATOMS=72,147\n",
      "d107: DISTANCE ATOMS=72,154\n",
      "d108: DISTANCE ATOMS=72,178\n",
      "d109: DISTANCE ATOMS=72,192\n",
      "d110: DISTANCE ATOMS=72,212\n",
      "d111: DISTANCE ATOMS=72,236\n",
      "d112: DISTANCE ATOMS=72,250\n",
      "d113: DISTANCE ATOMS=72,265\n",
      "d114: DISTANCE ATOMS=72,287\n",
      "d115: DISTANCE ATOMS=72,302\n",
      "d116: DISTANCE ATOMS=72,321\n",
      "d117: DISTANCE ATOMS=72,345\n",
      "d118: DISTANCE ATOMS=72,357\n",
      "d119: DISTANCE ATOMS=72,377\n",
      "d120: DISTANCE ATOMS=72,396\n",
      "d121: DISTANCE ATOMS=72,411\n",
      "d122: DISTANCE ATOMS=72,433\n",
      "d123: DISTANCE ATOMS=72,453\n",
      "d124: DISTANCE ATOMS=72,475\n",
      "d125: DISTANCE ATOMS=72,485\n",
      "d126: DISTANCE ATOMS=82,104\n",
      "d127: DISTANCE ATOMS=82,125\n",
      "d128: DISTANCE ATOMS=82,147\n",
      "d129: DISTANCE ATOMS=82,154\n",
      "d130: DISTANCE ATOMS=82,178\n",
      "d131: DISTANCE ATOMS=82,192\n",
      "d132: DISTANCE ATOMS=82,212\n",
      "d133: DISTANCE ATOMS=82,236\n",
      "d134: DISTANCE ATOMS=82,250\n",
      "d135: DISTANCE ATOMS=82,265\n",
      "d136: DISTANCE ATOMS=82,287\n",
      "d137: DISTANCE ATOMS=82,302\n",
      "d138: DISTANCE ATOMS=82,321\n",
      "d139: DISTANCE ATOMS=82,345\n",
      "d140: DISTANCE ATOMS=82,357\n",
      "d141: DISTANCE ATOMS=82,377\n",
      "d142: DISTANCE ATOMS=82,396\n",
      "d143: DISTANCE ATOMS=82,411\n",
      "d144: DISTANCE ATOMS=82,433\n",
      "d145: DISTANCE ATOMS=82,453\n",
      "d146: DISTANCE ATOMS=82,475\n",
      "d147: DISTANCE ATOMS=82,485\n",
      "d148: DISTANCE ATOMS=104,125\n",
      "d149: DISTANCE ATOMS=104,147\n",
      "d150: DISTANCE ATOMS=104,154\n",
      "d151: DISTANCE ATOMS=104,178\n",
      "d152: DISTANCE ATOMS=104,192\n",
      "d153: DISTANCE ATOMS=104,212\n",
      "d154: DISTANCE ATOMS=104,236\n",
      "d155: DISTANCE ATOMS=104,250\n",
      "d156: DISTANCE ATOMS=104,265\n",
      "d157: DISTANCE ATOMS=104,287\n",
      "d158: DISTANCE ATOMS=104,302\n",
      "d159: DISTANCE ATOMS=104,321\n",
      "d160: DISTANCE ATOMS=104,345\n",
      "d161: DISTANCE ATOMS=104,357\n",
      "d162: DISTANCE ATOMS=104,377\n",
      "d163: DISTANCE ATOMS=104,396\n",
      "d164: DISTANCE ATOMS=104,411\n",
      "d165: DISTANCE ATOMS=104,433\n",
      "d166: DISTANCE ATOMS=104,453\n",
      "d167: DISTANCE ATOMS=104,475\n",
      "d168: DISTANCE ATOMS=104,485\n",
      "d169: DISTANCE ATOMS=125,147\n",
      "d170: DISTANCE ATOMS=125,154\n",
      "d171: DISTANCE ATOMS=125,178\n",
      "d172: DISTANCE ATOMS=125,192\n",
      "d173: DISTANCE ATOMS=125,212\n",
      "d174: DISTANCE ATOMS=125,236\n",
      "d175: DISTANCE ATOMS=125,250\n",
      "d176: DISTANCE ATOMS=125,265\n",
      "d177: DISTANCE ATOMS=125,287\n",
      "d178: DISTANCE ATOMS=125,302\n",
      "d179: DISTANCE ATOMS=125,321\n",
      "d180: DISTANCE ATOMS=125,345\n",
      "d181: DISTANCE ATOMS=125,357\n",
      "d182: DISTANCE ATOMS=125,377\n",
      "d183: DISTANCE ATOMS=125,396\n",
      "d184: DISTANCE ATOMS=125,411\n",
      "d185: DISTANCE ATOMS=125,433\n",
      "d186: DISTANCE ATOMS=125,453\n",
      "d187: DISTANCE ATOMS=125,475\n",
      "d188: DISTANCE ATOMS=125,485\n",
      "d189: DISTANCE ATOMS=147,154\n",
      "d190: DISTANCE ATOMS=147,178\n",
      "d191: DISTANCE ATOMS=147,192\n",
      "d192: DISTANCE ATOMS=147,212\n",
      "d193: DISTANCE ATOMS=147,236\n",
      "d194: DISTANCE ATOMS=147,250\n",
      "d195: DISTANCE ATOMS=147,265\n",
      "d196: DISTANCE ATOMS=147,287\n",
      "d197: DISTANCE ATOMS=147,302\n",
      "d198: DISTANCE ATOMS=147,321\n",
      "d199: DISTANCE ATOMS=147,345\n",
      "d200: DISTANCE ATOMS=147,357\n",
      "d201: DISTANCE ATOMS=147,377\n",
      "d202: DISTANCE ATOMS=147,396\n",
      "d203: DISTANCE ATOMS=147,411\n",
      "d204: DISTANCE ATOMS=147,433\n",
      "d205: DISTANCE ATOMS=147,453\n",
      "d206: DISTANCE ATOMS=147,475\n",
      "d207: DISTANCE ATOMS=147,485\n",
      "d208: DISTANCE ATOMS=154,178\n",
      "d209: DISTANCE ATOMS=154,192\n",
      "d210: DISTANCE ATOMS=154,212\n",
      "d211: DISTANCE ATOMS=154,236\n",
      "d212: DISTANCE ATOMS=154,250\n",
      "d213: DISTANCE ATOMS=154,265\n",
      "d214: DISTANCE ATOMS=154,287\n",
      "d215: DISTANCE ATOMS=154,302\n",
      "d216: DISTANCE ATOMS=154,321\n",
      "d217: DISTANCE ATOMS=154,345\n",
      "d218: DISTANCE ATOMS=154,357\n",
      "d219: DISTANCE ATOMS=154,377\n",
      "d220: DISTANCE ATOMS=154,396\n",
      "d221: DISTANCE ATOMS=154,411\n",
      "d222: DISTANCE ATOMS=154,433\n",
      "d223: DISTANCE ATOMS=154,453\n",
      "d224: DISTANCE ATOMS=154,475\n",
      "d225: DISTANCE ATOMS=154,485\n",
      "d226: DISTANCE ATOMS=178,192\n",
      "d227: DISTANCE ATOMS=178,212\n",
      "d228: DISTANCE ATOMS=178,236\n",
      "d229: DISTANCE ATOMS=178,250\n",
      "d230: DISTANCE ATOMS=178,265\n",
      "d231: DISTANCE ATOMS=178,287\n",
      "d232: DISTANCE ATOMS=178,302\n",
      "d233: DISTANCE ATOMS=178,321\n",
      "d234: DISTANCE ATOMS=178,345\n",
      "d235: DISTANCE ATOMS=178,357\n",
      "d236: DISTANCE ATOMS=178,377\n",
      "d237: DISTANCE ATOMS=178,396\n",
      "d238: DISTANCE ATOMS=178,411\n",
      "d239: DISTANCE ATOMS=178,433\n",
      "d240: DISTANCE ATOMS=178,453\n",
      "d241: DISTANCE ATOMS=178,475\n",
      "d242: DISTANCE ATOMS=178,485\n",
      "d243: DISTANCE ATOMS=192,212\n",
      "d244: DISTANCE ATOMS=192,236\n",
      "d245: DISTANCE ATOMS=192,250\n",
      "d246: DISTANCE ATOMS=192,265\n",
      "d247: DISTANCE ATOMS=192,287\n",
      "d248: DISTANCE ATOMS=192,302\n",
      "d249: DISTANCE ATOMS=192,321\n",
      "d250: DISTANCE ATOMS=192,345\n",
      "d251: DISTANCE ATOMS=192,357\n",
      "d252: DISTANCE ATOMS=192,377\n",
      "d253: DISTANCE ATOMS=192,396\n",
      "d254: DISTANCE ATOMS=192,411\n",
      "d255: DISTANCE ATOMS=192,433\n",
      "d256: DISTANCE ATOMS=192,453\n",
      "d257: DISTANCE ATOMS=192,475\n",
      "d258: DISTANCE ATOMS=192,485\n",
      "d259: DISTANCE ATOMS=212,236\n",
      "d260: DISTANCE ATOMS=212,250\n",
      "d261: DISTANCE ATOMS=212,265\n",
      "d262: DISTANCE ATOMS=212,287\n",
      "d263: DISTANCE ATOMS=212,302\n",
      "d264: DISTANCE ATOMS=212,321\n",
      "d265: DISTANCE ATOMS=212,345\n",
      "d266: DISTANCE ATOMS=212,357\n",
      "d267: DISTANCE ATOMS=212,377\n",
      "d268: DISTANCE ATOMS=212,396\n",
      "d269: DISTANCE ATOMS=212,411\n",
      "d270: DISTANCE ATOMS=212,433\n",
      "d271: DISTANCE ATOMS=212,453\n",
      "d272: DISTANCE ATOMS=212,475\n",
      "d273: DISTANCE ATOMS=212,485\n",
      "d274: DISTANCE ATOMS=236,250\n",
      "d275: DISTANCE ATOMS=236,265\n",
      "d276: DISTANCE ATOMS=236,287\n",
      "d277: DISTANCE ATOMS=236,302\n",
      "d278: DISTANCE ATOMS=236,321\n",
      "d279: DISTANCE ATOMS=236,345\n",
      "d280: DISTANCE ATOMS=236,357\n",
      "d281: DISTANCE ATOMS=236,377\n",
      "d282: DISTANCE ATOMS=236,396\n",
      "d283: DISTANCE ATOMS=236,411\n",
      "d284: DISTANCE ATOMS=236,433\n",
      "d285: DISTANCE ATOMS=236,453\n",
      "d286: DISTANCE ATOMS=236,475\n",
      "d287: DISTANCE ATOMS=236,485\n",
      "d288: DISTANCE ATOMS=250,265\n",
      "d289: DISTANCE ATOMS=250,287\n",
      "d290: DISTANCE ATOMS=250,302\n",
      "d291: DISTANCE ATOMS=250,321\n",
      "d292: DISTANCE ATOMS=250,345\n",
      "d293: DISTANCE ATOMS=250,357\n",
      "d294: DISTANCE ATOMS=250,377\n",
      "d295: DISTANCE ATOMS=250,396\n",
      "d296: DISTANCE ATOMS=250,411\n",
      "d297: DISTANCE ATOMS=250,433\n",
      "d298: DISTANCE ATOMS=250,453\n",
      "d299: DISTANCE ATOMS=250,475\n",
      "d300: DISTANCE ATOMS=250,485\n",
      "d301: DISTANCE ATOMS=265,287\n",
      "d302: DISTANCE ATOMS=265,302\n",
      "d303: DISTANCE ATOMS=265,321\n",
      "d304: DISTANCE ATOMS=265,345\n",
      "d305: DISTANCE ATOMS=265,357\n",
      "d306: DISTANCE ATOMS=265,377\n",
      "d307: DISTANCE ATOMS=265,396\n",
      "d308: DISTANCE ATOMS=265,411\n",
      "d309: DISTANCE ATOMS=265,433\n",
      "d310: DISTANCE ATOMS=265,453\n",
      "d311: DISTANCE ATOMS=265,475\n",
      "d312: DISTANCE ATOMS=265,485\n",
      "d313: DISTANCE ATOMS=287,302\n",
      "d314: DISTANCE ATOMS=287,321\n",
      "d315: DISTANCE ATOMS=287,345\n",
      "d316: DISTANCE ATOMS=287,357\n",
      "d317: DISTANCE ATOMS=287,377\n",
      "d318: DISTANCE ATOMS=287,396\n",
      "d319: DISTANCE ATOMS=287,411\n",
      "d320: DISTANCE ATOMS=287,433\n",
      "d321: DISTANCE ATOMS=287,453\n",
      "d322: DISTANCE ATOMS=287,475\n",
      "d323: DISTANCE ATOMS=287,485\n",
      "d324: DISTANCE ATOMS=302,321\n",
      "d325: DISTANCE ATOMS=302,345\n",
      "d326: DISTANCE ATOMS=302,357\n",
      "d327: DISTANCE ATOMS=302,377\n",
      "d328: DISTANCE ATOMS=302,396\n",
      "d329: DISTANCE ATOMS=302,411\n",
      "d330: DISTANCE ATOMS=302,433\n",
      "d331: DISTANCE ATOMS=302,453\n",
      "d332: DISTANCE ATOMS=302,475\n",
      "d333: DISTANCE ATOMS=302,485\n",
      "d334: DISTANCE ATOMS=321,345\n",
      "d335: DISTANCE ATOMS=321,357\n",
      "d336: DISTANCE ATOMS=321,377\n",
      "d337: DISTANCE ATOMS=321,396\n",
      "d338: DISTANCE ATOMS=321,411\n",
      "d339: DISTANCE ATOMS=321,433\n",
      "d340: DISTANCE ATOMS=321,453\n",
      "d341: DISTANCE ATOMS=321,475\n",
      "d342: DISTANCE ATOMS=321,485\n",
      "d343: DISTANCE ATOMS=345,357\n",
      "d344: DISTANCE ATOMS=345,377\n",
      "d345: DISTANCE ATOMS=345,396\n",
      "d346: DISTANCE ATOMS=345,411\n",
      "d347: DISTANCE ATOMS=345,433\n",
      "d348: DISTANCE ATOMS=345,453\n",
      "d349: DISTANCE ATOMS=345,475\n",
      "d350: DISTANCE ATOMS=345,485\n",
      "d351: DISTANCE ATOMS=357,377\n",
      "d352: DISTANCE ATOMS=357,396\n",
      "d353: DISTANCE ATOMS=357,411\n",
      "d354: DISTANCE ATOMS=357,433\n",
      "d355: DISTANCE ATOMS=357,453\n",
      "d356: DISTANCE ATOMS=357,475\n",
      "d357: DISTANCE ATOMS=357,485\n",
      "d358: DISTANCE ATOMS=377,396\n",
      "d359: DISTANCE ATOMS=377,411\n",
      "d360: DISTANCE ATOMS=377,433\n",
      "d361: DISTANCE ATOMS=377,453\n",
      "d362: DISTANCE ATOMS=377,475\n",
      "d363: DISTANCE ATOMS=377,485\n",
      "d364: DISTANCE ATOMS=396,411\n",
      "d365: DISTANCE ATOMS=396,433\n",
      "d366: DISTANCE ATOMS=396,453\n",
      "d367: DISTANCE ATOMS=396,475\n",
      "d368: DISTANCE ATOMS=396,485\n",
      "d369: DISTANCE ATOMS=411,433\n",
      "d370: DISTANCE ATOMS=411,453\n",
      "d371: DISTANCE ATOMS=411,475\n",
      "d372: DISTANCE ATOMS=411,485\n",
      "d373: DISTANCE ATOMS=433,453\n",
      "d374: DISTANCE ATOMS=433,475\n",
      "d375: DISTANCE ATOMS=433,485\n",
      "d376: DISTANCE ATOMS=453,475\n",
      "d377: DISTANCE ATOMS=453,485\n",
      "d378: DISTANCE ATOMS=475,485\n",
      "ARG=d1,d2,d3,d4,d5,d6,d7,d8,d9,d10,d11,d12,d13,d14,d15,d16,d17,d18,d19,d20,d21,d22,d23,d24,d25,d26,d27,d28,d29,d30,d31,d32,d33,d34,d35,d36,d37,d38,d39,d40,d41,d42,d43,d44,d45,d46,d47,d48,d49,d50,d51,d52,d53,d54,d55,d56,d57,d58,d59,d60,d61,d62,d63,d64,d65,d66,d67,d68,d69,d70,d71,d72,d73,d74,d75,d76,d77,d78,d79,d80,d81,d82,d83,d84,d85,d86,d87,d88,d89,d90,d91,d92,d93,d94,d95,d96,d97,d98,d99,d100,d101,d102,d103,d104,d105,d106,d107,d108,d109,d110,d111,d112,d113,d114,d115,d116,d117,d118,d119,d120,d121,d122,d123,d124,d125,d126,d127,d128,d129,d130,d131,d132,d133,d134,d135,d136,d137,d138,d139,d140,d141,d142,d143,d144,d145,d146,d147,d148,d149,d150,d151,d152,d153,d154,d155,d156,d157,d158,d159,d160,d161,d162,d163,d164,d165,d166,d167,d168,d169,d170,d171,d172,d173,d174,d175,d176,d177,d178,d179,d180,d181,d182,d183,d184,d185,d186,d187,d188,d189,d190,d191,d192,d193,d194,d195,d196,d197,d198,d199,d200,d201,d202,d203,d204,d205,d206,d207,d208,d209,d210,d211,d212,d213,d214,d215,d216,d217,d218,d219,d220,d221,d222,d223,d224,d225,d226,d227,d228,d229,d230,d231,d232,d233,d234,d235,d236,d237,d238,d239,d240,d241,d242,d243,d244,d245,d246,d247,d248,d249,d250,d251,d252,d253,d254,d255,d256,d257,d258,d259,d260,d261,d262,d263,d264,d265,d266,d267,d268,d269,d270,d271,d272,d273,d274,d275,d276,d277,d278,d279,d280,d281,d282,d283,d284,d285,d286,d287,d288,d289,d290,d291,d292,d293,d294,d295,d296,d297,d298,d299,d300,d301,d302,d303,d304,d305,d306,d307,d308,d309,d310,d311,d312,d313,d314,d315,d316,d317,d318,d319,d320,d321,d322,d323,d324,d325,d326,d327,d328,d329,d330,d331,d332,d333,d334,d335,d336,d337,d338,d339,d340,d341,d342,d343,d344,d345,d346,d347,d348,d349,d350,d351,d352,d353,d354,d355,d356,d357,d358,d359,d360,d361,d362,d363,d364,d365,d366,d367,d368,d369,d370,d371,d372,d373,d374,d375,d376,d377,d378,d379\n"
     ]
    }
   ],
   "source": [
    "# CA atom index\n",
    "ca_atoms = [atom for atom in pdb_traj.topology.atoms if atom.name == \"CA\"]\n",
    "ca_indices = [atom.index for atom in ca_atoms]\n",
    "\n",
    "cnt = 1\n",
    "for i in range(len(ca_indices)):\n",
    "    for j in range(i+1, len(ca_indices)):\n",
    "        print(f\"d{cnt}: DISTANCE ATOMS={ca_indices[i]+1},{ca_indices[j]+1}\")\n",
    "        cnt += 1\n",
    "\n",
    "print(\"ARG=\" + \",\".join(f\"d{i+1}\" for i in range(cnt)))"
   ]
  },
  {
   "cell_type": "code",
   "execution_count": 10,
   "metadata": {},
   "outputs": [
    {
     "name": "stdout",
     "output_type": "stream",
     "text": [
      "Found 112 .dcd files in /home/shpark/prj-mlcv/lib/DESRES/DESRES-Trajectory_1FME-0-protein/1FME-0-protein\n",
      "Pattern used: /home/shpark/prj-mlcv/lib/DESRES/DESRES-Trajectory_1FME-0-protein/1FME-0-protein/1FME-0-protein-*.dcd\n",
      "File indices range: 0 to 111\n",
      "Total files to load: 112\n"
     ]
    }
   ],
   "source": [
    "# Check .dcd files in the simulation directory\n",
    "dcd_pattern = f\"{base_dir}/{molecule}-{simulation_idx}-protein-*.dcd\"\n",
    "dcd_files = glob.glob(dcd_pattern)\n",
    "num_files = len(dcd_files)\n",
    "print(f\"Found {num_files} .dcd files in {base_dir}\")\n",
    "print(f\"Pattern used: {dcd_pattern}\")\n",
    "\n",
    "file_indices = []\n",
    "for file_path in dcd_files:\n",
    "    filename = os.path.basename(file_path)\n",
    "    index_part = filename.split('-')[-1].replace('.dcd', '')\n",
    "    if index_part.isdigit():\n",
    "        file_indices.append(int(index_part))\n",
    "\n",
    "file_indices.sort()\n",
    "print(f\"File indices range: {min(file_indices)} to {max(file_indices)}\")\n",
    "print(f\"Total files to load: {len(file_indices)}\")"
   ]
  },
  {
   "cell_type": "code",
   "execution_count": 11,
   "metadata": {},
   "outputs": [
    {
     "name": "stderr",
     "output_type": "stream",
     "text": [
      "Loading trajectories: 100%|██████████| 112/112 [00:07<00:00, 15.83it/s]\n"
     ]
    },
    {
     "name": "stdout",
     "output_type": "stream",
     "text": [
      "Successfully loaded 112 trajectory files\n"
     ]
    }
   ],
   "source": [
    "# Load trajectories \n",
    "traj_list = []\n",
    "for i in tqdm(\n",
    "    file_indices,\n",
    "    desc=\"Loading trajectories\"\n",
    "):\n",
    "    file_idx = f\"{i:03d}\"\n",
    "    file_path = f\"{base_dir}/{molecule}-{simulation_idx}-protein-{file_idx}.dcd\"\n",
    "    if os.path.exists(file_path):\n",
    "        traj = md.load_dcd(file_path, top=pdb_path)\n",
    "        traj_list.append(traj)\n",
    "    else:\n",
    "        print(f\"Warning: File not found: {file_path}\")\n",
    "\n",
    "print(f\"Successfully loaded {len(traj_list)} trajectory files\")\n",
    "all_traj = md.join(traj_list)"
   ]
  },
  {
   "cell_type": "code",
   "execution_count": 22,
   "metadata": {},
   "outputs": [
    {
     "name": "stdout",
     "output_type": "stream",
     "text": [
      "Total frames: 1114545\n"
     ]
    },
    {
     "data": {
      "application/vnd.jupyter.widget-view+json": {
       "model_id": "020c6cb66c1a43a0969fe5b14ef02449",
       "version_major": 2,
       "version_minor": 0
      },
      "text/plain": [
       "NGLWidget(max_frame=1114544)"
      ]
     },
     "metadata": {},
     "output_type": "display_data"
    }
   ],
   "source": [
    "all_traj.center_coordinates()\n",
    "view = nv.show_mdtraj(\n",
    "    all_traj,\n",
    "\theight=\"400px\",\n",
    "    width=\"400px\"\n",
    ")\n",
    "view.add_representation(\"licorice\", selection=\"protein\")\n",
    "print(f\"Total frames: {all_traj.n_frames}\")\n",
    "view"
   ]
  },
  {
   "cell_type": "code",
   "execution_count": null,
   "metadata": {},
   "outputs": [],
   "source": [
    "view.frame = 24623"
   ]
  },
  {
   "cell_type": "code",
   "execution_count": null,
   "metadata": {},
   "outputs": [],
   "source": [
    "# # Map coordinates accordingly if necessary\n",
    "# atom_mapping = np.array([1, 2, 7, 8, 3, 4, 5, 6, 288, 289, 290, 291, 292, 293, 294, 295, 296, 297, 298, 299, 300, 9, 10, 11, 12, 13, 14, 301, 302, 303, 304, 305, 15, 16, 17, 18, 19, 20, 21, 22, 306, 307, 308, 309, 23, 24, 25, 26, 27, 28, 29, 30, 31, 310, 311, 312, 313, 314, 315, 32, 33, 34, 35, 36, 37, 38, 39, 316, 317, 318, 319, 40, 41, 42, 43, 44, 45, 46, 47, 48, 49, 50, 320, 321, 322, 323, 324, 325, 326, 327, 328, 51, 52, 58, 59, 53, 54, 55, 56, 57, 329, 330, 331, 332, 333, 334, 335, 336, 337, 338, 339, 340, 341, 60, 61, 62, 63, 64, 342, 343, 344, 345, 346, 65, 66, 67, 68, 69, 70, 71, 347, 348, 349, 350, 351, 352, 353, 354, 355, 72, 73, 74, 75, 76, 77, 78, 79, 80, 81, 82, 356, 357, 358, 359, 360, 361, 362, 363, 364, 83, 84, 85, 86, 365, 366, 367, 87, 88, 89, 90, 91, 92, 93, 94, 368, 369, 370, 371, 372, 373, 374, 375, 376, 95, 96, 97, 98, 99, 100, 101, 377, 378, 379, 380, 381, 382, 383, 102, 103, 104, 105, 106, 107, 108, 109, 110, 111, 112, 384, 385, 386, 387, 388, 389, 390, 391, 392, 393, 394, 395, 396, 113, 114, 115, 116, 117, 118, 397, 398, 399, 400, 401, 119, 120, 121, 122, 123, 402, 403, 404, 405, 406, 124, 125, 126, 127, 128, 129, 130, 131, 132, 133, 134, 407, 408, 409, 410, 411, 412, 413, 414, 415, 135, 136, 137, 138, 139, 416, 417, 418, 419, 420, 140, 141, 142, 143, 144, 145, 146, 147, 421, 422, 423, 424, 425, 426, 148, 149, 150, 151, 152, 153, 154, 155, 427, 428, 429, 430, 431, 432, 433, 434, 435, 436, 437, 156, 157, 158, 159, 160, 161, 162, 438, 439, 440, 441, 442, 443, 444, 163, 164, 165, 166, 167, 168, 169, 170, 445, 446, 447, 448, 449, 450, 451, 452, 453, 454, 455, 171, 172, 173, 174, 175, 176, 177, 178, 179, 180, 181, 182, 183, 184, 456, 457, 458, 459, 460, 461, 462, 463, 464, 465, 185, 186, 187, 188, 189, 190, 191, 192, 466, 467, 468, 469, 470, 471, 472, 473, 474, 475, 476, 193, 194, 195, 196, 197, 198, 199, 200, 201, 477, 478, 479, 480, 481, 482, 483, 484, 202, 203, 204, 205, 206, 207, 208, 209, 210, 485, 486, 487, 488, 489, 490, 491, 492, 211, 212, 213, 214, 215, 216, 217, 218, 219, 220, 493, 494, 495, 496, 497, 498, 499, 500, 221, 222, 223, 224, 225, 226, 227, 228, 501, 502, 503, 504, 505, 506, 507, 508, 509, 510, 511, 229, 230, 231, 232, 233, 234, 235, 236, 512, 513, 514, 515, 516, 517, 518, 519, 520, 521, 522, 237, 238, 244, 245, 239, 240, 241, 242, 243, 523, 524, 525, 526, 527, 528, 529, 530, 531, 532, 533, 534, 535, 246, 247, 248, 249, 250, 251, 252, 253, 254, 536, 537, 538, 539, 540, 541, 255, 256, 262, 263, 257, 258, 259, 260, 261, 542, 543, 544, 545, 546, 547, 548, 549, 550, 551, 552, 553, 554, 264, 265, 266, 267, 555, 556, 557, 268, 269, 270, 271, 272, 273, 274, 275, 558, 559, 560, 561, 562, 563, 564, 565, 566, 567, 568, 276, 277, 285, 286, 278, 279, 280, 281, 282, 283, 284, 287, 569, 570, 571, 572, 573, 574, 575, 576, 577])\n",
    "# new_traj = md.load_pdb(pdb_path)\n",
    "# all_traj.xyz = all_traj.xyz[:, atom_mapping - 1]\n",
    "# view = nv.show_mdtraj(all_traj)\n",
    "# view.add_representation(\"licorice\", selection=\"protein\")\n",
    "# view"
   ]
  },
  {
   "cell_type": "markdown",
   "metadata": {},
   "source": [
    "# Descriptors"
   ]
  },
  {
   "cell_type": "code",
   "execution_count": 13,
   "metadata": {},
   "outputs": [
    {
     "name": "stdout",
     "output_type": "stream",
     "text": [
      "(1114545, 378)\n",
      "1.3867618\n"
     ]
    }
   ],
   "source": [
    "pdb = md.load(pdb_path)\n",
    "ca_resid_pair = np.array(\n",
    "\t[(a.index, b.index) for a, b in combinations(list(pdb.topology.residues), 2)]\n",
    ")\n",
    "ca_pair_contacts, resid_pairs = md.compute_contacts(\n",
    "\tall_traj, scheme=\"ca\", contacts=ca_resid_pair, periodic=False\n",
    ")\n",
    "print(ca_pair_contacts.shape)\n",
    "print(ca_pair_contacts.mean())\n",
    "\n",
    "# torch.save(\n",
    "#     torch.from_numpy(ca_pair_contacts),\n",
    "#     f\"../DESRES-Trajectory_{molecule}-{simulation_idx}-protein/{molecule}-{simulation_idx}-cad.pt\"\n",
    "# )"
   ]
  },
  {
   "cell_type": "code",
   "execution_count": 14,
   "metadata": {},
   "outputs": [
    {
     "name": "stdout",
     "output_type": "stream",
     "text": [
      "(1114545, 378)\n",
      "1.0\n"
     ]
    }
   ],
   "source": [
    "exp = 2\n",
    "ca_pair_distances_swtich = (1 - (np.power(ca_pair_contacts, exp) / 0.8)) / (1 - (np.power(ca_pair_contacts, exp) / 0.8))\n",
    "print(ca_pair_distances_swtich.shape)\n",
    "print(ca_pair_distances_swtich.mean())\n",
    "\n",
    "# torch.save(\n",
    "#     torch.from_numpy(ca_pair_distances_swtich),\n",
    "#     f\"../DESRES-Trajectory_{molecule}-{simulation_idx}-protein/{molecule}-{simulation_idx}-cad-switch.pt\"\n",
    "# )"
   ]
  },
  {
   "cell_type": "code",
   "execution_count": 15,
   "metadata": {},
   "outputs": [
    {
     "name": "stdout",
     "output_type": "stream",
     "text": [
      "(1114545, 504, 3)\n"
     ]
    }
   ],
   "source": [
    "xyz = all_traj.xyz\n",
    "print(xyz.shape)\n",
    "\n",
    "# torch.save(\n",
    "#     torch.from_numpy(xyz),\n",
    "#     f\"../DESRES-Trajectory_{molecule}-{simulation_idx}-protein/{molecule}-{simulation_idx}-pos.pt\"\n",
    "# )"
   ]
  },
  {
   "cell_type": "code",
   "execution_count": 2,
   "metadata": {},
   "outputs": [
    {
     "name": "stdout",
     "output_type": "stream",
     "text": [
      "torch.Size([1114545, 504, 3])\n"
     ]
    }
   ],
   "source": [
    "xyz = torch.load(f\"../DESRES-Trajectory_{molecule}-{simulation_idx}-protein/{molecule}-{simulation_idx}-pos.pt\")\n",
    "\n",
    "print(xyz.shape)"
   ]
  },
  {
   "cell_type": "markdown",
   "metadata": {},
   "source": [
    "# TICA"
   ]
  },
  {
   "cell_type": "code",
   "execution_count": 18,
   "metadata": {},
   "outputs": [],
   "source": [
    "def cad2switch(\n",
    "    cad,\n",
    "    cutoff: float = 0.8\n",
    ") -> np.ndarray:\n",
    "\tif type(cad) == torch.Tensor:\n",
    "\t\tcad = cad.numpy()\n",
    "\treturn (1 - np.power(cad / cutoff, 6)) / (1 - np.power(cad / cutoff, 12))"
   ]
  },
  {
   "cell_type": "code",
   "execution_count": 16,
   "metadata": {},
   "outputs": [
    {
     "name": "stderr",
     "output_type": "stream",
     "text": [
      "/home/shpark/.conda/envs/bioemu/lib/python3.10/site-packages/decorator.py:235: PyEMMA_DeprecationWarning: Call to deprecated function \"tica\". Called from /home/shpark/.conda/envs/bioemu/lib/python3.10/site-packages/decorator.py line 235. Use deeptime.decomposition.TICA instead.\n",
      "  return caller(func, *(extras + args), **kw)\n"
     ]
    },
    {
     "data": {
      "application/vnd.jupyter.widget-view+json": {
       "model_id": "e87a946d22574a8ea7ccf846047fbf7f",
       "version_major": 2,
       "version_minor": 0
      },
      "text/plain": [
       "calculate covariances:   0%|          | 0/7 [00:00<?, ?it/s]"
      ]
     },
     "metadata": {},
     "output_type": "display_data"
    },
    {
     "data": {
      "application/vnd.jupyter.widget-view+json": {
       "model_id": "0ddbd4bbf5bc496f9f13f78e7b578546",
       "version_major": 2,
       "version_minor": 0
      },
      "text/plain": [
       "getting output of TICA:   0%|          | 0/7 [00:00<?, ?it/s]"
      ]
     },
     "metadata": {},
     "output_type": "display_data"
    },
    {
     "data": {
      "image/png": "[encoded data removed]",
      "text/plain": [
       "<Figure size 600x600 with 1 Axes>"
      ]
     },
     "metadata": {},
     "output_type": "display_data"
    },
    {
     "name": "stderr",
     "output_type": "stream",
     "text": [
      "/home/shpark/.conda/envs/bioemu/lib/python3.10/site-packages/decorator.py:235: PyEMMA_DeprecationWarning: Call to deprecated function \"tica\". Called from /home/shpark/.conda/envs/bioemu/lib/python3.10/site-packages/decorator.py line 235. Use deeptime.decomposition.TICA instead.\n",
      "  return caller(func, *(extras + args), **kw)\n"
     ]
    },
    {
     "data": {
      "application/vnd.jupyter.widget-view+json": {
       "model_id": "a7af9f9092c44b2984fbb913f06b6d29",
       "version_major": 2,
       "version_minor": 0
      },
      "text/plain": [
       "calculate covariances:   0%|          | 0/7 [00:00<?, ?it/s]"
      ]
     },
     "metadata": {},
     "output_type": "display_data"
    },
    {
     "data": {
      "application/vnd.jupyter.widget-view+json": {
       "model_id": "e7d4f6dec9824c61bce97a3ed85a7d58",
       "version_major": 2,
       "version_minor": 0
      },
      "text/plain": [
       "getting output of TICA:   0%|          | 0/7 [00:00<?, ?it/s]"
      ]
     },
     "metadata": {},
     "output_type": "display_data"
    },
    {
     "data": {
      "image/png": "[encoded data removed]",
      "text/plain": [
       "<Figure size 600x600 with 1 Axes>"
      ]
     },
     "metadata": {},
     "output_type": "display_data"
    },
    {
     "name": "stderr",
     "output_type": "stream",
     "text": [
      "/home/shpark/.conda/envs/bioemu/lib/python3.10/site-packages/decorator.py:235: PyEMMA_DeprecationWarning: Call to deprecated function \"tica\". Called from /home/shpark/.conda/envs/bioemu/lib/python3.10/site-packages/decorator.py line 235. Use deeptime.decomposition.TICA instead.\n",
      "  return caller(func, *(extras + args), **kw)\n"
     ]
    },
    {
     "data": {
      "application/vnd.jupyter.widget-view+json": {
       "model_id": "6c117c305d3e424bb55c7919100e9447",
       "version_major": 2,
       "version_minor": 0
      },
      "text/plain": [
       "calculate covariances:   0%|          | 0/7 [00:00<?, ?it/s]"
      ]
     },
     "metadata": {},
     "output_type": "display_data"
    },
    {
     "data": {
      "application/vnd.jupyter.widget-view+json": {
       "model_id": "051cc658008d48c18760a9a49d42037d",
       "version_major": 2,
       "version_minor": 0
      },
      "text/plain": [
       "getting output of TICA:   0%|          | 0/7 [00:00<?, ?it/s]"
      ]
     },
     "metadata": {},
     "output_type": "display_data"
    },
    {
     "data": {
      "image/png": "[encoded data removed]",
      "text/plain": [
       "<Figure size 600x600 with 1 Axes>"
      ]
     },
     "metadata": {},
     "output_type": "display_data"
    }
   ],
   "source": [
    "# TICA with pair distances\n",
    "pdb_state = md.load(pdb_path)\n",
    "pdb_state_ca_pair_distances, pdb_resid_pairs = md.compute_contacts(pdb_state, scheme=\"ca\", contacts=ca_resid_pair, periodic=False)\n",
    "\n",
    "for lag in (10, 100, 1000):\n",
    "\tdata = ca_pair_contacts\n",
    "\ttica_obj = pyemma.coordinates.tica(data, lag=lag, dim=2)\n",
    "\ttica_data = tica_obj.get_output()[0]\n",
    "\tx = tica_data[:, 0]\n",
    "\ty = tica_data[:, 1]\n",
    "\n",
    "\tpdb_tica_data = tica_obj.transform(pdb_state_ca_pair_distances)\n",
    "\tpdb_tica_x = pdb_tica_data[:, 0]\n",
    "\tpdb_tica_y = pdb_tica_data[:, 1]\n",
    "\n",
    "\t# Plot\n",
    "\tfig = plt.figure(figsize=(6, 6))\n",
    "\tax = fig.add_subplot(111)\n",
    "\tax.hist2d(x, y, bins=100, norm=LogNorm())\n",
    "\tax.scatter(pdb_tica_x, pdb_tica_y, color=\"red\", s=100)\n",
    "\tax.set_xlabel(\"TIC 1\")\n",
    "\tax.set_ylabel(\"TIC 2\")\n",
    "\tplt.title(f\"TICA with pair distances, lag={lag}\")\n",
    "\tplt.savefig(f'../data/{molecule}/{molecule}_tica_model_lag{lag}.png')\n",
    "\tplt.show()\n",
    "\tplt.close()\n",
    "\n",
    "\twith open(f'../data/{molecule}/{molecule}_tica_model_lag{lag}.pkl', 'wb') as f:\n",
    "\t\tpickle.dump(tica_obj, f)"
   ]
  },
  {
   "cell_type": "code",
   "execution_count": 19,
   "metadata": {},
   "outputs": [
    {
     "name": "stderr",
     "output_type": "stream",
     "text": [
      "/tmp/ipykernel_4072459/1269659341.py:7: RuntimeWarning: invalid value encountered in divide\n",
      "  return (1 - np.power(cad / cutoff, 6)) / (1 - np.power(cad / cutoff, 12))\n",
      "/home/shpark/.conda/envs/bioemu/lib/python3.10/site-packages/decorator.py:235: PyEMMA_DeprecationWarning: Call to deprecated function \"tica\". Called from /home/shpark/.conda/envs/bioemu/lib/python3.10/site-packages/decorator.py line 235. Use deeptime.decomposition.TICA instead.\n",
      "  return caller(func, *(extras + args), **kw)\n"
     ]
    },
    {
     "data": {
      "application/vnd.jupyter.widget-view+json": {
       "model_id": "c1fba397937b4a71a57bbf00a47638df",
       "version_major": 2,
       "version_minor": 0
      },
      "text/plain": [
       "calculate covariances:   0%|          | 0/7 [00:00<?, ?it/s]"
      ]
     },
     "metadata": {},
     "output_type": "display_data"
    },
    {
     "ename": "InvalidDataInStreamException",
     "evalue": "Found invalid values in chunk in trajectory index 0 at chunk [177546, 355082] within frames (array([74275]), array([328])).",
     "output_type": "error",
     "traceback": [
      "\u001b[0;31m---------------------------------------------------------------------------\u001b[0m",
      "\u001b[0;31mInvalidDataInStreamException\u001b[0m              Traceback (most recent call last)",
      "Cell \u001b[0;32mIn[19], line 8\u001b[0m\n\u001b[1;32m      5\u001b[0m data_switch \u001b[38;5;241m=\u001b[39m cad2switch(ca_pair_contacts)\n\u001b[1;32m      7\u001b[0m \u001b[38;5;28;01mfor\u001b[39;00m lag \u001b[38;5;129;01min\u001b[39;00m (\u001b[38;5;241m10\u001b[39m, \u001b[38;5;241m100\u001b[39m, \u001b[38;5;241m1000\u001b[39m):\n\u001b[0;32m----> 8\u001b[0m \ttica_obj \u001b[38;5;241m=\u001b[39m \u001b[43mpyemma\u001b[49m\u001b[38;5;241;43m.\u001b[39;49m\u001b[43mcoordinates\u001b[49m\u001b[38;5;241;43m.\u001b[39;49m\u001b[43mtica\u001b[49m\u001b[43m(\u001b[49m\u001b[43mdata_switch\u001b[49m\u001b[43m,\u001b[49m\u001b[43m \u001b[49m\u001b[43mlag\u001b[49m\u001b[38;5;241;43m=\u001b[39;49m\u001b[43mlag\u001b[49m\u001b[43m,\u001b[49m\u001b[43m \u001b[49m\u001b[43mdim\u001b[49m\u001b[38;5;241;43m=\u001b[39;49m\u001b[38;5;241;43m2\u001b[39;49m\u001b[43m)\u001b[49m\n\u001b[1;32m      9\u001b[0m \ttica_data \u001b[38;5;241m=\u001b[39m tica_obj\u001b[38;5;241m.\u001b[39mget_output()[\u001b[38;5;241m0\u001b[39m]\n\u001b[1;32m     10\u001b[0m \tx \u001b[38;5;241m=\u001b[39m tica_data[:, \u001b[38;5;241m0\u001b[39m]\n",
      "File \u001b[0;32m~/.conda/envs/bioemu/lib/python3.10/site-packages/decorator.py:235\u001b[0m, in \u001b[0;36mdecorate.<locals>.fun\u001b[0;34m(*args, **kw)\u001b[0m\n\u001b[1;32m    233\u001b[0m \u001b[38;5;28;01mif\u001b[39;00m \u001b[38;5;129;01mnot\u001b[39;00m kwsyntax:\n\u001b[1;32m    234\u001b[0m     args, kw \u001b[38;5;241m=\u001b[39m fix(args, kw, sig)\n\u001b[0;32m--> 235\u001b[0m \u001b[38;5;28;01mreturn\u001b[39;00m \u001b[43mcaller\u001b[49m\u001b[43m(\u001b[49m\u001b[43mfunc\u001b[49m\u001b[43m,\u001b[49m\u001b[43m \u001b[49m\u001b[38;5;241;43m*\u001b[39;49m\u001b[43m(\u001b[49m\u001b[43mextras\u001b[49m\u001b[43m \u001b[49m\u001b[38;5;241;43m+\u001b[39;49m\u001b[43m \u001b[49m\u001b[43margs\u001b[49m\u001b[43m)\u001b[49m\u001b[43m,\u001b[49m\u001b[43m \u001b[49m\u001b[38;5;241;43m*\u001b[39;49m\u001b[38;5;241;43m*\u001b[39;49m\u001b[43mkw\u001b[49m\u001b[43m)\u001b[49m\n",
      "File \u001b[0;32m~/.conda/envs/bioemu/lib/python3.10/site-packages/pyemma/util/annotators.py:218\u001b[0m, in \u001b[0;36mdeprecated.<locals>._deprecated\u001b[0;34m(func, *args, **kw)\u001b[0m\n\u001b[1;32m    209\u001b[0m user_msg \u001b[38;5;241m=\u001b[39m \u001b[38;5;124m'\u001b[39m\u001b[38;5;124mCall to deprecated function \u001b[39m\u001b[38;5;124m\"\u001b[39m\u001b[38;5;132;01m%s\u001b[39;00m\u001b[38;5;124m\"\u001b[39m\u001b[38;5;124m. Called from \u001b[39m\u001b[38;5;132;01m%s\u001b[39;00m\u001b[38;5;124m line \u001b[39m\u001b[38;5;132;01m%i\u001b[39;00m\u001b[38;5;124m. \u001b[39m\u001b[38;5;132;01m%s\u001b[39;00m\u001b[38;5;124m'\u001b[39m \\\n\u001b[1;32m    210\u001b[0m            \u001b[38;5;241m%\u001b[39m (func\u001b[38;5;241m.\u001b[39m\u001b[38;5;18m__name__\u001b[39m, filename, lineno, msg)\n\u001b[1;32m    212\u001b[0m warnings\u001b[38;5;241m.\u001b[39mwarn_explicit(\n\u001b[1;32m    213\u001b[0m     user_msg,\n\u001b[1;32m    214\u001b[0m     category\u001b[38;5;241m=\u001b[39mPyEMMA_DeprecationWarning,\n\u001b[1;32m    215\u001b[0m     filename\u001b[38;5;241m=\u001b[39mfilename,\n\u001b[1;32m    216\u001b[0m     lineno\u001b[38;5;241m=\u001b[39mlineno\n\u001b[1;32m    217\u001b[0m )\n\u001b[0;32m--> 218\u001b[0m \u001b[38;5;28;01mreturn\u001b[39;00m \u001b[43mfunc\u001b[49m\u001b[43m(\u001b[49m\u001b[38;5;241;43m*\u001b[39;49m\u001b[43margs\u001b[49m\u001b[43m,\u001b[49m\u001b[43m \u001b[49m\u001b[38;5;241;43m*\u001b[39;49m\u001b[38;5;241;43m*\u001b[39;49m\u001b[43mkw\u001b[49m\u001b[43m)\u001b[49m\n",
      "File \u001b[0;32m~/.conda/envs/bioemu/lib/python3.10/site-packages/pyemma/coordinates/api.py:1287\u001b[0m, in \u001b[0;36mtica\u001b[0;34m(data, lag, dim, var_cutoff, kinetic_map, commute_map, weights, stride, remove_mean, skip, reversible, ncov_max, chunksize, **kwargs)\u001b[0m\n\u001b[1;32m   1284\u001b[0m res \u001b[38;5;241m=\u001b[39m TICA(lag, dim\u001b[38;5;241m=\u001b[39mdim, var_cutoff\u001b[38;5;241m=\u001b[39mvar_cutoff, kinetic_map\u001b[38;5;241m=\u001b[39mkinetic_map, commute_map\u001b[38;5;241m=\u001b[39mcommute_map, skip\u001b[38;5;241m=\u001b[39mskip, stride\u001b[38;5;241m=\u001b[39mstride,\n\u001b[1;32m   1285\u001b[0m            weights\u001b[38;5;241m=\u001b[39mweights, reversible\u001b[38;5;241m=\u001b[39mreversible, ncov_max\u001b[38;5;241m=\u001b[39mncov_max)\n\u001b[1;32m   1286\u001b[0m \u001b[38;5;28;01mif\u001b[39;00m data \u001b[38;5;129;01mis\u001b[39;00m \u001b[38;5;129;01mnot\u001b[39;00m \u001b[38;5;28;01mNone\u001b[39;00m:\n\u001b[0;32m-> 1287\u001b[0m     \u001b[43mres\u001b[49m\u001b[38;5;241;43m.\u001b[39;49m\u001b[43mestimate\u001b[49m\u001b[43m(\u001b[49m\u001b[43mdata\u001b[49m\u001b[43m,\u001b[49m\u001b[43m \u001b[49m\u001b[43mchunksize\u001b[49m\u001b[38;5;241;43m=\u001b[39;49m\u001b[43mcs\u001b[49m\u001b[43m)\u001b[49m\n\u001b[1;32m   1288\u001b[0m \u001b[38;5;28;01melse\u001b[39;00m:\n\u001b[1;32m   1289\u001b[0m     res\u001b[38;5;241m.\u001b[39mchunksize \u001b[38;5;241m=\u001b[39m cs\n",
      "File \u001b[0;32m~/.conda/envs/bioemu/lib/python3.10/site-packages/pyemma/coordinates/transform/tica.py:163\u001b[0m, in \u001b[0;36mTICA.estimate\u001b[0;34m(self, X, **kwargs)\u001b[0m\n\u001b[1;32m    156\u001b[0m \u001b[38;5;28;01mdef\u001b[39;00m\u001b[38;5;250m \u001b[39m\u001b[38;5;21mestimate\u001b[39m(\u001b[38;5;28mself\u001b[39m, X, \u001b[38;5;241m*\u001b[39m\u001b[38;5;241m*\u001b[39mkwargs):\n\u001b[1;32m    157\u001b[0m \u001b[38;5;250m    \u001b[39m\u001b[38;5;124mr\u001b[39m\u001b[38;5;124;03m\"\"\"\u001b[39;00m\n\u001b[1;32m    158\u001b[0m \u001b[38;5;124;03m    Chunk-based parameterization of TICA. Iterates over all data and estimates\u001b[39;00m\n\u001b[1;32m    159\u001b[0m \u001b[38;5;124;03m    the mean, covariance and time lagged covariance. Finally, the\u001b[39;00m\n\u001b[1;32m    160\u001b[0m \u001b[38;5;124;03m    generalized eigenvalue problem is solved to determine\u001b[39;00m\n\u001b[1;32m    161\u001b[0m \u001b[38;5;124;03m    the independent components.\u001b[39;00m\n\u001b[1;32m    162\u001b[0m \u001b[38;5;124;03m    \"\"\"\u001b[39;00m\n\u001b[0;32m--> 163\u001b[0m     \u001b[38;5;28;01mreturn\u001b[39;00m \u001b[38;5;28;43msuper\u001b[39;49m\u001b[43m(\u001b[49m\u001b[43mTICA\u001b[49m\u001b[43m,\u001b[49m\u001b[43m \u001b[49m\u001b[38;5;28;43mself\u001b[39;49m\u001b[43m)\u001b[49m\u001b[38;5;241;43m.\u001b[39;49m\u001b[43mestimate\u001b[49m\u001b[43m(\u001b[49m\u001b[43mX\u001b[49m\u001b[43m,\u001b[49m\u001b[43m \u001b[49m\u001b[38;5;241;43m*\u001b[39;49m\u001b[38;5;241;43m*\u001b[39;49m\u001b[43mkwargs\u001b[49m\u001b[43m)\u001b[49m\n",
      "File \u001b[0;32m~/.conda/envs/bioemu/lib/python3.10/site-packages/pyemma/coordinates/data/_base/transformer.py:215\u001b[0m, in \u001b[0;36mStreamingEstimationTransformer.estimate\u001b[0;34m(self, X, **kwargs)\u001b[0m\n\u001b[1;32m    214\u001b[0m \u001b[38;5;28;01mdef\u001b[39;00m\u001b[38;5;250m \u001b[39m\u001b[38;5;21mestimate\u001b[39m(\u001b[38;5;28mself\u001b[39m, X, \u001b[38;5;241m*\u001b[39m\u001b[38;5;241m*\u001b[39mkwargs):\n\u001b[0;32m--> 215\u001b[0m     \u001b[38;5;28;43msuper\u001b[39;49m\u001b[43m(\u001b[49m\u001b[43mStreamingEstimationTransformer\u001b[49m\u001b[43m,\u001b[49m\u001b[43m \u001b[49m\u001b[38;5;28;43mself\u001b[39;49m\u001b[43m)\u001b[49m\u001b[38;5;241;43m.\u001b[39;49m\u001b[43mestimate\u001b[49m\u001b[43m(\u001b[49m\u001b[43mX\u001b[49m\u001b[43m,\u001b[49m\u001b[43m \u001b[49m\u001b[38;5;241;43m*\u001b[39;49m\u001b[38;5;241;43m*\u001b[39;49m\u001b[43mkwargs\u001b[49m\u001b[43m)\u001b[49m\n\u001b[1;32m    216\u001b[0m     \u001b[38;5;66;03m# we perform the mapping to memory exactly here, because a StreamingEstimator on its own\u001b[39;00m\n\u001b[1;32m    217\u001b[0m     \u001b[38;5;66;03m# has not output to be mapped. Only the combination of Estimation/Transforming has this feature.\u001b[39;00m\n\u001b[1;32m    218\u001b[0m     \u001b[38;5;28;01mif\u001b[39;00m \u001b[38;5;28mself\u001b[39m\u001b[38;5;241m.\u001b[39min_memory \u001b[38;5;129;01mand\u001b[39;00m \u001b[38;5;129;01mnot\u001b[39;00m \u001b[38;5;28mself\u001b[39m\u001b[38;5;241m.\u001b[39m_mapping_to_mem_active:\n",
      "File \u001b[0;32m~/.conda/envs/bioemu/lib/python3.10/site-packages/pyemma/coordinates/data/_base/streaming_estimator.py:44\u001b[0m, in \u001b[0;36mStreamingEstimator.estimate\u001b[0;34m(self, X, chunksize, **kwargs)\u001b[0m\n\u001b[1;32m     42\u001b[0m \u001b[38;5;66;03m# run estimation\u001b[39;00m\n\u001b[1;32m     43\u001b[0m \u001b[38;5;28;01mtry\u001b[39;00m:\n\u001b[0;32m---> 44\u001b[0m     \u001b[38;5;28;43msuper\u001b[39;49m\u001b[43m(\u001b[49m\u001b[43mStreamingEstimator\u001b[49m\u001b[43m,\u001b[49m\u001b[43m \u001b[49m\u001b[38;5;28;43mself\u001b[39;49m\u001b[43m)\u001b[49m\u001b[38;5;241;43m.\u001b[39;49m\u001b[43mestimate\u001b[49m\u001b[43m(\u001b[49m\u001b[43mX\u001b[49m\u001b[43m,\u001b[49m\u001b[43m \u001b[49m\u001b[38;5;241;43m*\u001b[39;49m\u001b[38;5;241;43m*\u001b[39;49m\u001b[43mkwargs\u001b[49m\u001b[43m)\u001b[49m\n\u001b[1;32m     45\u001b[0m \u001b[38;5;28;01mexcept\u001b[39;00m NotConvergedWarning \u001b[38;5;28;01mas\u001b[39;00m ncw:\n\u001b[1;32m     46\u001b[0m     \u001b[38;5;28mself\u001b[39m\u001b[38;5;241m.\u001b[39mlogger\u001b[38;5;241m.\u001b[39minfo(\n\u001b[1;32m     47\u001b[0m         \u001b[38;5;124m\"\u001b[39m\u001b[38;5;124mPresumably finished estimation. Message: \u001b[39m\u001b[38;5;132;01m%s\u001b[39;00m\u001b[38;5;124m\"\u001b[39m \u001b[38;5;241m%\u001b[39m ncw)\n",
      "File \u001b[0;32m~/.conda/envs/bioemu/lib/python3.10/site-packages/pyemma/_base/estimator.py:418\u001b[0m, in \u001b[0;36mEstimator.estimate\u001b[0;34m(self, X, **params)\u001b[0m\n\u001b[1;32m    416\u001b[0m \u001b[38;5;28;01mif\u001b[39;00m params:\n\u001b[1;32m    417\u001b[0m     \u001b[38;5;28mself\u001b[39m\u001b[38;5;241m.\u001b[39mset_params(\u001b[38;5;241m*\u001b[39m\u001b[38;5;241m*\u001b[39mparams)\n\u001b[0;32m--> 418\u001b[0m \u001b[38;5;28mself\u001b[39m\u001b[38;5;241m.\u001b[39m_model \u001b[38;5;241m=\u001b[39m \u001b[38;5;28;43mself\u001b[39;49m\u001b[38;5;241;43m.\u001b[39;49m\u001b[43m_estimate\u001b[49m\u001b[43m(\u001b[49m\u001b[43mX\u001b[49m\u001b[43m)\u001b[49m\n\u001b[1;32m    419\u001b[0m \u001b[38;5;66;03m# ensure _estimate returned something\u001b[39;00m\n\u001b[1;32m    420\u001b[0m \u001b[38;5;28;01massert\u001b[39;00m \u001b[38;5;28mself\u001b[39m\u001b[38;5;241m.\u001b[39m_model \u001b[38;5;129;01mis\u001b[39;00m \u001b[38;5;129;01mnot\u001b[39;00m \u001b[38;5;28;01mNone\u001b[39;00m\n",
      "File \u001b[0;32m~/.conda/envs/bioemu/lib/python3.10/site-packages/pyemma/coordinates/transform/tica.py:210\u001b[0m, in \u001b[0;36mTICA._estimate\u001b[0;34m(self, iterable, **kw)\u001b[0m\n\u001b[1;32m    207\u001b[0m \u001b[38;5;28;01mif\u001b[39;00m \u001b[38;5;28mself\u001b[39m\u001b[38;5;241m.\u001b[39m_logger_is_active(\u001b[38;5;28mself\u001b[39m\u001b[38;5;241m.\u001b[39m_loglevel_DEBUG):\n\u001b[1;32m    208\u001b[0m     \u001b[38;5;28mself\u001b[39m\u001b[38;5;241m.\u001b[39mlogger\u001b[38;5;241m.\u001b[39mdebug(\u001b[38;5;124m\"\u001b[39m\u001b[38;5;124mRunning TICA with tau=\u001b[39m\u001b[38;5;132;01m%i\u001b[39;00m\u001b[38;5;124m; Estimating two covariance matrices\u001b[39m\u001b[38;5;124m\"\u001b[39m\n\u001b[1;32m    209\u001b[0m                       \u001b[38;5;124m\"\u001b[39m\u001b[38;5;124m with dimension (\u001b[39m\u001b[38;5;132;01m%i\u001b[39;00m\u001b[38;5;124m, \u001b[39m\u001b[38;5;132;01m%i\u001b[39;00m\u001b[38;5;124m)\u001b[39m\u001b[38;5;124m\"\u001b[39m, \u001b[38;5;28mself\u001b[39m\u001b[38;5;241m.\u001b[39m_lag, indim, indim)\n\u001b[0;32m--> 210\u001b[0m \u001b[43mcovar\u001b[49m\u001b[38;5;241;43m.\u001b[39;49m\u001b[43mestimate\u001b[49m\u001b[43m(\u001b[49m\u001b[43miterable\u001b[49m\u001b[43m,\u001b[49m\u001b[43m \u001b[49m\u001b[43mchunksize\u001b[49m\u001b[38;5;241;43m=\u001b[39;49m\u001b[38;5;28;43mself\u001b[39;49m\u001b[38;5;241;43m.\u001b[39;49m\u001b[43mchunksize\u001b[49m\u001b[43m,\u001b[49m\u001b[43m \u001b[49m\u001b[38;5;241;43m*\u001b[39;49m\u001b[38;5;241;43m*\u001b[39;49m\u001b[43mkw\u001b[49m\u001b[43m)\u001b[49m\n\u001b[1;32m    211\u001b[0m \u001b[38;5;28mself\u001b[39m\u001b[38;5;241m.\u001b[39mmodel\u001b[38;5;241m.\u001b[39mupdate_model_params(mean\u001b[38;5;241m=\u001b[39mcovar\u001b[38;5;241m.\u001b[39mmean,\n\u001b[1;32m    212\u001b[0m                                 cov\u001b[38;5;241m=\u001b[39mcovar\u001b[38;5;241m.\u001b[39mC00_,\n\u001b[1;32m    213\u001b[0m                                 cov_tau\u001b[38;5;241m=\u001b[39mcovar\u001b[38;5;241m.\u001b[39mC0t_)\n\u001b[1;32m    214\u001b[0m \u001b[38;5;28mself\u001b[39m\u001b[38;5;241m.\u001b[39m_diagonalize()\n",
      "File \u001b[0;32m~/.conda/envs/bioemu/lib/python3.10/site-packages/pyemma/coordinates/data/_base/streaming_estimator.py:44\u001b[0m, in \u001b[0;36mStreamingEstimator.estimate\u001b[0;34m(self, X, chunksize, **kwargs)\u001b[0m\n\u001b[1;32m     42\u001b[0m \u001b[38;5;66;03m# run estimation\u001b[39;00m\n\u001b[1;32m     43\u001b[0m \u001b[38;5;28;01mtry\u001b[39;00m:\n\u001b[0;32m---> 44\u001b[0m     \u001b[38;5;28;43msuper\u001b[39;49m\u001b[43m(\u001b[49m\u001b[43mStreamingEstimator\u001b[49m\u001b[43m,\u001b[49m\u001b[43m \u001b[49m\u001b[38;5;28;43mself\u001b[39;49m\u001b[43m)\u001b[49m\u001b[38;5;241;43m.\u001b[39;49m\u001b[43mestimate\u001b[49m\u001b[43m(\u001b[49m\u001b[43mX\u001b[49m\u001b[43m,\u001b[49m\u001b[43m \u001b[49m\u001b[38;5;241;43m*\u001b[39;49m\u001b[38;5;241;43m*\u001b[39;49m\u001b[43mkwargs\u001b[49m\u001b[43m)\u001b[49m\n\u001b[1;32m     45\u001b[0m \u001b[38;5;28;01mexcept\u001b[39;00m NotConvergedWarning \u001b[38;5;28;01mas\u001b[39;00m ncw:\n\u001b[1;32m     46\u001b[0m     \u001b[38;5;28mself\u001b[39m\u001b[38;5;241m.\u001b[39mlogger\u001b[38;5;241m.\u001b[39minfo(\n\u001b[1;32m     47\u001b[0m         \u001b[38;5;124m\"\u001b[39m\u001b[38;5;124mPresumably finished estimation. Message: \u001b[39m\u001b[38;5;132;01m%s\u001b[39;00m\u001b[38;5;124m\"\u001b[39m \u001b[38;5;241m%\u001b[39m ncw)\n",
      "File \u001b[0;32m~/.conda/envs/bioemu/lib/python3.10/site-packages/pyemma/_base/estimator.py:418\u001b[0m, in \u001b[0;36mEstimator.estimate\u001b[0;34m(self, X, **params)\u001b[0m\n\u001b[1;32m    416\u001b[0m \u001b[38;5;28;01mif\u001b[39;00m params:\n\u001b[1;32m    417\u001b[0m     \u001b[38;5;28mself\u001b[39m\u001b[38;5;241m.\u001b[39mset_params(\u001b[38;5;241m*\u001b[39m\u001b[38;5;241m*\u001b[39mparams)\n\u001b[0;32m--> 418\u001b[0m \u001b[38;5;28mself\u001b[39m\u001b[38;5;241m.\u001b[39m_model \u001b[38;5;241m=\u001b[39m \u001b[38;5;28;43mself\u001b[39;49m\u001b[38;5;241;43m.\u001b[39;49m\u001b[43m_estimate\u001b[49m\u001b[43m(\u001b[49m\u001b[43mX\u001b[49m\u001b[43m)\u001b[49m\n\u001b[1;32m    419\u001b[0m \u001b[38;5;66;03m# ensure _estimate returned something\u001b[39;00m\n\u001b[1;32m    420\u001b[0m \u001b[38;5;28;01massert\u001b[39;00m \u001b[38;5;28mself\u001b[39m\u001b[38;5;241m.\u001b[39m_model \u001b[38;5;129;01mis\u001b[39;00m \u001b[38;5;129;01mnot\u001b[39;00m \u001b[38;5;28;01mNone\u001b[39;00m\n",
      "File \u001b[0;32m~/.conda/envs/bioemu/lib/python3.10/site-packages/pyemma/coordinates/estimation/covariance.py:219\u001b[0m, in \u001b[0;36mLaggedCovariance._estimate\u001b[0;34m(self, iterable, partial_fit)\u001b[0m\n\u001b[1;32m    217\u001b[0m \u001b[38;5;28;01mwith\u001b[39;00m it, pg\u001b[38;5;241m.\u001b[39mcontext(stage\u001b[38;5;241m=\u001b[39m\u001b[38;5;241m0\u001b[39m):\n\u001b[1;32m    218\u001b[0m     \u001b[38;5;28mself\u001b[39m\u001b[38;5;241m.\u001b[39m_init_covar(partial_fit, it\u001b[38;5;241m.\u001b[39mn_chunks)\n\u001b[0;32m--> 219\u001b[0m     \u001b[38;5;28;01mfor\u001b[39;00m data, weight \u001b[38;5;129;01min\u001b[39;00m \u001b[38;5;28mzip\u001b[39m(it, it_weights):\n\u001b[1;32m    220\u001b[0m         \u001b[38;5;28;01mif\u001b[39;00m \u001b[38;5;28mself\u001b[39m\u001b[38;5;241m.\u001b[39mlag \u001b[38;5;241m!=\u001b[39m \u001b[38;5;241m0\u001b[39m:\n\u001b[1;32m    221\u001b[0m             X, Y \u001b[38;5;241m=\u001b[39m data\n",
      "File \u001b[0;32m~/.conda/envs/bioemu/lib/python3.10/site-packages/pyemma/coordinates/data/_base/iterable.py:253\u001b[0m, in \u001b[0;36m_LaggedIterator.__next__\u001b[0;34m(self)\u001b[0m\n\u001b[1;32m    251\u001b[0m \u001b[38;5;28;01mtry\u001b[39;00m:\n\u001b[1;32m    252\u001b[0m     \u001b[38;5;28mself\u001b[39m\u001b[38;5;241m.\u001b[39m_it\u001b[38;5;241m.\u001b[39mchunksize \u001b[38;5;241m=\u001b[39m \u001b[38;5;28mself\u001b[39m\u001b[38;5;241m.\u001b[39m_it\u001b[38;5;241m.\u001b[39mchunksize \u001b[38;5;241m*\u001b[39m \u001b[38;5;28mself\u001b[39m\u001b[38;5;241m.\u001b[39m_actual_stride\n\u001b[0;32m--> 253\u001b[0m     itraj, data_lagged \u001b[38;5;241m=\u001b[39m \u001b[38;5;28;43mnext\u001b[39;49m\u001b[43m(\u001b[49m\u001b[38;5;28;43mself\u001b[39;49m\u001b[38;5;241;43m.\u001b[39;49m\u001b[43m_it\u001b[49m\u001b[43m)\u001b[49m\n\u001b[1;32m    254\u001b[0m     \u001b[38;5;28;01massert\u001b[39;00m \u001b[38;5;28mlen\u001b[39m(data_lagged) \u001b[38;5;241m<\u001b[39m\u001b[38;5;241m=\u001b[39m \u001b[38;5;28mself\u001b[39m\u001b[38;5;241m.\u001b[39m_it\u001b[38;5;241m.\u001b[39mchunksize \u001b[38;5;241m*\u001b[39m \u001b[38;5;28mself\u001b[39m\u001b[38;5;241m.\u001b[39m_actual_stride\n\u001b[1;32m    255\u001b[0m     frag \u001b[38;5;241m=\u001b[39m data_lagged[:\u001b[38;5;28mmin\u001b[39m(\u001b[38;5;28mself\u001b[39m\u001b[38;5;241m.\u001b[39m_it\u001b[38;5;241m.\u001b[39mchunksize \u001b[38;5;241m-\u001b[39m \u001b[38;5;28mself\u001b[39m\u001b[38;5;241m.\u001b[39m_lag, \u001b[38;5;28mlen\u001b[39m(data_lagged)), :]\n",
      "File \u001b[0;32m~/.conda/envs/bioemu/lib/python3.10/site-packages/pyemma/coordinates/data/_base/datasource.py:1075\u001b[0m, in \u001b[0;36mDataSourceIterator.__next__\u001b[0;34m(self)\u001b[0m\n\u001b[1;32m   1071\u001b[0m         frames \u001b[38;5;241m=\u001b[39m np\u001b[38;5;241m.\u001b[39mwhere(np\u001b[38;5;241m.\u001b[39mlogical_not(finite))\n\u001b[1;32m   1072\u001b[0m         msg \u001b[38;5;241m=\u001b[39m \u001b[38;5;124m'\u001b[39m\u001b[38;5;124mFound invalid values in chunk in trajectory index \u001b[39m\u001b[38;5;132;01m{itraj}\u001b[39;00m\u001b[38;5;124m at chunk [\u001b[39m\u001b[38;5;132;01m{start}\u001b[39;00m\u001b[38;5;124m, \u001b[39m\u001b[38;5;132;01m{stop}\u001b[39;00m\u001b[38;5;124m] \u001b[39m\u001b[38;5;124m'\u001b[39m \\\n\u001b[1;32m   1073\u001b[0m               \u001b[38;5;124m'\u001b[39m\u001b[38;5;124mwithin frames \u001b[39m\u001b[38;5;132;01m{frames}\u001b[39;00m\u001b[38;5;124m.\u001b[39m\u001b[38;5;124m'\u001b[39m\u001b[38;5;241m.\u001b[39mformat(itraj\u001b[38;5;241m=\u001b[39m\u001b[38;5;28mself\u001b[39m\u001b[38;5;241m.\u001b[39mcurrent_trajindex, start\u001b[38;5;241m=\u001b[39m\u001b[38;5;28mself\u001b[39m\u001b[38;5;241m.\u001b[39m_t,\n\u001b[1;32m   1074\u001b[0m                                                stop\u001b[38;5;241m=\u001b[39m\u001b[38;5;28mself\u001b[39m\u001b[38;5;241m.\u001b[39m_t \u001b[38;5;241m+\u001b[39m \u001b[38;5;28mlen\u001b[39m(X), frames\u001b[38;5;241m=\u001b[39mframes)\n\u001b[0;32m-> 1075\u001b[0m         \u001b[38;5;28;01mraise\u001b[39;00m InvalidDataInStreamException(msg)\n\u001b[1;32m   1077\u001b[0m \u001b[38;5;28mself\u001b[39m\u001b[38;5;241m.\u001b[39mstate\u001b[38;5;241m.\u001b[39mpos_adv \u001b[38;5;241m=\u001b[39m \u001b[38;5;28mself\u001b[39m\u001b[38;5;241m.\u001b[39m_t\n\u001b[1;32m   1078\u001b[0m \u001b[38;5;28;01mif\u001b[39;00m \u001b[38;5;28mself\u001b[39m\u001b[38;5;241m.\u001b[39mreturn_traj_index:\n",
      "\u001b[0;31mInvalidDataInStreamException\u001b[0m: Found invalid values in chunk in trajectory index 0 at chunk [177546, 355082] within frames (array([74275]), array([328]))."
     ]
    }
   ],
   "source": [
    "# TICA with pair distances\n",
    "pdb_state = md.load(pdb_path)\n",
    "pdb_state_ca_pair_distances, pdb_resid_pairs = md.compute_contacts(pdb_state, scheme=\"ca\", contacts=ca_resid_pair, periodic=False)\n",
    "pdb_state_ca_pair_distances = cad2switch(pdb_state_ca_pair_distances)\n",
    "data_switch = cad2switch(ca_pair_contacts)\n",
    "\n",
    "for lag in (10, 100, 1000):\n",
    "\ttica_obj = pyemma.coordinates.tica(data_switch, lag=lag, dim=2)\n",
    "\ttica_data = tica_obj.get_output()[0]\n",
    "\tx = tica_data[:, 0]\n",
    "\ty = tica_data[:, 1]\n",
    "\n",
    "\tpdb_tica_data = tica_obj.transform(pdb_state_ca_pair_distances)\n",
    "\tpdb_tica_x = pdb_tica_data[:, 0]\n",
    "\tpdb_tica_y = pdb_tica_data[:, 1]\n",
    "\n",
    "\t# Plot\n",
    "\tfig = plt.figure(figsize=(6, 6))\n",
    "\tax = fig.add_subplot(111)\n",
    "\tax.hist2d(x, y, bins=100, norm=LogNorm())\n",
    "\tax.scatter(pdb_tica_x, pdb_tica_y, color=\"red\", s=100)\n",
    "\tax.set_xlabel(\"TIC 1\")\n",
    "\tax.set_ylabel(\"TIC 2\")\n",
    "\tplt.title(f\"TICA with pair distances, lag={lag}\")\n",
    "\tplt.savefig(f'../data/{molecule}/{molecule}_tica_model_switch_lag{lag}.png')\n",
    "\tplt.show()\n",
    "\tplt.close()\n",
    "\n",
    "\twith open(f'../data/{molecule}/{molecule}_tica_model_switch_lag{lag}.pkl', 'wb') as f:\n",
    "\t\tpickle.dump(tica_obj, f)"
   ]
  },
  {
   "cell_type": "markdown",
   "metadata": {},
   "source": [
    "# Analysis"
   ]
  },
  {
   "cell_type": "markdown",
   "metadata": {},
   "source": [
    "## States by RMSD"
   ]
  },
  {
   "cell_type": "code",
   "execution_count": null,
   "metadata": {},
   "outputs": [],
   "source": [
    "def rmsd_to_refpdb(\n",
    "\ttraj: md.Trajectory,\n",
    "\treference_traj: md.Trajectory,\n",
    "\tatom_type: str = \"ca\",\n",
    ") -> np.ndarray:\n",
    "\t\"\"\"\n",
    "\tGenerate binary labels for folded/unfolded states based on RMSD\n",
    "\t\"\"\"\n",
    "\tif atom_type == \"ca\":\n",
    "\t\tatom_indices = traj.topology.select(\"name CA\")\n",
    "\telse:\n",
    "\t\tatom_indices = None\n",
    "\t\n",
    "\trmsd = md.rmsd(\n",
    "\t\ttarget = traj,\n",
    "\t\treference = reference_traj,\n",
    "\t\tatom_indices = atom_indices\n",
    "\t)\n",
    "\treturn rmsd"
   ]
  },
  {
   "cell_type": "markdown",
   "metadata": {},
   "source": [
    "### Folded"
   ]
  },
  {
   "cell_type": "code",
   "execution_count": null,
   "metadata": {},
   "outputs": [],
   "source": [
    "ref_pdb_path = f\"/home/shpark/prj-mlcv/lib/DESRES/notebook/{molecule}_from_mae.pdb\"\n",
    "ref_pdb_traj = md.load_pdb(ref_pdb_path)\n",
    "rmsd = rmsd_to_refpdb(\n",
    "    traj = all_traj,\n",
    "    reference_traj = ref_pdb_traj,\n",
    ")\n",
    "\n",
    "print(rmsd.mean())\n",
    "plt.hist(\n",
    "    rmsd,\n",
    "    bins=100,\n",
    "    # log=True,\n",
    "    color=blue,\n",
    ")\n",
    "plt.show()"
   ]
  },
  {
   "cell_type": "code",
   "execution_count": null,
   "metadata": {},
   "outputs": [],
   "source": [
    "print(all_traj)\n",
    "print(rmsd.shape)\n",
    "\n",
    "# torch.save(\n",
    "#     torch.from_numpy(rmsd),\n",
    "#     f\"../DESRES-Trajectory_{molecule}-{simulation_idx}-protein/{molecule}-{simulation_idx}-rmsd.pt\"\n",
    "# )\n",
    "# torch.save(\n",
    "#     torch.from_numpy(rmsd < 0.3),\n",
    "#     f\"../DESRES-Trajectory_{molecule}-{simulation_idx}-protein/{molecule}-{simulation_idx}-label-rmsd-folded.pt\"\n",
    "# )"
   ]
  },
  {
   "cell_type": "code",
   "execution_count": null,
   "metadata": {},
   "outputs": [],
   "source": [
    "# TICA with pair distances\n",
    "\n",
    "pdb_state = md.load(pdb_path)\n",
    "lag = 10\n",
    "ca_resid_pair = np.array(\n",
    "\t[(a.index, b.index) for a, b in combinations(list(pdb_state.topology.residues), 2)]\n",
    ")\n",
    "data, resid_pairs = md.compute_contacts(\n",
    "\tall_traj, scheme=\"ca\", contacts=ca_resid_pair, periodic=False\n",
    ")\n",
    "tica_obj = pyemma.coordinates.tica(data, lag=lag, dim=2)\n",
    "tica_data = tica_obj.get_output()[0]\n",
    "x = tica_data[:, 0]\n",
    "y = tica_data[:, 1]\n",
    "\n",
    "pdb_state_ca_pair_distances, pdb_resid_pairs = md.compute_contacts(pdb_state, scheme=\"ca\", contacts=ca_resid_pair, periodic=False)\n",
    "pdb_tica_data = tica_obj.transform(pdb_state_ca_pair_distances)\n",
    "pdb_tica_x = pdb_tica_data[:, 0]\n",
    "pdb_tica_y = pdb_tica_data[:, 1]"
   ]
  },
  {
   "cell_type": "code",
   "execution_count": null,
   "metadata": {},
   "outputs": [],
   "source": [
    "# Plot TICA with RMSD colors\n",
    "fig = plt.figure(figsize=(7, 6))\n",
    "ax = fig.add_subplot(111)\n",
    "sc = ax.hexbin(\n",
    "\tx, y,\n",
    "\tC=rmsd,\n",
    "\tgridsize=120,\n",
    "\tcmap='viridis_r',\n",
    "\treduce_C_function=np.mean,\n",
    " \tmincnt=3,\n",
    "  \tlinewidths=0,\n",
    "  \tedgecolors=\"none\",\n",
    "   \talpha=0.95,\n",
    ")\n",
    "ax.scatter(\n",
    "    pdb_tica_x,\n",
    "    pdb_tica_y,\n",
    "    c=\"red\",\n",
    "    s=100,\n",
    "    edgecolors=\"k\",\n",
    "    linewidths=2,\n",
    "    label=\"Folded state\",\n",
    ")\n",
    "ax.set_xlabel(\"TIC 1\")\n",
    "ax.set_ylabel(\"TIC 2\")\n",
    "ax.set_title(f\"TICA with RMSD colors (lag={lag})\")\n",
    "ax.legend(loc=\"best\")\n",
    "cb = plt.colorbar(sc, ax=ax)\n",
    "cb.set_label(\"CA RMSD to folded (nm)\")\n",
    "plt.tight_layout()\n",
    "plt.show()\n",
    "plt.close()"
   ]
  },
  {
   "cell_type": "code",
   "execution_count": null,
   "metadata": {},
   "outputs": [],
   "source": [
    "torch.save(torch.from_numpy(rmsd), f\"{save_dir}/{molecule}-{simulation_idx}-rmsd.pt\")\n",
    "# torch.save(torch.from_numpy(label_by_rmsd), f\"{save_dir}/{molecule}-{simulation_idx}-label_rmsd.pt\")"
   ]
  },
  {
   "cell_type": "markdown",
   "metadata": {},
   "source": [
    "### Unfolded"
   ]
  },
  {
   "cell_type": "code",
   "execution_count": null,
   "metadata": {},
   "outputs": [],
   "source": [
    "rmsd_loaded = torch.load( f\"{save_dir}/{molecule}-{simulation_idx}-rmsd.pt\").numpy()\n",
    "rmsd_max_frame_idx = np.argmax(rmsd_loaded)\n",
    "rmsd_max_frame = all_traj[rmsd_max_frame_idx]\n",
    "rmsd_view = nv.show_mdtraj(rmsd_max_frame)\n",
    "rmsd_view.add_representation(\"licorice\", selection=\"protein\")\n",
    "rmsd_view"
   ]
  },
  {
   "cell_type": "code",
   "execution_count": null,
   "metadata": {},
   "outputs": [],
   "source": [
    "ref_pdb_path = f\"/home/shpark/prj-mlcv/lib/DESRES/data/{molecule}/folded.pdb\"\n",
    "ref_pdb_traj = md.load_pdb(ref_pdb_path)\n",
    "atom_indices = all_traj.topology.select(\"name CA\")\n",
    "\n",
    "max_rmsd = md.rmsd(\n",
    "\ttarget = rmsd_max_frame,\n",
    "\treference = ref_pdb_traj,\n",
    "\tatom_indices = atom_indices\n",
    ")\n",
    "print(max_rmsd)"
   ]
  },
  {
   "cell_type": "code",
   "execution_count": null,
   "metadata": {},
   "outputs": [],
   "source": [
    "# save_path = f\"/home/shpark/prj-mlcv/lib/DESRES/data/{molecule}/unfolded.pdb\"\n",
    "# rmsd_max_frame.save_pdb(save_path)"
   ]
  },
  {
   "cell_type": "code",
   "execution_count": null,
   "metadata": {},
   "outputs": [],
   "source": [
    "unfolded_path = f\"/home/shpark/prj-mlcv/lib/DESRES/data/{molecule}/unfolded.pdb\"\n",
    "unfolded_traj = md.load_pdb(unfolded_path)\n",
    "rmsd_to_unfolded = rmsd_to_refpdb(\n",
    "    traj = all_traj,\n",
    "    reference_traj = unfolded_traj,\n",
    ")\n",
    "\n",
    "print(rmsd_to_unfolded.shape)\n",
    "print(rmsd_to_unfolded.mean())\n",
    "plt.hist(\n",
    "    rmsd_to_unfolded,\n",
    "    bins=100,\n",
    "    # log=True,\n",
    "    color=blue,\n",
    ")\n",
    "plt.show()\n"
   ]
  },
  {
   "cell_type": "code",
   "execution_count": null,
   "metadata": {},
   "outputs": [],
   "source": [
    "torch.save(torch.from_numpy(rmsd_to_unfolded), f\"{save_dir}/{molecule}-{simulation_idx}-rmsd_unfolded.pt\")"
   ]
  },
  {
   "cell_type": "markdown",
   "metadata": {},
   "source": [
    "## Secondary structure"
   ]
  },
  {
   "cell_type": "code",
   "execution_count": null,
   "metadata": {},
   "outputs": [],
   "source": [
    "dssp_all = md.compute_dssp(\n",
    "    all_traj,\n",
    "    simplified=False\n",
    ")\n",
    "print(dssp_all.shape)\n",
    "print(dssp_all[0])\n",
    "dssp_path = f\"/home/shpark/prj-mlcv/lib/DESRES/DESRES-Trajectory_{molecule}-0-protein/{molecule}-0-dssp.npy\"\n",
    "np.save(dssp_path, dssp_all)"
   ]
  },
  {
   "cell_type": "code",
   "execution_count": null,
   "metadata": {},
   "outputs": [],
   "source": [
    "dssp_all = md.compute_dssp(\n",
    "    all_traj,\n",
    "    simplified=True\n",
    ")\n",
    "print(dssp_all.shape)\n",
    "print(dssp_all[0])\n",
    "dssp_path = f\"/home/shpark/prj-mlcv/lib/DESRES/DESRES-Trajectory_{molecule}-0-protein/{molecule}-0-dssp-simplified.npy\"\n",
    "np.save(dssp_path, dssp_all)"
   ]
  },
  {
   "cell_type": "code",
   "execution_count": null,
   "metadata": {},
   "outputs": [],
   "source": [
    "dssp_loaded = np.load(dssp_path)\n",
    "print(dssp_loaded.shape)"
   ]
  },
  {
   "cell_type": "code",
   "execution_count": null,
   "metadata": {},
   "outputs": [],
   "source": [
    "dssp_helix = np.array([True if \"H\" or \"G\" or \"I\" in dssp else False for dssp in dssp_all])\n",
    "print(dssp_helix.shape)\n",
    "print(dssp_helix[0])\n",
    "\n",
    "np.save(\n",
    "    f\"/home/shpark/prj-mlcv/lib/DESRES/DESRES-Trajectory_{molecule}-0-protein/{molecule}-0-dssp-helix.npy\",\n",
    "    dssp_helix\n",
    ")"
   ]
  },
  {
   "cell_type": "code",
   "execution_count": null,
   "metadata": {},
   "outputs": [],
   "source": [
    "# Plot TICA with helix colors\n",
    "pdb_state = md.load(pdb_path)\n",
    "lag = 10\n",
    "ca_resid_pair = np.array(\n",
    "\t[(a.index, b.index) for a, b in combinations(list(pdb_state.topology.residues), 2)]\n",
    ")\n",
    "data, resid_pairs = md.compute_contacts(\n",
    "\tall_traj, scheme=\"ca\", contacts=ca_resid_pair, periodic=False\n",
    ")\n",
    "tica_obj = pyemma.coordinates.tica(data, lag=lag, dim=2)\n",
    "tica_data = tica_obj.get_output()[0]\n",
    "x = tica_data[:, 0]\n",
    "y = tica_data[:, 1]\n",
    "# helix_color = np.array([\"red\" if dssp else \"blue\" for dssp in dssp_all])"
   ]
  },
  {
   "cell_type": "code",
   "execution_count": null,
   "metadata": {},
   "outputs": [],
   "source": [
    "fig = plt.figure(figsize=(7, 6))\n",
    "ax = fig.add_subplot(111)\n",
    "sc = ax.hexbin(\n",
    "\tx, y,\n",
    "\tC=dssp_helix,\n",
    "\tgridsize=120,\n",
    "\tcmap='viridis_r',\n",
    "\treduce_C_function=np.mean,\n",
    " \tmincnt=3,\n",
    "  \tlinewidths=0,\n",
    "  \tedgecolors=\"none\",\n",
    "   \talpha=0.95,\n",
    ")\n",
    "ax.set_xlabel(\"TIC 1\")\n",
    "ax.set_ylabel(\"TIC 2\")\n",
    "ax.set_title(f\"TICA with helix colors (lag={lag})\")\n",
    "ax.legend(loc=\"best\")\n",
    "cb = plt.colorbar(sc, ax=ax)\n",
    "cb.set_label(\"Helix\")\n",
    "plt.tight_layout()\n",
    "plt.show()\n",
    "plt.close()"
   ]
  },
  {
   "cell_type": "code",
   "execution_count": null,
   "metadata": {},
   "outputs": [],
   "source": [
    "# Create density scatter plot: residue number vs CV value\n",
    "# Using DSSP data to analyze secondary structure distribution\n",
    "\n",
    "# First, let's understand the DSSP data structure\n",
    "print(\"DSSP data shape:\", dssp_all.shape)\n",
    "print(\"Number of frames:\", dssp_all.shape[0])\n",
    "print(\"Number of residues:\", dssp_all.shape[1])\n",
    "print(\"Sample DSSP data (first frame):\", dssp_all[0])\n",
    "\n",
    "# Convert DSSP labels to numerical values for plotting\n",
    "# H = Helix, E = Beta sheet, C = Coil/Loop\n",
    "dssp_to_num = {'H': 1, 'E': 2, 'C': 0}\n",
    "\n",
    "# Create arrays for plotting\n",
    "residue_numbers = []\n",
    "cv_values = []\n",
    "\n",
    "# Process each frame\n",
    "for frame_idx in range(dssp_all.shape[0]):\n",
    "    for residue_idx in range(dssp_all.shape[1]):\n",
    "        residue_num = residue_idx + 1  # 1-indexed residue numbers\n",
    "        dssp_label = dssp_all[frame_idx, residue_idx]\n",
    "        cv_value = dssp_to_num.get(dssp_label, 0)  # Default to 0 for unknown labels\n",
    "        \n",
    "        residue_numbers.append(residue_num)\n",
    "        cv_values.append(cv_value)\n",
    "\n",
    "residue_numbers = np.array(residue_numbers)\n",
    "cv_values = np.array(cv_values)\n",
    "\n",
    "print(f\"Total data points: {len(residue_numbers)}\")\n",
    "print(f\"Residue range: {residue_numbers.min()} - {residue_numbers.max()}\")\n",
    "print(f\"CV value range: {cv_values.min()} - {cv_values.max()}\")\n"
   ]
  },
  {
   "cell_type": "code",
   "execution_count": null,
   "metadata": {},
   "outputs": [],
   "source": [
    "# Create the density scatter plot\n",
    "fig, ax = plt.subplots(figsize=(12, 8))\n",
    "\n",
    "# Use hexbin for density visualization\n",
    "hb = ax.hexbin(residue_numbers, cv_values, \n",
    "               gridsize=50, \n",
    "               cmap='viridis', \n",
    "               mincnt=1,\n",
    "               linewidths=0.2,\n",
    "               edgecolors='white',\n",
    "               alpha=0.8)\n",
    "\n",
    "# Customize the plot\n",
    "ax.set_xlabel('Residue Number', fontsize=14)\n",
    "ax.set_ylabel('Secondary Structure (CV Value)', fontsize=14)\n",
    "ax.set_title('Density Scatter Plot: Secondary Structure by Residue\\n(2JOF Protein)', fontsize=16)\n",
    "\n",
    "# Set y-axis labels for secondary structure types\n",
    "ax.set_yticks([0, 1, 2])\n",
    "ax.set_yticklabels(['Coil/Loop (C)', 'Helix (H)', 'Beta Sheet (E)'])\n",
    "\n",
    "# Set x-axis to show all residues\n",
    "ax.set_xlim(0.5, 20.5)\n",
    "ax.set_xticks(range(1, 21))\n",
    "\n",
    "# Add colorbar\n",
    "cb = plt.colorbar(hb, ax=ax)\n",
    "cb.set_label('Number of Observations', fontsize=12)\n",
    "\n",
    "# Add grid for better readability\n",
    "ax.grid(True, alpha=0.3)\n",
    "\n",
    "plt.tight_layout()\n",
    "plt.show()\n",
    "\n",
    "# Print summary statistics\n",
    "print(\"\\nSummary Statistics:\")\n",
    "for residue in range(1, 21):\n",
    "    mask = residue_numbers == residue\n",
    "    residue_data = cv_values[mask]\n",
    "    \n",
    "    helix_pct = (residue_data == 1).mean() * 100\n",
    "    sheet_pct = (residue_data == 2).mean() * 100\n",
    "    coil_pct = (residue_data == 0).mean() * 100\n",
    "    \n",
    "    print(f\"Residue {residue:2d}: Helix={helix_pct:5.1f}%, Sheet={sheet_pct:5.1f}%, Coil={coil_pct:5.1f}%\")\n"
   ]
  },
  {
   "cell_type": "code",
   "execution_count": null,
   "metadata": {},
   "outputs": [],
   "source": [
    "# Alternative visualization: Discrete scatter plot with jittering\n",
    "fig, ax = plt.subplots(figsize=(14, 8))\n",
    "\n",
    "# Add small random jitter to y-values for better visibility\n",
    "np.random.seed(42)  # For reproducibility\n",
    "jitter_amount = 0.1\n",
    "cv_values_jittered = cv_values + np.random.uniform(-jitter_amount, jitter_amount, len(cv_values))\n",
    "\n",
    "# Create scatter plot with alpha for density visualization\n",
    "scatter = ax.scatter(residue_numbers, cv_values_jittered, \n",
    "                    alpha=0.01, \n",
    "                    s=1, \n",
    "                    c=cv_values, \n",
    "                    cmap='Set1',\n",
    "                    rasterized=True)\n",
    "\n",
    "# Customize the plot\n",
    "ax.set_xlabel('Residue Number', fontsize=14)\n",
    "ax.set_ylabel('Secondary Structure (CV Value)', fontsize=14)\n",
    "ax.set_title('Discrete Scatter Plot: Secondary Structure Distribution by Residue\\n(2JOF Protein - All Frames)', fontsize=16)\n",
    "\n",
    "# Set y-axis labels for secondary structure types\n",
    "ax.set_yticks([0, 1, 2])\n",
    "ax.set_yticklabels(['Coil/Loop (C)', 'Helix (H)', 'Beta Sheet (E)'])\n",
    "\n",
    "# Set x-axis to show all residues\n",
    "ax.set_xlim(0.5, 20.5)\n",
    "ax.set_xticks(range(1, 21))\n",
    "ax.set_ylim(-0.5, 2.5)\n",
    "\n",
    "# Add horizontal lines to separate secondary structure types\n",
    "ax.axhline(y=0.5, color='gray', linestyle='--', alpha=0.5)\n",
    "ax.axhline(y=1.5, color='gray', linestyle='--', alpha=0.5)\n",
    "\n",
    "# Add grid for better readability\n",
    "ax.grid(True, alpha=0.3)\n",
    "\n",
    "plt.tight_layout()\n",
    "plt.show()\n"
   ]
  },
  {
   "cell_type": "code",
   "execution_count": null,
   "metadata": {},
   "outputs": [],
   "source": [
    "# Create a heatmap-style visualization for better density representation\n",
    "fig, ax = plt.subplots(figsize=(14, 6))\n",
    "\n",
    "# Calculate the frequency of each secondary structure type for each residue\n",
    "residue_range = range(1, 21)\n",
    "ss_types = [0, 1, 2]  # Coil, Helix, Sheet\n",
    "ss_labels = ['Coil/Loop', 'Helix', 'Beta Sheet']\n",
    "\n",
    "# Create frequency matrix\n",
    "freq_matrix = np.zeros((len(ss_types), len(residue_range)))\n",
    "\n",
    "for i, ss_type in enumerate(ss_types):\n",
    "    for j, residue in enumerate(residue_range):\n",
    "        mask = (residue_numbers == residue) & (cv_values == ss_type)\n",
    "        freq_matrix[i, j] = mask.sum()\n",
    "\n",
    "# Normalize by total observations per residue to get proportions\n",
    "total_per_residue = freq_matrix.sum(axis=0)\n",
    "prop_matrix = freq_matrix / total_per_residue[np.newaxis, :]\n",
    "\n",
    "# Create the heatmap\n",
    "im = ax.imshow(prop_matrix, cmap='Blues', aspect='auto', vmin=0, vmax=1)\n",
    "\n",
    "# Customize the plot\n",
    "ax.set_xlabel('Residue Number', fontsize=14)\n",
    "ax.set_ylabel('Secondary Structure Type', fontsize=14)\n",
    "ax.set_title('Secondary Structure Proportions by Residue\\n(2JOF Protein)', fontsize=16)\n",
    "\n",
    "# Set ticks and labels\n",
    "ax.set_xticks(range(len(residue_range)))\n",
    "ax.set_xticklabels(residue_range)\n",
    "ax.set_yticks(range(len(ss_labels)))\n",
    "ax.set_yticklabels(ss_labels)\n",
    "\n",
    "# Add text annotations showing percentages\n",
    "for i in range(len(ss_types)):\n",
    "    for j in range(len(residue_range)):\n",
    "        text = ax.text(j, i, f'{prop_matrix[i, j]:.2f}',\n",
    "                      ha=\"center\", va=\"center\", color=\"white\" if prop_matrix[i, j] > 0.5 else \"black\",\n",
    "                      fontsize=8)\n",
    "\n",
    "# Add colorbar\n",
    "cb = plt.colorbar(im, ax=ax)\n",
    "cb.set_label('Proportion of Time in Structure', fontsize=12)\n",
    "\n",
    "plt.tight_layout()\n",
    "plt.show()\n",
    "\n",
    "# Print the most common secondary structure for each residue\n",
    "print(\"\\nMost common secondary structure per residue:\")\n",
    "for j, residue in enumerate(residue_range):\n",
    "    max_idx = np.argmax(prop_matrix[:, j])\n",
    "    max_prop = prop_matrix[max_idx, j]\n",
    "    print(f\"Residue {residue:2d}: {ss_labels[max_idx]:12s} ({max_prop:.1%})\")\n"
   ]
  },
  {
   "cell_type": "code",
   "execution_count": null,
   "metadata": {},
   "outputs": [],
   "source": []
  },
  {
   "cell_type": "markdown",
   "metadata": {},
   "source": [
    "# Conclusion"
   ]
  },
  {
   "cell_type": "markdown",
   "metadata": {},
   "source": []
  }
 ],
 "metadata": {
  "kernelspec": {
   "display_name": "bioemu",
   "language": "python",
   "name": "python3"
  },
  "language_info": {
   "codemirror_mode": {
    "name": "ipython",
    "version": 3
   },
   "file_extension": ".py",
   "mimetype": "text/x-python",
   "name": "python",
   "nbconvert_exporter": "python",
   "pygments_lexer": "ipython3",
   "version": "3.10.18"
  }
 },
 "nbformat": 4,
 "nbformat_minor": 2
}
