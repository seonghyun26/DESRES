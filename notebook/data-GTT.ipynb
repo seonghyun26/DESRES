{
 "cells": [
  {
   "cell_type": "code",
   "execution_count": 27,
   "metadata": {},
   "outputs": [],
   "source": [
    "import pyemma\n",
    "import pickle\n",
    "import os\n",
    "import glob\n",
    "import torch\n",
    "\n",
    "import mdtraj as md\n",
    "import numpy as np\n",
    "import nglview as nv\n",
    "import matplotlib.pyplot as plt\n",
    "import numpy as np\n",
    "\n",
    "np.bool = np.bool_\n",
    "\n",
    "from tqdm import tqdm\n",
    "from matplotlib.colors import LogNorm\n",
    "from itertools import combinations\n",
    "\n",
    "blue = (70 / 255, 110 / 255, 250 / 255)\n",
    "green = (100 / 255, 170 / 255, 120 / 255)"
   ]
  },
  {
   "cell_type": "code",
   "execution_count": 43,
   "metadata": {},
   "outputs": [],
   "source": [
    "molecule = \"GTT\"\n",
    "simulation_idx = 0\n",
    "base_dir = f\"/home/shpark/prj-mlcv/lib/DESRES/DESRES-Trajectory_{molecule}-{simulation_idx}-protein/{molecule}-{simulation_idx}-protein\"\n",
    "save_dir = f\"/home/shpark/prj-mlcv/lib/DESRES/DESRES-Trajectory_{molecule}-{simulation_idx}-protein\"\n",
    "pdb_path = f\"/home/shpark/prj-mlcv/lib/DESRES/data/{molecule}/{molecule}_from_mae_reordered.pdb\""
   ]
  },
  {
   "cell_type": "markdown",
   "metadata": {},
   "source": [
    "# Visualization"
   ]
  },
  {
   "cell_type": "code",
   "execution_count": 44,
   "metadata": {},
   "outputs": [
    {
     "name": "stdout",
     "output_type": "stream",
     "text": [
      "<mdtraj.Trajectory with 1 frames, 562 atoms, 38 residues, without unitcells>\n"
     ]
    },
    {
     "data": {
      "application/vnd.jupyter.widget-view+json": {
       "model_id": "9ed3111c01cf448f968ca4bc00c1f08c",
       "version_major": 2,
       "version_minor": 0
      },
      "text/plain": [
       "NGLWidget()"
      ]
     },
     "metadata": {},
     "output_type": "display_data"
    }
   ],
   "source": [
    "# PDB\n",
    "pdb_traj = md.load_pdb(pdb_path)\n",
    "pdb_view = nv.show_mdtraj(\n",
    "    pdb_traj,\n",
    "    height=\"400px\",\n",
    "    width=\"400px\"\n",
    ")\n",
    "pdb_view.add_representation(\"licorice\", selection=\"protein\")\n",
    "\n",
    "print(pdb_traj)\n",
    "pdb_view"
   ]
  },
  {
   "cell_type": "code",
   "execution_count": 31,
   "metadata": {},
   "outputs": [
    {
     "name": "stdout",
     "output_type": "stream",
     "text": [
      "d1: DISTANCE ATOMS=2,11\n",
      "d2: DISTANCE ATOMS=2,22\n",
      "d3: DISTANCE ATOMS=2,44\n",
      "d4: DISTANCE ATOMS=2,63\n",
      "d5: DISTANCE ATOMS=2,77\n",
      "d6: DISTANCE ATOMS=2,91\n",
      "d7: DISTANCE ATOMS=2,98\n",
      "d8: DISTANCE ATOMS=2,122\n",
      "d9: DISTANCE ATOMS=2,137\n",
      "d10: DISTANCE ATOMS=2,159\n",
      "d11: DISTANCE ATOMS=2,183\n",
      "d12: DISTANCE ATOMS=2,200\n",
      "d13: DISTANCE ATOMS=2,211\n",
      "d14: DISTANCE ATOMS=2,235\n",
      "d15: DISTANCE ATOMS=2,247\n",
      "d16: DISTANCE ATOMS=2,254\n",
      "d17: DISTANCE ATOMS=2,278\n",
      "d18: DISTANCE ATOMS=2,294\n",
      "d19: DISTANCE ATOMS=2,315\n",
      "d20: DISTANCE ATOMS=2,336\n",
      "d21: DISTANCE ATOMS=2,356\n",
      "d22: DISTANCE ATOMS=2,370\n",
      "d23: DISTANCE ATOMS=2,387\n",
      "d24: DISTANCE ATOMS=2,406\n",
      "d25: DISTANCE ATOMS=2,420\n",
      "d26: DISTANCE ATOMS=2,427\n",
      "d27: DISTANCE ATOMS=2,441\n",
      "d28: DISTANCE ATOMS=2,455\n",
      "d29: DISTANCE ATOMS=2,472\n",
      "d30: DISTANCE ATOMS=2,492\n",
      "d31: DISTANCE ATOMS=2,507\n",
      "d32: DISTANCE ATOMS=2,531\n",
      "d33: DISTANCE ATOMS=2,545\n",
      "d34: DISTANCE ATOMS=2,556\n",
      "d35: DISTANCE ATOMS=11,22\n",
      "d36: DISTANCE ATOMS=11,44\n",
      "d37: DISTANCE ATOMS=11,63\n",
      "d38: DISTANCE ATOMS=11,77\n",
      "d39: DISTANCE ATOMS=11,91\n",
      "d40: DISTANCE ATOMS=11,98\n",
      "d41: DISTANCE ATOMS=11,122\n",
      "d42: DISTANCE ATOMS=11,137\n",
      "d43: DISTANCE ATOMS=11,159\n",
      "d44: DISTANCE ATOMS=11,183\n",
      "d45: DISTANCE ATOMS=11,200\n",
      "d46: DISTANCE ATOMS=11,211\n",
      "d47: DISTANCE ATOMS=11,235\n",
      "d48: DISTANCE ATOMS=11,247\n",
      "d49: DISTANCE ATOMS=11,254\n",
      "d50: DISTANCE ATOMS=11,278\n",
      "d51: DISTANCE ATOMS=11,294\n",
      "d52: DISTANCE ATOMS=11,315\n",
      "d53: DISTANCE ATOMS=11,336\n",
      "d54: DISTANCE ATOMS=11,356\n",
      "d55: DISTANCE ATOMS=11,370\n",
      "d56: DISTANCE ATOMS=11,387\n",
      "d57: DISTANCE ATOMS=11,406\n",
      "d58: DISTANCE ATOMS=11,420\n",
      "d59: DISTANCE ATOMS=11,427\n",
      "d60: DISTANCE ATOMS=11,441\n",
      "d61: DISTANCE ATOMS=11,455\n",
      "d62: DISTANCE ATOMS=11,472\n",
      "d63: DISTANCE ATOMS=11,492\n",
      "d64: DISTANCE ATOMS=11,507\n",
      "d65: DISTANCE ATOMS=11,531\n",
      "d66: DISTANCE ATOMS=11,545\n",
      "d67: DISTANCE ATOMS=11,556\n",
      "d68: DISTANCE ATOMS=22,44\n",
      "d69: DISTANCE ATOMS=22,63\n",
      "d70: DISTANCE ATOMS=22,77\n",
      "d71: DISTANCE ATOMS=22,91\n",
      "d72: DISTANCE ATOMS=22,98\n",
      "d73: DISTANCE ATOMS=22,122\n",
      "d74: DISTANCE ATOMS=22,137\n",
      "d75: DISTANCE ATOMS=22,159\n",
      "d76: DISTANCE ATOMS=22,183\n",
      "d77: DISTANCE ATOMS=22,200\n",
      "d78: DISTANCE ATOMS=22,211\n",
      "d79: DISTANCE ATOMS=22,235\n",
      "d80: DISTANCE ATOMS=22,247\n",
      "d81: DISTANCE ATOMS=22,254\n",
      "d82: DISTANCE ATOMS=22,278\n",
      "d83: DISTANCE ATOMS=22,294\n",
      "d84: DISTANCE ATOMS=22,315\n",
      "d85: DISTANCE ATOMS=22,336\n",
      "d86: DISTANCE ATOMS=22,356\n",
      "d87: DISTANCE ATOMS=22,370\n",
      "d88: DISTANCE ATOMS=22,387\n",
      "d89: DISTANCE ATOMS=22,406\n",
      "d90: DISTANCE ATOMS=22,420\n",
      "d91: DISTANCE ATOMS=22,427\n",
      "d92: DISTANCE ATOMS=22,441\n",
      "d93: DISTANCE ATOMS=22,455\n",
      "d94: DISTANCE ATOMS=22,472\n",
      "d95: DISTANCE ATOMS=22,492\n",
      "d96: DISTANCE ATOMS=22,507\n",
      "d97: DISTANCE ATOMS=22,531\n",
      "d98: DISTANCE ATOMS=22,545\n",
      "d99: DISTANCE ATOMS=22,556\n",
      "d100: DISTANCE ATOMS=44,63\n",
      "d101: DISTANCE ATOMS=44,77\n",
      "d102: DISTANCE ATOMS=44,91\n",
      "d103: DISTANCE ATOMS=44,98\n",
      "d104: DISTANCE ATOMS=44,122\n",
      "d105: DISTANCE ATOMS=44,137\n",
      "d106: DISTANCE ATOMS=44,159\n",
      "d107: DISTANCE ATOMS=44,183\n",
      "d108: DISTANCE ATOMS=44,200\n",
      "d109: DISTANCE ATOMS=44,211\n",
      "d110: DISTANCE ATOMS=44,235\n",
      "d111: DISTANCE ATOMS=44,247\n",
      "d112: DISTANCE ATOMS=44,254\n",
      "d113: DISTANCE ATOMS=44,278\n",
      "d114: DISTANCE ATOMS=44,294\n",
      "d115: DISTANCE ATOMS=44,315\n",
      "d116: DISTANCE ATOMS=44,336\n",
      "d117: DISTANCE ATOMS=44,356\n",
      "d118: DISTANCE ATOMS=44,370\n",
      "d119: DISTANCE ATOMS=44,387\n",
      "d120: DISTANCE ATOMS=44,406\n",
      "d121: DISTANCE ATOMS=44,420\n",
      "d122: DISTANCE ATOMS=44,427\n",
      "d123: DISTANCE ATOMS=44,441\n",
      "d124: DISTANCE ATOMS=44,455\n",
      "d125: DISTANCE ATOMS=44,472\n",
      "d126: DISTANCE ATOMS=44,492\n",
      "d127: DISTANCE ATOMS=44,507\n",
      "d128: DISTANCE ATOMS=44,531\n",
      "d129: DISTANCE ATOMS=44,545\n",
      "d130: DISTANCE ATOMS=44,556\n",
      "d131: DISTANCE ATOMS=63,77\n",
      "d132: DISTANCE ATOMS=63,91\n",
      "d133: DISTANCE ATOMS=63,98\n",
      "d134: DISTANCE ATOMS=63,122\n",
      "d135: DISTANCE ATOMS=63,137\n",
      "d136: DISTANCE ATOMS=63,159\n",
      "d137: DISTANCE ATOMS=63,183\n",
      "d138: DISTANCE ATOMS=63,200\n",
      "d139: DISTANCE ATOMS=63,211\n",
      "d140: DISTANCE ATOMS=63,235\n",
      "d141: DISTANCE ATOMS=63,247\n",
      "d142: DISTANCE ATOMS=63,254\n",
      "d143: DISTANCE ATOMS=63,278\n",
      "d144: DISTANCE ATOMS=63,294\n",
      "d145: DISTANCE ATOMS=63,315\n",
      "d146: DISTANCE ATOMS=63,336\n",
      "d147: DISTANCE ATOMS=63,356\n",
      "d148: DISTANCE ATOMS=63,370\n",
      "d149: DISTANCE ATOMS=63,387\n",
      "d150: DISTANCE ATOMS=63,406\n",
      "d151: DISTANCE ATOMS=63,420\n",
      "d152: DISTANCE ATOMS=63,427\n",
      "d153: DISTANCE ATOMS=63,441\n",
      "d154: DISTANCE ATOMS=63,455\n",
      "d155: DISTANCE ATOMS=63,472\n",
      "d156: DISTANCE ATOMS=63,492\n",
      "d157: DISTANCE ATOMS=63,507\n",
      "d158: DISTANCE ATOMS=63,531\n",
      "d159: DISTANCE ATOMS=63,545\n",
      "d160: DISTANCE ATOMS=63,556\n",
      "d161: DISTANCE ATOMS=77,91\n",
      "d162: DISTANCE ATOMS=77,98\n",
      "d163: DISTANCE ATOMS=77,122\n",
      "d164: DISTANCE ATOMS=77,137\n",
      "d165: DISTANCE ATOMS=77,159\n",
      "d166: DISTANCE ATOMS=77,183\n",
      "d167: DISTANCE ATOMS=77,200\n",
      "d168: DISTANCE ATOMS=77,211\n",
      "d169: DISTANCE ATOMS=77,235\n",
      "d170: DISTANCE ATOMS=77,247\n",
      "d171: DISTANCE ATOMS=77,254\n",
      "d172: DISTANCE ATOMS=77,278\n",
      "d173: DISTANCE ATOMS=77,294\n",
      "d174: DISTANCE ATOMS=77,315\n",
      "d175: DISTANCE ATOMS=77,336\n",
      "d176: DISTANCE ATOMS=77,356\n",
      "d177: DISTANCE ATOMS=77,370\n",
      "d178: DISTANCE ATOMS=77,387\n",
      "d179: DISTANCE ATOMS=77,406\n",
      "d180: DISTANCE ATOMS=77,420\n",
      "d181: DISTANCE ATOMS=77,427\n",
      "d182: DISTANCE ATOMS=77,441\n",
      "d183: DISTANCE ATOMS=77,455\n",
      "d184: DISTANCE ATOMS=77,472\n",
      "d185: DISTANCE ATOMS=77,492\n",
      "d186: DISTANCE ATOMS=77,507\n",
      "d187: DISTANCE ATOMS=77,531\n",
      "d188: DISTANCE ATOMS=77,545\n",
      "d189: DISTANCE ATOMS=77,556\n",
      "d190: DISTANCE ATOMS=91,98\n",
      "d191: DISTANCE ATOMS=91,122\n",
      "d192: DISTANCE ATOMS=91,137\n",
      "d193: DISTANCE ATOMS=91,159\n",
      "d194: DISTANCE ATOMS=91,183\n",
      "d195: DISTANCE ATOMS=91,200\n",
      "d196: DISTANCE ATOMS=91,211\n",
      "d197: DISTANCE ATOMS=91,235\n",
      "d198: DISTANCE ATOMS=91,247\n",
      "d199: DISTANCE ATOMS=91,254\n",
      "d200: DISTANCE ATOMS=91,278\n",
      "d201: DISTANCE ATOMS=91,294\n",
      "d202: DISTANCE ATOMS=91,315\n",
      "d203: DISTANCE ATOMS=91,336\n",
      "d204: DISTANCE ATOMS=91,356\n",
      "d205: DISTANCE ATOMS=91,370\n",
      "d206: DISTANCE ATOMS=91,387\n",
      "d207: DISTANCE ATOMS=91,406\n",
      "d208: DISTANCE ATOMS=91,420\n",
      "d209: DISTANCE ATOMS=91,427\n",
      "d210: DISTANCE ATOMS=91,441\n",
      "d211: DISTANCE ATOMS=91,455\n",
      "d212: DISTANCE ATOMS=91,472\n",
      "d213: DISTANCE ATOMS=91,492\n",
      "d214: DISTANCE ATOMS=91,507\n",
      "d215: DISTANCE ATOMS=91,531\n",
      "d216: DISTANCE ATOMS=91,545\n",
      "d217: DISTANCE ATOMS=91,556\n",
      "d218: DISTANCE ATOMS=98,122\n",
      "d219: DISTANCE ATOMS=98,137\n",
      "d220: DISTANCE ATOMS=98,159\n",
      "d221: DISTANCE ATOMS=98,183\n",
      "d222: DISTANCE ATOMS=98,200\n",
      "d223: DISTANCE ATOMS=98,211\n",
      "d224: DISTANCE ATOMS=98,235\n",
      "d225: DISTANCE ATOMS=98,247\n",
      "d226: DISTANCE ATOMS=98,254\n",
      "d227: DISTANCE ATOMS=98,278\n",
      "d228: DISTANCE ATOMS=98,294\n",
      "d229: DISTANCE ATOMS=98,315\n",
      "d230: DISTANCE ATOMS=98,336\n",
      "d231: DISTANCE ATOMS=98,356\n",
      "d232: DISTANCE ATOMS=98,370\n",
      "d233: DISTANCE ATOMS=98,387\n",
      "d234: DISTANCE ATOMS=98,406\n",
      "d235: DISTANCE ATOMS=98,420\n",
      "d236: DISTANCE ATOMS=98,427\n",
      "d237: DISTANCE ATOMS=98,441\n",
      "d238: DISTANCE ATOMS=98,455\n",
      "d239: DISTANCE ATOMS=98,472\n",
      "d240: DISTANCE ATOMS=98,492\n",
      "d241: DISTANCE ATOMS=98,507\n",
      "d242: DISTANCE ATOMS=98,531\n",
      "d243: DISTANCE ATOMS=98,545\n",
      "d244: DISTANCE ATOMS=98,556\n",
      "d245: DISTANCE ATOMS=122,137\n",
      "d246: DISTANCE ATOMS=122,159\n",
      "d247: DISTANCE ATOMS=122,183\n",
      "d248: DISTANCE ATOMS=122,200\n",
      "d249: DISTANCE ATOMS=122,211\n",
      "d250: DISTANCE ATOMS=122,235\n",
      "d251: DISTANCE ATOMS=122,247\n",
      "d252: DISTANCE ATOMS=122,254\n",
      "d253: DISTANCE ATOMS=122,278\n",
      "d254: DISTANCE ATOMS=122,294\n",
      "d255: DISTANCE ATOMS=122,315\n",
      "d256: DISTANCE ATOMS=122,336\n",
      "d257: DISTANCE ATOMS=122,356\n",
      "d258: DISTANCE ATOMS=122,370\n",
      "d259: DISTANCE ATOMS=122,387\n",
      "d260: DISTANCE ATOMS=122,406\n",
      "d261: DISTANCE ATOMS=122,420\n",
      "d262: DISTANCE ATOMS=122,427\n",
      "d263: DISTANCE ATOMS=122,441\n",
      "d264: DISTANCE ATOMS=122,455\n",
      "d265: DISTANCE ATOMS=122,472\n",
      "d266: DISTANCE ATOMS=122,492\n",
      "d267: DISTANCE ATOMS=122,507\n",
      "d268: DISTANCE ATOMS=122,531\n",
      "d269: DISTANCE ATOMS=122,545\n",
      "d270: DISTANCE ATOMS=122,556\n",
      "d271: DISTANCE ATOMS=137,159\n",
      "d272: DISTANCE ATOMS=137,183\n",
      "d273: DISTANCE ATOMS=137,200\n",
      "d274: DISTANCE ATOMS=137,211\n",
      "d275: DISTANCE ATOMS=137,235\n",
      "d276: DISTANCE ATOMS=137,247\n",
      "d277: DISTANCE ATOMS=137,254\n",
      "d278: DISTANCE ATOMS=137,278\n",
      "d279: DISTANCE ATOMS=137,294\n",
      "d280: DISTANCE ATOMS=137,315\n",
      "d281: DISTANCE ATOMS=137,336\n",
      "d282: DISTANCE ATOMS=137,356\n",
      "d283: DISTANCE ATOMS=137,370\n",
      "d284: DISTANCE ATOMS=137,387\n",
      "d285: DISTANCE ATOMS=137,406\n",
      "d286: DISTANCE ATOMS=137,420\n",
      "d287: DISTANCE ATOMS=137,427\n",
      "d288: DISTANCE ATOMS=137,441\n",
      "d289: DISTANCE ATOMS=137,455\n",
      "d290: DISTANCE ATOMS=137,472\n",
      "d291: DISTANCE ATOMS=137,492\n",
      "d292: DISTANCE ATOMS=137,507\n",
      "d293: DISTANCE ATOMS=137,531\n",
      "d294: DISTANCE ATOMS=137,545\n",
      "d295: DISTANCE ATOMS=137,556\n",
      "d296: DISTANCE ATOMS=159,183\n",
      "d297: DISTANCE ATOMS=159,200\n",
      "d298: DISTANCE ATOMS=159,211\n",
      "d299: DISTANCE ATOMS=159,235\n",
      "d300: DISTANCE ATOMS=159,247\n",
      "d301: DISTANCE ATOMS=159,254\n",
      "d302: DISTANCE ATOMS=159,278\n",
      "d303: DISTANCE ATOMS=159,294\n",
      "d304: DISTANCE ATOMS=159,315\n",
      "d305: DISTANCE ATOMS=159,336\n",
      "d306: DISTANCE ATOMS=159,356\n",
      "d307: DISTANCE ATOMS=159,370\n",
      "d308: DISTANCE ATOMS=159,387\n",
      "d309: DISTANCE ATOMS=159,406\n",
      "d310: DISTANCE ATOMS=159,420\n",
      "d311: DISTANCE ATOMS=159,427\n",
      "d312: DISTANCE ATOMS=159,441\n",
      "d313: DISTANCE ATOMS=159,455\n",
      "d314: DISTANCE ATOMS=159,472\n",
      "d315: DISTANCE ATOMS=159,492\n",
      "d316: DISTANCE ATOMS=159,507\n",
      "d317: DISTANCE ATOMS=159,531\n",
      "d318: DISTANCE ATOMS=159,545\n",
      "d319: DISTANCE ATOMS=159,556\n",
      "d320: DISTANCE ATOMS=183,200\n",
      "d321: DISTANCE ATOMS=183,211\n",
      "d322: DISTANCE ATOMS=183,235\n",
      "d323: DISTANCE ATOMS=183,247\n",
      "d324: DISTANCE ATOMS=183,254\n",
      "d325: DISTANCE ATOMS=183,278\n",
      "d326: DISTANCE ATOMS=183,294\n",
      "d327: DISTANCE ATOMS=183,315\n",
      "d328: DISTANCE ATOMS=183,336\n",
      "d329: DISTANCE ATOMS=183,356\n",
      "d330: DISTANCE ATOMS=183,370\n",
      "d331: DISTANCE ATOMS=183,387\n",
      "d332: DISTANCE ATOMS=183,406\n",
      "d333: DISTANCE ATOMS=183,420\n",
      "d334: DISTANCE ATOMS=183,427\n",
      "d335: DISTANCE ATOMS=183,441\n",
      "d336: DISTANCE ATOMS=183,455\n",
      "d337: DISTANCE ATOMS=183,472\n",
      "d338: DISTANCE ATOMS=183,492\n",
      "d339: DISTANCE ATOMS=183,507\n",
      "d340: DISTANCE ATOMS=183,531\n",
      "d341: DISTANCE ATOMS=183,545\n",
      "d342: DISTANCE ATOMS=183,556\n",
      "d343: DISTANCE ATOMS=200,211\n",
      "d344: DISTANCE ATOMS=200,235\n",
      "d345: DISTANCE ATOMS=200,247\n",
      "d346: DISTANCE ATOMS=200,254\n",
      "d347: DISTANCE ATOMS=200,278\n",
      "d348: DISTANCE ATOMS=200,294\n",
      "d349: DISTANCE ATOMS=200,315\n",
      "d350: DISTANCE ATOMS=200,336\n",
      "d351: DISTANCE ATOMS=200,356\n",
      "d352: DISTANCE ATOMS=200,370\n",
      "d353: DISTANCE ATOMS=200,387\n",
      "d354: DISTANCE ATOMS=200,406\n",
      "d355: DISTANCE ATOMS=200,420\n",
      "d356: DISTANCE ATOMS=200,427\n",
      "d357: DISTANCE ATOMS=200,441\n",
      "d358: DISTANCE ATOMS=200,455\n",
      "d359: DISTANCE ATOMS=200,472\n",
      "d360: DISTANCE ATOMS=200,492\n",
      "d361: DISTANCE ATOMS=200,507\n",
      "d362: DISTANCE ATOMS=200,531\n",
      "d363: DISTANCE ATOMS=200,545\n",
      "d364: DISTANCE ATOMS=200,556\n",
      "d365: DISTANCE ATOMS=211,235\n",
      "d366: DISTANCE ATOMS=211,247\n",
      "d367: DISTANCE ATOMS=211,254\n",
      "d368: DISTANCE ATOMS=211,278\n",
      "d369: DISTANCE ATOMS=211,294\n",
      "d370: DISTANCE ATOMS=211,315\n",
      "d371: DISTANCE ATOMS=211,336\n",
      "d372: DISTANCE ATOMS=211,356\n",
      "d373: DISTANCE ATOMS=211,370\n",
      "d374: DISTANCE ATOMS=211,387\n",
      "d375: DISTANCE ATOMS=211,406\n",
      "d376: DISTANCE ATOMS=211,420\n",
      "d377: DISTANCE ATOMS=211,427\n",
      "d378: DISTANCE ATOMS=211,441\n",
      "d379: DISTANCE ATOMS=211,455\n",
      "d380: DISTANCE ATOMS=211,472\n",
      "d381: DISTANCE ATOMS=211,492\n",
      "d382: DISTANCE ATOMS=211,507\n",
      "d383: DISTANCE ATOMS=211,531\n",
      "d384: DISTANCE ATOMS=211,545\n",
      "d385: DISTANCE ATOMS=211,556\n",
      "d386: DISTANCE ATOMS=235,247\n",
      "d387: DISTANCE ATOMS=235,254\n",
      "d388: DISTANCE ATOMS=235,278\n",
      "d389: DISTANCE ATOMS=235,294\n",
      "d390: DISTANCE ATOMS=235,315\n",
      "d391: DISTANCE ATOMS=235,336\n",
      "d392: DISTANCE ATOMS=235,356\n",
      "d393: DISTANCE ATOMS=235,370\n",
      "d394: DISTANCE ATOMS=235,387\n",
      "d395: DISTANCE ATOMS=235,406\n",
      "d396: DISTANCE ATOMS=235,420\n",
      "d397: DISTANCE ATOMS=235,427\n",
      "d398: DISTANCE ATOMS=235,441\n",
      "d399: DISTANCE ATOMS=235,455\n",
      "d400: DISTANCE ATOMS=235,472\n",
      "d401: DISTANCE ATOMS=235,492\n",
      "d402: DISTANCE ATOMS=235,507\n",
      "d403: DISTANCE ATOMS=235,531\n",
      "d404: DISTANCE ATOMS=235,545\n",
      "d405: DISTANCE ATOMS=235,556\n",
      "d406: DISTANCE ATOMS=247,254\n",
      "d407: DISTANCE ATOMS=247,278\n",
      "d408: DISTANCE ATOMS=247,294\n",
      "d409: DISTANCE ATOMS=247,315\n",
      "d410: DISTANCE ATOMS=247,336\n",
      "d411: DISTANCE ATOMS=247,356\n",
      "d412: DISTANCE ATOMS=247,370\n",
      "d413: DISTANCE ATOMS=247,387\n",
      "d414: DISTANCE ATOMS=247,406\n",
      "d415: DISTANCE ATOMS=247,420\n",
      "d416: DISTANCE ATOMS=247,427\n",
      "d417: DISTANCE ATOMS=247,441\n",
      "d418: DISTANCE ATOMS=247,455\n",
      "d419: DISTANCE ATOMS=247,472\n",
      "d420: DISTANCE ATOMS=247,492\n",
      "d421: DISTANCE ATOMS=247,507\n",
      "d422: DISTANCE ATOMS=247,531\n",
      "d423: DISTANCE ATOMS=247,545\n",
      "d424: DISTANCE ATOMS=247,556\n",
      "d425: DISTANCE ATOMS=254,278\n",
      "d426: DISTANCE ATOMS=254,294\n",
      "d427: DISTANCE ATOMS=254,315\n",
      "d428: DISTANCE ATOMS=254,336\n",
      "d429: DISTANCE ATOMS=254,356\n",
      "d430: DISTANCE ATOMS=254,370\n",
      "d431: DISTANCE ATOMS=254,387\n",
      "d432: DISTANCE ATOMS=254,406\n",
      "d433: DISTANCE ATOMS=254,420\n",
      "d434: DISTANCE ATOMS=254,427\n",
      "d435: DISTANCE ATOMS=254,441\n",
      "d436: DISTANCE ATOMS=254,455\n",
      "d437: DISTANCE ATOMS=254,472\n",
      "d438: DISTANCE ATOMS=254,492\n",
      "d439: DISTANCE ATOMS=254,507\n",
      "d440: DISTANCE ATOMS=254,531\n",
      "d441: DISTANCE ATOMS=254,545\n",
      "d442: DISTANCE ATOMS=254,556\n",
      "d443: DISTANCE ATOMS=278,294\n",
      "d444: DISTANCE ATOMS=278,315\n",
      "d445: DISTANCE ATOMS=278,336\n",
      "d446: DISTANCE ATOMS=278,356\n",
      "d447: DISTANCE ATOMS=278,370\n",
      "d448: DISTANCE ATOMS=278,387\n",
      "d449: DISTANCE ATOMS=278,406\n",
      "d450: DISTANCE ATOMS=278,420\n",
      "d451: DISTANCE ATOMS=278,427\n",
      "d452: DISTANCE ATOMS=278,441\n",
      "d453: DISTANCE ATOMS=278,455\n",
      "d454: DISTANCE ATOMS=278,472\n",
      "d455: DISTANCE ATOMS=278,492\n",
      "d456: DISTANCE ATOMS=278,507\n",
      "d457: DISTANCE ATOMS=278,531\n",
      "d458: DISTANCE ATOMS=278,545\n",
      "d459: DISTANCE ATOMS=278,556\n",
      "d460: DISTANCE ATOMS=294,315\n",
      "d461: DISTANCE ATOMS=294,336\n",
      "d462: DISTANCE ATOMS=294,356\n",
      "d463: DISTANCE ATOMS=294,370\n",
      "d464: DISTANCE ATOMS=294,387\n",
      "d465: DISTANCE ATOMS=294,406\n",
      "d466: DISTANCE ATOMS=294,420\n",
      "d467: DISTANCE ATOMS=294,427\n",
      "d468: DISTANCE ATOMS=294,441\n",
      "d469: DISTANCE ATOMS=294,455\n",
      "d470: DISTANCE ATOMS=294,472\n",
      "d471: DISTANCE ATOMS=294,492\n",
      "d472: DISTANCE ATOMS=294,507\n",
      "d473: DISTANCE ATOMS=294,531\n",
      "d474: DISTANCE ATOMS=294,545\n",
      "d475: DISTANCE ATOMS=294,556\n",
      "d476: DISTANCE ATOMS=315,336\n",
      "d477: DISTANCE ATOMS=315,356\n",
      "d478: DISTANCE ATOMS=315,370\n",
      "d479: DISTANCE ATOMS=315,387\n",
      "d480: DISTANCE ATOMS=315,406\n",
      "d481: DISTANCE ATOMS=315,420\n",
      "d482: DISTANCE ATOMS=315,427\n",
      "d483: DISTANCE ATOMS=315,441\n",
      "d484: DISTANCE ATOMS=315,455\n",
      "d485: DISTANCE ATOMS=315,472\n",
      "d486: DISTANCE ATOMS=315,492\n",
      "d487: DISTANCE ATOMS=315,507\n",
      "d488: DISTANCE ATOMS=315,531\n",
      "d489: DISTANCE ATOMS=315,545\n",
      "d490: DISTANCE ATOMS=315,556\n",
      "d491: DISTANCE ATOMS=336,356\n",
      "d492: DISTANCE ATOMS=336,370\n",
      "d493: DISTANCE ATOMS=336,387\n",
      "d494: DISTANCE ATOMS=336,406\n",
      "d495: DISTANCE ATOMS=336,420\n",
      "d496: DISTANCE ATOMS=336,427\n",
      "d497: DISTANCE ATOMS=336,441\n",
      "d498: DISTANCE ATOMS=336,455\n",
      "d499: DISTANCE ATOMS=336,472\n",
      "d500: DISTANCE ATOMS=336,492\n",
      "d501: DISTANCE ATOMS=336,507\n",
      "d502: DISTANCE ATOMS=336,531\n",
      "d503: DISTANCE ATOMS=336,545\n",
      "d504: DISTANCE ATOMS=336,556\n",
      "d505: DISTANCE ATOMS=356,370\n",
      "d506: DISTANCE ATOMS=356,387\n",
      "d507: DISTANCE ATOMS=356,406\n",
      "d508: DISTANCE ATOMS=356,420\n",
      "d509: DISTANCE ATOMS=356,427\n",
      "d510: DISTANCE ATOMS=356,441\n",
      "d511: DISTANCE ATOMS=356,455\n",
      "d512: DISTANCE ATOMS=356,472\n",
      "d513: DISTANCE ATOMS=356,492\n",
      "d514: DISTANCE ATOMS=356,507\n",
      "d515: DISTANCE ATOMS=356,531\n",
      "d516: DISTANCE ATOMS=356,545\n",
      "d517: DISTANCE ATOMS=356,556\n",
      "d518: DISTANCE ATOMS=370,387\n",
      "d519: DISTANCE ATOMS=370,406\n",
      "d520: DISTANCE ATOMS=370,420\n",
      "d521: DISTANCE ATOMS=370,427\n",
      "d522: DISTANCE ATOMS=370,441\n",
      "d523: DISTANCE ATOMS=370,455\n",
      "d524: DISTANCE ATOMS=370,472\n",
      "d525: DISTANCE ATOMS=370,492\n",
      "d526: DISTANCE ATOMS=370,507\n",
      "d527: DISTANCE ATOMS=370,531\n",
      "d528: DISTANCE ATOMS=370,545\n",
      "d529: DISTANCE ATOMS=370,556\n",
      "d530: DISTANCE ATOMS=387,406\n",
      "d531: DISTANCE ATOMS=387,420\n",
      "d532: DISTANCE ATOMS=387,427\n",
      "d533: DISTANCE ATOMS=387,441\n",
      "d534: DISTANCE ATOMS=387,455\n",
      "d535: DISTANCE ATOMS=387,472\n",
      "d536: DISTANCE ATOMS=387,492\n",
      "d537: DISTANCE ATOMS=387,507\n",
      "d538: DISTANCE ATOMS=387,531\n",
      "d539: DISTANCE ATOMS=387,545\n",
      "d540: DISTANCE ATOMS=387,556\n",
      "d541: DISTANCE ATOMS=406,420\n",
      "d542: DISTANCE ATOMS=406,427\n",
      "d543: DISTANCE ATOMS=406,441\n",
      "d544: DISTANCE ATOMS=406,455\n",
      "d545: DISTANCE ATOMS=406,472\n",
      "d546: DISTANCE ATOMS=406,492\n",
      "d547: DISTANCE ATOMS=406,507\n",
      "d548: DISTANCE ATOMS=406,531\n",
      "d549: DISTANCE ATOMS=406,545\n",
      "d550: DISTANCE ATOMS=406,556\n",
      "d551: DISTANCE ATOMS=420,427\n",
      "d552: DISTANCE ATOMS=420,441\n",
      "d553: DISTANCE ATOMS=420,455\n",
      "d554: DISTANCE ATOMS=420,472\n",
      "d555: DISTANCE ATOMS=420,492\n",
      "d556: DISTANCE ATOMS=420,507\n",
      "d557: DISTANCE ATOMS=420,531\n",
      "d558: DISTANCE ATOMS=420,545\n",
      "d559: DISTANCE ATOMS=420,556\n",
      "d560: DISTANCE ATOMS=427,441\n",
      "d561: DISTANCE ATOMS=427,455\n",
      "d562: DISTANCE ATOMS=427,472\n",
      "d563: DISTANCE ATOMS=427,492\n",
      "d564: DISTANCE ATOMS=427,507\n",
      "d565: DISTANCE ATOMS=427,531\n",
      "d566: DISTANCE ATOMS=427,545\n",
      "d567: DISTANCE ATOMS=427,556\n",
      "d568: DISTANCE ATOMS=441,455\n",
      "d569: DISTANCE ATOMS=441,472\n",
      "d570: DISTANCE ATOMS=441,492\n",
      "d571: DISTANCE ATOMS=441,507\n",
      "d572: DISTANCE ATOMS=441,531\n",
      "d573: DISTANCE ATOMS=441,545\n",
      "d574: DISTANCE ATOMS=441,556\n",
      "d575: DISTANCE ATOMS=455,472\n",
      "d576: DISTANCE ATOMS=455,492\n",
      "d577: DISTANCE ATOMS=455,507\n",
      "d578: DISTANCE ATOMS=455,531\n",
      "d579: DISTANCE ATOMS=455,545\n",
      "d580: DISTANCE ATOMS=455,556\n",
      "d581: DISTANCE ATOMS=472,492\n",
      "d582: DISTANCE ATOMS=472,507\n",
      "d583: DISTANCE ATOMS=472,531\n",
      "d584: DISTANCE ATOMS=472,545\n",
      "d585: DISTANCE ATOMS=472,556\n",
      "d586: DISTANCE ATOMS=492,507\n",
      "d587: DISTANCE ATOMS=492,531\n",
      "d588: DISTANCE ATOMS=492,545\n",
      "d589: DISTANCE ATOMS=492,556\n",
      "d590: DISTANCE ATOMS=507,531\n",
      "d591: DISTANCE ATOMS=507,545\n",
      "d592: DISTANCE ATOMS=507,556\n",
      "d593: DISTANCE ATOMS=531,545\n",
      "d594: DISTANCE ATOMS=531,556\n",
      "d595: DISTANCE ATOMS=545,556\n",
      "ARG=d1,d2,d3,d4,d5,d6,d7,d8,d9,d10,d11,d12,d13,d14,d15,d16,d17,d18,d19,d20,d21,d22,d23,d24,d25,d26,d27,d28,d29,d30,d31,d32,d33,d34,d35,d36,d37,d38,d39,d40,d41,d42,d43,d44,d45,d46,d47,d48,d49,d50,d51,d52,d53,d54,d55,d56,d57,d58,d59,d60,d61,d62,d63,d64,d65,d66,d67,d68,d69,d70,d71,d72,d73,d74,d75,d76,d77,d78,d79,d80,d81,d82,d83,d84,d85,d86,d87,d88,d89,d90,d91,d92,d93,d94,d95,d96,d97,d98,d99,d100,d101,d102,d103,d104,d105,d106,d107,d108,d109,d110,d111,d112,d113,d114,d115,d116,d117,d118,d119,d120,d121,d122,d123,d124,d125,d126,d127,d128,d129,d130,d131,d132,d133,d134,d135,d136,d137,d138,d139,d140,d141,d142,d143,d144,d145,d146,d147,d148,d149,d150,d151,d152,d153,d154,d155,d156,d157,d158,d159,d160,d161,d162,d163,d164,d165,d166,d167,d168,d169,d170,d171,d172,d173,d174,d175,d176,d177,d178,d179,d180,d181,d182,d183,d184,d185,d186,d187,d188,d189,d190,d191,d192,d193,d194,d195,d196,d197,d198,d199,d200,d201,d202,d203,d204,d205,d206,d207,d208,d209,d210,d211,d212,d213,d214,d215,d216,d217,d218,d219,d220,d221,d222,d223,d224,d225,d226,d227,d228,d229,d230,d231,d232,d233,d234,d235,d236,d237,d238,d239,d240,d241,d242,d243,d244,d245,d246,d247,d248,d249,d250,d251,d252,d253,d254,d255,d256,d257,d258,d259,d260,d261,d262,d263,d264,d265,d266,d267,d268,d269,d270,d271,d272,d273,d274,d275,d276,d277,d278,d279,d280,d281,d282,d283,d284,d285,d286,d287,d288,d289,d290,d291,d292,d293,d294,d295,d296,d297,d298,d299,d300,d301,d302,d303,d304,d305,d306,d307,d308,d309,d310,d311,d312,d313,d314,d315,d316,d317,d318,d319,d320,d321,d322,d323,d324,d325,d326,d327,d328,d329,d330,d331,d332,d333,d334,d335,d336,d337,d338,d339,d340,d341,d342,d343,d344,d345,d346,d347,d348,d349,d350,d351,d352,d353,d354,d355,d356,d357,d358,d359,d360,d361,d362,d363,d364,d365,d366,d367,d368,d369,d370,d371,d372,d373,d374,d375,d376,d377,d378,d379,d380,d381,d382,d383,d384,d385,d386,d387,d388,d389,d390,d391,d392,d393,d394,d395,d396,d397,d398,d399,d400,d401,d402,d403,d404,d405,d406,d407,d408,d409,d410,d411,d412,d413,d414,d415,d416,d417,d418,d419,d420,d421,d422,d423,d424,d425,d426,d427,d428,d429,d430,d431,d432,d433,d434,d435,d436,d437,d438,d439,d440,d441,d442,d443,d444,d445,d446,d447,d448,d449,d450,d451,d452,d453,d454,d455,d456,d457,d458,d459,d460,d461,d462,d463,d464,d465,d466,d467,d468,d469,d470,d471,d472,d473,d474,d475,d476,d477,d478,d479,d480,d481,d482,d483,d484,d485,d486,d487,d488,d489,d490,d491,d492,d493,d494,d495,d496,d497,d498,d499,d500,d501,d502,d503,d504,d505,d506,d507,d508,d509,d510,d511,d512,d513,d514,d515,d516,d517,d518,d519,d520,d521,d522,d523,d524,d525,d526,d527,d528,d529,d530,d531,d532,d533,d534,d535,d536,d537,d538,d539,d540,d541,d542,d543,d544,d545,d546,d547,d548,d549,d550,d551,d552,d553,d554,d555,d556,d557,d558,d559,d560,d561,d562,d563,d564,d565,d566,d567,d568,d569,d570,d571,d572,d573,d574,d575,d576,d577,d578,d579,d580,d581,d582,d583,d584,d585,d586,d587,d588,d589,d590,d591,d592,d593,d594,d595,d596\n"
     ]
    }
   ],
   "source": [
    "# CA atom index\n",
    "ca_atoms = [atom for atom in pdb_traj.topology.atoms if atom.name == \"CA\"]\n",
    "ca_indices = [atom.index for atom in ca_atoms]\n",
    "\n",
    "cnt = 1\n",
    "for i in range(len(ca_indices)):\n",
    "    for j in range(i+1, len(ca_indices)):\n",
    "        print(f\"d{cnt}: DISTANCE ATOMS={ca_indices[i]+1},{ca_indices[j]+1}\")\n",
    "        cnt += 1\n",
    "\n",
    "print(\"ARG=\" + \",\".join(f\"d{i+1}\" for i in range(cnt)))"
   ]
  },
  {
   "cell_type": "code",
   "execution_count": 45,
   "metadata": {},
   "outputs": [
    {
     "name": "stdout",
     "output_type": "stream",
     "text": [
      "Found 244 .dcd files in /home/shpark/prj-mlcv/lib/DESRES/DESRES-Trajectory_GTT-0-protein/GTT-0-protein\n",
      "Pattern used: /home/shpark/prj-mlcv/lib/DESRES/DESRES-Trajectory_GTT-0-protein/GTT-0-protein/GTT-0-protein-*.dcd\n",
      "File indices range: 0 to 243\n",
      "Total files to load: 244\n"
     ]
    }
   ],
   "source": [
    "# Check .dcd files in the simulation directory\n",
    "dcd_pattern = f\"{base_dir}/{molecule}-{simulation_idx}-protein-*.dcd\"\n",
    "dcd_files = glob.glob(dcd_pattern)\n",
    "num_files = len(dcd_files)\n",
    "print(f\"Found {num_files} .dcd files in {base_dir}\")\n",
    "print(f\"Pattern used: {dcd_pattern}\")\n",
    "\n",
    "file_indices = []\n",
    "for file_path in dcd_files:\n",
    "    filename = os.path.basename(file_path)\n",
    "    index_part = filename.split('-')[-1].replace('.dcd', '')\n",
    "    if index_part.isdigit():\n",
    "        file_indices.append(int(index_part))\n",
    "\n",
    "file_indices.sort()\n",
    "print(f\"File indices range: {min(file_indices)} to {max(file_indices)}\")\n",
    "print(f\"Total files to load: {len(file_indices)}\")"
   ]
  },
  {
   "cell_type": "code",
   "execution_count": 46,
   "metadata": {},
   "outputs": [
    {
     "name": "stderr",
     "output_type": "stream",
     "text": [
      "Loading trajectories: 100%|██████████| 244/244 [00:18<00:00, 13.22it/s]\n"
     ]
    },
    {
     "name": "stdout",
     "output_type": "stream",
     "text": [
      "Successfully loaded 244 trajectory files\n"
     ]
    }
   ],
   "source": [
    "# Load trajectories \n",
    "traj_list = []\n",
    "for i in tqdm(\n",
    "    file_indices,\n",
    "    desc=\"Loading trajectories\"\n",
    "):\n",
    "    file_idx = f\"{i:03d}\"\n",
    "    file_path = f\"{base_dir}/{molecule}-{simulation_idx}-protein-{file_idx}.dcd\"\n",
    "    if os.path.exists(file_path):\n",
    "        traj = md.load_dcd(file_path, top=pdb_path)\n",
    "        traj_list.append(traj)\n",
    "    else:\n",
    "        print(f\"Warning: File not found: {file_path}\")\n",
    "\n",
    "print(f\"Successfully loaded {len(traj_list)} trajectory files\")\n",
    "all_traj = md.join(traj_list)"
   ]
  },
  {
   "cell_type": "code",
   "execution_count": 47,
   "metadata": {},
   "outputs": [
    {
     "name": "stdout",
     "output_type": "stream",
     "text": [
      "Total frames: 2432586\n"
     ]
    },
    {
     "data": {
      "application/vnd.jupyter.widget-view+json": {
       "model_id": "2c01439f5eb842eca828509f670ab157",
       "version_major": 2,
       "version_minor": 0
      },
      "text/plain": [
       "NGLWidget(max_frame=2432585)"
      ]
     },
     "metadata": {},
     "output_type": "display_data"
    }
   ],
   "source": [
    "all_traj.center_coordinates()\n",
    "view = nv.show_mdtraj(\n",
    "    all_traj,\n",
    "\theight=\"400px\",\n",
    "    width=\"400px\"\n",
    ")\n",
    "view.add_representation(\"licorice\", selection=\"protein\")\n",
    "print(f\"Total frames: {all_traj.n_frames}\")\n",
    "view"
   ]
  },
  {
   "cell_type": "code",
   "execution_count": 14,
   "metadata": {},
   "outputs": [],
   "source": [
    "view.frame = 24623"
   ]
  },
  {
   "cell_type": "code",
   "execution_count": 35,
   "metadata": {},
   "outputs": [
    {
     "data": {
      "application/vnd.jupyter.widget-view+json": {
       "model_id": "d0480c694c7b4504b6330b6bc970b414",
       "version_major": 2,
       "version_minor": 0
      },
      "text/plain": [
       "NGLWidget(max_frame=2432585)"
      ]
     },
     "metadata": {},
     "output_type": "display_data"
    }
   ],
   "source": [
    "# # Map coordinates accordingly if necessary\n",
    "# atom_mapping = np.array([1, 5, 8, 9, 2, 3, 4, 6, 7, 10, 12, 19, 20, 14, 17, 11, 13, 15, 16, 18, 21, 23, 41, 42, 25, 28, 31, 34, 37, 22, 24, 26, 27, 29, 30, 32, 33, 35, 36, 38, 39, 40, 43, 45, 60, 61, 47, 50, 52, 56, 44, 46, 48, 49, 51, 53, 54, 55, 57, 58, 59, 62, 66, 74, 75, 63, 68, 71, 64, 65, 67, 69, 70, 72, 73, 76, 80, 88, 89, 77, 82, 85, 78, 79, 81, 83, 84, 86, 87, 90, 92, 95, 96, 91, 93, 94, 97, 99, 119, 120, 101, 104, 105, 107, 109, 110, 111, 113, 115, 117, 98, 100, 102, 103, 106, 108, 112, 114, 116, 118, 121, 123, 134, 135, 125, 128, 131, 132, 133, 122, 124, 126, 127, 129, 130, 136, 138, 156, 157, 140, 143, 146, 149, 152, 137, 139, 141, 142, 144, 145, 147, 148, 150, 151, 153, 154, 155, 158, 160, 180, 181, 162, 165, 168, 171, 173, 174, 177, 159, 161, 163, 164, 166, 167, 169, 170, 172, 175, 176, 178, 179, 182, 184, 197, 198, 186, 189, 192, 193, 183, 185, 187, 188, 190, 191, 194, 195, 196, 199, 201, 208, 209, 203, 206, 200, 202, 204, 205, 207, 210, 212, 232, 233, 214, 217, 220, 223, 225, 226, 229, 211, 213, 215, 216, 218, 219, 221, 222, 224, 227, 228, 230, 231, 234, 236, 244, 245, 238, 241, 242, 243, 235, 237, 239, 240, 246, 248, 251, 252, 247, 249, 250, 253, 255, 275, 276, 257, 260, 263, 266, 268, 269, 272, 254, 256, 258, 259, 261, 262, 264, 265, 267, 270, 271, 273, 274, 277, 279, 291, 292, 281, 283, 287, 278, 280, 282, 284, 285, 286, 288, 289, 290, 293, 295, 312, 313, 297, 300, 301, 303, 305, 306, 308, 310, 294, 296, 298, 299, 302, 304, 307, 309, 311, 314, 316, 333, 334, 318, 321, 322, 324, 326, 327, 329, 331, 315, 317, 319, 320, 323, 325, 328, 330, 332, 335, 337, 353, 354, 339, 342, 343, 345, 347, 349, 351, 336, 338, 340, 341, 344, 346, 348, 350, 352, 355, 357, 367, 368, 359, 362, 363, 364, 356, 358, 360, 361, 365, 366, 369, 371, 373, 376, 378, 379, 381, 382, 384, 385, 370, 372, 374, 375, 377, 380, 383, 386, 388, 403, 404, 390, 392, 396, 399, 387, 389, 391, 393, 394, 395, 397, 398, 400, 401, 402, 405, 407, 417, 418, 409, 411, 413, 406, 408, 410, 412, 414, 415, 416, 419, 421, 423, 424, 420, 422, 546, 425, 427, 429, 430, 547, 548, 549, 426, 428, 550, 551, 552, 553, 554, 431, 433, 435, 436, 555, 556, 557, 432, 434, 558, 559, 560, 561, 562, 437, 439, 452, 453, 441, 444, 447, 448, 449, 438, 440, 442, 443, 445, 446, 450, 451, 454, 456, 472, 473, 458, 461, 462, 464, 466, 468, 470, 455, 457, 459, 460, 463, 465, 467, 469, 471, 474, 476, 487, 488, 478, 481, 484, 485, 486, 475, 477, 479, 480, 482, 483, 489, 491, 511, 512, 493, 496, 499, 502, 504, 505, 508, 490, 492, 494, 495, 497, 498, 500, 501, 503, 506, 507, 509, 510, 513, 517, 525, 526, 514, 519, 522, 515, 516, 518, 520, 521, 523, 524, 527, 529, 536, 537, 531, 534, 528, 530, 532, 533, 535, 541, 543, 538, 539, 540, 542, 544, 545])\n",
    "# all_traj.xyz = all_traj.xyz[:, atom_mapping - 1]\n",
    "# all_traj.center_coordinates()\n",
    "# view = nv.show_mdtraj(all_traj)\n",
    "# view.add_representation(\"licorice\", selection=\"protein\")\n",
    "# view"
   ]
  },
  {
   "cell_type": "code",
   "execution_count": null,
   "metadata": {},
   "outputs": [],
   "source": [
    "# all_traj[0].save_pdb(f\"/home/shpark/prj-mlcv/lib/DESRES/DESRES-Trajectory_{molecule}-{simulation_idx}-protein/{molecule}-{simulation_idx}-protein-mapped.pdb\")"
   ]
  },
  {
   "cell_type": "markdown",
   "metadata": {},
   "source": [
    "# Descriptors"
   ]
  },
  {
   "cell_type": "code",
   "execution_count": 37,
   "metadata": {},
   "outputs": [
    {
     "name": "stdout",
     "output_type": "stream",
     "text": [
      "ca_resid_pair: (595, 2)\n",
      "(2432586, 595)\n",
      "1.3621553\n"
     ]
    }
   ],
   "source": [
    "# pdb = md.load(pdb_path)\n",
    "ca_resid_pair = np.array(\n",
    "\t[(a.index, b.index) for a, b in combinations(list(all_traj.topology.residues), 2)]\n",
    ")\n",
    "print(f\"ca_resid_pair: {ca_resid_pair.shape}\")\n",
    "ca_pair_contacts, resid_pairs = md.compute_contacts(\n",
    "\tall_traj, scheme=\"ca\", contacts=ca_resid_pair, periodic=False\n",
    ")\n",
    "print(ca_pair_contacts.shape)\n",
    "print(ca_pair_contacts.mean())\n",
    "\n",
    "# torch.save(\n",
    "#     torch.from_numpy(ca_pair_contacts),\n",
    "#     f\"../DESRES-Trajectory_{molecule}-{simulation_idx}-protein/{molecule}-{simulation_idx}-cad.pt\"\n",
    "# )"
   ]
  },
  {
   "cell_type": "code",
   "execution_count": 38,
   "metadata": {},
   "outputs": [
    {
     "name": "stdout",
     "output_type": "stream",
     "text": [
      "(2432586, 595)\n",
      "1.0\n"
     ]
    }
   ],
   "source": [
    "exp = 2\n",
    "ca_pair_distances_swtich = (1 - (np.power(ca_pair_contacts, exp) / 0.8)) / (1 - (np.power(ca_pair_contacts, exp) / 0.8))\n",
    "print(ca_pair_distances_swtich.shape)\n",
    "print(ca_pair_distances_swtich.mean())\n",
    "\n",
    "# torch.save(\n",
    "#     torch.from_numpy(ca_pair_distances_swtich),\n",
    "#     f\"../DESRES-Trajectory_{molecule}-{simulation_idx}-protein/{molecule}-{simulation_idx}-cad-switch.pt\"\n",
    "# )"
   ]
  },
  {
   "cell_type": "code",
   "execution_count": 39,
   "metadata": {},
   "outputs": [
    {
     "name": "stdout",
     "output_type": "stream",
     "text": [
      "(2432586, 562, 3)\n"
     ]
    }
   ],
   "source": [
    "xyz = all_traj.xyz\n",
    "print(xyz.shape)\n",
    "\n",
    "# torch.save(\n",
    "#     torch.from_numpy(xyz),\n",
    "#     f\"../DESRES-Trajectory_{molecule}-{simulation_idx}-protein/{molecule}-{simulation_idx}-pos.pt\"\n",
    "# )"
   ]
  },
  {
   "cell_type": "code",
   "execution_count": 40,
   "metadata": {},
   "outputs": [
    {
     "name": "stdout",
     "output_type": "stream",
     "text": [
      "torch.Size([2432586, 562, 3])\n"
     ]
    }
   ],
   "source": [
    "xyz = torch.load(f\"../DESRES-Trajectory_{molecule}-{simulation_idx}-protein/{molecule}-{simulation_idx}-pos.pt\")\n",
    "\n",
    "print(xyz.shape)"
   ]
  },
  {
   "cell_type": "markdown",
   "metadata": {},
   "source": [
    "# TICA"
   ]
  },
  {
   "cell_type": "code",
   "execution_count": 41,
   "metadata": {},
   "outputs": [],
   "source": [
    "def cad2switch(\n",
    "    cad,\n",
    "    cutoff: float = 0.8\n",
    ") -> np.ndarray:\n",
    "\tif type(cad) == torch.Tensor:\n",
    "\t\tcad = cad.numpy()\n",
    "\treturn (1 - np.power(cad / cutoff, 6)) / (1 - np.power(cad / cutoff, 12))"
   ]
  },
  {
   "cell_type": "code",
   "execution_count": 42,
   "metadata": {},
   "outputs": [
    {
     "name": "stderr",
     "output_type": "stream",
     "text": [
      "/home/shpark/.conda/envs/bioemu/lib/python3.10/site-packages/decorator.py:235: PyEMMA_DeprecationWarning: Call to deprecated function \"tica\". Called from /home/shpark/.conda/envs/bioemu/lib/python3.10/site-packages/decorator.py line 235. Use deeptime.decomposition.TICA instead.\n",
      "  return caller(func, *(extras + args), **kw)\n"
     ]
    },
    {
     "data": {
      "application/vnd.jupyter.widget-view+json": {
       "model_id": "60121312985c48439f6fd3097a24bc65",
       "version_major": 2,
       "version_minor": 0
      },
      "text/plain": [
       "calculate covariances:   0%|          | 0/22 [00:00<?, ?it/s]"
      ]
     },
     "metadata": {},
     "output_type": "display_data"
    },
    {
     "data": {
      "application/vnd.jupyter.widget-view+json": {
       "model_id": "67018d1a7d7246c2813260a3e41a0b89",
       "version_major": 2,
       "version_minor": 0
      },
      "text/plain": [
       "getting output of TICA:   0%|          | 0/22 [00:00<?, ?it/s]"
      ]
     },
     "metadata": {},
     "output_type": "display_data"
    },
    {
     "data": {
      "image/png": "[encoded data removed]",
      "text/plain": [
       "<Figure size 600x600 with 1 Axes>"
      ]
     },
     "metadata": {},
     "output_type": "display_data"
    },
    {
     "name": "stderr",
     "output_type": "stream",
     "text": [
      "/home/shpark/.conda/envs/bioemu/lib/python3.10/site-packages/decorator.py:235: PyEMMA_DeprecationWarning: Call to deprecated function \"tica\". Called from /home/shpark/.conda/envs/bioemu/lib/python3.10/site-packages/decorator.py line 235. Use deeptime.decomposition.TICA instead.\n",
      "  return caller(func, *(extras + args), **kw)\n"
     ]
    },
    {
     "data": {
      "application/vnd.jupyter.widget-view+json": {
       "model_id": "e37f025a5fae4b33b55cc26ff4c92947",
       "version_major": 2,
       "version_minor": 0
      },
      "text/plain": [
       "calculate covariances:   0%|          | 0/22 [00:00<?, ?it/s]"
      ]
     },
     "metadata": {},
     "output_type": "display_data"
    },
    {
     "data": {
      "application/vnd.jupyter.widget-view+json": {
       "model_id": "36d532f56d564f34a41b0aa9b7832648",
       "version_major": 2,
       "version_minor": 0
      },
      "text/plain": [
       "getting output of TICA:   0%|          | 0/22 [00:00<?, ?it/s]"
      ]
     },
     "metadata": {},
     "output_type": "display_data"
    },
    {
     "data": {
      "image/png": "[encoded data removed]",
      "text/plain": [
       "<Figure size 600x600 with 1 Axes>"
      ]
     },
     "metadata": {},
     "output_type": "display_data"
    },
    {
     "name": "stderr",
     "output_type": "stream",
     "text": [
      "/home/shpark/.conda/envs/bioemu/lib/python3.10/site-packages/decorator.py:235: PyEMMA_DeprecationWarning: Call to deprecated function \"tica\". Called from /home/shpark/.conda/envs/bioemu/lib/python3.10/site-packages/decorator.py line 235. Use deeptime.decomposition.TICA instead.\n",
      "  return caller(func, *(extras + args), **kw)\n"
     ]
    },
    {
     "data": {
      "application/vnd.jupyter.widget-view+json": {
       "model_id": "43dc9d41073041e18ded1681ca1ce226",
       "version_major": 2,
       "version_minor": 0
      },
      "text/plain": [
       "calculate covariances:   0%|          | 0/22 [00:00<?, ?it/s]"
      ]
     },
     "metadata": {},
     "output_type": "display_data"
    },
    {
     "data": {
      "application/vnd.jupyter.widget-view+json": {
       "model_id": "35fdefd3a30d46e18ed588d2c9bd4ed9",
       "version_major": 2,
       "version_minor": 0
      },
      "text/plain": [
       "getting output of TICA:   0%|          | 0/22 [00:00<?, ?it/s]"
      ]
     },
     "metadata": {},
     "output_type": "display_data"
    },
    {
     "data": {
      "image/png": "[encoded data removed]",
      "text/plain": [
       "<Figure size 600x600 with 1 Axes>"
      ]
     },
     "metadata": {},
     "output_type": "display_data"
    }
   ],
   "source": [
    "# TICA with pair distances\n",
    "pdb_state = md.load(pdb_path)\n",
    "pdb_state_ca_pair_distances, pdb_resid_pairs = md.compute_contacts(pdb_state, scheme=\"ca\", contacts=ca_resid_pair, periodic=False)\n",
    "\n",
    "for lag in (10, 100, 1000):\n",
    "\tdata = ca_pair_contacts\n",
    "\ttica_obj = pyemma.coordinates.tica(data, lag=lag, dim=2)\n",
    "\ttica_data = tica_obj.get_output()[0]\n",
    "\tx = tica_data[:, 0]\n",
    "\ty = tica_data[:, 1]\n",
    "\n",
    "\tpdb_tica_data = tica_obj.transform(pdb_state_ca_pair_distances)\n",
    "\tpdb_tica_x = pdb_tica_data[:, 0]\n",
    "\tpdb_tica_y = pdb_tica_data[:, 1]\n",
    "\n",
    "\t# Plot\n",
    "\tfig = plt.figure(figsize=(6, 6))\n",
    "\tax = fig.add_subplot(111)\n",
    "\tax.hist2d(x, y, bins=100, norm=LogNorm())\n",
    "\tax.scatter(pdb_tica_x, pdb_tica_y, color=\"red\", s=100)\n",
    "\tax.set_xlabel(\"TIC 1\")\n",
    "\tax.set_ylabel(\"TIC 2\")\n",
    "\tplt.title(f\"TICA with pair distances, lag={lag}\")\n",
    "\tplt.savefig(f'../data/{molecule}/{molecule}_tica_model_lag{lag}.png')\n",
    "\tplt.show()\n",
    "\tplt.close()\n",
    "\n",
    "\twith open(f'../data/{molecule}/{molecule}_tica_model_lag{lag}.pkl', 'wb') as f:\n",
    "\t\tpickle.dump(tica_obj, f)"
   ]
  },
  {
   "cell_type": "code",
   "execution_count": null,
   "metadata": {},
   "outputs": [],
   "source": [
    "# TICA with pair distances\n",
    "pdb_state = md.load(pdb_path)\n",
    "pdb_state_ca_pair_distances, pdb_resid_pairs = md.compute_contacts(pdb_state, scheme=\"ca\", contacts=ca_resid_pair, periodic=False)\n",
    "pdb_state_ca_pair_distances = cad2switch(pdb_state_ca_pair_distances)\n",
    "data_switch = cad2switch(ca_pair_contacts)\n",
    "\n",
    "for lag in (10, 100, 1000):\n",
    "\ttica_obj = pyemma.coordinates.tica(data_switch, lag=lag, dim=2)\n",
    "\ttica_data = tica_obj.get_output()[0]\n",
    "\tx = tica_data[:, 0]\n",
    "\ty = tica_data[:, 1]\n",
    "\n",
    "\tpdb_tica_data = tica_obj.transform(pdb_state_ca_pair_distances)\n",
    "\tpdb_tica_x = pdb_tica_data[:, 0]\n",
    "\tpdb_tica_y = pdb_tica_data[:, 1]\n",
    "\n",
    "\t# Plot\n",
    "\tfig = plt.figure(figsize=(6, 6))\n",
    "\tax = fig.add_subplot(111)\n",
    "\tax.hist2d(x, y, bins=100, norm=LogNorm())\n",
    "\tax.scatter(pdb_tica_x, pdb_tica_y, color=\"red\", s=100)\n",
    "\tax.set_xlabel(\"TIC 1\")\n",
    "\tax.set_ylabel(\"TIC 2\")\n",
    "\tplt.title(f\"TICA with pair distances, lag={lag}\")\n",
    "\tplt.savefig(f'../data/{molecule}/{molecule}_tica_model_switch_lag{lag}.png')\n",
    "\tplt.show()\n",
    "\tplt.close()\n",
    "\n",
    "\twith open(f'../data/{molecule}/{molecule}_tica_model_switch_lag{lag}.pkl', 'wb') as f:\n",
    "\t\tpickle.dump(tica_obj, f)"
   ]
  },
  {
   "cell_type": "markdown",
   "metadata": {},
   "source": [
    "# Analysis"
   ]
  },
  {
   "cell_type": "markdown",
   "metadata": {},
   "source": [
    "## States by RMSD"
   ]
  },
  {
   "cell_type": "code",
   "execution_count": null,
   "metadata": {},
   "outputs": [],
   "source": [
    "def rmsd_to_refpdb(\n",
    "\ttraj: md.Trajectory,\n",
    "\treference_traj: md.Trajectory,\n",
    "\tatom_type: str = \"ca\",\n",
    ") -> np.ndarray:\n",
    "\t\"\"\"\n",
    "\tGenerate binary labels for folded/unfolded states based on RMSD\n",
    "\t\"\"\"\n",
    "\tif atom_type == \"ca\":\n",
    "\t\tatom_indices = traj.topology.select(\"name CA\")\n",
    "\telse:\n",
    "\t\tatom_indices = None\n",
    "\t\n",
    "\trmsd = md.rmsd(\n",
    "\t\ttarget = traj,\n",
    "\t\treference = reference_traj,\n",
    "\t\tatom_indices = atom_indices\n",
    "\t)\n",
    "\treturn rmsd"
   ]
  },
  {
   "cell_type": "markdown",
   "metadata": {},
   "source": [
    "### Folded"
   ]
  },
  {
   "cell_type": "code",
   "execution_count": null,
   "metadata": {},
   "outputs": [],
   "source": [
    "ref_pdb_path = f\"/home/shpark/prj-mlcv/lib/DESRES/notebook/{molecule}_from_mae.pdb\"\n",
    "ref_pdb_traj = md.load_pdb(ref_pdb_path)\n",
    "rmsd = rmsd_to_refpdb(\n",
    "    traj = all_traj,\n",
    "    reference_traj = ref_pdb_traj,\n",
    ")\n",
    "\n",
    "print(rmsd.mean())\n",
    "plt.hist(\n",
    "    rmsd,\n",
    "    bins=100,\n",
    "    # log=True,\n",
    "    color=blue,\n",
    ")\n",
    "plt.show()"
   ]
  },
  {
   "cell_type": "code",
   "execution_count": null,
   "metadata": {},
   "outputs": [],
   "source": [
    "print(all_traj)\n",
    "print(rmsd.shape)\n",
    "\n",
    "# torch.save(\n",
    "#     torch.from_numpy(rmsd),\n",
    "#     f\"../DESRES-Trajectory_{molecule}-{simulation_idx}-protein/{molecule}-{simulation_idx}-rmsd.pt\"\n",
    "# )\n",
    "# torch.save(\n",
    "#     torch.from_numpy(rmsd < 0.3),\n",
    "#     f\"../DESRES-Trajectory_{molecule}-{simulation_idx}-protein/{molecule}-{simulation_idx}-label-rmsd-folded.pt\"\n",
    "# )"
   ]
  },
  {
   "cell_type": "code",
   "execution_count": null,
   "metadata": {},
   "outputs": [],
   "source": [
    "# TICA with pair distances\n",
    "\n",
    "pdb_state = md.load(pdb_path)\n",
    "lag = 10\n",
    "ca_resid_pair = np.array(\n",
    "\t[(a.index, b.index) for a, b in combinations(list(pdb_state.topology.residues), 2)]\n",
    ")\n",
    "data, resid_pairs = md.compute_contacts(\n",
    "\tall_traj, scheme=\"ca\", contacts=ca_resid_pair, periodic=False\n",
    ")\n",
    "tica_obj = pyemma.coordinates.tica(data, lag=lag, dim=2)\n",
    "tica_data = tica_obj.get_output()[0]\n",
    "x = tica_data[:, 0]\n",
    "y = tica_data[:, 1]\n",
    "\n",
    "pdb_state_ca_pair_distances, pdb_resid_pairs = md.compute_contacts(pdb_state, scheme=\"ca\", contacts=ca_resid_pair, periodic=False)\n",
    "pdb_tica_data = tica_obj.transform(pdb_state_ca_pair_distances)\n",
    "pdb_tica_x = pdb_tica_data[:, 0]\n",
    "pdb_tica_y = pdb_tica_data[:, 1]"
   ]
  },
  {
   "cell_type": "code",
   "execution_count": null,
   "metadata": {},
   "outputs": [],
   "source": [
    "# Plot TICA with RMSD colors\n",
    "fig = plt.figure(figsize=(7, 6))\n",
    "ax = fig.add_subplot(111)\n",
    "sc = ax.hexbin(\n",
    "\tx, y,\n",
    "\tC=rmsd,\n",
    "\tgridsize=120,\n",
    "\tcmap='viridis_r',\n",
    "\treduce_C_function=np.mean,\n",
    " \tmincnt=3,\n",
    "  \tlinewidths=0,\n",
    "  \tedgecolors=\"none\",\n",
    "   \talpha=0.95,\n",
    ")\n",
    "ax.scatter(\n",
    "    pdb_tica_x,\n",
    "    pdb_tica_y,\n",
    "    c=\"red\",\n",
    "    s=100,\n",
    "    edgecolors=\"k\",\n",
    "    linewidths=2,\n",
    "    label=\"Folded state\",\n",
    ")\n",
    "ax.set_xlabel(\"TIC 1\")\n",
    "ax.set_ylabel(\"TIC 2\")\n",
    "ax.set_title(f\"TICA with RMSD colors (lag={lag})\")\n",
    "ax.legend(loc=\"best\")\n",
    "cb = plt.colorbar(sc, ax=ax)\n",
    "cb.set_label(\"CA RMSD to folded (nm)\")\n",
    "plt.tight_layout()\n",
    "plt.show()\n",
    "plt.close()"
   ]
  },
  {
   "cell_type": "code",
   "execution_count": null,
   "metadata": {},
   "outputs": [],
   "source": [
    "torch.save(torch.from_numpy(rmsd), f\"{save_dir}/{molecule}-{simulation_idx}-rmsd.pt\")\n",
    "# torch.save(torch.from_numpy(label_by_rmsd), f\"{save_dir}/{molecule}-{simulation_idx}-label_rmsd.pt\")"
   ]
  },
  {
   "cell_type": "markdown",
   "metadata": {},
   "source": [
    "### Unfolded"
   ]
  },
  {
   "cell_type": "code",
   "execution_count": null,
   "metadata": {},
   "outputs": [],
   "source": [
    "rmsd_loaded = torch.load( f\"{save_dir}/{molecule}-{simulation_idx}-rmsd.pt\").numpy()\n",
    "rmsd_max_frame_idx = np.argmax(rmsd_loaded)\n",
    "rmsd_max_frame = all_traj[rmsd_max_frame_idx]\n",
    "rmsd_view = nv.show_mdtraj(rmsd_max_frame)\n",
    "rmsd_view.add_representation(\"licorice\", selection=\"protein\")\n",
    "rmsd_view"
   ]
  },
  {
   "cell_type": "code",
   "execution_count": null,
   "metadata": {},
   "outputs": [],
   "source": [
    "ref_pdb_path = f\"/home/shpark/prj-mlcv/lib/DESRES/data/{molecule}/folded.pdb\"\n",
    "ref_pdb_traj = md.load_pdb(ref_pdb_path)\n",
    "atom_indices = all_traj.topology.select(\"name CA\")\n",
    "\n",
    "max_rmsd = md.rmsd(\n",
    "\ttarget = rmsd_max_frame,\n",
    "\treference = ref_pdb_traj,\n",
    "\tatom_indices = atom_indices\n",
    ")\n",
    "print(max_rmsd)"
   ]
  },
  {
   "cell_type": "code",
   "execution_count": null,
   "metadata": {},
   "outputs": [],
   "source": [
    "# save_path = f\"/home/shpark/prj-mlcv/lib/DESRES/data/{molecule}/unfolded.pdb\"\n",
    "# rmsd_max_frame.save_pdb(save_path)"
   ]
  },
  {
   "cell_type": "code",
   "execution_count": null,
   "metadata": {},
   "outputs": [],
   "source": [
    "unfolded_path = f\"/home/shpark/prj-mlcv/lib/DESRES/data/{molecule}/unfolded.pdb\"\n",
    "unfolded_traj = md.load_pdb(unfolded_path)\n",
    "rmsd_to_unfolded = rmsd_to_refpdb(\n",
    "    traj = all_traj,\n",
    "    reference_traj = unfolded_traj,\n",
    ")\n",
    "\n",
    "print(rmsd_to_unfolded.shape)\n",
    "print(rmsd_to_unfolded.mean())\n",
    "plt.hist(\n",
    "    rmsd_to_unfolded,\n",
    "    bins=100,\n",
    "    # log=True,\n",
    "    color=blue,\n",
    ")\n",
    "plt.show()\n"
   ]
  },
  {
   "cell_type": "code",
   "execution_count": null,
   "metadata": {},
   "outputs": [],
   "source": [
    "torch.save(torch.from_numpy(rmsd_to_unfolded), f\"{save_dir}/{molecule}-{simulation_idx}-rmsd_unfolded.pt\")"
   ]
  },
  {
   "cell_type": "markdown",
   "metadata": {},
   "source": [
    "## Secondary structure"
   ]
  },
  {
   "cell_type": "code",
   "execution_count": null,
   "metadata": {},
   "outputs": [],
   "source": [
    "dssp_all = md.compute_dssp(\n",
    "    all_traj,\n",
    "    simplified=False\n",
    ")\n",
    "print(dssp_all.shape)\n",
    "print(dssp_all[0])\n",
    "dssp_path = f\"/home/shpark/prj-mlcv/lib/DESRES/DESRES-Trajectory_{molecule}-0-protein/{molecule}-0-dssp.npy\"\n",
    "np.save(dssp_path, dssp_all)"
   ]
  },
  {
   "cell_type": "code",
   "execution_count": null,
   "metadata": {},
   "outputs": [],
   "source": [
    "dssp_all = md.compute_dssp(\n",
    "    all_traj,\n",
    "    simplified=True\n",
    ")\n",
    "print(dssp_all.shape)\n",
    "print(dssp_all[0])\n",
    "dssp_path = f\"/home/shpark/prj-mlcv/lib/DESRES/DESRES-Trajectory_{molecule}-0-protein/{molecule}-0-dssp-simplified.npy\"\n",
    "np.save(dssp_path, dssp_all)"
   ]
  },
  {
   "cell_type": "code",
   "execution_count": null,
   "metadata": {},
   "outputs": [],
   "source": [
    "dssp_loaded = np.load(dssp_path)\n",
    "print(dssp_loaded.shape)"
   ]
  },
  {
   "cell_type": "code",
   "execution_count": null,
   "metadata": {},
   "outputs": [],
   "source": [
    "dssp_helix = np.array([True if \"H\" or \"G\" or \"I\" in dssp else False for dssp in dssp_all])\n",
    "print(dssp_helix.shape)\n",
    "print(dssp_helix[0])\n",
    "\n",
    "np.save(\n",
    "    f\"/home/shpark/prj-mlcv/lib/DESRES/DESRES-Trajectory_{molecule}-0-protein/{molecule}-0-dssp-helix.npy\",\n",
    "    dssp_helix\n",
    ")"
   ]
  },
  {
   "cell_type": "code",
   "execution_count": null,
   "metadata": {},
   "outputs": [],
   "source": [
    "# Plot TICA with helix colors\n",
    "pdb_state = md.load(pdb_path)\n",
    "lag = 10\n",
    "ca_resid_pair = np.array(\n",
    "\t[(a.index, b.index) for a, b in combinations(list(pdb_state.topology.residues), 2)]\n",
    ")\n",
    "data, resid_pairs = md.compute_contacts(\n",
    "\tall_traj, scheme=\"ca\", contacts=ca_resid_pair, periodic=False\n",
    ")\n",
    "tica_obj = pyemma.coordinates.tica(data, lag=lag, dim=2)\n",
    "tica_data = tica_obj.get_output()[0]\n",
    "x = tica_data[:, 0]\n",
    "y = tica_data[:, 1]\n",
    "# helix_color = np.array([\"red\" if dssp else \"blue\" for dssp in dssp_all])"
   ]
  },
  {
   "cell_type": "code",
   "execution_count": null,
   "metadata": {},
   "outputs": [],
   "source": [
    "fig = plt.figure(figsize=(7, 6))\n",
    "ax = fig.add_subplot(111)\n",
    "sc = ax.hexbin(\n",
    "\tx, y,\n",
    "\tC=dssp_helix,\n",
    "\tgridsize=120,\n",
    "\tcmap='viridis_r',\n",
    "\treduce_C_function=np.mean,\n",
    " \tmincnt=3,\n",
    "  \tlinewidths=0,\n",
    "  \tedgecolors=\"none\",\n",
    "   \talpha=0.95,\n",
    ")\n",
    "ax.set_xlabel(\"TIC 1\")\n",
    "ax.set_ylabel(\"TIC 2\")\n",
    "ax.set_title(f\"TICA with helix colors (lag={lag})\")\n",
    "ax.legend(loc=\"best\")\n",
    "cb = plt.colorbar(sc, ax=ax)\n",
    "cb.set_label(\"Helix\")\n",
    "plt.tight_layout()\n",
    "plt.show()\n",
    "plt.close()"
   ]
  },
  {
   "cell_type": "code",
   "execution_count": null,
   "metadata": {},
   "outputs": [],
   "source": [
    "# Create density scatter plot: residue number vs CV value\n",
    "# Using DSSP data to analyze secondary structure distribution\n",
    "\n",
    "# First, let's understand the DSSP data structure\n",
    "print(\"DSSP data shape:\", dssp_all.shape)\n",
    "print(\"Number of frames:\", dssp_all.shape[0])\n",
    "print(\"Number of residues:\", dssp_all.shape[1])\n",
    "print(\"Sample DSSP data (first frame):\", dssp_all[0])\n",
    "\n",
    "# Convert DSSP labels to numerical values for plotting\n",
    "# H = Helix, E = Beta sheet, C = Coil/Loop\n",
    "dssp_to_num = {'H': 1, 'E': 2, 'C': 0}\n",
    "\n",
    "# Create arrays for plotting\n",
    "residue_numbers = []\n",
    "cv_values = []\n",
    "\n",
    "# Process each frame\n",
    "for frame_idx in range(dssp_all.shape[0]):\n",
    "    for residue_idx in range(dssp_all.shape[1]):\n",
    "        residue_num = residue_idx + 1  # 1-indexed residue numbers\n",
    "        dssp_label = dssp_all[frame_idx, residue_idx]\n",
    "        cv_value = dssp_to_num.get(dssp_label, 0)  # Default to 0 for unknown labels\n",
    "        \n",
    "        residue_numbers.append(residue_num)\n",
    "        cv_values.append(cv_value)\n",
    "\n",
    "residue_numbers = np.array(residue_numbers)\n",
    "cv_values = np.array(cv_values)\n",
    "\n",
    "print(f\"Total data points: {len(residue_numbers)}\")\n",
    "print(f\"Residue range: {residue_numbers.min()} - {residue_numbers.max()}\")\n",
    "print(f\"CV value range: {cv_values.min()} - {cv_values.max()}\")\n"
   ]
  },
  {
   "cell_type": "code",
   "execution_count": null,
   "metadata": {},
   "outputs": [],
   "source": [
    "# Create the density scatter plot\n",
    "fig, ax = plt.subplots(figsize=(12, 8))\n",
    "\n",
    "# Use hexbin for density visualization\n",
    "hb = ax.hexbin(residue_numbers, cv_values, \n",
    "               gridsize=50, \n",
    "               cmap='viridis', \n",
    "               mincnt=1,\n",
    "               linewidths=0.2,\n",
    "               edgecolors='white',\n",
    "               alpha=0.8)\n",
    "\n",
    "# Customize the plot\n",
    "ax.set_xlabel('Residue Number', fontsize=14)\n",
    "ax.set_ylabel('Secondary Structure (CV Value)', fontsize=14)\n",
    "ax.set_title('Density Scatter Plot: Secondary Structure by Residue\\n(2JOF Protein)', fontsize=16)\n",
    "\n",
    "# Set y-axis labels for secondary structure types\n",
    "ax.set_yticks([0, 1, 2])\n",
    "ax.set_yticklabels(['Coil/Loop (C)', 'Helix (H)', 'Beta Sheet (E)'])\n",
    "\n",
    "# Set x-axis to show all residues\n",
    "ax.set_xlim(0.5, 20.5)\n",
    "ax.set_xticks(range(1, 21))\n",
    "\n",
    "# Add colorbar\n",
    "cb = plt.colorbar(hb, ax=ax)\n",
    "cb.set_label('Number of Observations', fontsize=12)\n",
    "\n",
    "# Add grid for better readability\n",
    "ax.grid(True, alpha=0.3)\n",
    "\n",
    "plt.tight_layout()\n",
    "plt.show()\n",
    "\n",
    "# Print summary statistics\n",
    "print(\"\\nSummary Statistics:\")\n",
    "for residue in range(1, 21):\n",
    "    mask = residue_numbers == residue\n",
    "    residue_data = cv_values[mask]\n",
    "    \n",
    "    helix_pct = (residue_data == 1).mean() * 100\n",
    "    sheet_pct = (residue_data == 2).mean() * 100\n",
    "    coil_pct = (residue_data == 0).mean() * 100\n",
    "    \n",
    "    print(f\"Residue {residue:2d}: Helix={helix_pct:5.1f}%, Sheet={sheet_pct:5.1f}%, Coil={coil_pct:5.1f}%\")\n"
   ]
  },
  {
   "cell_type": "code",
   "execution_count": null,
   "metadata": {},
   "outputs": [],
   "source": [
    "# Alternative visualization: Discrete scatter plot with jittering\n",
    "fig, ax = plt.subplots(figsize=(14, 8))\n",
    "\n",
    "# Add small random jitter to y-values for better visibility\n",
    "np.random.seed(42)  # For reproducibility\n",
    "jitter_amount = 0.1\n",
    "cv_values_jittered = cv_values + np.random.uniform(-jitter_amount, jitter_amount, len(cv_values))\n",
    "\n",
    "# Create scatter plot with alpha for density visualization\n",
    "scatter = ax.scatter(residue_numbers, cv_values_jittered, \n",
    "                    alpha=0.01, \n",
    "                    s=1, \n",
    "                    c=cv_values, \n",
    "                    cmap='Set1',\n",
    "                    rasterized=True)\n",
    "\n",
    "# Customize the plot\n",
    "ax.set_xlabel('Residue Number', fontsize=14)\n",
    "ax.set_ylabel('Secondary Structure (CV Value)', fontsize=14)\n",
    "ax.set_title('Discrete Scatter Plot: Secondary Structure Distribution by Residue\\n(2JOF Protein - All Frames)', fontsize=16)\n",
    "\n",
    "# Set y-axis labels for secondary structure types\n",
    "ax.set_yticks([0, 1, 2])\n",
    "ax.set_yticklabels(['Coil/Loop (C)', 'Helix (H)', 'Beta Sheet (E)'])\n",
    "\n",
    "# Set x-axis to show all residues\n",
    "ax.set_xlim(0.5, 20.5)\n",
    "ax.set_xticks(range(1, 21))\n",
    "ax.set_ylim(-0.5, 2.5)\n",
    "\n",
    "# Add horizontal lines to separate secondary structure types\n",
    "ax.axhline(y=0.5, color='gray', linestyle='--', alpha=0.5)\n",
    "ax.axhline(y=1.5, color='gray', linestyle='--', alpha=0.5)\n",
    "\n",
    "# Add grid for better readability\n",
    "ax.grid(True, alpha=0.3)\n",
    "\n",
    "plt.tight_layout()\n",
    "plt.show()\n"
   ]
  },
  {
   "cell_type": "code",
   "execution_count": null,
   "metadata": {},
   "outputs": [],
   "source": [
    "# Create a heatmap-style visualization for better density representation\n",
    "fig, ax = plt.subplots(figsize=(14, 6))\n",
    "\n",
    "# Calculate the frequency of each secondary structure type for each residue\n",
    "residue_range = range(1, 21)\n",
    "ss_types = [0, 1, 2]  # Coil, Helix, Sheet\n",
    "ss_labels = ['Coil/Loop', 'Helix', 'Beta Sheet']\n",
    "\n",
    "# Create frequency matrix\n",
    "freq_matrix = np.zeros((len(ss_types), len(residue_range)))\n",
    "\n",
    "for i, ss_type in enumerate(ss_types):\n",
    "    for j, residue in enumerate(residue_range):\n",
    "        mask = (residue_numbers == residue) & (cv_values == ss_type)\n",
    "        freq_matrix[i, j] = mask.sum()\n",
    "\n",
    "# Normalize by total observations per residue to get proportions\n",
    "total_per_residue = freq_matrix.sum(axis=0)\n",
    "prop_matrix = freq_matrix / total_per_residue[np.newaxis, :]\n",
    "\n",
    "# Create the heatmap\n",
    "im = ax.imshow(prop_matrix, cmap='Blues', aspect='auto', vmin=0, vmax=1)\n",
    "\n",
    "# Customize the plot\n",
    "ax.set_xlabel('Residue Number', fontsize=14)\n",
    "ax.set_ylabel('Secondary Structure Type', fontsize=14)\n",
    "ax.set_title('Secondary Structure Proportions by Residue\\n(2JOF Protein)', fontsize=16)\n",
    "\n",
    "# Set ticks and labels\n",
    "ax.set_xticks(range(len(residue_range)))\n",
    "ax.set_xticklabels(residue_range)\n",
    "ax.set_yticks(range(len(ss_labels)))\n",
    "ax.set_yticklabels(ss_labels)\n",
    "\n",
    "# Add text annotations showing percentages\n",
    "for i in range(len(ss_types)):\n",
    "    for j in range(len(residue_range)):\n",
    "        text = ax.text(j, i, f'{prop_matrix[i, j]:.2f}',\n",
    "                      ha=\"center\", va=\"center\", color=\"white\" if prop_matrix[i, j] > 0.5 else \"black\",\n",
    "                      fontsize=8)\n",
    "\n",
    "# Add colorbar\n",
    "cb = plt.colorbar(im, ax=ax)\n",
    "cb.set_label('Proportion of Time in Structure', fontsize=12)\n",
    "\n",
    "plt.tight_layout()\n",
    "plt.show()\n",
    "\n",
    "# Print the most common secondary structure for each residue\n",
    "print(\"\\nMost common secondary structure per residue:\")\n",
    "for j, residue in enumerate(residue_range):\n",
    "    max_idx = np.argmax(prop_matrix[:, j])\n",
    "    max_prop = prop_matrix[max_idx, j]\n",
    "    print(f\"Residue {residue:2d}: {ss_labels[max_idx]:12s} ({max_prop:.1%})\")\n"
   ]
  },
  {
   "cell_type": "code",
   "execution_count": null,
   "metadata": {},
   "outputs": [],
   "source": []
  },
  {
   "cell_type": "markdown",
   "metadata": {},
   "source": [
    "# Conclusion"
   ]
  },
  {
   "cell_type": "markdown",
   "metadata": {},
   "source": []
  }
 ],
 "metadata": {
  "kernelspec": {
   "display_name": "bioemu",
   "language": "python",
   "name": "python3"
  },
  "language_info": {
   "codemirror_mode": {
    "name": "ipython",
    "version": 3
   },
   "file_extension": ".py",
   "mimetype": "text/x-python",
   "name": "python",
   "nbconvert_exporter": "python",
   "pygments_lexer": "ipython3",
   "version": "3.10.18"
  }
 },
 "nbformat": 4,
 "nbformat_minor": 2
}
