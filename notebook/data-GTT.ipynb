{
 "cells": [
  {
   "cell_type": "code",
   "execution_count": 1,
   "metadata": {},
   "outputs": [
    {
     "data": {
      "application/vnd.jupyter.widget-view+json": {
       "model_id": "518e83a6cd494ea8a5c335968c2ee20b",
       "version_major": 2,
       "version_minor": 0
      },
      "text/plain": []
     },
     "metadata": {},
     "output_type": "display_data"
    }
   ],
   "source": [
    "import pyemma\n",
    "import pickle\n",
    "import os\n",
    "import glob\n",
    "import torch\n",
    "\n",
    "import mdtraj as md\n",
    "import numpy as np\n",
    "import nglview as nv\n",
    "import matplotlib.pyplot as plt\n",
    "import numpy as np\n",
    "\n",
    "np.bool = np.bool_\n",
    "\n",
    "from tqdm import tqdm\n",
    "from matplotlib.colors import LogNorm\n",
    "from itertools import combinations\n",
    "\n",
    "blue = (70 / 255, 110 / 255, 250 / 255)\n",
    "green = (100 / 255, 170 / 255, 120 / 255)"
   ]
  },
  {
   "cell_type": "code",
   "execution_count": 2,
   "metadata": {},
   "outputs": [],
   "source": [
    "molecule = \"GTT\"\n",
    "simulation_idx = 0\n",
    "base_dir = f\"/home/shpark/prj-mlcv/lib/DESRES/DESRES-Trajectory_{molecule}-{simulation_idx}-protein/{molecule}-{simulation_idx}-protein\"\n",
    "save_dir = f\"/home/shpark/prj-mlcv/lib/DESRES/DESRES-Trajectory_{molecule}-{simulation_idx}-protein\"\n",
    "pdb_path = f\"/home/shpark/prj-mlcv/lib/DESRES/data/{molecule}/{molecule}_from_mae.pdb\""
   ]
  },
  {
   "cell_type": "markdown",
   "metadata": {},
   "source": [
    "# Strings"
   ]
  },
  {
   "cell_type": "code",
   "execution_count": 3,
   "metadata": {},
   "outputs": [
    {
     "name": "stdout",
     "output_type": "stream",
     "text": [
      "GSKLPPGWEKRMSRDGRVYYFNHITGTTQFERPSG\n",
      "35\n"
     ]
    }
   ],
   "source": [
    "name2letter = {\n",
    "\t\"ALA\": \"A\",\n",
    "\t\"CYS\": \"C\",\n",
    "\t\"ASP\": \"D\",\n",
    "\t\"GLU\": \"E\",\n",
    "\t\"PHE\": \"F\",\n",
    "\t\"GLY\": \"G\",\n",
    "\t\"HIS\": \"H\",\n",
    "\t\"ILE\": \"I\",\n",
    "\t\"LYS\": \"K\",\n",
    "\t\"LEU\": \"L\",\n",
    "\t\"MET\": \"M\",\n",
    "\t\"ASN\": \"N\",\n",
    "\t\"PRO\": \"P\",\n",
    "\t\"GLN\": \"Q\",\n",
    "\t\"ARG\": \"R\",\n",
    "\t\"SER\": \"S\",\n",
    "\t\"THR\": \"T\",\n",
    "\t\"VAL\": \"V\",\n",
    "\t\"TRP\": \"W\",\n",
    "\t\"TYR\": \"Y\",\n",
    "\t\"NLE\": \"X\",\n",
    "}\n",
    "\n",
    "pdb_traj = md.load_pdb(pdb_path) \n",
    "residue_names = [residue.name for residue in pdb_traj.topology.residues]\n",
    "one_letter_str = \"\"\n",
    "for idx, names in enumerate(residue_names):\n",
    "    # print(f\"Letter {idx}: {name2letter[names]}\")\n",
    "    one_letter_str += name2letter[names]\n",
    "print(one_letter_str)\n",
    "print(len(one_letter_str))"
   ]
  },
  {
   "cell_type": "code",
   "execution_count": 4,
   "metadata": {},
   "outputs": [
    {
     "name": "stdout",
     "output_type": "stream",
     "text": [
      "d1: DISTANCE ATOMS=2,11\n",
      "d2: DISTANCE ATOMS=2,22\n",
      "d3: DISTANCE ATOMS=2,44\n",
      "d4: DISTANCE ATOMS=2,63\n",
      "d5: DISTANCE ATOMS=2,77\n",
      "d6: DISTANCE ATOMS=2,91\n",
      "d7: DISTANCE ATOMS=2,98\n",
      "d8: DISTANCE ATOMS=2,122\n",
      "d9: DISTANCE ATOMS=2,137\n",
      "d10: DISTANCE ATOMS=2,159\n",
      "d11: DISTANCE ATOMS=2,183\n",
      "d12: DISTANCE ATOMS=2,200\n",
      "d13: DISTANCE ATOMS=2,211\n",
      "d14: DISTANCE ATOMS=2,235\n",
      "d15: DISTANCE ATOMS=2,247\n",
      "d16: DISTANCE ATOMS=2,254\n",
      "d17: DISTANCE ATOMS=2,278\n",
      "d18: DISTANCE ATOMS=2,294\n",
      "d19: DISTANCE ATOMS=2,315\n",
      "d20: DISTANCE ATOMS=2,336\n",
      "d21: DISTANCE ATOMS=2,356\n",
      "d22: DISTANCE ATOMS=2,370\n",
      "d23: DISTANCE ATOMS=2,387\n",
      "d24: DISTANCE ATOMS=2,406\n",
      "d25: DISTANCE ATOMS=2,420\n",
      "d26: DISTANCE ATOMS=2,427\n",
      "d27: DISTANCE ATOMS=2,441\n",
      "d28: DISTANCE ATOMS=2,455\n",
      "d29: DISTANCE ATOMS=2,472\n",
      "d30: DISTANCE ATOMS=2,492\n",
      "d31: DISTANCE ATOMS=2,507\n",
      "d32: DISTANCE ATOMS=2,531\n",
      "d33: DISTANCE ATOMS=2,545\n",
      "d34: DISTANCE ATOMS=2,556\n",
      "d35: DISTANCE ATOMS=11,22\n",
      "d36: DISTANCE ATOMS=11,44\n",
      "d37: DISTANCE ATOMS=11,63\n",
      "d38: DISTANCE ATOMS=11,77\n",
      "d39: DISTANCE ATOMS=11,91\n",
      "d40: DISTANCE ATOMS=11,98\n",
      "d41: DISTANCE ATOMS=11,122\n",
      "d42: DISTANCE ATOMS=11,137\n",
      "d43: DISTANCE ATOMS=11,159\n",
      "d44: DISTANCE ATOMS=11,183\n",
      "d45: DISTANCE ATOMS=11,200\n",
      "d46: DISTANCE ATOMS=11,211\n",
      "d47: DISTANCE ATOMS=11,235\n",
      "d48: DISTANCE ATOMS=11,247\n",
      "d49: DISTANCE ATOMS=11,254\n",
      "d50: DISTANCE ATOMS=11,278\n",
      "d51: DISTANCE ATOMS=11,294\n",
      "d52: DISTANCE ATOMS=11,315\n",
      "d53: DISTANCE ATOMS=11,336\n",
      "d54: DISTANCE ATOMS=11,356\n",
      "d55: DISTANCE ATOMS=11,370\n",
      "d56: DISTANCE ATOMS=11,387\n",
      "d57: DISTANCE ATOMS=11,406\n",
      "d58: DISTANCE ATOMS=11,420\n",
      "d59: DISTANCE ATOMS=11,427\n",
      "d60: DISTANCE ATOMS=11,441\n",
      "d61: DISTANCE ATOMS=11,455\n",
      "d62: DISTANCE ATOMS=11,472\n",
      "d63: DISTANCE ATOMS=11,492\n",
      "d64: DISTANCE ATOMS=11,507\n",
      "d65: DISTANCE ATOMS=11,531\n",
      "d66: DISTANCE ATOMS=11,545\n",
      "d67: DISTANCE ATOMS=11,556\n",
      "d68: DISTANCE ATOMS=22,44\n",
      "d69: DISTANCE ATOMS=22,63\n",
      "d70: DISTANCE ATOMS=22,77\n",
      "d71: DISTANCE ATOMS=22,91\n",
      "d72: DISTANCE ATOMS=22,98\n",
      "d73: DISTANCE ATOMS=22,122\n",
      "d74: DISTANCE ATOMS=22,137\n",
      "d75: DISTANCE ATOMS=22,159\n",
      "d76: DISTANCE ATOMS=22,183\n",
      "d77: DISTANCE ATOMS=22,200\n",
      "d78: DISTANCE ATOMS=22,211\n",
      "d79: DISTANCE ATOMS=22,235\n",
      "d80: DISTANCE ATOMS=22,247\n",
      "d81: DISTANCE ATOMS=22,254\n",
      "d82: DISTANCE ATOMS=22,278\n",
      "d83: DISTANCE ATOMS=22,294\n",
      "d84: DISTANCE ATOMS=22,315\n",
      "d85: DISTANCE ATOMS=22,336\n",
      "d86: DISTANCE ATOMS=22,356\n",
      "d87: DISTANCE ATOMS=22,370\n",
      "d88: DISTANCE ATOMS=22,387\n",
      "d89: DISTANCE ATOMS=22,406\n",
      "d90: DISTANCE ATOMS=22,420\n",
      "d91: DISTANCE ATOMS=22,427\n",
      "d92: DISTANCE ATOMS=22,441\n",
      "d93: DISTANCE ATOMS=22,455\n",
      "d94: DISTANCE ATOMS=22,472\n",
      "d95: DISTANCE ATOMS=22,492\n",
      "d96: DISTANCE ATOMS=22,507\n",
      "d97: DISTANCE ATOMS=22,531\n",
      "d98: DISTANCE ATOMS=22,545\n",
      "d99: DISTANCE ATOMS=22,556\n",
      "d100: DISTANCE ATOMS=44,63\n",
      "d101: DISTANCE ATOMS=44,77\n",
      "d102: DISTANCE ATOMS=44,91\n",
      "d103: DISTANCE ATOMS=44,98\n",
      "d104: DISTANCE ATOMS=44,122\n",
      "d105: DISTANCE ATOMS=44,137\n",
      "d106: DISTANCE ATOMS=44,159\n",
      "d107: DISTANCE ATOMS=44,183\n",
      "d108: DISTANCE ATOMS=44,200\n",
      "d109: DISTANCE ATOMS=44,211\n",
      "d110: DISTANCE ATOMS=44,235\n",
      "d111: DISTANCE ATOMS=44,247\n",
      "d112: DISTANCE ATOMS=44,254\n",
      "d113: DISTANCE ATOMS=44,278\n",
      "d114: DISTANCE ATOMS=44,294\n",
      "d115: DISTANCE ATOMS=44,315\n",
      "d116: DISTANCE ATOMS=44,336\n",
      "d117: DISTANCE ATOMS=44,356\n",
      "d118: DISTANCE ATOMS=44,370\n",
      "d119: DISTANCE ATOMS=44,387\n",
      "d120: DISTANCE ATOMS=44,406\n",
      "d121: DISTANCE ATOMS=44,420\n",
      "d122: DISTANCE ATOMS=44,427\n",
      "d123: DISTANCE ATOMS=44,441\n",
      "d124: DISTANCE ATOMS=44,455\n",
      "d125: DISTANCE ATOMS=44,472\n",
      "d126: DISTANCE ATOMS=44,492\n",
      "d127: DISTANCE ATOMS=44,507\n",
      "d128: DISTANCE ATOMS=44,531\n",
      "d129: DISTANCE ATOMS=44,545\n",
      "d130: DISTANCE ATOMS=44,556\n",
      "d131: DISTANCE ATOMS=63,77\n",
      "d132: DISTANCE ATOMS=63,91\n",
      "d133: DISTANCE ATOMS=63,98\n",
      "d134: DISTANCE ATOMS=63,122\n",
      "d135: DISTANCE ATOMS=63,137\n",
      "d136: DISTANCE ATOMS=63,159\n",
      "d137: DISTANCE ATOMS=63,183\n",
      "d138: DISTANCE ATOMS=63,200\n",
      "d139: DISTANCE ATOMS=63,211\n",
      "d140: DISTANCE ATOMS=63,235\n",
      "d141: DISTANCE ATOMS=63,247\n",
      "d142: DISTANCE ATOMS=63,254\n",
      "d143: DISTANCE ATOMS=63,278\n",
      "d144: DISTANCE ATOMS=63,294\n",
      "d145: DISTANCE ATOMS=63,315\n",
      "d146: DISTANCE ATOMS=63,336\n",
      "d147: DISTANCE ATOMS=63,356\n",
      "d148: DISTANCE ATOMS=63,370\n",
      "d149: DISTANCE ATOMS=63,387\n",
      "d150: DISTANCE ATOMS=63,406\n",
      "d151: DISTANCE ATOMS=63,420\n",
      "d152: DISTANCE ATOMS=63,427\n",
      "d153: DISTANCE ATOMS=63,441\n",
      "d154: DISTANCE ATOMS=63,455\n",
      "d155: DISTANCE ATOMS=63,472\n",
      "d156: DISTANCE ATOMS=63,492\n",
      "d157: DISTANCE ATOMS=63,507\n",
      "d158: DISTANCE ATOMS=63,531\n",
      "d159: DISTANCE ATOMS=63,545\n",
      "d160: DISTANCE ATOMS=63,556\n",
      "d161: DISTANCE ATOMS=77,91\n",
      "d162: DISTANCE ATOMS=77,98\n",
      "d163: DISTANCE ATOMS=77,122\n",
      "d164: DISTANCE ATOMS=77,137\n",
      "d165: DISTANCE ATOMS=77,159\n",
      "d166: DISTANCE ATOMS=77,183\n",
      "d167: DISTANCE ATOMS=77,200\n",
      "d168: DISTANCE ATOMS=77,211\n",
      "d169: DISTANCE ATOMS=77,235\n",
      "d170: DISTANCE ATOMS=77,247\n",
      "d171: DISTANCE ATOMS=77,254\n",
      "d172: DISTANCE ATOMS=77,278\n",
      "d173: DISTANCE ATOMS=77,294\n",
      "d174: DISTANCE ATOMS=77,315\n",
      "d175: DISTANCE ATOMS=77,336\n",
      "d176: DISTANCE ATOMS=77,356\n",
      "d177: DISTANCE ATOMS=77,370\n",
      "d178: DISTANCE ATOMS=77,387\n",
      "d179: DISTANCE ATOMS=77,406\n",
      "d180: DISTANCE ATOMS=77,420\n",
      "d181: DISTANCE ATOMS=77,427\n",
      "d182: DISTANCE ATOMS=77,441\n",
      "d183: DISTANCE ATOMS=77,455\n",
      "d184: DISTANCE ATOMS=77,472\n",
      "d185: DISTANCE ATOMS=77,492\n",
      "d186: DISTANCE ATOMS=77,507\n",
      "d187: DISTANCE ATOMS=77,531\n",
      "d188: DISTANCE ATOMS=77,545\n",
      "d189: DISTANCE ATOMS=77,556\n",
      "d190: DISTANCE ATOMS=91,98\n",
      "d191: DISTANCE ATOMS=91,122\n",
      "d192: DISTANCE ATOMS=91,137\n",
      "d193: DISTANCE ATOMS=91,159\n",
      "d194: DISTANCE ATOMS=91,183\n",
      "d195: DISTANCE ATOMS=91,200\n",
      "d196: DISTANCE ATOMS=91,211\n",
      "d197: DISTANCE ATOMS=91,235\n",
      "d198: DISTANCE ATOMS=91,247\n",
      "d199: DISTANCE ATOMS=91,254\n",
      "d200: DISTANCE ATOMS=91,278\n",
      "d201: DISTANCE ATOMS=91,294\n",
      "d202: DISTANCE ATOMS=91,315\n",
      "d203: DISTANCE ATOMS=91,336\n",
      "d204: DISTANCE ATOMS=91,356\n",
      "d205: DISTANCE ATOMS=91,370\n",
      "d206: DISTANCE ATOMS=91,387\n",
      "d207: DISTANCE ATOMS=91,406\n",
      "d208: DISTANCE ATOMS=91,420\n",
      "d209: DISTANCE ATOMS=91,427\n",
      "d210: DISTANCE ATOMS=91,441\n",
      "d211: DISTANCE ATOMS=91,455\n",
      "d212: DISTANCE ATOMS=91,472\n",
      "d213: DISTANCE ATOMS=91,492\n",
      "d214: DISTANCE ATOMS=91,507\n",
      "d215: DISTANCE ATOMS=91,531\n",
      "d216: DISTANCE ATOMS=91,545\n",
      "d217: DISTANCE ATOMS=91,556\n",
      "d218: DISTANCE ATOMS=98,122\n",
      "d219: DISTANCE ATOMS=98,137\n",
      "d220: DISTANCE ATOMS=98,159\n",
      "d221: DISTANCE ATOMS=98,183\n",
      "d222: DISTANCE ATOMS=98,200\n",
      "d223: DISTANCE ATOMS=98,211\n",
      "d224: DISTANCE ATOMS=98,235\n",
      "d225: DISTANCE ATOMS=98,247\n",
      "d226: DISTANCE ATOMS=98,254\n",
      "d227: DISTANCE ATOMS=98,278\n",
      "d228: DISTANCE ATOMS=98,294\n",
      "d229: DISTANCE ATOMS=98,315\n",
      "d230: DISTANCE ATOMS=98,336\n",
      "d231: DISTANCE ATOMS=98,356\n",
      "d232: DISTANCE ATOMS=98,370\n",
      "d233: DISTANCE ATOMS=98,387\n",
      "d234: DISTANCE ATOMS=98,406\n",
      "d235: DISTANCE ATOMS=98,420\n",
      "d236: DISTANCE ATOMS=98,427\n",
      "d237: DISTANCE ATOMS=98,441\n",
      "d238: DISTANCE ATOMS=98,455\n",
      "d239: DISTANCE ATOMS=98,472\n",
      "d240: DISTANCE ATOMS=98,492\n",
      "d241: DISTANCE ATOMS=98,507\n",
      "d242: DISTANCE ATOMS=98,531\n",
      "d243: DISTANCE ATOMS=98,545\n",
      "d244: DISTANCE ATOMS=98,556\n",
      "d245: DISTANCE ATOMS=122,137\n",
      "d246: DISTANCE ATOMS=122,159\n",
      "d247: DISTANCE ATOMS=122,183\n",
      "d248: DISTANCE ATOMS=122,200\n",
      "d249: DISTANCE ATOMS=122,211\n",
      "d250: DISTANCE ATOMS=122,235\n",
      "d251: DISTANCE ATOMS=122,247\n",
      "d252: DISTANCE ATOMS=122,254\n",
      "d253: DISTANCE ATOMS=122,278\n",
      "d254: DISTANCE ATOMS=122,294\n",
      "d255: DISTANCE ATOMS=122,315\n",
      "d256: DISTANCE ATOMS=122,336\n",
      "d257: DISTANCE ATOMS=122,356\n",
      "d258: DISTANCE ATOMS=122,370\n",
      "d259: DISTANCE ATOMS=122,387\n",
      "d260: DISTANCE ATOMS=122,406\n",
      "d261: DISTANCE ATOMS=122,420\n",
      "d262: DISTANCE ATOMS=122,427\n",
      "d263: DISTANCE ATOMS=122,441\n",
      "d264: DISTANCE ATOMS=122,455\n",
      "d265: DISTANCE ATOMS=122,472\n",
      "d266: DISTANCE ATOMS=122,492\n",
      "d267: DISTANCE ATOMS=122,507\n",
      "d268: DISTANCE ATOMS=122,531\n",
      "d269: DISTANCE ATOMS=122,545\n",
      "d270: DISTANCE ATOMS=122,556\n",
      "d271: DISTANCE ATOMS=137,159\n",
      "d272: DISTANCE ATOMS=137,183\n",
      "d273: DISTANCE ATOMS=137,200\n",
      "d274: DISTANCE ATOMS=137,211\n",
      "d275: DISTANCE ATOMS=137,235\n",
      "d276: DISTANCE ATOMS=137,247\n",
      "d277: DISTANCE ATOMS=137,254\n",
      "d278: DISTANCE ATOMS=137,278\n",
      "d279: DISTANCE ATOMS=137,294\n",
      "d280: DISTANCE ATOMS=137,315\n",
      "d281: DISTANCE ATOMS=137,336\n",
      "d282: DISTANCE ATOMS=137,356\n",
      "d283: DISTANCE ATOMS=137,370\n",
      "d284: DISTANCE ATOMS=137,387\n",
      "d285: DISTANCE ATOMS=137,406\n",
      "d286: DISTANCE ATOMS=137,420\n",
      "d287: DISTANCE ATOMS=137,427\n",
      "d288: DISTANCE ATOMS=137,441\n",
      "d289: DISTANCE ATOMS=137,455\n",
      "d290: DISTANCE ATOMS=137,472\n",
      "d291: DISTANCE ATOMS=137,492\n",
      "d292: DISTANCE ATOMS=137,507\n",
      "d293: DISTANCE ATOMS=137,531\n",
      "d294: DISTANCE ATOMS=137,545\n",
      "d295: DISTANCE ATOMS=137,556\n",
      "d296: DISTANCE ATOMS=159,183\n",
      "d297: DISTANCE ATOMS=159,200\n",
      "d298: DISTANCE ATOMS=159,211\n",
      "d299: DISTANCE ATOMS=159,235\n",
      "d300: DISTANCE ATOMS=159,247\n",
      "d301: DISTANCE ATOMS=159,254\n",
      "d302: DISTANCE ATOMS=159,278\n",
      "d303: DISTANCE ATOMS=159,294\n",
      "d304: DISTANCE ATOMS=159,315\n",
      "d305: DISTANCE ATOMS=159,336\n",
      "d306: DISTANCE ATOMS=159,356\n",
      "d307: DISTANCE ATOMS=159,370\n",
      "d308: DISTANCE ATOMS=159,387\n",
      "d309: DISTANCE ATOMS=159,406\n",
      "d310: DISTANCE ATOMS=159,420\n",
      "d311: DISTANCE ATOMS=159,427\n",
      "d312: DISTANCE ATOMS=159,441\n",
      "d313: DISTANCE ATOMS=159,455\n",
      "d314: DISTANCE ATOMS=159,472\n",
      "d315: DISTANCE ATOMS=159,492\n",
      "d316: DISTANCE ATOMS=159,507\n",
      "d317: DISTANCE ATOMS=159,531\n",
      "d318: DISTANCE ATOMS=159,545\n",
      "d319: DISTANCE ATOMS=159,556\n",
      "d320: DISTANCE ATOMS=183,200\n",
      "d321: DISTANCE ATOMS=183,211\n",
      "d322: DISTANCE ATOMS=183,235\n",
      "d323: DISTANCE ATOMS=183,247\n",
      "d324: DISTANCE ATOMS=183,254\n",
      "d325: DISTANCE ATOMS=183,278\n",
      "d326: DISTANCE ATOMS=183,294\n",
      "d327: DISTANCE ATOMS=183,315\n",
      "d328: DISTANCE ATOMS=183,336\n",
      "d329: DISTANCE ATOMS=183,356\n",
      "d330: DISTANCE ATOMS=183,370\n",
      "d331: DISTANCE ATOMS=183,387\n",
      "d332: DISTANCE ATOMS=183,406\n",
      "d333: DISTANCE ATOMS=183,420\n",
      "d334: DISTANCE ATOMS=183,427\n",
      "d335: DISTANCE ATOMS=183,441\n",
      "d336: DISTANCE ATOMS=183,455\n",
      "d337: DISTANCE ATOMS=183,472\n",
      "d338: DISTANCE ATOMS=183,492\n",
      "d339: DISTANCE ATOMS=183,507\n",
      "d340: DISTANCE ATOMS=183,531\n",
      "d341: DISTANCE ATOMS=183,545\n",
      "d342: DISTANCE ATOMS=183,556\n",
      "d343: DISTANCE ATOMS=200,211\n",
      "d344: DISTANCE ATOMS=200,235\n",
      "d345: DISTANCE ATOMS=200,247\n",
      "d346: DISTANCE ATOMS=200,254\n",
      "d347: DISTANCE ATOMS=200,278\n",
      "d348: DISTANCE ATOMS=200,294\n",
      "d349: DISTANCE ATOMS=200,315\n",
      "d350: DISTANCE ATOMS=200,336\n",
      "d351: DISTANCE ATOMS=200,356\n",
      "d352: DISTANCE ATOMS=200,370\n",
      "d353: DISTANCE ATOMS=200,387\n",
      "d354: DISTANCE ATOMS=200,406\n",
      "d355: DISTANCE ATOMS=200,420\n",
      "d356: DISTANCE ATOMS=200,427\n",
      "d357: DISTANCE ATOMS=200,441\n",
      "d358: DISTANCE ATOMS=200,455\n",
      "d359: DISTANCE ATOMS=200,472\n",
      "d360: DISTANCE ATOMS=200,492\n",
      "d361: DISTANCE ATOMS=200,507\n",
      "d362: DISTANCE ATOMS=200,531\n",
      "d363: DISTANCE ATOMS=200,545\n",
      "d364: DISTANCE ATOMS=200,556\n",
      "d365: DISTANCE ATOMS=211,235\n",
      "d366: DISTANCE ATOMS=211,247\n",
      "d367: DISTANCE ATOMS=211,254\n",
      "d368: DISTANCE ATOMS=211,278\n",
      "d369: DISTANCE ATOMS=211,294\n",
      "d370: DISTANCE ATOMS=211,315\n",
      "d371: DISTANCE ATOMS=211,336\n",
      "d372: DISTANCE ATOMS=211,356\n",
      "d373: DISTANCE ATOMS=211,370\n",
      "d374: DISTANCE ATOMS=211,387\n",
      "d375: DISTANCE ATOMS=211,406\n",
      "d376: DISTANCE ATOMS=211,420\n",
      "d377: DISTANCE ATOMS=211,427\n",
      "d378: DISTANCE ATOMS=211,441\n",
      "d379: DISTANCE ATOMS=211,455\n",
      "d380: DISTANCE ATOMS=211,472\n",
      "d381: DISTANCE ATOMS=211,492\n",
      "d382: DISTANCE ATOMS=211,507\n",
      "d383: DISTANCE ATOMS=211,531\n",
      "d384: DISTANCE ATOMS=211,545\n",
      "d385: DISTANCE ATOMS=211,556\n",
      "d386: DISTANCE ATOMS=235,247\n",
      "d387: DISTANCE ATOMS=235,254\n",
      "d388: DISTANCE ATOMS=235,278\n",
      "d389: DISTANCE ATOMS=235,294\n",
      "d390: DISTANCE ATOMS=235,315\n",
      "d391: DISTANCE ATOMS=235,336\n",
      "d392: DISTANCE ATOMS=235,356\n",
      "d393: DISTANCE ATOMS=235,370\n",
      "d394: DISTANCE ATOMS=235,387\n",
      "d395: DISTANCE ATOMS=235,406\n",
      "d396: DISTANCE ATOMS=235,420\n",
      "d397: DISTANCE ATOMS=235,427\n",
      "d398: DISTANCE ATOMS=235,441\n",
      "d399: DISTANCE ATOMS=235,455\n",
      "d400: DISTANCE ATOMS=235,472\n",
      "d401: DISTANCE ATOMS=235,492\n",
      "d402: DISTANCE ATOMS=235,507\n",
      "d403: DISTANCE ATOMS=235,531\n",
      "d404: DISTANCE ATOMS=235,545\n",
      "d405: DISTANCE ATOMS=235,556\n",
      "d406: DISTANCE ATOMS=247,254\n",
      "d407: DISTANCE ATOMS=247,278\n",
      "d408: DISTANCE ATOMS=247,294\n",
      "d409: DISTANCE ATOMS=247,315\n",
      "d410: DISTANCE ATOMS=247,336\n",
      "d411: DISTANCE ATOMS=247,356\n",
      "d412: DISTANCE ATOMS=247,370\n",
      "d413: DISTANCE ATOMS=247,387\n",
      "d414: DISTANCE ATOMS=247,406\n",
      "d415: DISTANCE ATOMS=247,420\n",
      "d416: DISTANCE ATOMS=247,427\n",
      "d417: DISTANCE ATOMS=247,441\n",
      "d418: DISTANCE ATOMS=247,455\n",
      "d419: DISTANCE ATOMS=247,472\n",
      "d420: DISTANCE ATOMS=247,492\n",
      "d421: DISTANCE ATOMS=247,507\n",
      "d422: DISTANCE ATOMS=247,531\n",
      "d423: DISTANCE ATOMS=247,545\n",
      "d424: DISTANCE ATOMS=247,556\n",
      "d425: DISTANCE ATOMS=254,278\n",
      "d426: DISTANCE ATOMS=254,294\n",
      "d427: DISTANCE ATOMS=254,315\n",
      "d428: DISTANCE ATOMS=254,336\n",
      "d429: DISTANCE ATOMS=254,356\n",
      "d430: DISTANCE ATOMS=254,370\n",
      "d431: DISTANCE ATOMS=254,387\n",
      "d432: DISTANCE ATOMS=254,406\n",
      "d433: DISTANCE ATOMS=254,420\n",
      "d434: DISTANCE ATOMS=254,427\n",
      "d435: DISTANCE ATOMS=254,441\n",
      "d436: DISTANCE ATOMS=254,455\n",
      "d437: DISTANCE ATOMS=254,472\n",
      "d438: DISTANCE ATOMS=254,492\n",
      "d439: DISTANCE ATOMS=254,507\n",
      "d440: DISTANCE ATOMS=254,531\n",
      "d441: DISTANCE ATOMS=254,545\n",
      "d442: DISTANCE ATOMS=254,556\n",
      "d443: DISTANCE ATOMS=278,294\n",
      "d444: DISTANCE ATOMS=278,315\n",
      "d445: DISTANCE ATOMS=278,336\n",
      "d446: DISTANCE ATOMS=278,356\n",
      "d447: DISTANCE ATOMS=278,370\n",
      "d448: DISTANCE ATOMS=278,387\n",
      "d449: DISTANCE ATOMS=278,406\n",
      "d450: DISTANCE ATOMS=278,420\n",
      "d451: DISTANCE ATOMS=278,427\n",
      "d452: DISTANCE ATOMS=278,441\n",
      "d453: DISTANCE ATOMS=278,455\n",
      "d454: DISTANCE ATOMS=278,472\n",
      "d455: DISTANCE ATOMS=278,492\n",
      "d456: DISTANCE ATOMS=278,507\n",
      "d457: DISTANCE ATOMS=278,531\n",
      "d458: DISTANCE ATOMS=278,545\n",
      "d459: DISTANCE ATOMS=278,556\n",
      "d460: DISTANCE ATOMS=294,315\n",
      "d461: DISTANCE ATOMS=294,336\n",
      "d462: DISTANCE ATOMS=294,356\n",
      "d463: DISTANCE ATOMS=294,370\n",
      "d464: DISTANCE ATOMS=294,387\n",
      "d465: DISTANCE ATOMS=294,406\n",
      "d466: DISTANCE ATOMS=294,420\n",
      "d467: DISTANCE ATOMS=294,427\n",
      "d468: DISTANCE ATOMS=294,441\n",
      "d469: DISTANCE ATOMS=294,455\n",
      "d470: DISTANCE ATOMS=294,472\n",
      "d471: DISTANCE ATOMS=294,492\n",
      "d472: DISTANCE ATOMS=294,507\n",
      "d473: DISTANCE ATOMS=294,531\n",
      "d474: DISTANCE ATOMS=294,545\n",
      "d475: DISTANCE ATOMS=294,556\n",
      "d476: DISTANCE ATOMS=315,336\n",
      "d477: DISTANCE ATOMS=315,356\n",
      "d478: DISTANCE ATOMS=315,370\n",
      "d479: DISTANCE ATOMS=315,387\n",
      "d480: DISTANCE ATOMS=315,406\n",
      "d481: DISTANCE ATOMS=315,420\n",
      "d482: DISTANCE ATOMS=315,427\n",
      "d483: DISTANCE ATOMS=315,441\n",
      "d484: DISTANCE ATOMS=315,455\n",
      "d485: DISTANCE ATOMS=315,472\n",
      "d486: DISTANCE ATOMS=315,492\n",
      "d487: DISTANCE ATOMS=315,507\n",
      "d488: DISTANCE ATOMS=315,531\n",
      "d489: DISTANCE ATOMS=315,545\n",
      "d490: DISTANCE ATOMS=315,556\n",
      "d491: DISTANCE ATOMS=336,356\n",
      "d492: DISTANCE ATOMS=336,370\n",
      "d493: DISTANCE ATOMS=336,387\n",
      "d494: DISTANCE ATOMS=336,406\n",
      "d495: DISTANCE ATOMS=336,420\n",
      "d496: DISTANCE ATOMS=336,427\n",
      "d497: DISTANCE ATOMS=336,441\n",
      "d498: DISTANCE ATOMS=336,455\n",
      "d499: DISTANCE ATOMS=336,472\n",
      "d500: DISTANCE ATOMS=336,492\n",
      "d501: DISTANCE ATOMS=336,507\n",
      "d502: DISTANCE ATOMS=336,531\n",
      "d503: DISTANCE ATOMS=336,545\n",
      "d504: DISTANCE ATOMS=336,556\n",
      "d505: DISTANCE ATOMS=356,370\n",
      "d506: DISTANCE ATOMS=356,387\n",
      "d507: DISTANCE ATOMS=356,406\n",
      "d508: DISTANCE ATOMS=356,420\n",
      "d509: DISTANCE ATOMS=356,427\n",
      "d510: DISTANCE ATOMS=356,441\n",
      "d511: DISTANCE ATOMS=356,455\n",
      "d512: DISTANCE ATOMS=356,472\n",
      "d513: DISTANCE ATOMS=356,492\n",
      "d514: DISTANCE ATOMS=356,507\n",
      "d515: DISTANCE ATOMS=356,531\n",
      "d516: DISTANCE ATOMS=356,545\n",
      "d517: DISTANCE ATOMS=356,556\n",
      "d518: DISTANCE ATOMS=370,387\n",
      "d519: DISTANCE ATOMS=370,406\n",
      "d520: DISTANCE ATOMS=370,420\n",
      "d521: DISTANCE ATOMS=370,427\n",
      "d522: DISTANCE ATOMS=370,441\n",
      "d523: DISTANCE ATOMS=370,455\n",
      "d524: DISTANCE ATOMS=370,472\n",
      "d525: DISTANCE ATOMS=370,492\n",
      "d526: DISTANCE ATOMS=370,507\n",
      "d527: DISTANCE ATOMS=370,531\n",
      "d528: DISTANCE ATOMS=370,545\n",
      "d529: DISTANCE ATOMS=370,556\n",
      "d530: DISTANCE ATOMS=387,406\n",
      "d531: DISTANCE ATOMS=387,420\n",
      "d532: DISTANCE ATOMS=387,427\n",
      "d533: DISTANCE ATOMS=387,441\n",
      "d534: DISTANCE ATOMS=387,455\n",
      "d535: DISTANCE ATOMS=387,472\n",
      "d536: DISTANCE ATOMS=387,492\n",
      "d537: DISTANCE ATOMS=387,507\n",
      "d538: DISTANCE ATOMS=387,531\n",
      "d539: DISTANCE ATOMS=387,545\n",
      "d540: DISTANCE ATOMS=387,556\n",
      "d541: DISTANCE ATOMS=406,420\n",
      "d542: DISTANCE ATOMS=406,427\n",
      "d543: DISTANCE ATOMS=406,441\n",
      "d544: DISTANCE ATOMS=406,455\n",
      "d545: DISTANCE ATOMS=406,472\n",
      "d546: DISTANCE ATOMS=406,492\n",
      "d547: DISTANCE ATOMS=406,507\n",
      "d548: DISTANCE ATOMS=406,531\n",
      "d549: DISTANCE ATOMS=406,545\n",
      "d550: DISTANCE ATOMS=406,556\n",
      "d551: DISTANCE ATOMS=420,427\n",
      "d552: DISTANCE ATOMS=420,441\n",
      "d553: DISTANCE ATOMS=420,455\n",
      "d554: DISTANCE ATOMS=420,472\n",
      "d555: DISTANCE ATOMS=420,492\n",
      "d556: DISTANCE ATOMS=420,507\n",
      "d557: DISTANCE ATOMS=420,531\n",
      "d558: DISTANCE ATOMS=420,545\n",
      "d559: DISTANCE ATOMS=420,556\n",
      "d560: DISTANCE ATOMS=427,441\n",
      "d561: DISTANCE ATOMS=427,455\n",
      "d562: DISTANCE ATOMS=427,472\n",
      "d563: DISTANCE ATOMS=427,492\n",
      "d564: DISTANCE ATOMS=427,507\n",
      "d565: DISTANCE ATOMS=427,531\n",
      "d566: DISTANCE ATOMS=427,545\n",
      "d567: DISTANCE ATOMS=427,556\n",
      "d568: DISTANCE ATOMS=441,455\n",
      "d569: DISTANCE ATOMS=441,472\n",
      "d570: DISTANCE ATOMS=441,492\n",
      "d571: DISTANCE ATOMS=441,507\n",
      "d572: DISTANCE ATOMS=441,531\n",
      "d573: DISTANCE ATOMS=441,545\n",
      "d574: DISTANCE ATOMS=441,556\n",
      "d575: DISTANCE ATOMS=455,472\n",
      "d576: DISTANCE ATOMS=455,492\n",
      "d577: DISTANCE ATOMS=455,507\n",
      "d578: DISTANCE ATOMS=455,531\n",
      "d579: DISTANCE ATOMS=455,545\n",
      "d580: DISTANCE ATOMS=455,556\n",
      "d581: DISTANCE ATOMS=472,492\n",
      "d582: DISTANCE ATOMS=472,507\n",
      "d583: DISTANCE ATOMS=472,531\n",
      "d584: DISTANCE ATOMS=472,545\n",
      "d585: DISTANCE ATOMS=472,556\n",
      "d586: DISTANCE ATOMS=492,507\n",
      "d587: DISTANCE ATOMS=492,531\n",
      "d588: DISTANCE ATOMS=492,545\n",
      "d589: DISTANCE ATOMS=492,556\n",
      "d590: DISTANCE ATOMS=507,531\n",
      "d591: DISTANCE ATOMS=507,545\n",
      "d592: DISTANCE ATOMS=507,556\n",
      "d593: DISTANCE ATOMS=531,545\n",
      "d594: DISTANCE ATOMS=531,556\n",
      "d595: DISTANCE ATOMS=545,556\n",
      "ARG=d1,d2,d3,d4,d5,d6,d7,d8,d9,d10,d11,d12,d13,d14,d15,d16,d17,d18,d19,d20,d21,d22,d23,d24,d25,d26,d27,d28,d29,d30,d31,d32,d33,d34,d35,d36,d37,d38,d39,d40,d41,d42,d43,d44,d45,d46,d47,d48,d49,d50,d51,d52,d53,d54,d55,d56,d57,d58,d59,d60,d61,d62,d63,d64,d65,d66,d67,d68,d69,d70,d71,d72,d73,d74,d75,d76,d77,d78,d79,d80,d81,d82,d83,d84,d85,d86,d87,d88,d89,d90,d91,d92,d93,d94,d95,d96,d97,d98,d99,d100,d101,d102,d103,d104,d105,d106,d107,d108,d109,d110,d111,d112,d113,d114,d115,d116,d117,d118,d119,d120,d121,d122,d123,d124,d125,d126,d127,d128,d129,d130,d131,d132,d133,d134,d135,d136,d137,d138,d139,d140,d141,d142,d143,d144,d145,d146,d147,d148,d149,d150,d151,d152,d153,d154,d155,d156,d157,d158,d159,d160,d161,d162,d163,d164,d165,d166,d167,d168,d169,d170,d171,d172,d173,d174,d175,d176,d177,d178,d179,d180,d181,d182,d183,d184,d185,d186,d187,d188,d189,d190,d191,d192,d193,d194,d195,d196,d197,d198,d199,d200,d201,d202,d203,d204,d205,d206,d207,d208,d209,d210,d211,d212,d213,d214,d215,d216,d217,d218,d219,d220,d221,d222,d223,d224,d225,d226,d227,d228,d229,d230,d231,d232,d233,d234,d235,d236,d237,d238,d239,d240,d241,d242,d243,d244,d245,d246,d247,d248,d249,d250,d251,d252,d253,d254,d255,d256,d257,d258,d259,d260,d261,d262,d263,d264,d265,d266,d267,d268,d269,d270,d271,d272,d273,d274,d275,d276,d277,d278,d279,d280,d281,d282,d283,d284,d285,d286,d287,d288,d289,d290,d291,d292,d293,d294,d295,d296,d297,d298,d299,d300,d301,d302,d303,d304,d305,d306,d307,d308,d309,d310,d311,d312,d313,d314,d315,d316,d317,d318,d319,d320,d321,d322,d323,d324,d325,d326,d327,d328,d329,d330,d331,d332,d333,d334,d335,d336,d337,d338,d339,d340,d341,d342,d343,d344,d345,d346,d347,d348,d349,d350,d351,d352,d353,d354,d355,d356,d357,d358,d359,d360,d361,d362,d363,d364,d365,d366,d367,d368,d369,d370,d371,d372,d373,d374,d375,d376,d377,d378,d379,d380,d381,d382,d383,d384,d385,d386,d387,d388,d389,d390,d391,d392,d393,d394,d395,d396,d397,d398,d399,d400,d401,d402,d403,d404,d405,d406,d407,d408,d409,d410,d411,d412,d413,d414,d415,d416,d417,d418,d419,d420,d421,d422,d423,d424,d425,d426,d427,d428,d429,d430,d431,d432,d433,d434,d435,d436,d437,d438,d439,d440,d441,d442,d443,d444,d445,d446,d447,d448,d449,d450,d451,d452,d453,d454,d455,d456,d457,d458,d459,d460,d461,d462,d463,d464,d465,d466,d467,d468,d469,d470,d471,d472,d473,d474,d475,d476,d477,d478,d479,d480,d481,d482,d483,d484,d485,d486,d487,d488,d489,d490,d491,d492,d493,d494,d495,d496,d497,d498,d499,d500,d501,d502,d503,d504,d505,d506,d507,d508,d509,d510,d511,d512,d513,d514,d515,d516,d517,d518,d519,d520,d521,d522,d523,d524,d525,d526,d527,d528,d529,d530,d531,d532,d533,d534,d535,d536,d537,d538,d539,d540,d541,d542,d543,d544,d545,d546,d547,d548,d549,d550,d551,d552,d553,d554,d555,d556,d557,d558,d559,d560,d561,d562,d563,d564,d565,d566,d567,d568,d569,d570,d571,d572,d573,d574,d575,d576,d577,d578,d579,d580,d581,d582,d583,d584,d585,d586,d587,d588,d589,d590,d591,d592,d593,d594,d595,d596\n"
     ]
    }
   ],
   "source": [
    "# CA atom index\n",
    "ca_atoms = [atom for atom in pdb_traj.topology.atoms if atom.name == \"CA\"]\n",
    "ca_indices = [atom.index for atom in ca_atoms]\n",
    "\n",
    "cnt = 1\n",
    "for i in range(len(ca_indices)):\n",
    "    for j in range(i+1, len(ca_indices)):\n",
    "        print(f\"d{cnt}: DISTANCE ATOMS={ca_indices[i]+1},{ca_indices[j]+1}\")\n",
    "        cnt += 1\n",
    "\n",
    "print(\"ARG=\" + \",\".join(f\"d{i+1}\" for i in range(cnt)))"
   ]
  },
  {
   "cell_type": "markdown",
   "metadata": {},
   "source": [
    "# Visualization"
   ]
  },
  {
   "cell_type": "code",
   "execution_count": 5,
   "metadata": {},
   "outputs": [
    {
     "name": "stdout",
     "output_type": "stream",
     "text": [
      "<mdtraj.Trajectory with 1 frames, 562 atoms, 35 residues, and unitcells>\n"
     ]
    },
    {
     "data": {
      "application/vnd.jupyter.widget-view+json": {
       "model_id": "5226c8847d974d98b16b866649a68c68",
       "version_major": 2,
       "version_minor": 0
      },
      "text/plain": [
       "NGLWidget()"
      ]
     },
     "metadata": {},
     "output_type": "display_data"
    }
   ],
   "source": [
    "# PDB\n",
    "pdb_traj = md.load_pdb(pdb_path)\n",
    "pdb_view = nv.show_mdtraj(\n",
    "    pdb_traj,\n",
    "    height=\"400px\",\n",
    "    width=\"400px\"\n",
    ")\n",
    "pdb_view.add_representation(\"licorice\", selection=\"protein\")\n",
    "\n",
    "print(pdb_traj)\n",
    "pdb_view"
   ]
  },
  {
   "cell_type": "code",
   "execution_count": 6,
   "metadata": {},
   "outputs": [
    {
     "name": "stdout",
     "output_type": "stream",
     "text": [
      "Found 244 .dcd files in /home/shpark/prj-mlcv/lib/DESRES/DESRES-Trajectory_GTT-0-protein/GTT-0-protein\n",
      "Pattern used: /home/shpark/prj-mlcv/lib/DESRES/DESRES-Trajectory_GTT-0-protein/GTT-0-protein/GTT-0-protein-*-aligned.dcd\n",
      "File indices range: 0 to 243\n",
      "Total files to load: 244\n"
     ]
    }
   ],
   "source": [
    "# Check .dcd files in the simulation directory\n",
    "dcd_pattern = f\"{base_dir}/{molecule}-{simulation_idx}-protein-*-aligned.dcd\"\n",
    "dcd_files = glob.glob(dcd_pattern)\n",
    "num_files = len(dcd_files)\n",
    "print(f\"Found {num_files} .dcd files in {base_dir}\")\n",
    "print(f\"Pattern used: {dcd_pattern}\")\n",
    "\n",
    "file_indices = []\n",
    "for file_path in dcd_files:\n",
    "    filename = os.path.basename(file_path)\n",
    "    index_part = filename.split('-')[-2].replace('.dcd', '')\n",
    "    if index_part.isdigit():\n",
    "        file_indices.append(int(index_part))\n",
    "\n",
    "file_indices.sort()\n",
    "print(f\"File indices range: {min(file_indices)} to {max(file_indices)}\")\n",
    "print(f\"Total files to load: {len(file_indices)}\")"
   ]
  },
  {
   "cell_type": "code",
   "execution_count": 7,
   "metadata": {},
   "outputs": [
    {
     "name": "stderr",
     "output_type": "stream",
     "text": [
      "Loading trajectories: 100%|██████████| 244/244 [00:16<00:00, 14.58it/s]\n"
     ]
    },
    {
     "name": "stdout",
     "output_type": "stream",
     "text": [
      "Successfully loaded 244 trajectory files\n"
     ]
    }
   ],
   "source": [
    "# Load trajectories \n",
    "traj_list = []\n",
    "for i in tqdm(\n",
    "    file_indices,\n",
    "    desc=\"Loading trajectories\"\n",
    "):\n",
    "    file_idx = f\"{i:03d}\"\n",
    "    file_path = f\"{base_dir}/{molecule}-{simulation_idx}-protein-{file_idx}-aligned.dcd\"\n",
    "    if os.path.exists(file_path):\n",
    "        traj = md.load_dcd(file_path, top=pdb_path)\n",
    "        traj_list.append(traj)\n",
    "    else:\n",
    "        print(f\"Warning: File not found: {file_path}\")\n",
    "\n",
    "print(f\"Successfully loaded {len(traj_list)} trajectory files\")\n",
    "all_traj = md.join(traj_list)"
   ]
  },
  {
   "cell_type": "code",
   "execution_count": 43,
   "metadata": {},
   "outputs": [
    {
     "name": "stdout",
     "output_type": "stream",
     "text": [
      "<mdtraj.Trajectory with 2432586 frames, 562 atoms, 35 residues, and unitcells>\n",
      "Total frames: 2432586\n"
     ]
    },
    {
     "data": {
      "application/vnd.jupyter.widget-view+json": {
       "model_id": "43e14ff02d5246e0a706a1d33fb7ec9c",
       "version_major": 2,
       "version_minor": 0
      },
      "text/plain": [
       "NGLWidget(max_frame=2432585)"
      ]
     },
     "metadata": {},
     "output_type": "display_data"
    }
   ],
   "source": [
    "all_traj.center_coordinates()\n",
    "print(all_traj)\n",
    "view = nv.show_mdtraj(\n",
    "    all_traj,\n",
    "\theight=\"400px\",\n",
    "    width=\"400px\"\n",
    ")\n",
    "view.add_representation(\"licorice\", selection=\"protein\")\n",
    "print(f\"Total frames: {all_traj.n_frames}\")\n",
    "view"
   ]
  },
  {
   "cell_type": "code",
   "execution_count": 62,
   "metadata": {},
   "outputs": [],
   "source": [
    "view.frame = 924382"
   ]
  },
  {
   "cell_type": "code",
   "execution_count": null,
   "metadata": {},
   "outputs": [
    {
     "name": "stdout",
     "output_type": "stream",
     "text": [
      "<mdtraj.Trajectory with 10000 frames, 562 atoms, 38 residues, and unitcells>\n"
     ]
    },
    {
     "data": {
      "application/vnd.jupyter.widget-view+json": {
       "model_id": "5561e9e8674c4753b872eb190e7ab79b",
       "version_major": 2,
       "version_minor": 0
      },
      "text/plain": [
       "NGLWidget(max_frame=9999)"
      ]
     },
     "metadata": {},
     "output_type": "display_data"
    }
   ],
   "source": [
    "file_idx = \"000\"\n",
    "file_path = f\"{base_dir}/{molecule}-{simulation_idx}-protein-{file_idx}.dcd\"\n",
    "test_pdb_path = f\"/home/shpark/prj-mlcv/lib/DESRES/data/{molecule}/{molecule}.pdb\"\n",
    "test_traj = md.load_dcd(file_path, top=test_pdb_path)\n",
    "print(test_traj)\n",
    "\n",
    "test_view = nv.show_mdtraj(\n",
    "    test_traj,\n",
    "    height=\"400px\",\n",
    "    width=\"400px\"\n",
    ")\n",
    "test_view.add_representation(\"licorice\", selection=\"protein\")\n",
    "test_view\n"
   ]
  },
  {
   "cell_type": "code",
   "execution_count": 45,
   "metadata": {},
   "outputs": [],
   "source": [
    "test_view.frame = 189468"
   ]
  },
  {
   "cell_type": "markdown",
   "metadata": {},
   "source": [
    "# Descriptors"
   ]
  },
  {
   "cell_type": "code",
   "execution_count": 7,
   "metadata": {},
   "outputs": [
    {
     "name": "stdout",
     "output_type": "stream",
     "text": [
      "(2432586, 595)\n",
      "1.3621553\n"
     ]
    }
   ],
   "source": [
    "pdb_traj = md.load(pdb_path)\n",
    "ca_resid_pair = np.array(\n",
    "\t[(a.index, b.index) for a, b in combinations(list(pdb_traj.topology.residues), 2)]\n",
    ")\n",
    "\n",
    "# ca_pair_contacts, resid_pairs = md.compute_contacts(\n",
    "# \tall_traj, scheme=\"ca\", contacts=ca_resid_pair, periodic=False\n",
    "# )\n",
    "# torch.save(\n",
    "#     torch.from_numpy(ca_pair_contacts),\n",
    "#     f\"../DESRES-Trajectory_{molecule}-{simulation_idx}-protein/{molecule}-{simulation_idx}-cad.pt\"\n",
    "# )\n",
    "\n",
    "ca_pair_contacts = torch.load(\n",
    "\tf\"../DESRES-Trajectory_{molecule}-{simulation_idx}-protein/{molecule}-{simulation_idx}-cad.pt\"\n",
    ").numpy()\n",
    "print(ca_pair_contacts.shape)\n",
    "print(ca_pair_contacts.mean())"
   ]
  },
  {
   "cell_type": "code",
   "execution_count": 8,
   "metadata": {},
   "outputs": [
    {
     "name": "stdout",
     "output_type": "stream",
     "text": [
      "(2432586, 595)\n",
      "1.0\n"
     ]
    }
   ],
   "source": [
    "# exp = 2\n",
    "# ca_pair_distances_swtich = (1 - (np.power(ca_pair_contacts, exp) / 0.8)) / (1 - (np.power(ca_pair_contacts, exp) / 0.8))\n",
    "# torch.save(\n",
    "#     torch.from_numpy(ca_pair_distances_swtich),\n",
    "#     f\"../DESRES-Trajectory_{molecule}-{simulation_idx}-protein/{molecule}-{simulation_idx}-cad-switch.pt\"\n",
    "# )\n",
    "\n",
    "ca_pair_distances_swtich = torch.load(\n",
    "\tf\"../DESRES-Trajectory_{molecule}-{simulation_idx}-protein/{molecule}-{simulation_idx}-cad-switch.pt\"\n",
    ").numpy()\n",
    "print(ca_pair_distances_swtich.shape)\n",
    "print(ca_pair_distances_swtich.mean())"
   ]
  },
  {
   "cell_type": "code",
   "execution_count": 9,
   "metadata": {},
   "outputs": [
    {
     "name": "stdout",
     "output_type": "stream",
     "text": [
      "(2432586, 562, 3)\n"
     ]
    }
   ],
   "source": [
    "# xyz = all_traj.xyz\n",
    "# torch.save(\n",
    "#     torch.from_numpy(xyz),\n",
    "#     f\"../DESRES-Trajectory_{molecule}-{simulation_idx}-protein/{molecule}-{simulation_idx}-pos.pt\"\n",
    "# )\n",
    "\n",
    "xyz = torch.load(f\"../DESRES-Trajectory_{molecule}-{simulation_idx}-protein/{molecule}-{simulation_idx}-pos.pt\").numpy()\n",
    "print(xyz.shape)"
   ]
  },
  {
   "cell_type": "markdown",
   "metadata": {},
   "source": [
    "# TICA"
   ]
  },
  {
   "cell_type": "code",
   "execution_count": 27,
   "metadata": {},
   "outputs": [],
   "source": [
    "def cad2switch(\n",
    "    cad,\n",
    "    cutoff: float = 0.8\n",
    ") -> np.ndarray:\n",
    "\tif type(cad) == torch.Tensor:\n",
    "\t\tcad = cad.numpy()\n",
    "\treturn (1 - np.power(cad / cutoff, 6)) / (1 - np.power(cad / cutoff, 12))"
   ]
  },
  {
   "cell_type": "code",
   "execution_count": 28,
   "metadata": {},
   "outputs": [
    {
     "name": "stderr",
     "output_type": "stream",
     "text": [
      "/home/shpark/.conda/envs/bioemu/lib/python3.10/site-packages/decorator.py:235: PyEMMA_DeprecationWarning: Call to deprecated function \"tica\". Called from /home/shpark/.conda/envs/bioemu/lib/python3.10/site-packages/decorator.py line 235. Use deeptime.decomposition.TICA instead.\n",
      "  return caller(func, *(extras + args), **kw)\n"
     ]
    },
    {
     "data": {
      "application/vnd.jupyter.widget-view+json": {
       "model_id": "abd7b00fd5de42d981de80730a323052",
       "version_major": 2,
       "version_minor": 0
      },
      "text/plain": [
       "calculate covariances:   0%|          | 0/22 [00:00<?, ?it/s]"
      ]
     },
     "metadata": {},
     "output_type": "display_data"
    },
    {
     "data": {
      "application/vnd.jupyter.widget-view+json": {
       "model_id": "7c4f6684efd34efaa28be1f7f0265f12",
       "version_major": 2,
       "version_minor": 0
      },
      "text/plain": [
       "getting output of TICA:   0%|          | 0/22 [00:00<?, ?it/s]"
      ]
     },
     "metadata": {},
     "output_type": "display_data"
    },
    {
     "data": {
      "image/png": "[encoded data removed]",
      "text/plain": [
       "<Figure size 600x600 with 1 Axes>"
      ]
     },
     "metadata": {},
     "output_type": "display_data"
    },
    {
     "name": "stderr",
     "output_type": "stream",
     "text": [
      "/home/shpark/.conda/envs/bioemu/lib/python3.10/site-packages/decorator.py:235: PyEMMA_DeprecationWarning: Call to deprecated function \"tica\". Called from /home/shpark/.conda/envs/bioemu/lib/python3.10/site-packages/decorator.py line 235. Use deeptime.decomposition.TICA instead.\n",
      "  return caller(func, *(extras + args), **kw)\n"
     ]
    },
    {
     "data": {
      "application/vnd.jupyter.widget-view+json": {
       "model_id": "f99006d66f38493b84d7bad86c676dd5",
       "version_major": 2,
       "version_minor": 0
      },
      "text/plain": [
       "calculate covariances:   0%|          | 0/22 [00:00<?, ?it/s]"
      ]
     },
     "metadata": {},
     "output_type": "display_data"
    },
    {
     "data": {
      "application/vnd.jupyter.widget-view+json": {
       "model_id": "f660d03bbb9843768e499b5aabb96f3e",
       "version_major": 2,
       "version_minor": 0
      },
      "text/plain": [
       "getting output of TICA:   0%|          | 0/22 [00:00<?, ?it/s]"
      ]
     },
     "metadata": {},
     "output_type": "display_data"
    },
    {
     "data": {
      "image/png": "[encoded data removed]",
      "text/plain": [
       "<Figure size 600x600 with 1 Axes>"
      ]
     },
     "metadata": {},
     "output_type": "display_data"
    },
    {
     "name": "stderr",
     "output_type": "stream",
     "text": [
      "/home/shpark/.conda/envs/bioemu/lib/python3.10/site-packages/decorator.py:235: PyEMMA_DeprecationWarning: Call to deprecated function \"tica\". Called from /home/shpark/.conda/envs/bioemu/lib/python3.10/site-packages/decorator.py line 235. Use deeptime.decomposition.TICA instead.\n",
      "  return caller(func, *(extras + args), **kw)\n"
     ]
    },
    {
     "data": {
      "application/vnd.jupyter.widget-view+json": {
       "model_id": "0732c58530ba48ff9501ec7c77d711b0",
       "version_major": 2,
       "version_minor": 0
      },
      "text/plain": [
       "calculate covariances:   0%|          | 0/22 [00:00<?, ?it/s]"
      ]
     },
     "metadata": {},
     "output_type": "display_data"
    },
    {
     "data": {
      "application/vnd.jupyter.widget-view+json": {
       "model_id": "681f5e1402d348e48cfdcebc7cbcaace",
       "version_major": 2,
       "version_minor": 0
      },
      "text/plain": [
       "getting output of TICA:   0%|          | 0/22 [00:00<?, ?it/s]"
      ]
     },
     "metadata": {},
     "output_type": "display_data"
    },
    {
     "data": {
      "image/png": "[encoded data removed]",
      "text/plain": [
       "<Figure size 600x600 with 1 Axes>"
      ]
     },
     "metadata": {},
     "output_type": "display_data"
    }
   ],
   "source": [
    "# TICA with pair distances\n",
    "pdb_state = md.load(pdb_path)\n",
    "pdb_state_ca_pair_distances, pdb_resid_pairs = md.compute_contacts(pdb_state, scheme=\"ca\", contacts=ca_resid_pair, periodic=False)\n",
    "\n",
    "for lag in (10, 100, 1000):\n",
    "\ttica_coord_path = f\"../data/{molecule}/{molecule}_tica_coord_lag{lag}.npy\"\n",
    "\tif os.path.exists(tica_coord_path):\n",
    "\t\ttica_data = np.load(tica_coord_path)\n",
    "\telse:\n",
    "\t\ttica_obj = pyemma.coordinates.tica(ca_pair_contacts, lag=lag, dim=2)\n",
    "\t\ttica_data = tica_obj.get_output()[0]\n",
    "\t\tnp.save(tica_coord_path, tica_data)\n",
    "\tx = tica_data[:, 0]\n",
    "\ty = tica_data[:, 1]\n",
    "\n",
    "\tpdb_tica_data = tica_obj.transform(pdb_state_ca_pair_distances)\n",
    "\tpdb_tica_x = pdb_tica_data[:, 0]\n",
    "\tpdb_tica_y = pdb_tica_data[:, 1]\n",
    "\n",
    "\t# Plot\n",
    "\tfig = plt.figure(figsize=(6, 6))\n",
    "\tax = fig.add_subplot(111)\n",
    "\tax.hist2d(x, y, bins=100, norm=LogNorm())\n",
    "\tax.scatter(pdb_tica_x, pdb_tica_y, color=\"red\", s=100)\n",
    "\tax.set_xlabel(\"TIC 1\")\n",
    "\tax.set_ylabel(\"TIC 2\")\n",
    "\tplt.title(f\"TICA with pair distances, lag={lag}\")\n",
    "\tplt.savefig(f'../data/{molecule}/{molecule}_tica_model_lag{lag}.png')\n",
    "\tplt.show()\n",
    "\tplt.close()\n",
    "\n",
    "\twith open(f'../data/{molecule}/{molecule}_tica_model_lag{lag}.pkl', 'wb') as f:\n",
    "\t\tpickle.dump(tica_obj, f)"
   ]
  },
  {
   "cell_type": "code",
   "execution_count": null,
   "metadata": {},
   "outputs": [
    {
     "name": "stderr",
     "output_type": "stream",
     "text": [
      "/tmp/ipykernel_780512/1269659341.py:7: RuntimeWarning: invalid value encountered in divide\n",
      "  return (1 - np.power(cad / cutoff, 6)) / (1 - np.power(cad / cutoff, 12))\n",
      "/home/shpark/.conda/envs/bioemu/lib/python3.10/site-packages/decorator.py:235: PyEMMA_DeprecationWarning: Call to deprecated function \"tica\". Called from /home/shpark/.conda/envs/bioemu/lib/python3.10/site-packages/decorator.py line 235. Use deeptime.decomposition.TICA instead.\n",
      "  return caller(func, *(extras + args), **kw)\n"
     ]
    },
    {
     "data": {
      "application/vnd.jupyter.widget-view+json": {
       "model_id": "fe068e30a0254578b820ac25516380ea",
       "version_major": 2,
       "version_minor": 0
      },
      "text/plain": [
       "calculate covariances:   0%|          | 0/22 [00:00<?, ?it/s]"
      ]
     },
     "metadata": {},
     "output_type": "display_data"
    },
    {
     "ename": "InvalidDataInStreamException",
     "evalue": "Found invalid values in chunk in trajectory index 0 at chunk [112798, 225586] within frames (array([ 35921, 110250]), array([416, 128])).",
     "output_type": "error",
     "traceback": [
      "\u001b[0;31m---------------------------------------------------------------------------\u001b[0m",
      "\u001b[0;31mInvalidDataInStreamException\u001b[0m              Traceback (most recent call last)",
      "Cell \u001b[0;32mIn[29], line 8\u001b[0m\n\u001b[1;32m      5\u001b[0m data_switch \u001b[38;5;241m=\u001b[39m cad2switch(ca_pair_contacts)\n\u001b[1;32m      7\u001b[0m \u001b[38;5;28;01mfor\u001b[39;00m lag \u001b[38;5;129;01min\u001b[39;00m (\u001b[38;5;241m10\u001b[39m, \u001b[38;5;241m100\u001b[39m, \u001b[38;5;241m1000\u001b[39m):\n\u001b[0;32m----> 8\u001b[0m \ttica_obj \u001b[38;5;241m=\u001b[39m \u001b[43mpyemma\u001b[49m\u001b[38;5;241;43m.\u001b[39;49m\u001b[43mcoordinates\u001b[49m\u001b[38;5;241;43m.\u001b[39;49m\u001b[43mtica\u001b[49m\u001b[43m(\u001b[49m\u001b[43mdata_switch\u001b[49m\u001b[43m,\u001b[49m\u001b[43m \u001b[49m\u001b[43mlag\u001b[49m\u001b[38;5;241;43m=\u001b[39;49m\u001b[43mlag\u001b[49m\u001b[43m,\u001b[49m\u001b[43m \u001b[49m\u001b[43mdim\u001b[49m\u001b[38;5;241;43m=\u001b[39;49m\u001b[38;5;241;43m2\u001b[39;49m\u001b[43m)\u001b[49m\n\u001b[1;32m      9\u001b[0m \ttica_data \u001b[38;5;241m=\u001b[39m tica_obj\u001b[38;5;241m.\u001b[39mget_output()[\u001b[38;5;241m0\u001b[39m]\n\u001b[1;32m     10\u001b[0m \tx \u001b[38;5;241m=\u001b[39m tica_data[:, \u001b[38;5;241m0\u001b[39m]\n",
      "File \u001b[0;32m~/.conda/envs/bioemu/lib/python3.10/site-packages/decorator.py:235\u001b[0m, in \u001b[0;36mdecorate.<locals>.fun\u001b[0;34m(*args, **kw)\u001b[0m\n\u001b[1;32m    233\u001b[0m \u001b[38;5;28;01mif\u001b[39;00m \u001b[38;5;129;01mnot\u001b[39;00m kwsyntax:\n\u001b[1;32m    234\u001b[0m     args, kw \u001b[38;5;241m=\u001b[39m fix(args, kw, sig)\n\u001b[0;32m--> 235\u001b[0m \u001b[38;5;28;01mreturn\u001b[39;00m \u001b[43mcaller\u001b[49m\u001b[43m(\u001b[49m\u001b[43mfunc\u001b[49m\u001b[43m,\u001b[49m\u001b[43m \u001b[49m\u001b[38;5;241;43m*\u001b[39;49m\u001b[43m(\u001b[49m\u001b[43mextras\u001b[49m\u001b[43m \u001b[49m\u001b[38;5;241;43m+\u001b[39;49m\u001b[43m \u001b[49m\u001b[43margs\u001b[49m\u001b[43m)\u001b[49m\u001b[43m,\u001b[49m\u001b[43m \u001b[49m\u001b[38;5;241;43m*\u001b[39;49m\u001b[38;5;241;43m*\u001b[39;49m\u001b[43mkw\u001b[49m\u001b[43m)\u001b[49m\n",
      "File \u001b[0;32m~/.conda/envs/bioemu/lib/python3.10/site-packages/pyemma/util/annotators.py:218\u001b[0m, in \u001b[0;36mdeprecated.<locals>._deprecated\u001b[0;34m(func, *args, **kw)\u001b[0m\n\u001b[1;32m    209\u001b[0m user_msg \u001b[38;5;241m=\u001b[39m \u001b[38;5;124m'\u001b[39m\u001b[38;5;124mCall to deprecated function \u001b[39m\u001b[38;5;124m\"\u001b[39m\u001b[38;5;132;01m%s\u001b[39;00m\u001b[38;5;124m\"\u001b[39m\u001b[38;5;124m. Called from \u001b[39m\u001b[38;5;132;01m%s\u001b[39;00m\u001b[38;5;124m line \u001b[39m\u001b[38;5;132;01m%i\u001b[39;00m\u001b[38;5;124m. \u001b[39m\u001b[38;5;132;01m%s\u001b[39;00m\u001b[38;5;124m'\u001b[39m \\\n\u001b[1;32m    210\u001b[0m            \u001b[38;5;241m%\u001b[39m (func\u001b[38;5;241m.\u001b[39m\u001b[38;5;18m__name__\u001b[39m, filename, lineno, msg)\n\u001b[1;32m    212\u001b[0m warnings\u001b[38;5;241m.\u001b[39mwarn_explicit(\n\u001b[1;32m    213\u001b[0m     user_msg,\n\u001b[1;32m    214\u001b[0m     category\u001b[38;5;241m=\u001b[39mPyEMMA_DeprecationWarning,\n\u001b[1;32m    215\u001b[0m     filename\u001b[38;5;241m=\u001b[39mfilename,\n\u001b[1;32m    216\u001b[0m     lineno\u001b[38;5;241m=\u001b[39mlineno\n\u001b[1;32m    217\u001b[0m )\n\u001b[0;32m--> 218\u001b[0m \u001b[38;5;28;01mreturn\u001b[39;00m \u001b[43mfunc\u001b[49m\u001b[43m(\u001b[49m\u001b[38;5;241;43m*\u001b[39;49m\u001b[43margs\u001b[49m\u001b[43m,\u001b[49m\u001b[43m \u001b[49m\u001b[38;5;241;43m*\u001b[39;49m\u001b[38;5;241;43m*\u001b[39;49m\u001b[43mkw\u001b[49m\u001b[43m)\u001b[49m\n",
      "File \u001b[0;32m~/.conda/envs/bioemu/lib/python3.10/site-packages/pyemma/coordinates/api.py:1287\u001b[0m, in \u001b[0;36mtica\u001b[0;34m(data, lag, dim, var_cutoff, kinetic_map, commute_map, weights, stride, remove_mean, skip, reversible, ncov_max, chunksize, **kwargs)\u001b[0m\n\u001b[1;32m   1284\u001b[0m res \u001b[38;5;241m=\u001b[39m TICA(lag, dim\u001b[38;5;241m=\u001b[39mdim, var_cutoff\u001b[38;5;241m=\u001b[39mvar_cutoff, kinetic_map\u001b[38;5;241m=\u001b[39mkinetic_map, commute_map\u001b[38;5;241m=\u001b[39mcommute_map, skip\u001b[38;5;241m=\u001b[39mskip, stride\u001b[38;5;241m=\u001b[39mstride,\n\u001b[1;32m   1285\u001b[0m            weights\u001b[38;5;241m=\u001b[39mweights, reversible\u001b[38;5;241m=\u001b[39mreversible, ncov_max\u001b[38;5;241m=\u001b[39mncov_max)\n\u001b[1;32m   1286\u001b[0m \u001b[38;5;28;01mif\u001b[39;00m data \u001b[38;5;129;01mis\u001b[39;00m \u001b[38;5;129;01mnot\u001b[39;00m \u001b[38;5;28;01mNone\u001b[39;00m:\n\u001b[0;32m-> 1287\u001b[0m     \u001b[43mres\u001b[49m\u001b[38;5;241;43m.\u001b[39;49m\u001b[43mestimate\u001b[49m\u001b[43m(\u001b[49m\u001b[43mdata\u001b[49m\u001b[43m,\u001b[49m\u001b[43m \u001b[49m\u001b[43mchunksize\u001b[49m\u001b[38;5;241;43m=\u001b[39;49m\u001b[43mcs\u001b[49m\u001b[43m)\u001b[49m\n\u001b[1;32m   1288\u001b[0m \u001b[38;5;28;01melse\u001b[39;00m:\n\u001b[1;32m   1289\u001b[0m     res\u001b[38;5;241m.\u001b[39mchunksize \u001b[38;5;241m=\u001b[39m cs\n",
      "File \u001b[0;32m~/.conda/envs/bioemu/lib/python3.10/site-packages/pyemma/coordinates/transform/tica.py:163\u001b[0m, in \u001b[0;36mTICA.estimate\u001b[0;34m(self, X, **kwargs)\u001b[0m\n\u001b[1;32m    156\u001b[0m \u001b[38;5;28;01mdef\u001b[39;00m\u001b[38;5;250m \u001b[39m\u001b[38;5;21mestimate\u001b[39m(\u001b[38;5;28mself\u001b[39m, X, \u001b[38;5;241m*\u001b[39m\u001b[38;5;241m*\u001b[39mkwargs):\n\u001b[1;32m    157\u001b[0m \u001b[38;5;250m    \u001b[39m\u001b[38;5;124mr\u001b[39m\u001b[38;5;124;03m\"\"\"\u001b[39;00m\n\u001b[1;32m    158\u001b[0m \u001b[38;5;124;03m    Chunk-based parameterization of TICA. Iterates over all data and estimates\u001b[39;00m\n\u001b[1;32m    159\u001b[0m \u001b[38;5;124;03m    the mean, covariance and time lagged covariance. Finally, the\u001b[39;00m\n\u001b[1;32m    160\u001b[0m \u001b[38;5;124;03m    generalized eigenvalue problem is solved to determine\u001b[39;00m\n\u001b[1;32m    161\u001b[0m \u001b[38;5;124;03m    the independent components.\u001b[39;00m\n\u001b[1;32m    162\u001b[0m \u001b[38;5;124;03m    \"\"\"\u001b[39;00m\n\u001b[0;32m--> 163\u001b[0m     \u001b[38;5;28;01mreturn\u001b[39;00m \u001b[38;5;28;43msuper\u001b[39;49m\u001b[43m(\u001b[49m\u001b[43mTICA\u001b[49m\u001b[43m,\u001b[49m\u001b[43m \u001b[49m\u001b[38;5;28;43mself\u001b[39;49m\u001b[43m)\u001b[49m\u001b[38;5;241;43m.\u001b[39;49m\u001b[43mestimate\u001b[49m\u001b[43m(\u001b[49m\u001b[43mX\u001b[49m\u001b[43m,\u001b[49m\u001b[43m \u001b[49m\u001b[38;5;241;43m*\u001b[39;49m\u001b[38;5;241;43m*\u001b[39;49m\u001b[43mkwargs\u001b[49m\u001b[43m)\u001b[49m\n",
      "File \u001b[0;32m~/.conda/envs/bioemu/lib/python3.10/site-packages/pyemma/coordinates/data/_base/transformer.py:215\u001b[0m, in \u001b[0;36mStreamingEstimationTransformer.estimate\u001b[0;34m(self, X, **kwargs)\u001b[0m\n\u001b[1;32m    214\u001b[0m \u001b[38;5;28;01mdef\u001b[39;00m\u001b[38;5;250m \u001b[39m\u001b[38;5;21mestimate\u001b[39m(\u001b[38;5;28mself\u001b[39m, X, \u001b[38;5;241m*\u001b[39m\u001b[38;5;241m*\u001b[39mkwargs):\n\u001b[0;32m--> 215\u001b[0m     \u001b[38;5;28;43msuper\u001b[39;49m\u001b[43m(\u001b[49m\u001b[43mStreamingEstimationTransformer\u001b[49m\u001b[43m,\u001b[49m\u001b[43m \u001b[49m\u001b[38;5;28;43mself\u001b[39;49m\u001b[43m)\u001b[49m\u001b[38;5;241;43m.\u001b[39;49m\u001b[43mestimate\u001b[49m\u001b[43m(\u001b[49m\u001b[43mX\u001b[49m\u001b[43m,\u001b[49m\u001b[43m \u001b[49m\u001b[38;5;241;43m*\u001b[39;49m\u001b[38;5;241;43m*\u001b[39;49m\u001b[43mkwargs\u001b[49m\u001b[43m)\u001b[49m\n\u001b[1;32m    216\u001b[0m     \u001b[38;5;66;03m# we perform the mapping to memory exactly here, because a StreamingEstimator on its own\u001b[39;00m\n\u001b[1;32m    217\u001b[0m     \u001b[38;5;66;03m# has not output to be mapped. Only the combination of Estimation/Transforming has this feature.\u001b[39;00m\n\u001b[1;32m    218\u001b[0m     \u001b[38;5;28;01mif\u001b[39;00m \u001b[38;5;28mself\u001b[39m\u001b[38;5;241m.\u001b[39min_memory \u001b[38;5;129;01mand\u001b[39;00m \u001b[38;5;129;01mnot\u001b[39;00m \u001b[38;5;28mself\u001b[39m\u001b[38;5;241m.\u001b[39m_mapping_to_mem_active:\n",
      "File \u001b[0;32m~/.conda/envs/bioemu/lib/python3.10/site-packages/pyemma/coordinates/data/_base/streaming_estimator.py:44\u001b[0m, in \u001b[0;36mStreamingEstimator.estimate\u001b[0;34m(self, X, chunksize, **kwargs)\u001b[0m\n\u001b[1;32m     42\u001b[0m \u001b[38;5;66;03m# run estimation\u001b[39;00m\n\u001b[1;32m     43\u001b[0m \u001b[38;5;28;01mtry\u001b[39;00m:\n\u001b[0;32m---> 44\u001b[0m     \u001b[38;5;28;43msuper\u001b[39;49m\u001b[43m(\u001b[49m\u001b[43mStreamingEstimator\u001b[49m\u001b[43m,\u001b[49m\u001b[43m \u001b[49m\u001b[38;5;28;43mself\u001b[39;49m\u001b[43m)\u001b[49m\u001b[38;5;241;43m.\u001b[39;49m\u001b[43mestimate\u001b[49m\u001b[43m(\u001b[49m\u001b[43mX\u001b[49m\u001b[43m,\u001b[49m\u001b[43m \u001b[49m\u001b[38;5;241;43m*\u001b[39;49m\u001b[38;5;241;43m*\u001b[39;49m\u001b[43mkwargs\u001b[49m\u001b[43m)\u001b[49m\n\u001b[1;32m     45\u001b[0m \u001b[38;5;28;01mexcept\u001b[39;00m NotConvergedWarning \u001b[38;5;28;01mas\u001b[39;00m ncw:\n\u001b[1;32m     46\u001b[0m     \u001b[38;5;28mself\u001b[39m\u001b[38;5;241m.\u001b[39mlogger\u001b[38;5;241m.\u001b[39minfo(\n\u001b[1;32m     47\u001b[0m         \u001b[38;5;124m\"\u001b[39m\u001b[38;5;124mPresumably finished estimation. Message: \u001b[39m\u001b[38;5;132;01m%s\u001b[39;00m\u001b[38;5;124m\"\u001b[39m \u001b[38;5;241m%\u001b[39m ncw)\n",
      "File \u001b[0;32m~/.conda/envs/bioemu/lib/python3.10/site-packages/pyemma/_base/estimator.py:418\u001b[0m, in \u001b[0;36mEstimator.estimate\u001b[0;34m(self, X, **params)\u001b[0m\n\u001b[1;32m    416\u001b[0m \u001b[38;5;28;01mif\u001b[39;00m params:\n\u001b[1;32m    417\u001b[0m     \u001b[38;5;28mself\u001b[39m\u001b[38;5;241m.\u001b[39mset_params(\u001b[38;5;241m*\u001b[39m\u001b[38;5;241m*\u001b[39mparams)\n\u001b[0;32m--> 418\u001b[0m \u001b[38;5;28mself\u001b[39m\u001b[38;5;241m.\u001b[39m_model \u001b[38;5;241m=\u001b[39m \u001b[38;5;28;43mself\u001b[39;49m\u001b[38;5;241;43m.\u001b[39;49m\u001b[43m_estimate\u001b[49m\u001b[43m(\u001b[49m\u001b[43mX\u001b[49m\u001b[43m)\u001b[49m\n\u001b[1;32m    419\u001b[0m \u001b[38;5;66;03m# ensure _estimate returned something\u001b[39;00m\n\u001b[1;32m    420\u001b[0m \u001b[38;5;28;01massert\u001b[39;00m \u001b[38;5;28mself\u001b[39m\u001b[38;5;241m.\u001b[39m_model \u001b[38;5;129;01mis\u001b[39;00m \u001b[38;5;129;01mnot\u001b[39;00m \u001b[38;5;28;01mNone\u001b[39;00m\n",
      "File \u001b[0;32m~/.conda/envs/bioemu/lib/python3.10/site-packages/pyemma/coordinates/transform/tica.py:210\u001b[0m, in \u001b[0;36mTICA._estimate\u001b[0;34m(self, iterable, **kw)\u001b[0m\n\u001b[1;32m    207\u001b[0m \u001b[38;5;28;01mif\u001b[39;00m \u001b[38;5;28mself\u001b[39m\u001b[38;5;241m.\u001b[39m_logger_is_active(\u001b[38;5;28mself\u001b[39m\u001b[38;5;241m.\u001b[39m_loglevel_DEBUG):\n\u001b[1;32m    208\u001b[0m     \u001b[38;5;28mself\u001b[39m\u001b[38;5;241m.\u001b[39mlogger\u001b[38;5;241m.\u001b[39mdebug(\u001b[38;5;124m\"\u001b[39m\u001b[38;5;124mRunning TICA with tau=\u001b[39m\u001b[38;5;132;01m%i\u001b[39;00m\u001b[38;5;124m; Estimating two covariance matrices\u001b[39m\u001b[38;5;124m\"\u001b[39m\n\u001b[1;32m    209\u001b[0m                       \u001b[38;5;124m\"\u001b[39m\u001b[38;5;124m with dimension (\u001b[39m\u001b[38;5;132;01m%i\u001b[39;00m\u001b[38;5;124m, \u001b[39m\u001b[38;5;132;01m%i\u001b[39;00m\u001b[38;5;124m)\u001b[39m\u001b[38;5;124m\"\u001b[39m, \u001b[38;5;28mself\u001b[39m\u001b[38;5;241m.\u001b[39m_lag, indim, indim)\n\u001b[0;32m--> 210\u001b[0m \u001b[43mcovar\u001b[49m\u001b[38;5;241;43m.\u001b[39;49m\u001b[43mestimate\u001b[49m\u001b[43m(\u001b[49m\u001b[43miterable\u001b[49m\u001b[43m,\u001b[49m\u001b[43m \u001b[49m\u001b[43mchunksize\u001b[49m\u001b[38;5;241;43m=\u001b[39;49m\u001b[38;5;28;43mself\u001b[39;49m\u001b[38;5;241;43m.\u001b[39;49m\u001b[43mchunksize\u001b[49m\u001b[43m,\u001b[49m\u001b[43m \u001b[49m\u001b[38;5;241;43m*\u001b[39;49m\u001b[38;5;241;43m*\u001b[39;49m\u001b[43mkw\u001b[49m\u001b[43m)\u001b[49m\n\u001b[1;32m    211\u001b[0m \u001b[38;5;28mself\u001b[39m\u001b[38;5;241m.\u001b[39mmodel\u001b[38;5;241m.\u001b[39mupdate_model_params(mean\u001b[38;5;241m=\u001b[39mcovar\u001b[38;5;241m.\u001b[39mmean,\n\u001b[1;32m    212\u001b[0m                                 cov\u001b[38;5;241m=\u001b[39mcovar\u001b[38;5;241m.\u001b[39mC00_,\n\u001b[1;32m    213\u001b[0m                                 cov_tau\u001b[38;5;241m=\u001b[39mcovar\u001b[38;5;241m.\u001b[39mC0t_)\n\u001b[1;32m    214\u001b[0m \u001b[38;5;28mself\u001b[39m\u001b[38;5;241m.\u001b[39m_diagonalize()\n",
      "File \u001b[0;32m~/.conda/envs/bioemu/lib/python3.10/site-packages/pyemma/coordinates/data/_base/streaming_estimator.py:44\u001b[0m, in \u001b[0;36mStreamingEstimator.estimate\u001b[0;34m(self, X, chunksize, **kwargs)\u001b[0m\n\u001b[1;32m     42\u001b[0m \u001b[38;5;66;03m# run estimation\u001b[39;00m\n\u001b[1;32m     43\u001b[0m \u001b[38;5;28;01mtry\u001b[39;00m:\n\u001b[0;32m---> 44\u001b[0m     \u001b[38;5;28;43msuper\u001b[39;49m\u001b[43m(\u001b[49m\u001b[43mStreamingEstimator\u001b[49m\u001b[43m,\u001b[49m\u001b[43m \u001b[49m\u001b[38;5;28;43mself\u001b[39;49m\u001b[43m)\u001b[49m\u001b[38;5;241;43m.\u001b[39;49m\u001b[43mestimate\u001b[49m\u001b[43m(\u001b[49m\u001b[43mX\u001b[49m\u001b[43m,\u001b[49m\u001b[43m \u001b[49m\u001b[38;5;241;43m*\u001b[39;49m\u001b[38;5;241;43m*\u001b[39;49m\u001b[43mkwargs\u001b[49m\u001b[43m)\u001b[49m\n\u001b[1;32m     45\u001b[0m \u001b[38;5;28;01mexcept\u001b[39;00m NotConvergedWarning \u001b[38;5;28;01mas\u001b[39;00m ncw:\n\u001b[1;32m     46\u001b[0m     \u001b[38;5;28mself\u001b[39m\u001b[38;5;241m.\u001b[39mlogger\u001b[38;5;241m.\u001b[39minfo(\n\u001b[1;32m     47\u001b[0m         \u001b[38;5;124m\"\u001b[39m\u001b[38;5;124mPresumably finished estimation. Message: \u001b[39m\u001b[38;5;132;01m%s\u001b[39;00m\u001b[38;5;124m\"\u001b[39m \u001b[38;5;241m%\u001b[39m ncw)\n",
      "File \u001b[0;32m~/.conda/envs/bioemu/lib/python3.10/site-packages/pyemma/_base/estimator.py:418\u001b[0m, in \u001b[0;36mEstimator.estimate\u001b[0;34m(self, X, **params)\u001b[0m\n\u001b[1;32m    416\u001b[0m \u001b[38;5;28;01mif\u001b[39;00m params:\n\u001b[1;32m    417\u001b[0m     \u001b[38;5;28mself\u001b[39m\u001b[38;5;241m.\u001b[39mset_params(\u001b[38;5;241m*\u001b[39m\u001b[38;5;241m*\u001b[39mparams)\n\u001b[0;32m--> 418\u001b[0m \u001b[38;5;28mself\u001b[39m\u001b[38;5;241m.\u001b[39m_model \u001b[38;5;241m=\u001b[39m \u001b[38;5;28;43mself\u001b[39;49m\u001b[38;5;241;43m.\u001b[39;49m\u001b[43m_estimate\u001b[49m\u001b[43m(\u001b[49m\u001b[43mX\u001b[49m\u001b[43m)\u001b[49m\n\u001b[1;32m    419\u001b[0m \u001b[38;5;66;03m# ensure _estimate returned something\u001b[39;00m\n\u001b[1;32m    420\u001b[0m \u001b[38;5;28;01massert\u001b[39;00m \u001b[38;5;28mself\u001b[39m\u001b[38;5;241m.\u001b[39m_model \u001b[38;5;129;01mis\u001b[39;00m \u001b[38;5;129;01mnot\u001b[39;00m \u001b[38;5;28;01mNone\u001b[39;00m\n",
      "File \u001b[0;32m~/.conda/envs/bioemu/lib/python3.10/site-packages/pyemma/coordinates/estimation/covariance.py:219\u001b[0m, in \u001b[0;36mLaggedCovariance._estimate\u001b[0;34m(self, iterable, partial_fit)\u001b[0m\n\u001b[1;32m    217\u001b[0m \u001b[38;5;28;01mwith\u001b[39;00m it, pg\u001b[38;5;241m.\u001b[39mcontext(stage\u001b[38;5;241m=\u001b[39m\u001b[38;5;241m0\u001b[39m):\n\u001b[1;32m    218\u001b[0m     \u001b[38;5;28mself\u001b[39m\u001b[38;5;241m.\u001b[39m_init_covar(partial_fit, it\u001b[38;5;241m.\u001b[39mn_chunks)\n\u001b[0;32m--> 219\u001b[0m     \u001b[38;5;28;01mfor\u001b[39;00m data, weight \u001b[38;5;129;01min\u001b[39;00m \u001b[38;5;28mzip\u001b[39m(it, it_weights):\n\u001b[1;32m    220\u001b[0m         \u001b[38;5;28;01mif\u001b[39;00m \u001b[38;5;28mself\u001b[39m\u001b[38;5;241m.\u001b[39mlag \u001b[38;5;241m!=\u001b[39m \u001b[38;5;241m0\u001b[39m:\n\u001b[1;32m    221\u001b[0m             X, Y \u001b[38;5;241m=\u001b[39m data\n",
      "File \u001b[0;32m~/.conda/envs/bioemu/lib/python3.10/site-packages/pyemma/coordinates/data/_base/iterable.py:253\u001b[0m, in \u001b[0;36m_LaggedIterator.__next__\u001b[0;34m(self)\u001b[0m\n\u001b[1;32m    251\u001b[0m \u001b[38;5;28;01mtry\u001b[39;00m:\n\u001b[1;32m    252\u001b[0m     \u001b[38;5;28mself\u001b[39m\u001b[38;5;241m.\u001b[39m_it\u001b[38;5;241m.\u001b[39mchunksize \u001b[38;5;241m=\u001b[39m \u001b[38;5;28mself\u001b[39m\u001b[38;5;241m.\u001b[39m_it\u001b[38;5;241m.\u001b[39mchunksize \u001b[38;5;241m*\u001b[39m \u001b[38;5;28mself\u001b[39m\u001b[38;5;241m.\u001b[39m_actual_stride\n\u001b[0;32m--> 253\u001b[0m     itraj, data_lagged \u001b[38;5;241m=\u001b[39m \u001b[38;5;28;43mnext\u001b[39;49m\u001b[43m(\u001b[49m\u001b[38;5;28;43mself\u001b[39;49m\u001b[38;5;241;43m.\u001b[39;49m\u001b[43m_it\u001b[49m\u001b[43m)\u001b[49m\n\u001b[1;32m    254\u001b[0m     \u001b[38;5;28;01massert\u001b[39;00m \u001b[38;5;28mlen\u001b[39m(data_lagged) \u001b[38;5;241m<\u001b[39m\u001b[38;5;241m=\u001b[39m \u001b[38;5;28mself\u001b[39m\u001b[38;5;241m.\u001b[39m_it\u001b[38;5;241m.\u001b[39mchunksize \u001b[38;5;241m*\u001b[39m \u001b[38;5;28mself\u001b[39m\u001b[38;5;241m.\u001b[39m_actual_stride\n\u001b[1;32m    255\u001b[0m     frag \u001b[38;5;241m=\u001b[39m data_lagged[:\u001b[38;5;28mmin\u001b[39m(\u001b[38;5;28mself\u001b[39m\u001b[38;5;241m.\u001b[39m_it\u001b[38;5;241m.\u001b[39mchunksize \u001b[38;5;241m-\u001b[39m \u001b[38;5;28mself\u001b[39m\u001b[38;5;241m.\u001b[39m_lag, \u001b[38;5;28mlen\u001b[39m(data_lagged)), :]\n",
      "File \u001b[0;32m~/.conda/envs/bioemu/lib/python3.10/site-packages/pyemma/coordinates/data/_base/datasource.py:1075\u001b[0m, in \u001b[0;36mDataSourceIterator.__next__\u001b[0;34m(self)\u001b[0m\n\u001b[1;32m   1071\u001b[0m         frames \u001b[38;5;241m=\u001b[39m np\u001b[38;5;241m.\u001b[39mwhere(np\u001b[38;5;241m.\u001b[39mlogical_not(finite))\n\u001b[1;32m   1072\u001b[0m         msg \u001b[38;5;241m=\u001b[39m \u001b[38;5;124m'\u001b[39m\u001b[38;5;124mFound invalid values in chunk in trajectory index \u001b[39m\u001b[38;5;132;01m{itraj}\u001b[39;00m\u001b[38;5;124m at chunk [\u001b[39m\u001b[38;5;132;01m{start}\u001b[39;00m\u001b[38;5;124m, \u001b[39m\u001b[38;5;132;01m{stop}\u001b[39;00m\u001b[38;5;124m] \u001b[39m\u001b[38;5;124m'\u001b[39m \\\n\u001b[1;32m   1073\u001b[0m               \u001b[38;5;124m'\u001b[39m\u001b[38;5;124mwithin frames \u001b[39m\u001b[38;5;132;01m{frames}\u001b[39;00m\u001b[38;5;124m.\u001b[39m\u001b[38;5;124m'\u001b[39m\u001b[38;5;241m.\u001b[39mformat(itraj\u001b[38;5;241m=\u001b[39m\u001b[38;5;28mself\u001b[39m\u001b[38;5;241m.\u001b[39mcurrent_trajindex, start\u001b[38;5;241m=\u001b[39m\u001b[38;5;28mself\u001b[39m\u001b[38;5;241m.\u001b[39m_t,\n\u001b[1;32m   1074\u001b[0m                                                stop\u001b[38;5;241m=\u001b[39m\u001b[38;5;28mself\u001b[39m\u001b[38;5;241m.\u001b[39m_t \u001b[38;5;241m+\u001b[39m \u001b[38;5;28mlen\u001b[39m(X), frames\u001b[38;5;241m=\u001b[39mframes)\n\u001b[0;32m-> 1075\u001b[0m         \u001b[38;5;28;01mraise\u001b[39;00m InvalidDataInStreamException(msg)\n\u001b[1;32m   1077\u001b[0m \u001b[38;5;28mself\u001b[39m\u001b[38;5;241m.\u001b[39mstate\u001b[38;5;241m.\u001b[39mpos_adv \u001b[38;5;241m=\u001b[39m \u001b[38;5;28mself\u001b[39m\u001b[38;5;241m.\u001b[39m_t\n\u001b[1;32m   1078\u001b[0m \u001b[38;5;28;01mif\u001b[39;00m \u001b[38;5;28mself\u001b[39m\u001b[38;5;241m.\u001b[39mreturn_traj_index:\n",
      "\u001b[0;31mInvalidDataInStreamException\u001b[0m: Found invalid values in chunk in trajectory index 0 at chunk [112798, 225586] within frames (array([ 35921, 110250]), array([416, 128]))."
     ]
    },
    {
     "ename": "",
     "evalue": "",
     "output_type": "error",
     "traceback": [
      "\u001b[1;31mThe Kernel crashed while executing code in the current cell or a previous cell. \n",
      "\u001b[1;31mPlease review the code in the cell(s) to identify a possible cause of the failure. \n",
      "\u001b[1;31mClick <a href='https://aka.ms/vscodeJupyterKernelCrash'>here</a> for more info. \n",
      "\u001b[1;31mView Jupyter <a href='command:jupyter.viewOutput'>log</a> for further details."
     ]
    }
   ],
   "source": [
    "# TICA with pair distances switch\n",
    "pdb_state = md.load(pdb_path)\n",
    "pdb_state_ca_pair_distances, pdb_resid_pairs = md.compute_contacts(pdb_state, scheme=\"ca\", contacts=ca_resid_pair, periodic=False)\n",
    "pdb_state_ca_pair_distances = cad2switch(pdb_state_ca_pair_distances)\n",
    "data_switch = cad2switch(ca_pair_contacts)\n",
    "\n",
    "for lag in (10, 100, 1000):\n",
    "\ttica_obj = pyemma.coordinates.tica(data_switch, lag=lag, dim=2)\n",
    "\ttica_data = tica_obj.get_output()[0]\n",
    "\tx = tica_data[:, 0]\n",
    "\ty = tica_data[:, 1]\n",
    "\n",
    "\tpdb_tica_data = tica_obj.transform(pdb_state_ca_pair_distances)\n",
    "\tpdb_tica_x = pdb_tica_data[:, 0]\n",
    "\tpdb_tica_y = pdb_tica_data[:, 1]\n",
    "\n",
    "\t# Plot\n",
    "\tfig = plt.figure(figsize=(6, 6))\n",
    "\tax = fig.add_subplot(111)\n",
    "\tax.hist2d(x, y, bins=100, norm=LogNorm())\n",
    "\tax.scatter(pdb_tica_x, pdb_tica_y, color=\"red\", s=100)\n",
    "\tax.set_xlabel(\"TIC 1\")\n",
    "\tax.set_ylabel(\"TIC 2\")\n",
    "\tplt.title(f\"TICA with pair distances, lag={lag}\")\n",
    "\tplt.savefig(f'../data/{molecule}/{molecule}_tica_model_switch_lag{lag}.png')\n",
    "\tplt.show()\n",
    "\tplt.close()\n",
    "\n",
    "\twith open(f'../data/{molecule}/{molecule}_tica_model_switch_lag{lag}.pkl', 'wb') as f:\n",
    "\t\tpickle.dump(tica_obj, f)"
   ]
  },
  {
   "cell_type": "code",
   "execution_count": null,
   "metadata": {},
   "outputs": [],
   "source": [
    "lag = 10\n",
    "tica_coord_path = f\"../data/{molecule}/{molecule}_tica_coord_lag{lag}.npy\"\n",
    "tica_coord_loaded = np.load(tica_coord_path)\n",
    "print(tica_coord_loaded.shape)"
   ]
  },
  {
   "cell_type": "markdown",
   "metadata": {},
   "source": [
    "# Analysis"
   ]
  },
  {
   "cell_type": "markdown",
   "metadata": {},
   "source": [
    "## States by RMSD"
   ]
  },
  {
   "cell_type": "code",
   "execution_count": 8,
   "metadata": {},
   "outputs": [],
   "source": [
    "def rmsd_to_refpdb(\n",
    "\ttraj: md.Trajectory,\n",
    "\treference_traj: md.Trajectory,\n",
    "\tatom_type: str = \"ca\",\n",
    ") -> np.ndarray:\n",
    "\t\"\"\"\n",
    "\tGenerate binary labels for folded/unfolded states based on RMSD\n",
    "\t\"\"\"\n",
    "\tif atom_type == \"ca\":\n",
    "\t\tatom_indices = traj.topology.select(\"name CA\")\n",
    "\telse:\n",
    "\t\tatom_indices = None\n",
    "\t\n",
    "\trmsd = md.rmsd(\n",
    "\t\ttarget = traj,\n",
    "\t\treference = reference_traj,\n",
    "\t\tatom_indices = atom_indices\n",
    "\t)\n",
    "\treturn rmsd"
   ]
  },
  {
   "cell_type": "markdown",
   "metadata": {},
   "source": [
    "### Folded"
   ]
  },
  {
   "cell_type": "code",
   "execution_count": 9,
   "metadata": {},
   "outputs": [
    {
     "name": "stdout",
     "output_type": "stream",
     "text": [
      "0.5054074\n"
     ]
    },
    {
     "data": {
      "image/png": "[encoded data removed]",
      "text/plain": [
       "<Figure size 640x480 with 1 Axes>"
      ]
     },
     "metadata": {},
     "output_type": "display_data"
    },
    {
     "data": {
      "image/png": "[encoded data removed]",
      "text/plain": [
       "<Figure size 640x480 with 1 Axes>"
      ]
     },
     "metadata": {},
     "output_type": "display_data"
    }
   ],
   "source": [
    "selected_frame = all_traj[2180330]\n",
    "rmsd_to_folded = rmsd_to_refpdb(\n",
    "    traj = all_traj,\n",
    "    reference_traj = selected_frame,\n",
    ")\n",
    "\n",
    "print(rmsd_to_folded.mean())\n",
    "plt.hist(\n",
    "    rmsd_to_folded,\n",
    "    bins=100,\n",
    "    # log=True,\n",
    "    color=blue,\n",
    ")\n",
    "plt.show()\n",
    "\n",
    "plt.hist(\n",
    "    rmsd_to_folded,\n",
    "    bins=100,\n",
    "    log=True,\n",
    "    color=blue,\n",
    ")\n",
    "plt.show()"
   ]
  },
  {
   "cell_type": "code",
   "execution_count": 59,
   "metadata": {},
   "outputs": [
    {
     "data": {
      "text/plain": [
       "array([[      1],\n",
       "       [     14],\n",
       "       [     16],\n",
       "       ...,\n",
       "       [1324317],\n",
       "       [1324615],\n",
       "       [1325054]], shape=(151066, 1))"
      ]
     },
     "execution_count": 59,
     "metadata": {},
     "output_type": "execute_result"
    }
   ],
   "source": [
    "np.argwhere((rmsd_to_folded > 0.95) & (rmsd_to_folded < 1.05))"
   ]
  },
  {
   "cell_type": "code",
   "execution_count": 10,
   "metadata": {},
   "outputs": [
    {
     "name": "stdout",
     "output_type": "stream",
     "text": [
      "(1, 35)\n",
      "['C' 'C' 'C' 'C' 'C' 'C' 'C' 'E' 'E' 'E' 'E' 'E' 'C' 'C' 'C' 'C' 'C' 'E'\n",
      " 'E' 'E' 'E' 'E' 'C' 'C' 'C' 'C' 'C' 'E' 'E' 'C' 'C' 'C' 'C' 'C' 'C']\n",
      "[12]\n"
     ]
    },
    {
     "data": {
      "application/vnd.jupyter.widget-view+json": {
       "model_id": "a83f66ba16044e5eb24ccce81d041fcf",
       "version_major": 2,
       "version_minor": 0
      },
      "text/plain": [
       "NGLWidget()"
      ]
     },
     "metadata": {},
     "output_type": "display_data"
    }
   ],
   "source": [
    "dssp_selected = md.compute_dssp(selected_frame)\n",
    "print(dssp_selected.shape)\n",
    "print(dssp_selected[0])\n",
    "e_counts_per_frame = (dssp_selected == 'E').sum(axis=1)\n",
    "print(e_counts_per_frame)\n",
    "view_selected = nv.show_mdtraj(selected_frame)\n",
    "view_selected.add_representation(\"licorice\", selection=\"protein\")\n",
    "view_selected"
   ]
  },
  {
   "cell_type": "code",
   "execution_count": 11,
   "metadata": {},
   "outputs": [
    {
     "data": {
      "image/png": "[encoded data removed]",
      "text/plain": [
       "<Figure size 600x600 with 1 Axes>"
      ]
     },
     "metadata": {},
     "output_type": "display_data"
    }
   ],
   "source": [
    "# pdb on TICA plot\n",
    "lag = 1000\n",
    "\n",
    "ca_resid_pair = np.array(\n",
    "\t[(a.index, b.index) for a, b in combinations(list(all_traj.topology.residues), 2)]\n",
    ")\n",
    "selected_ca_pair_distances, resid_pairs = md.compute_contacts(\n",
    "\tselected_frame, scheme=\"ca\", contacts=ca_resid_pair, periodic=False\n",
    ")\n",
    "tica_model_path = f\"../data/{molecule}/{molecule}_tica_model_lag{lag}.pkl\"\n",
    "tica_model = pickle.load(open(tica_model_path, 'rb'))\n",
    "tica_data_selected = tica_model.transform(selected_ca_pair_distances)\n",
    "x_tica_selected = tica_data_selected[:, 0]\n",
    "y_tica_selected = tica_data_selected[:, 1]\n",
    "\n",
    "tica_coord_path = f\"../data/{molecule}/{molecule}_tica_coord_lag{lag}.npy\"\n",
    "tica_data = np.load(tica_coord_path)\n",
    "x = tica_data[:, 0]\n",
    "y = tica_data[:, 1]\n",
    "\n",
    "# Plot TICA with RMSD colors\n",
    "fig = plt.figure(figsize=(6, 6))\n",
    "ax = fig.add_subplot(111)\n",
    "ax.hist2d(x, y, bins=100, norm=LogNorm())\n",
    "ax.scatter(\n",
    "    x_tica_selected,\n",
    "    y_tica_selected,\n",
    "    c=\"red\",\n",
    "    s=100,\n",
    "    edgecolors=\"k\",\n",
    "    linewidths=2,\n",
    "    label=\"Selected state\",\n",
    ")\n",
    "ax.set_xlabel(\"TIC 1\")\n",
    "ax.set_ylabel(\"TIC 2\")\n",
    "ax.set_title(f\"TICA with RMSD colors (lag={lag})\")\n",
    "ax.legend(loc=\"best\")\n",
    "plt.tight_layout()\n",
    "plt.show()\n",
    "plt.close()\n"
   ]
  },
  {
   "cell_type": "code",
   "execution_count": 12,
   "metadata": {},
   "outputs": [],
   "source": [
    "rmsd_threshold = 0.7\n",
    "save_dir = f\"/home/shpark/prj-mlcv/lib/DESRES/DESRES-Trajectory_{molecule}-{simulation_idx}-protein\"\n",
    "\n",
    "selected_frame.save_pdb(\n",
    "\tf\"/home/shpark/prj-mlcv/lib/DESRES/data/{molecule}/folded.pdb\"\n",
    ")\n",
    "# torch.save(\n",
    "#     torch.from_numpy(rmsd_to_folded),\n",
    "#     f\"{save_dir}/{molecule}-{simulation_idx}-rmsd.pt\"\n",
    "# )\n",
    "# torch.save(\n",
    "#     torch.from_numpy(rmsd_to_folded < rmsd_threshold),\n",
    "#     f\"{save_dir}/{molecule}-{simulation_idx}-label-rmsd-folded.pt\"\n",
    "# )"
   ]
  },
  {
   "cell_type": "markdown",
   "metadata": {},
   "source": [
    "### Unfolded"
   ]
  },
  {
   "cell_type": "code",
   "execution_count": 13,
   "metadata": {},
   "outputs": [
    {
     "name": "stdout",
     "output_type": "stream",
     "text": [
      "1.2265576\n"
     ]
    },
    {
     "data": {
      "image/png": "[encoded data removed]",
      "text/plain": [
       "<Figure size 640x480 with 1 Axes>"
      ]
     },
     "metadata": {},
     "output_type": "display_data"
    },
    {
     "data": {
      "image/png": "[encoded data removed]",
      "text/plain": [
       "<Figure size 640x480 with 1 Axes>"
      ]
     },
     "metadata": {},
     "output_type": "display_data"
    }
   ],
   "source": [
    "unfolded_selected_frame = all_traj[10]\n",
    "unfolded_selected_rmsd = rmsd_to_refpdb(\n",
    "    traj = all_traj,\n",
    "    reference_traj = unfolded_selected_frame,\n",
    ")\n",
    "\n",
    "print(unfolded_selected_rmsd.mean())\n",
    "plt.hist(\n",
    "    unfolded_selected_rmsd,\n",
    "    bins=100,\n",
    "    # log=True,\n",
    "    color=blue,\n",
    ")\n",
    "plt.show()\n",
    "\n",
    "plt.hist(\n",
    "    unfolded_selected_rmsd,\n",
    "    bins=100,\n",
    "    log=True,\n",
    "    color=blue,\n",
    ")\n",
    "plt.show()"
   ]
  },
  {
   "cell_type": "code",
   "execution_count": 14,
   "metadata": {},
   "outputs": [
    {
     "name": "stdout",
     "output_type": "stream",
     "text": [
      "(1, 35)\n",
      "['C' 'C' 'C' 'C' 'C' 'H' 'H' 'H' 'H' 'H' 'H' 'C' 'C' 'C' 'C' 'H' 'H' 'H'\n",
      " 'H' 'C' 'C' 'C' 'C' 'C' 'C' 'C' 'C' 'C' 'C' 'C' 'C' 'C' 'C' 'C' 'C']\n"
     ]
    },
    {
     "data": {
      "application/vnd.jupyter.widget-view+json": {
       "model_id": "5461b6e38fcb4f1c9ebba9e7e6c50321",
       "version_major": 2,
       "version_minor": 0
      },
      "text/plain": [
       "NGLWidget()"
      ]
     },
     "metadata": {},
     "output_type": "display_data"
    }
   ],
   "source": [
    "unfolded_dssp_selected = md.compute_dssp(unfolded_selected_frame)\n",
    "print(unfolded_dssp_selected.shape)\n",
    "print(unfolded_dssp_selected[0])\n",
    "unfolded_selected_view = nv.show_mdtraj(unfolded_selected_frame)\n",
    "unfolded_selected_view.add_representation(\"licorice\", selection=\"protein\")\n",
    "unfolded_selected_view"
   ]
  },
  {
   "cell_type": "code",
   "execution_count": 15,
   "metadata": {},
   "outputs": [
    {
     "data": {
      "image/png": "[encoded data removed]",
      "text/plain": [
       "<Figure size 600x600 with 1 Axes>"
      ]
     },
     "metadata": {},
     "output_type": "display_data"
    }
   ],
   "source": [
    "# pdb on TICA plot\n",
    "lag = 1000\n",
    "\n",
    "ca_resid_pair = np.array(\n",
    "\t[(a.index, b.index) for a, b in combinations(list(all_traj.topology.residues), 2)]\n",
    ")\n",
    "unfolded_ca_pair_distances, resid_pairs = md.compute_contacts(\n",
    "\tunfolded_selected_frame, scheme=\"ca\", contacts=ca_resid_pair, periodic=False\n",
    ")\n",
    "tica_model_path = f\"../data/{molecule}/{molecule}_tica_model_lag{lag}.pkl\"\n",
    "tica_model = pickle.load(open(tica_model_path, 'rb'))\n",
    "tica_data_selected = tica_model.transform(unfolded_ca_pair_distances)\n",
    "x_tica_selected = tica_data_selected[:, 0]\n",
    "y_tica_selected = tica_data_selected[:, 1]\n",
    "\n",
    "tica_coord_path = f\"../data/{molecule}/{molecule}_tica_coord_lag{lag}.npy\"\n",
    "tica_data = np.load(tica_coord_path)\n",
    "x = tica_data[:, 0]\n",
    "y = tica_data[:, 1]\n",
    "\n",
    "# Plot TICA with RMSD colors\n",
    "fig = plt.figure(figsize=(6, 6))\n",
    "ax = fig.add_subplot(111)\n",
    "ax.hist2d(x, y, bins=100, norm=LogNorm())\n",
    "ax.scatter(\n",
    "    x_tica_selected,\n",
    "    y_tica_selected,\n",
    "    c=\"red\",\n",
    "    s=100,\n",
    "    edgecolors=\"k\",\n",
    "    linewidths=2,\n",
    "    label=\"Unfolded selected state\",\n",
    ")\n",
    "ax.set_xlabel(\"TIC 1\")\n",
    "ax.set_ylabel(\"TIC 2\")\n",
    "ax.set_title(f\"TICA with RMSD colors (lag={lag})\")\n",
    "ax.legend(loc=\"best\")\n",
    "plt.tight_layout()\n",
    "plt.show()\n",
    "plt.close()\n"
   ]
  },
  {
   "cell_type": "code",
   "execution_count": 16,
   "metadata": {},
   "outputs": [],
   "source": [
    "save_dir = f\"/home/shpark/prj-mlcv/lib/DESRES/DESRES-Trajectory_{molecule}-{simulation_idx}-protein\"\n",
    "\n",
    "unfolded_selected_frame.save_pdb(\n",
    "\tf\"/home/shpark/prj-mlcv/lib/DESRES/data/{molecule}/unfolded.pdb\"\n",
    ")\n",
    "# torch.save(\n",
    "#     torch.from_numpy(unfolded_selected_rmsd),\n",
    "#     f\"{save_dir}/{molecule}-{simulation_idx}-rmsd_unfolded.pt\"\n",
    "# )"
   ]
  },
  {
   "cell_type": "markdown",
   "metadata": {},
   "source": [
    "# Conclusion"
   ]
  },
  {
   "cell_type": "markdown",
   "metadata": {},
   "source": []
  }
 ],
 "metadata": {
  "kernelspec": {
   "display_name": "bioemu",
   "language": "python",
   "name": "python3"
  },
  "language_info": {
   "codemirror_mode": {
    "name": "ipython",
    "version": 3
   },
   "file_extension": ".py",
   "mimetype": "text/x-python",
   "name": "python",
   "nbconvert_exporter": "python",
   "pygments_lexer": "ipython3",
   "version": "3.10.18"
  }
 },
 "nbformat": 4,
 "nbformat_minor": 2
}
