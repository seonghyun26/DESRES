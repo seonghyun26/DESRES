{
 "cells": [
  {
   "cell_type": "code",
   "execution_count": 1,
   "metadata": {},
   "outputs": [
    {
     "data": {
      "application/vnd.jupyter.widget-view+json": {
       "model_id": "09ff38734db948239d0b9916a81dcf3b",
       "version_major": 2,
       "version_minor": 0
      },
      "text/plain": []
     },
     "metadata": {},
     "output_type": "display_data"
    }
   ],
   "source": [
    "from mlcolvar.data import DictDataset, DictModule\n",
    "from mlcolvar.core.transform import Statistics\n",
    "from mlcolvar.core.transform import Transform\n",
    "\n",
    "import numpy as np\n",
    "import mdtraj as md\n",
    "import nglview as nv\n",
    "import torch\n",
    "import lightning\n",
    "import pickle\n",
    "import pyemma\n",
    "np.bool = np.bool_\n",
    "\n",
    "from tqdm import tqdm\n",
    "from pytorch_lightning import Trainer\n",
    "\n",
    "import matplotlib.pyplot as plt\n",
    "from matplotlib.colors import LogNorm"
   ]
  },
  {
   "cell_type": "code",
   "execution_count": 3,
   "metadata": {},
   "outputs": [
    {
     "data": {
      "application/vnd.jupyter.widget-view+json": {
       "model_id": "d7bef1d3d3e3467f9faee2c184373325",
       "version_major": 2,
       "version_minor": 0
      },
      "text/plain": [
       "NGLWidget()"
      ]
     },
     "metadata": {},
     "output_type": "display_data"
    }
   ],
   "source": [
    "molecule = \"CLN025\"\n",
    "pdb_path = f\"../data/{molecule}/{molecule}_from_mae.pdb\"\n",
    "traj = md.load_pdb(pdb_path)\n",
    "view = nv.show_mdtraj(traj)\n",
    "view.add_representation(\"licorice\", selection=\"protein\")\n",
    "view"
   ]
  },
  {
   "cell_type": "markdown",
   "metadata": {},
   "source": [
    "## Dataset"
   ]
  },
  {
   "cell_type": "code",
   "execution_count": 4,
   "metadata": {},
   "outputs": [
    {
     "name": "stdout",
     "output_type": "stream",
     "text": [
      "torch.Size([5000, 45])\n",
      "torch.Size([5000, 45])\n"
     ]
    }
   ],
   "source": [
    "timelag = 10\n",
    "current_cad_path = \"/home/shpark/prj-mlcv/lib/DESRES/dataset/CLN025-5k/current-cad.pt\"\n",
    "timelagged_cad_path = f\"/home/shpark/prj-mlcv/lib/DESRES/dataset/CLN025-5k/lag{timelag}-cad.pt\"\n",
    "\n",
    "current_cad = torch.load(current_cad_path)\n",
    "timelagged_cad = torch.load(timelagged_cad_path)\n",
    "\n",
    "print(current_cad.shape)\n",
    "print(timelagged_cad.shape)"
   ]
  },
  {
   "cell_type": "code",
   "execution_count": 5,
   "metadata": {},
   "outputs": [],
   "source": [
    "new_dataset = DictDataset({\n",
    "\t\"data\": current_cad,\n",
    "\t\"target\": timelagged_cad\n",
    "})\n",
    "datamodule = DictModule(new_dataset,lengths=[0.8,0.2])"
   ]
  },
  {
   "cell_type": "markdown",
   "metadata": {},
   "source": [
    "## Train"
   ]
  },
  {
   "cell_type": "code",
   "execution_count": 6,
   "metadata": {},
   "outputs": [],
   "source": [
    "import torch\n",
    "\n",
    "from typing import Optional\n",
    "from torch.optim import Adam\n",
    "\n",
    "from mlcolvar.cvs import VariationalAutoEncoderCV\n",
    "from mlcolvar.core.loss.elbo import elbo_gaussians_loss\n",
    "\n",
    "        \n",
    "class VDELoss(torch.nn.Module):\n",
    "    def forward(\n",
    "        self,\n",
    "        target: torch.Tensor,\n",
    "        output: torch.Tensor,\n",
    "        mean: torch.Tensor,\n",
    "        log_variance: torch.Tensor,\n",
    "        z_t: torch.Tensor,\n",
    "        z_t_tau: torch.Tensor,\n",
    "        weights: Optional[torch.Tensor] = None,\n",
    "    ) -> torch.Tensor:\n",
    "        elbo_loss = elbo_gaussians_loss(target, output, mean, log_variance, weights)\n",
    "        auto_correlation_loss = 0\n",
    "        \n",
    "        z_t_mean = z_t.mean(dim=0)\n",
    "        z_t_tau_mean = z_t_tau.mean(dim=0)\n",
    "        z_t_centered = z_t - z_t_mean.repeat(z_t.shape[0], 1)\n",
    "        z_t_tau_centered = z_t_tau - z_t_tau_mean.repeat(z_t_tau.shape[0], 1)\n",
    "        \n",
    "        # auto_correlation_loss = - (z_t_centered @ z_t_tau_centered.T)[torch.eye(z_t.shape[0], dtype=torch.bool, device = z_t.device)].mean()\n",
    "        # auto_correlation_loss = auto_correlation_loss / (z_t.std(dim=0).T @ z_t_tau.std(dim=0))\n",
    "        ac_num = z_t_centered.reshape(1, -1) @ z_t_tau_centered.reshape(-1, 1)\n",
    "        ac_den = z_t_centered.norm(2) * z_t_tau_centered.norm(2)\n",
    "        auto_correlation_loss = - ac_num / ac_den\n",
    "        \n",
    "        return elbo_loss, auto_correlation_loss\n",
    "        \n",
    "        \n",
    "class VariationalDynamicsEncoder(VariationalAutoEncoderCV):\n",
    "    def __init__(\n",
    "        self,\n",
    "        *args,\n",
    "        **kwargs,\n",
    "    ):\n",
    "        super().__init__(*args, **kwargs)\n",
    "\n",
    "        # =======   LOSS  =======\n",
    "        # ELBO loss function when latent space and reconstruction distributions are Gaussians.\n",
    "        self.loss_fn = VDELoss()\n",
    "        self.optimizer = Adam(self.parameters(), lr=1e-4)\n",
    "    \n",
    "    def backward(self, loss):\n",
    "        loss.backward(retain_graph=True)\n",
    "    \n",
    "    def training_step(\n",
    "        self,\n",
    "        train_batch, \n",
    "        batch_idx\n",
    "    ):\n",
    "        x = train_batch[\"data\"]\n",
    "        input = x\n",
    "        loss_kwargs = {}\n",
    "        if \"weights\" in train_batch:\n",
    "            loss_kwargs[\"weights\"] = train_batch[\"weights\"]\n",
    "\n",
    "        # Encode/decode.\n",
    "        mean, log_variance, x_hat = self.encode_decode(x)\n",
    "\n",
    "        # Reference output (compare with a 'target' key if any, otherwise with input 'data')\n",
    "        if \"target\" in train_batch:\n",
    "            x_ref = train_batch[\"target\"]\n",
    "        else:\n",
    "            x_ref = x\n",
    "        \n",
    "        # Values for autocorrealtion loss\n",
    "        if self.norm_in is not None:\n",
    "            input_normalized = self.norm_in(input)\n",
    "            x_ref_normalized = self.norm_in(x_ref)\n",
    "        z_t = self.encoder(input_normalized)\n",
    "        z_t_tau = self.encoder(x_ref_normalized)\n",
    "        \n",
    "        # Loss function.\n",
    "        elbo_loss, auto_correlation_loss = self.loss_fn(\n",
    "            x_ref, x_hat, mean, log_variance,\n",
    "            z_t, z_t_tau,\n",
    "            **loss_kwargs\n",
    "        )\n",
    "\n",
    "        # Log.\n",
    "        name = \"train\" if self.training else \"valid\"\n",
    "        self.log(f\"{name}_elbo_loss\", elbo_loss, on_epoch=True)\n",
    "        self.log(f\"{name}_auto_correlation_loss\", auto_correlation_loss, on_epoch=True)\n",
    "        self.log(f\"{name}_loss\", elbo_loss + auto_correlation_loss, on_epoch=True)\n",
    "\n",
    "        return elbo_loss + auto_correlation_loss"
   ]
  },
  {
   "cell_type": "code",
   "execution_count": 7,
   "metadata": {},
   "outputs": [
    {
     "data": {
      "text/plain": [
       "VariationalDynamicsEncoder(\n",
       "  (loss_fn): VDELoss()\n",
       "  (norm_in): Normalization(in_features=45, out_features=45, mode=mean_std)\n",
       "  (encoder): FeedForward(\n",
       "    (nn): Sequential(\n",
       "      (0): Linear(in_features=45, out_features=100, bias=True)\n",
       "      (1): ReLU(inplace=True)\n",
       "      (2): Dropout(p=0.3, inplace=False)\n",
       "      (3): Linear(in_features=100, out_features=100, bias=True)\n",
       "      (4): ReLU(inplace=True)\n",
       "      (5): Dropout(p=0.3, inplace=False)\n",
       "      (6): Linear(in_features=100, out_features=1, bias=True)\n",
       "      (7): ReLU(inplace=True)\n",
       "      (8): Dropout(p=0.3, inplace=False)\n",
       "    )\n",
       "  )\n",
       "  (mean_nn): Linear(in_features=1, out_features=1, bias=True)\n",
       "  (log_var_nn): Linear(in_features=1, out_features=1, bias=True)\n",
       "  (decoder): FeedForward(\n",
       "    (nn): Sequential(\n",
       "      (0): Linear(in_features=1, out_features=1, bias=True)\n",
       "      (1): ReLU(inplace=True)\n",
       "      (2): Linear(in_features=1, out_features=100, bias=True)\n",
       "      (3): ReLU(inplace=True)\n",
       "      (4): Linear(in_features=100, out_features=100, bias=True)\n",
       "      (5): ReLU(inplace=True)\n",
       "      (6): Linear(in_features=100, out_features=45, bias=True)\n",
       "    )\n",
       "  )\n",
       ")"
      ]
     },
     "execution_count": 7,
     "metadata": {},
     "output_type": "execute_result"
    }
   ],
   "source": [
    "options = {\n",
    "\t\"encoder\": {\n",
    "\t\t\"activation\": \"relu\",\n",
    "\t\t\"dropout\": [0.3, 0.3, 0.3],\n",
    "\t\t\"last_layer_activation\": True\n",
    "\t}\n",
    "}\n",
    "model = VariationalDynamicsEncoder(\n",
    "    n_cvs=1,\n",
    "    encoder_layers=[45, 100, 100, 1],\n",
    "    options=options\n",
    ")\n",
    "model"
   ]
  },
  {
   "cell_type": "code",
   "execution_count": 18,
   "metadata": {},
   "outputs": [
    {
     "name": "stderr",
     "output_type": "stream",
     "text": [
      "Trainer will use only 1 of 8 GPUs because it is running inside an interactive / notebook environment. You may try to set `Trainer(devices=8)` but please note that multi-GPU inside interactive / notebook environments is considered experimental and unstable. Your mileage may vary.\n",
      "GPU available: True (cuda), used: True\n",
      "TPU available: False, using: 0 TPU cores\n",
      "HPU available: False, using: 0 HPUs\n",
      "/home/shpark/.conda/envs/bioemu/lib/python3.10/site-packages/lightning/pytorch/loops/utilities.py:73: `max_epochs` was not set. Setting it to 1000 epochs. To train without an epoch limit, set `max_epochs=-1`.\n",
      "LOCAL_RANK: 0 - CUDA_VISIBLE_DEVICES: [0,1,2,3,4,5,6,7]\n",
      "\n",
      "  | Name           | Type          | Params | Mode  | In sizes | Out sizes\n",
      "--------------------------------------------------------------------------------\n",
      "0 | loss_fn        | VDELoss       | 0      | eval  | ?        | ?        \n",
      "1 | norm_in        | Normalization | 0      | eval  | [1, 45]  | [1, 45]  \n",
      "2 | encoder        | FeedForward   | 14.8 K | eval  | [1, 45]  | [1, 1]   \n",
      "3 | mean_nn        | Linear        | 2      | eval  | [1, 1]   | [1, 1]   \n",
      "4 | log_var_nn     | Linear        | 2      | eval  | ?        | ?        \n",
      "5 | decoder        | FeedForward   | 14.8 K | eval  | ?        | ?        \n",
      "6 | postprocessing | PostProcess   | 0      | train | [1, 1]   | [1, 1]   \n",
      "--------------------------------------------------------------------------------\n",
      "29.7 K    Trainable params\n",
      "0         Non-trainable params\n",
      "29.7 K    Total params\n",
      "0.119     Total estimated model params size (MB)\n",
      "1         Modules in train mode\n",
      "24        Modules in eval mode\n"
     ]
    },
    {
     "data": {
      "application/vnd.jupyter.widget-view+json": {
       "model_id": "4988bf92324349c09089bccdc04a2f4e",
       "version_major": 2,
       "version_minor": 0
      },
      "text/plain": [
       "Sanity Checking: |          | 0/? [00:00<?, ?it/s]"
      ]
     },
     "metadata": {},
     "output_type": "display_data"
    },
    {
     "name": "stderr",
     "output_type": "stream",
     "text": [
      "/home/shpark/.conda/envs/bioemu/lib/python3.10/site-packages/lightning/pytorch/loops/fit_loop.py:310: The number of training batches (1) is smaller than the logging interval Trainer(log_every_n_steps=50). Set a lower value for log_every_n_steps if you want to see logs for the training epoch.\n"
     ]
    },
    {
     "data": {
      "application/vnd.jupyter.widget-view+json": {
       "model_id": "abea73beecee48b189f835243a73677f",
       "version_major": 2,
       "version_minor": 0
      },
      "text/plain": [
       "Training: |          | 0/? [00:00<?, ?it/s]"
      ]
     },
     "metadata": {},
     "output_type": "display_data"
    },
    {
     "data": {
      "application/vnd.jupyter.widget-view+json": {
       "model_id": "aedc60ea8cf64aaea7d1f17ca2b9a3eb",
       "version_major": 2,
       "version_minor": 0
      },
      "text/plain": [
       "Validation: |          | 0/? [00:00<?, ?it/s]"
      ]
     },
     "metadata": {},
     "output_type": "display_data"
    },
    {
     "data": {
      "application/vnd.jupyter.widget-view+json": {
       "model_id": "a3407251bc7c446ca0f1bc6b577a001b",
       "version_major": 2,
       "version_minor": 0
      },
      "text/plain": [
       "Validation: |          | 0/? [00:00<?, ?it/s]"
      ]
     },
     "metadata": {},
     "output_type": "display_data"
    },
    {
     "data": {
      "application/vnd.jupyter.widget-view+json": {
       "model_id": "df8df38ff6ea472f9d30b544a3b12dfc",
       "version_major": 2,
       "version_minor": 0
      },
      "text/plain": [
       "Validation: |          | 0/? [00:00<?, ?it/s]"
      ]
     },
     "metadata": {},
     "output_type": "display_data"
    },
    {
     "data": {
      "application/vnd.jupyter.widget-view+json": {
       "model_id": "0d9b757e74b74109b2f647451037783c",
       "version_major": 2,
       "version_minor": 0
      },
      "text/plain": [
       "Validation: |          | 0/? [00:00<?, ?it/s]"
      ]
     },
     "metadata": {},
     "output_type": "display_data"
    },
    {
     "data": {
      "application/vnd.jupyter.widget-view+json": {
       "model_id": "4780d50d81514b4993740c734938295d",
       "version_major": 2,
       "version_minor": 0
      },
      "text/plain": [
       "Validation: |          | 0/? [00:00<?, ?it/s]"
      ]
     },
     "metadata": {},
     "output_type": "display_data"
    },
    {
     "data": {
      "application/vnd.jupyter.widget-view+json": {
       "model_id": "ddbf4b6d653a4671926da9b97160a0b1",
       "version_major": 2,
       "version_minor": 0
      },
      "text/plain": [
       "Validation: |          | 0/? [00:00<?, ?it/s]"
      ]
     },
     "metadata": {},
     "output_type": "display_data"
    },
    {
     "data": {
      "application/vnd.jupyter.widget-view+json": {
       "model_id": "3295512a63114c9691d49a901fb41287",
       "version_major": 2,
       "version_minor": 0
      },
      "text/plain": [
       "Validation: |          | 0/? [00:00<?, ?it/s]"
      ]
     },
     "metadata": {},
     "output_type": "display_data"
    },
    {
     "data": {
      "application/vnd.jupyter.widget-view+json": {
       "model_id": "1bb7ef9a82c04b849a4ec16f81d3304a",
       "version_major": 2,
       "version_minor": 0
      },
      "text/plain": [
       "Validation: |          | 0/? [00:00<?, ?it/s]"
      ]
     },
     "metadata": {},
     "output_type": "display_data"
    },
    {
     "data": {
      "application/vnd.jupyter.widget-view+json": {
       "model_id": "f4f52a39c24a4ec28e027fff57f5cc45",
       "version_major": 2,
       "version_minor": 0
      },
      "text/plain": [
       "Validation: |          | 0/? [00:00<?, ?it/s]"
      ]
     },
     "metadata": {},
     "output_type": "display_data"
    },
    {
     "data": {
      "application/vnd.jupyter.widget-view+json": {
       "model_id": "2f360762ad4d49b6a3743dc3d3379c0f",
       "version_major": 2,
       "version_minor": 0
      },
      "text/plain": [
       "Validation: |          | 0/? [00:00<?, ?it/s]"
      ]
     },
     "metadata": {},
     "output_type": "display_data"
    },
    {
     "data": {
      "application/vnd.jupyter.widget-view+json": {
       "model_id": "f9ce1cef5f3e42fab0c18a3098871699",
       "version_major": 2,
       "version_minor": 0
      },
      "text/plain": [
       "Validation: |          | 0/? [00:00<?, ?it/s]"
      ]
     },
     "metadata": {},
     "output_type": "display_data"
    },
    {
     "data": {
      "application/vnd.jupyter.widget-view+json": {
       "model_id": "85fd23b2b69949ccac00985b4ff75d43",
       "version_major": 2,
       "version_minor": 0
      },
      "text/plain": [
       "Validation: |          | 0/? [00:00<?, ?it/s]"
      ]
     },
     "metadata": {},
     "output_type": "display_data"
    },
    {
     "data": {
      "application/vnd.jupyter.widget-view+json": {
       "model_id": "8ee1f59f0be14dbe8bd2b2cff24fb139",
       "version_major": 2,
       "version_minor": 0
      },
      "text/plain": [
       "Validation: |          | 0/? [00:00<?, ?it/s]"
      ]
     },
     "metadata": {},
     "output_type": "display_data"
    },
    {
     "data": {
      "application/vnd.jupyter.widget-view+json": {
       "model_id": "93360c156a2e4a5ab6dab1e955c0f3a5",
       "version_major": 2,
       "version_minor": 0
      },
      "text/plain": [
       "Validation: |          | 0/? [00:00<?, ?it/s]"
      ]
     },
     "metadata": {},
     "output_type": "display_data"
    },
    {
     "data": {
      "application/vnd.jupyter.widget-view+json": {
       "model_id": "4d1cb90c6a80459cb9537b1c42a8a01d",
       "version_major": 2,
       "version_minor": 0
      },
      "text/plain": [
       "Validation: |          | 0/? [00:00<?, ?it/s]"
      ]
     },
     "metadata": {},
     "output_type": "display_data"
    },
    {
     "data": {
      "application/vnd.jupyter.widget-view+json": {
       "model_id": "93e5fdd626db4ffdaf1d1e14f618d1fe",
       "version_major": 2,
       "version_minor": 0
      },
      "text/plain": [
       "Validation: |          | 0/? [00:00<?, ?it/s]"
      ]
     },
     "metadata": {},
     "output_type": "display_data"
    },
    {
     "data": {
      "application/vnd.jupyter.widget-view+json": {
       "model_id": "7d814c115904498998373d69612e6b62",
       "version_major": 2,
       "version_minor": 0
      },
      "text/plain": [
       "Validation: |          | 0/? [00:00<?, ?it/s]"
      ]
     },
     "metadata": {},
     "output_type": "display_data"
    },
    {
     "data": {
      "application/vnd.jupyter.widget-view+json": {
       "model_id": "8bae9b82f1f44ef1ad7e097cb5d543c2",
       "version_major": 2,
       "version_minor": 0
      },
      "text/plain": [
       "Validation: |          | 0/? [00:00<?, ?it/s]"
      ]
     },
     "metadata": {},
     "output_type": "display_data"
    },
    {
     "data": {
      "application/vnd.jupyter.widget-view+json": {
       "model_id": "2817770c03ac4de5acfba6e91c482e3e",
       "version_major": 2,
       "version_minor": 0
      },
      "text/plain": [
       "Validation: |          | 0/? [00:00<?, ?it/s]"
      ]
     },
     "metadata": {},
     "output_type": "display_data"
    },
    {
     "data": {
      "application/vnd.jupyter.widget-view+json": {
       "model_id": "334a08afa59d4adb9086f230054ea25c",
       "version_major": 2,
       "version_minor": 0
      },
      "text/plain": [
       "Validation: |          | 0/? [00:00<?, ?it/s]"
      ]
     },
     "metadata": {},
     "output_type": "display_data"
    },
    {
     "data": {
      "application/vnd.jupyter.widget-view+json": {
       "model_id": "0a7096aa113949959750ab73b2fd1932",
       "version_major": 2,
       "version_minor": 0
      },
      "text/plain": [
       "Validation: |          | 0/? [00:00<?, ?it/s]"
      ]
     },
     "metadata": {},
     "output_type": "display_data"
    },
    {
     "data": {
      "application/vnd.jupyter.widget-view+json": {
       "model_id": "ba4713d2138840c9b285f594a003aa9e",
       "version_major": 2,
       "version_minor": 0
      },
      "text/plain": [
       "Validation: |          | 0/? [00:00<?, ?it/s]"
      ]
     },
     "metadata": {},
     "output_type": "display_data"
    },
    {
     "data": {
      "application/vnd.jupyter.widget-view+json": {
       "model_id": "be52195abcc844ab9c80f5aed5f91e99",
       "version_major": 2,
       "version_minor": 0
      },
      "text/plain": [
       "Validation: |          | 0/? [00:00<?, ?it/s]"
      ]
     },
     "metadata": {},
     "output_type": "display_data"
    },
    {
     "data": {
      "application/vnd.jupyter.widget-view+json": {
       "model_id": "8909fa26a7584f8c956fa67a2bba12bb",
       "version_major": 2,
       "version_minor": 0
      },
      "text/plain": [
       "Validation: |          | 0/? [00:00<?, ?it/s]"
      ]
     },
     "metadata": {},
     "output_type": "display_data"
    },
    {
     "data": {
      "application/vnd.jupyter.widget-view+json": {
       "model_id": "c5612076818949cdb164cfc63cb64878",
       "version_major": 2,
       "version_minor": 0
      },
      "text/plain": [
       "Validation: |          | 0/? [00:00<?, ?it/s]"
      ]
     },
     "metadata": {},
     "output_type": "display_data"
    },
    {
     "data": {
      "application/vnd.jupyter.widget-view+json": {
       "model_id": "09b632bec5d948a3bae3c2de752e34e5",
       "version_major": 2,
       "version_minor": 0
      },
      "text/plain": [
       "Validation: |          | 0/? [00:00<?, ?it/s]"
      ]
     },
     "metadata": {},
     "output_type": "display_data"
    },
    {
     "data": {
      "application/vnd.jupyter.widget-view+json": {
       "model_id": "25a543951a6a48238156b79371809fe6",
       "version_major": 2,
       "version_minor": 0
      },
      "text/plain": [
       "Validation: |          | 0/? [00:00<?, ?it/s]"
      ]
     },
     "metadata": {},
     "output_type": "display_data"
    },
    {
     "data": {
      "application/vnd.jupyter.widget-view+json": {
       "model_id": "9c5b267f74be40e08329230b153b8f1f",
       "version_major": 2,
       "version_minor": 0
      },
      "text/plain": [
       "Validation: |          | 0/? [00:00<?, ?it/s]"
      ]
     },
     "metadata": {},
     "output_type": "display_data"
    },
    {
     "data": {
      "application/vnd.jupyter.widget-view+json": {
       "model_id": "9224272e2e894b9f9d93934f07c5ca84",
       "version_major": 2,
       "version_minor": 0
      },
      "text/plain": [
       "Validation: |          | 0/? [00:00<?, ?it/s]"
      ]
     },
     "metadata": {},
     "output_type": "display_data"
    },
    {
     "data": {
      "application/vnd.jupyter.widget-view+json": {
       "model_id": "50d670657a154cf58ece8344e2f910d1",
       "version_major": 2,
       "version_minor": 0
      },
      "text/plain": [
       "Validation: |          | 0/? [00:00<?, ?it/s]"
      ]
     },
     "metadata": {},
     "output_type": "display_data"
    },
    {
     "data": {
      "application/vnd.jupyter.widget-view+json": {
       "model_id": "4ab4f3ed54c148e59778018f53b36bea",
       "version_major": 2,
       "version_minor": 0
      },
      "text/plain": [
       "Validation: |          | 0/? [00:00<?, ?it/s]"
      ]
     },
     "metadata": {},
     "output_type": "display_data"
    },
    {
     "data": {
      "application/vnd.jupyter.widget-view+json": {
       "model_id": "b990275177354dc4a6dec16f599515a8",
       "version_major": 2,
       "version_minor": 0
      },
      "text/plain": [
       "Validation: |          | 0/? [00:00<?, ?it/s]"
      ]
     },
     "metadata": {},
     "output_type": "display_data"
    },
    {
     "data": {
      "application/vnd.jupyter.widget-view+json": {
       "model_id": "5570451ff655486890f25adcd9b37c22",
       "version_major": 2,
       "version_minor": 0
      },
      "text/plain": [
       "Validation: |          | 0/? [00:00<?, ?it/s]"
      ]
     },
     "metadata": {},
     "output_type": "display_data"
    },
    {
     "data": {
      "application/vnd.jupyter.widget-view+json": {
       "model_id": "86c2344ef99c483aa6e1f4313dae9717",
       "version_major": 2,
       "version_minor": 0
      },
      "text/plain": [
       "Validation: |          | 0/? [00:00<?, ?it/s]"
      ]
     },
     "metadata": {},
     "output_type": "display_data"
    },
    {
     "data": {
      "application/vnd.jupyter.widget-view+json": {
       "model_id": "60f89f55e08e421babe506d318e1eaee",
       "version_major": 2,
       "version_minor": 0
      },
      "text/plain": [
       "Validation: |          | 0/? [00:00<?, ?it/s]"
      ]
     },
     "metadata": {},
     "output_type": "display_data"
    },
    {
     "data": {
      "application/vnd.jupyter.widget-view+json": {
       "model_id": "23801d7c02c34d9fa8d14525e4f230a0",
       "version_major": 2,
       "version_minor": 0
      },
      "text/plain": [
       "Validation: |          | 0/? [00:00<?, ?it/s]"
      ]
     },
     "metadata": {},
     "output_type": "display_data"
    },
    {
     "data": {
      "application/vnd.jupyter.widget-view+json": {
       "model_id": "7a65547adabe434b98c6bc23eb1f8be7",
       "version_major": 2,
       "version_minor": 0
      },
      "text/plain": [
       "Validation: |          | 0/? [00:00<?, ?it/s]"
      ]
     },
     "metadata": {},
     "output_type": "display_data"
    },
    {
     "data": {
      "application/vnd.jupyter.widget-view+json": {
       "model_id": "ae5375551f6c4beebbb760909116dc27",
       "version_major": 2,
       "version_minor": 0
      },
      "text/plain": [
       "Validation: |          | 0/? [00:00<?, ?it/s]"
      ]
     },
     "metadata": {},
     "output_type": "display_data"
    },
    {
     "data": {
      "application/vnd.jupyter.widget-view+json": {
       "model_id": "5bf0bf6fc29d4009a5703c18bb5ee771",
       "version_major": 2,
       "version_minor": 0
      },
      "text/plain": [
       "Validation: |          | 0/? [00:00<?, ?it/s]"
      ]
     },
     "metadata": {},
     "output_type": "display_data"
    },
    {
     "data": {
      "application/vnd.jupyter.widget-view+json": {
       "model_id": "54314a8a0cd64e39b7549c62de40fc78",
       "version_major": 2,
       "version_minor": 0
      },
      "text/plain": [
       "Validation: |          | 0/? [00:00<?, ?it/s]"
      ]
     },
     "metadata": {},
     "output_type": "display_data"
    },
    {
     "data": {
      "application/vnd.jupyter.widget-view+json": {
       "model_id": "8840eb117f5440a9853015b389b1a813",
       "version_major": 2,
       "version_minor": 0
      },
      "text/plain": [
       "Validation: |          | 0/? [00:00<?, ?it/s]"
      ]
     },
     "metadata": {},
     "output_type": "display_data"
    },
    {
     "data": {
      "application/vnd.jupyter.widget-view+json": {
       "model_id": "9ca4076e826e41b49cace4e3b97db0fc",
       "version_major": 2,
       "version_minor": 0
      },
      "text/plain": [
       "Validation: |          | 0/? [00:00<?, ?it/s]"
      ]
     },
     "metadata": {},
     "output_type": "display_data"
    },
    {
     "data": {
      "application/vnd.jupyter.widget-view+json": {
       "model_id": "321ad875322d4e86a36d23c35a902fd6",
       "version_major": 2,
       "version_minor": 0
      },
      "text/plain": [
       "Validation: |          | 0/? [00:00<?, ?it/s]"
      ]
     },
     "metadata": {},
     "output_type": "display_data"
    },
    {
     "data": {
      "application/vnd.jupyter.widget-view+json": {
       "model_id": "c4bec1754ea245c0adcc72a5cbf6e786",
       "version_major": 2,
       "version_minor": 0
      },
      "text/plain": [
       "Validation: |          | 0/? [00:00<?, ?it/s]"
      ]
     },
     "metadata": {},
     "output_type": "display_data"
    },
    {
     "data": {
      "application/vnd.jupyter.widget-view+json": {
       "model_id": "8b7de6e4c81d459bbdaa28493e8beb96",
       "version_major": 2,
       "version_minor": 0
      },
      "text/plain": [
       "Validation: |          | 0/? [00:00<?, ?it/s]"
      ]
     },
     "metadata": {},
     "output_type": "display_data"
    },
    {
     "data": {
      "application/vnd.jupyter.widget-view+json": {
       "model_id": "e7433d548bfc4ff0874df4fadeadd01c",
       "version_major": 2,
       "version_minor": 0
      },
      "text/plain": [
       "Validation: |          | 0/? [00:00<?, ?it/s]"
      ]
     },
     "metadata": {},
     "output_type": "display_data"
    },
    {
     "data": {
      "application/vnd.jupyter.widget-view+json": {
       "model_id": "6940eca851914c378d1fcf04bc52ccbf",
       "version_major": 2,
       "version_minor": 0
      },
      "text/plain": [
       "Validation: |          | 0/? [00:00<?, ?it/s]"
      ]
     },
     "metadata": {},
     "output_type": "display_data"
    },
    {
     "data": {
      "application/vnd.jupyter.widget-view+json": {
       "model_id": "f47c676ea2694ae2b628fa72fcf0285f",
       "version_major": 2,
       "version_minor": 0
      },
      "text/plain": [
       "Validation: |          | 0/? [00:00<?, ?it/s]"
      ]
     },
     "metadata": {},
     "output_type": "display_data"
    },
    {
     "data": {
      "application/vnd.jupyter.widget-view+json": {
       "model_id": "bc6c509ed9034c1e8fae7f606f2c3b34",
       "version_major": 2,
       "version_minor": 0
      },
      "text/plain": [
       "Validation: |          | 0/? [00:00<?, ?it/s]"
      ]
     },
     "metadata": {},
     "output_type": "display_data"
    },
    {
     "data": {
      "application/vnd.jupyter.widget-view+json": {
       "model_id": "3d5087430d4b4be4b9baf48a086c180f",
       "version_major": 2,
       "version_minor": 0
      },
      "text/plain": [
       "Validation: |          | 0/? [00:00<?, ?it/s]"
      ]
     },
     "metadata": {},
     "output_type": "display_data"
    },
    {
     "data": {
      "application/vnd.jupyter.widget-view+json": {
       "model_id": "5aa6c047e5544f6f8068e5a0804f8c6f",
       "version_major": 2,
       "version_minor": 0
      },
      "text/plain": [
       "Validation: |          | 0/? [00:00<?, ?it/s]"
      ]
     },
     "metadata": {},
     "output_type": "display_data"
    },
    {
     "data": {
      "application/vnd.jupyter.widget-view+json": {
       "model_id": "b78195576afe420fb7bd1a087ca2eaaf",
       "version_major": 2,
       "version_minor": 0
      },
      "text/plain": [
       "Validation: |          | 0/? [00:00<?, ?it/s]"
      ]
     },
     "metadata": {},
     "output_type": "display_data"
    },
    {
     "data": {
      "application/vnd.jupyter.widget-view+json": {
       "model_id": "6fe46a527efd49459f69a67f6cabdc78",
       "version_major": 2,
       "version_minor": 0
      },
      "text/plain": [
       "Validation: |          | 0/? [00:00<?, ?it/s]"
      ]
     },
     "metadata": {},
     "output_type": "display_data"
    },
    {
     "data": {
      "application/vnd.jupyter.widget-view+json": {
       "model_id": "9bdea7fdfa774fdbb1a8208a913de92e",
       "version_major": 2,
       "version_minor": 0
      },
      "text/plain": [
       "Validation: |          | 0/? [00:00<?, ?it/s]"
      ]
     },
     "metadata": {},
     "output_type": "display_data"
    },
    {
     "data": {
      "application/vnd.jupyter.widget-view+json": {
       "model_id": "59884c2cb6e54442bebee7eea394c1af",
       "version_major": 2,
       "version_minor": 0
      },
      "text/plain": [
       "Validation: |          | 0/? [00:00<?, ?it/s]"
      ]
     },
     "metadata": {},
     "output_type": "display_data"
    },
    {
     "data": {
      "application/vnd.jupyter.widget-view+json": {
       "model_id": "28870727e03e486fad5ecc65eca8d800",
       "version_major": 2,
       "version_minor": 0
      },
      "text/plain": [
       "Validation: |          | 0/? [00:00<?, ?it/s]"
      ]
     },
     "metadata": {},
     "output_type": "display_data"
    },
    {
     "data": {
      "application/vnd.jupyter.widget-view+json": {
       "model_id": "28ce50d5ae634b04a213c05eb1c3d598",
       "version_major": 2,
       "version_minor": 0
      },
      "text/plain": [
       "Validation: |          | 0/? [00:00<?, ?it/s]"
      ]
     },
     "metadata": {},
     "output_type": "display_data"
    },
    {
     "data": {
      "application/vnd.jupyter.widget-view+json": {
       "model_id": "5fe39bb29f2645a5b1f8f87640625089",
       "version_major": 2,
       "version_minor": 0
      },
      "text/plain": [
       "Validation: |          | 0/? [00:00<?, ?it/s]"
      ]
     },
     "metadata": {},
     "output_type": "display_data"
    },
    {
     "data": {
      "application/vnd.jupyter.widget-view+json": {
       "model_id": "13b6a93af3244429b6744ab92134acea",
       "version_major": 2,
       "version_minor": 0
      },
      "text/plain": [
       "Validation: |          | 0/? [00:00<?, ?it/s]"
      ]
     },
     "metadata": {},
     "output_type": "display_data"
    },
    {
     "data": {
      "application/vnd.jupyter.widget-view+json": {
       "model_id": "185867e0ae7849ff8fd2ded4068694a3",
       "version_major": 2,
       "version_minor": 0
      },
      "text/plain": [
       "Validation: |          | 0/? [00:00<?, ?it/s]"
      ]
     },
     "metadata": {},
     "output_type": "display_data"
    },
    {
     "data": {
      "text/plain": [
       "VariationalDynamicsEncoder(\n",
       "  (loss_fn): VDELoss()\n",
       "  (norm_in): Normalization(in_features=45, out_features=45, mode=mean_std)\n",
       "  (encoder): FeedForward(\n",
       "    (nn): Sequential(\n",
       "      (0): Linear(in_features=45, out_features=100, bias=True)\n",
       "      (1): ReLU(inplace=True)\n",
       "      (2): Dropout(p=0.3, inplace=False)\n",
       "      (3): Linear(in_features=100, out_features=100, bias=True)\n",
       "      (4): ReLU(inplace=True)\n",
       "      (5): Dropout(p=0.3, inplace=False)\n",
       "      (6): Linear(in_features=100, out_features=1, bias=True)\n",
       "      (7): ReLU(inplace=True)\n",
       "      (8): Dropout(p=0.3, inplace=False)\n",
       "    )\n",
       "  )\n",
       "  (mean_nn): Linear(in_features=1, out_features=1, bias=True)\n",
       "  (log_var_nn): Linear(in_features=1, out_features=1, bias=True)\n",
       "  (decoder): FeedForward(\n",
       "    (nn): Sequential(\n",
       "      (0): Linear(in_features=1, out_features=1, bias=True)\n",
       "      (1): ReLU(inplace=True)\n",
       "      (2): Linear(in_features=1, out_features=100, bias=True)\n",
       "      (3): ReLU(inplace=True)\n",
       "      (4): Linear(in_features=100, out_features=100, bias=True)\n",
       "      (5): ReLU(inplace=True)\n",
       "      (6): Linear(in_features=100, out_features=45, bias=True)\n",
       "    )\n",
       "  )\n",
       "  (postprocessing): PostProcess()\n",
       ")"
      ]
     },
     "execution_count": 18,
     "metadata": {},
     "output_type": "execute_result"
    }
   ],
   "source": [
    "from lightning.pytorch.callbacks.early_stopping import EarlyStopping\n",
    "from mlcolvar.utils.trainer import MetricsCallback\n",
    "\n",
    "# define callbacks\n",
    "metrics = MetricsCallback()\n",
    "early_stopping = EarlyStopping(monitor=\"valid_loss\", min_delta=0.1, patience=50)\n",
    "\n",
    "# define trainer\n",
    "trainer = lightning.Trainer(\n",
    "    callbacks=[metrics, early_stopping],\n",
    "\tmax_epochs=None,\n",
    " \tlogger=None,\n",
    "  \tenable_checkpointing=False\n",
    ")\n",
    "\n",
    "# fit\n",
    "trainer.fit( model, datamodule )\n",
    "model.eval()"
   ]
  },
  {
   "cell_type": "markdown",
   "metadata": {},
   "source": [
    "## Evaluation"
   ]
  },
  {
   "cell_type": "markdown",
   "metadata": {},
   "source": [
    "### Normalization"
   ]
  },
  {
   "cell_type": "code",
   "execution_count": 19,
   "metadata": {},
   "outputs": [],
   "source": [
    "def sanitize_range(range: torch.Tensor):\n",
    "    \"\"\"Sanitize\n",
    "\n",
    "    Parameters\n",
    "    ----------\n",
    "    range : torch.Tensor\n",
    "        range to be used for standardization\n",
    "\n",
    "    \"\"\"\n",
    "\n",
    "    if (range < 1e-6).nonzero().sum() > 0:\n",
    "        print(\n",
    "            \"[Warning] Normalization: the following features have a range of values < 1e-6:\",\n",
    "            (range < 1e-6).nonzero(),\n",
    "        )\n",
    "    range[range < 1e-6] = 1.0\n",
    "\n",
    "    return range\n",
    "\n",
    "class PostProcess(Transform):\n",
    "    def __init__(\n",
    "        self,\n",
    "        stats = None,\n",
    "        reference_frame_cv = None,\n",
    "        feature_dim = 1,\n",
    "    ):\n",
    "        super().__init__(in_features=feature_dim, out_features=feature_dim)\n",
    "        self.register_buffer(\"mean\", torch.zeros(feature_dim))\n",
    "        self.register_buffer(\"range\", torch.ones(feature_dim))\n",
    "        \n",
    "        if stats is not None:\n",
    "            min = stats[\"min\"]\n",
    "            max = stats[\"max\"]\n",
    "            self.mean = (max + min) / 2.0\n",
    "            range = (max - min) / 2.0\n",
    "            self.range = sanitize_range(range)\n",
    "        \n",
    "        if reference_frame_cv is not None:\n",
    "            self.register_buffer(\n",
    "                \"flip_sign\",\n",
    "                torch.ones(1) * -1 if reference_frame_cv < 0 else torch.ones(1)\n",
    "            )\n",
    "        else:\n",
    "            self.register_buffer(\"flip_sign\", torch.ones(1))\n",
    "        \n",
    "    def forward(self, x):\n",
    "        x = x.sub(self.mean).div(self.range)\n",
    "        x = x * self.flip_sign\n",
    "        \n",
    "        return x\n"
   ]
  },
  {
   "cell_type": "code",
   "execution_count": 27,
   "metadata": {},
   "outputs": [
    {
     "name": "stdout",
     "output_type": "stream",
     "text": [
      "(530000, 1)\n"
     ]
    }
   ],
   "source": [
    "projection_data_path = f\"/home/shpark/prj-mlcv/lib/DESRES/dataset/{molecule}-all/cad.pt\"\n",
    "projection_data = torch.load(projection_data_path)\n",
    "\n",
    "model.eval()\n",
    "cv = model(projection_data)\n",
    "cv = cv.detach().numpy()\n",
    "print(cv.shape)"
   ]
  },
  {
   "cell_type": "code",
   "execution_count": 28,
   "metadata": {},
   "outputs": [
    {
     "name": "stdout",
     "output_type": "stream",
     "text": [
      "-6.7770233\n",
      "-6.8931336\n",
      "tensor(112.3425, grad_fn=<MaxBackward1>)\n",
      "tensor(111.7469, grad_fn=<MinBackward1>)\n"
     ]
    }
   ],
   "source": [
    "stats = Statistics(torch.from_numpy(cv).cpu()).to_dict()\n",
    "model.postprocessing = PostProcess(stats).to(model.device)\n",
    "postprocessed_cv = model(projection_data)\n",
    "print(cv.max())\n",
    "print(cv.min())\n",
    "print(postprocessed_cv.max())\n",
    "print(postprocessed_cv.min())"
   ]
  },
  {
   "cell_type": "code",
   "execution_count": 22,
   "metadata": {},
   "outputs": [
    {
     "name": "stderr",
     "output_type": "stream",
     "text": [
      "Trainer will use only 1 of 8 GPUs because it is running inside an interactive / notebook environment. You may try to set `Trainer(devices=8)` but please note that multi-GPU inside interactive / notebook environments is considered experimental and unstable. Your mileage may vary.\n",
      "GPU available: True (cuda), used: True\n",
      "TPU available: False, using: 0 TPU cores\n",
      "HPU available: False, using: 0 HPUs\n"
     ]
    }
   ],
   "source": [
    "model_save_dir = \"/home/shpark/prj-mlcv/lib/bioemu/model\"\n",
    "model_name = \"vde\"\n",
    "torch.save(model.state_dict(), f\"{model_save_dir}/{model_name}-{molecule}.pt\")\n",
    "\n",
    "model.trainer = Trainer(logger=False, enable_checkpointing=False, enable_model_summary=False)\n",
    "input_dim = datamodule.dataset[\"data\"].shape[1]\n",
    "random_input = torch.rand(1, input_dim).to(model.device)\n",
    "traced_script_module = torch.jit.trace(model, random_input)\n",
    "traced_script_module.save(f\"{model_save_dir}/{model_name}-{molecule}-jit.pt\")"
   ]
  },
  {
   "cell_type": "markdown",
   "metadata": {},
   "source": [
    "### TICA"
   ]
  },
  {
   "cell_type": "code",
   "execution_count": 25,
   "metadata": {},
   "outputs": [
    {
     "name": "stdout",
     "output_type": "stream",
     "text": [
      "TICA(commute_map=False, dim=2, epsilon=1e-06, kinetic_map=True, lag=10,\n",
      "   ncov_max=inf, reversible=True, skip=0, stride=1, var_cutoff=0.95,\n",
      "   weights=None)\n"
     ]
    }
   ],
   "source": [
    "with open(f'../data/{molecule}/{molecule}_tica_model_switch_lag{timelag}.pkl', 'rb') as f:\n",
    "    tica = pickle.load(f)\n",
    "print(tica)"
   ]
  },
  {
   "cell_type": "code",
   "execution_count": 26,
   "metadata": {},
   "outputs": [
    {
     "data": {
      "image/png": "[encoded data removed]",
      "text/plain": [
       "<Figure size 700x600 with 2 Axes>"
      ]
     },
     "metadata": {},
     "output_type": "display_data"
    }
   ],
   "source": [
    "projection_data_np = projection_data.numpy()\n",
    "projection_data_np_switch = (1 - np.power(projection_data_np / 0.8, 6)) / (1 - np.power(projection_data_np / 0.8, 12))\n",
    "tica_coord = tica.transform(projection_data_np_switch)\n",
    "postprocessed_cv_numpy = postprocessed_cv.detach().cpu().numpy()\n",
    "\n",
    "# Plot\n",
    "fig = plt.figure(figsize=(7, 6))\n",
    "ax = fig.add_subplot(111)\n",
    "hb = ax.hexbin(\n",
    "\ttica_coord[:, 0], tica_coord[:, 1], C=-postprocessed_cv_numpy[:, 0],  # data\n",
    "\tgridsize=200,                     # controls resolution\n",
    "\treduce_C_function=np.mean,       # compute average per hexagon\n",
    "\tcmap='viridis',                  # colormap\n",
    ")\n",
    "plt.colorbar(hb)\n",
    "# plt.scatter(tica_state[:, 0], tica_state[:, 1], c='red', s=10)\n",
    "plt.xlabel(\"TIC 1\")\n",
    "plt.ylabel(\"TIC 2\")\n",
    "plt.show()"
   ]
  },
  {
   "cell_type": "code",
   "execution_count": null,
   "metadata": {},
   "outputs": [],
   "source": []
  }
 ],
 "metadata": {
  "kernelspec": {
   "display_name": "bioemu",
   "language": "python",
   "name": "python3"
  },
  "language_info": {
   "codemirror_mode": {
    "name": "ipython",
    "version": 3
   },
   "file_extension": ".py",
   "mimetype": "text/x-python",
   "name": "python",
   "nbconvert_exporter": "python",
   "pygments_lexer": "ipython3",
   "version": "3.10.18"
  }
 },
 "nbformat": 4,
 "nbformat_minor": 2
}
