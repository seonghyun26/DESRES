{
 "cells": [
  {
   "cell_type": "code",
   "execution_count": 1,
   "id": "26d11f96",
   "metadata": {},
   "outputs": [],
   "source": [
    "import mdtraj as md\n",
    "import numpy as np\n",
    "import matplotlib.pyplot as plt\n",
    "import glob\n",
    "import os\n",
    "import torch\n",
    "import pickle\n",
    "\n",
    "from itertools import combinations\n",
    "from tqdm import tqdm\n",
    "from matplotlib.colors import LogNorm\n",
    "\n",
    "molecule = \"2F4K\"\n",
    "# molecule = \"2JOF\"\n",
    "# molecule = \"CLN025\"\n",
    "simulation_idx = 0\n",
    "base_dir = f\"/home/shpark/prj-mlcv/lib/DESRES/DESRES-Trajectory_{molecule}-{simulation_idx}-protein/{molecule}-{simulation_idx}-protein\"\n",
    "pdb_file = f\"../data/{molecule}/{molecule}_from_mae.pdb\""
   ]
  },
  {
   "cell_type": "markdown",
   "id": "0b207bff",
   "metadata": {},
   "source": [
    "# Basics"
   ]
  },
  {
   "cell_type": "code",
   "execution_count": 7,
   "id": "7a43f0e2",
   "metadata": {},
   "outputs": [
    {
     "name": "stdout",
     "output_type": "stream",
     "text": [
      "1.4736894\n"
     ]
    },
    {
     "data": {
      "image/png": "[encoded data removed]",
      "text/plain": [
       "<Figure size 640x480 with 1 Axes>"
      ]
     },
     "metadata": {},
     "output_type": "display_data"
    }
   ],
   "source": [
    "traj = md.load(\n",
    "\tf\"/home/shpark/prj-mlcv/lib/DESRES/data/{molecule}/{molecule}_from_mae.pdb\"\n",
    ")\n",
    "ca_resid_pair = np.array(\n",
    "    [(a.index, b.index) for a, b in combinations(list(traj.topology.residues), 2)]\n",
    ")\n",
    "ca_distance, _ = md.compute_contacts(\n",
    "\ttraj, scheme=\"ca\", contacts=ca_resid_pair, periodic=False\n",
    ")\n",
    "print(ca_distance.mean())\n",
    "plt.hist(ca_distance.flatten(), bins=20)\n",
    "plt.show()"
   ]
  },
  {
   "cell_type": "code",
   "execution_count": 8,
   "id": "d4282ab8",
   "metadata": {},
   "outputs": [
    {
     "name": "stdout",
     "output_type": "stream",
     "text": [
      "Found 63 .dcd files in /home/shpark/prj-mlcv/lib/DESRES/DESRES-Trajectory_2F4K-0-protein/2F4K-0-protein\n",
      "Pattern used: /home/shpark/prj-mlcv/lib/DESRES/DESRES-Trajectory_2F4K-0-protein/2F4K-0-protein/2F4K-0-protein-*.dcd\n",
      "File indices range: 0 to 62\n",
      "Total files to load: 63\n"
     ]
    }
   ],
   "source": [
    "# Count the number of .dcd files in the simulation directory\n",
    "dcd_pattern = f\"{base_dir}/{molecule}-{simulation_idx}-protein-*.dcd\"\n",
    "dcd_files = glob.glob(dcd_pattern)\n",
    "num_files = len(dcd_files)\n",
    "\n",
    "print(f\"Found {num_files} .dcd files in {base_dir}\")\n",
    "print(f\"Pattern used: {dcd_pattern}\")\n",
    "\n",
    "# Extract the indices from filenames and sort them\n",
    "file_indices = []\n",
    "for file_path in dcd_files:\n",
    "    filename = os.path.basename(file_path)\n",
    "    # Extract the index from filename like \"2JOF-0-protein-000.dcd\"\n",
    "    index_part = filename.split('-')[-1].replace('.dcd', '')\n",
    "    if index_part.isdigit():\n",
    "        file_indices.append(int(index_part))\n",
    "\n",
    "file_indices.sort()\n",
    "print(f\"File indices range: {min(file_indices)} to {max(file_indices)}\")\n",
    "print(f\"Total files to load: {len(file_indices)}\")"
   ]
  },
  {
   "cell_type": "code",
   "execution_count": 9,
   "id": "4fdd4576",
   "metadata": {},
   "outputs": [
    {
     "name": "stderr",
     "output_type": "stream",
     "text": [
      "Loading trajectories: 100%|██████████| 63/63 [00:03<00:00, 17.14it/s]\n"
     ]
    },
    {
     "name": "stdout",
     "output_type": "stream",
     "text": [
      "Number of frames: 627907\n"
     ]
    }
   ],
   "source": [
    "traj_list = []\n",
    "\n",
    "for i in tqdm(\n",
    "    range(len(file_indices)),\n",
    "    desc=\"Loading trajectories\"\n",
    "):\n",
    "    file_idx = f\"{i:03d}\"\n",
    "    traj = md.load_dcd(\n",
    "        f\"{base_dir}/{molecule}-0-protein-{file_idx}.dcd\",\n",
    "        top=pdb_file,\n",
    "    )\n",
    "    traj_list.append(traj)\n",
    "\n",
    "all_traj = md.join(traj_list)\n",
    "print(f\"Number of frames: {all_traj.n_frames}\")"
   ]
  },
  {
   "cell_type": "code",
   "execution_count": 10,
   "id": "605e3913",
   "metadata": {},
   "outputs": [
    {
     "name": "stdout",
     "output_type": "stream",
     "text": [
      "(627907, 595)\n"
     ]
    }
   ],
   "source": [
    "ca_resid_pair = np.array(\n",
    "    [(a.index, b.index) for a, b in combinations(list(traj.topology.residues), 2)]\n",
    ")\n",
    "all_traj_ca_pair_distances, _ = md.compute_contacts(\n",
    "\tall_traj, scheme=\"ca\", contacts=ca_resid_pair, periodic=False\n",
    ")\n",
    "print(all_traj_ca_pair_distances.shape)"
   ]
  },
  {
   "cell_type": "code",
   "execution_count": 11,
   "id": "5317949c",
   "metadata": {},
   "outputs": [],
   "source": [
    "def cad2switch(\n",
    "    cad,\n",
    "    cutoff: float = 0.8\n",
    ") -> np.ndarray:\n",
    "\tif type(cad) == torch.Tensor:\n",
    "\t\tcad = cad.numpy()\n",
    "\treturn (1 - np.power(cad / cutoff, 6)) / (1 - np.power(cad / cutoff, 12))"
   ]
  },
  {
   "cell_type": "code",
   "execution_count": 12,
   "id": "077df543",
   "metadata": {},
   "outputs": [],
   "source": [
    "# # CA pair distance\n",
    "\n",
    "# all_traj_ca_pair_distances_switch = cad2switch(all_traj_ca_pair_distances)\n",
    "\n",
    "# torch.save(torch.from_numpy(all_traj.xyz), f\"/home/shpark/prj-mlcv/lib/DESRES/DESRES-Trajectory_{molecule}-{simulation_idx}-protein/{molecule}-{simulation_idx}-pos.pt\")\n",
    "# torch.save(torch.from_numpy(all_traj_ca_pair_distances), f\"/home/shpark/prj-mlcv/lib/DESRES/DESRES-Trajectory_{molecule}-{simulation_idx}-protein/{molecule}-{simulation_idx}-cad.pt\")\n",
    "# torch.save(torch.from_numpy(all_traj_ca_pair_distances_switch), f\"/home/shpark/prj-mlcv/lib/DESRES/DESRES-Trajectory_{molecule}-{simulation_idx}-protein/{molecule}-{simulation_idx}-cad-switch.pt\")"
   ]
  },
  {
   "cell_type": "code",
   "execution_count": 13,
   "id": "788aeb74",
   "metadata": {},
   "outputs": [
    {
     "name": "stdout",
     "output_type": "stream",
     "text": [
      "torch.Size([627907, 577, 3])\n",
      "torch.Size([627907, 595])\n",
      "torch.Size([627907, 595])\n"
     ]
    }
   ],
   "source": [
    "loaded_xyz = torch.load(f\"/home/shpark/prj-mlcv/lib/DESRES/DESRES-Trajectory_{molecule}-{simulation_idx}-protein/{molecule}-{simulation_idx}-pos.pt\")\n",
    "loaded_cad = torch.load(f\"/home/shpark/prj-mlcv/lib/DESRES/DESRES-Trajectory_{molecule}-{simulation_idx}-protein/{molecule}-{simulation_idx}-cad.pt\")\n",
    "loaded_cad_switch = torch.load(f\"/home/shpark/prj-mlcv/lib/DESRES/DESRES-Trajectory_{molecule}-{simulation_idx}-protein/{molecule}-{simulation_idx}-cad-switch.pt\")\n",
    "\n",
    "print(loaded_xyz.shape)\n",
    "print(loaded_cad.shape)\n",
    "print(loaded_cad_switch.shape)"
   ]
  },
  {
   "cell_type": "markdown",
   "id": "e475a777",
   "metadata": {},
   "source": [
    "# Small size dataset generation"
   ]
  },
  {
   "cell_type": "markdown",
   "id": "629ce333",
   "metadata": {},
   "source": [
    "## Position and CAD"
   ]
  },
  {
   "cell_type": "code",
   "execution_count": 8,
   "id": "a2a29d71",
   "metadata": {},
   "outputs": [
    {
     "name": "stdout",
     "output_type": "stream",
     "text": [
      "torch.Size([627907, 595])\n",
      "torch.Size([627907, 577, 3])\n"
     ]
    }
   ],
   "source": [
    "simulation_idx = 0\n",
    "molecule_cad_path = f\"/home/shpark/prj-mlcv/lib/DESRES/DESRES-Trajectory_{molecule}-{simulation_idx}-protein/{molecule}-{simulation_idx}-cad.pt\"\n",
    "molecule_pos_path = f\"/home/shpark/prj-mlcv/lib/DESRES/DESRES-Trajectory_{molecule}-{simulation_idx}-protein/{molecule}-{simulation_idx}-pos.pt\"\n",
    "cad_data = torch.load(molecule_cad_path)\n",
    "pos_data = torch.load(molecule_pos_path)\n",
    "\n",
    "print(cad_data.shape)\n",
    "print(pos_data.shape)"
   ]
  },
  {
   "cell_type": "code",
   "execution_count": 9,
   "id": "2be93581",
   "metadata": {},
   "outputs": [],
   "source": [
    "def coord2rot(\n",
    "    pdb,\n",
    "    coordinates,\n",
    "):\n",
    "    ca_indices = pdb.topology.select('name CA')\n",
    "    n_indices = pdb.topology.select('name N')\n",
    "    c_indices = pdb.topology.select('name C')\n",
    "    pdb_xyz = torch.tensor(coordinates)\n",
    "\n",
    "    a = pdb_xyz[:, ca_indices]\n",
    "    b = pdb_xyz[:, n_indices]\n",
    "    c = pdb_xyz[:, c_indices]\n",
    "\n",
    "    u = b - a  # C_alpha -> N\n",
    "    v = c - a  # C_alpha -> C\n",
    "\n",
    "    # Gram-Schmidt Process\n",
    "    e1 = u / torch.norm(u, dim=-1, keepdim=True)\n",
    "    u2 = v - torch.sum(e1 * v, dim=-1, keepdim=True) * e1\n",
    "    e2 = u2 / torch.norm(u2, dim=-1, keepdim=True)\n",
    "    e3 = torch.cross(e1, e2, dim=-1)\n",
    "\n",
    "    Q = torch.stack([e1, e2, e3], dim=-1)\n",
    "\n",
    "    return Q"
   ]
  },
  {
   "cell_type": "code",
   "execution_count": 10,
   "id": "878c333d",
   "metadata": {},
   "outputs": [
    {
     "name": "stdout",
     "output_type": "stream",
     "text": [
      "torch.Size([627907, 577, 3])\n",
      "torch.Size([627907, 35, 3, 3])\n"
     ]
    }
   ],
   "source": [
    "pdb = md.load_pdb(pdb_file)\n",
    "orientation = coord2rot(pdb, pos_data.numpy())\n",
    "\n",
    "print(pos_data.shape)\n",
    "print(orientation.shape)"
   ]
  },
  {
   "cell_type": "code",
   "execution_count": 14,
   "id": "17dc98da",
   "metadata": {},
   "outputs": [
    {
     "name": "stdout",
     "output_type": "stream",
     "text": [
      "Dataset size: 50k\n"
     ]
    }
   ],
   "source": [
    "time_lag_list = [1, 5, 10, 100]\n",
    "data_num = all_traj.n_frames\n",
    "dataset_size = 50000\n",
    "num_data_str = str(dataset_size // 1000) + \"k\"\n",
    "selected_idx = torch.from_numpy(np.random.choice(data_num - max(time_lag_list) - 1, size = dataset_size, replace=False))\n",
    "print(f\"Dataset size: {num_data_str}\")"
   ]
  },
  {
   "cell_type": "code",
   "execution_count": null,
   "id": "3b89d589",
   "metadata": {},
   "outputs": [],
   "source": [
    "\n",
    "# Current information\n",
    "current_pos = pos_data[selected_idx]\n",
    "current_cad = cad_data[selected_idx]\n",
    "current_orientation = orientation[selected_idx]\n",
    "torch.save(current_pos, f\"/home/shpark/prj-mlcv/lib/DESRES/dataset/{molecule}-{num_data_str}/current-pos.pt\")\n",
    "torch.save(current_cad, f\"/home/shpark/prj-mlcv/lib/DESRES/dataset/{molecule}-{num_data_str}/current-cad.pt\")\n",
    "torch.save(current_orientation, f\"/home/shpark/prj-mlcv/lib/DESRES/dataset/{molecule}-{num_data_str}/current-orientation.pt\")\n",
    "\n",
    "# Time-lagged information\n",
    "for time_lag in time_lag_list:\n",
    "\tprint(time_lag)\n",
    "\tnext_pos = pos_data[selected_idx + time_lag]\n",
    "\tnext_cad = cad_data[selected_idx + time_lag]\n",
    "\tnext_orientation = orientation[selected_idx + time_lag]\n",
    "\ttorch.save(next_pos, f\"/home/shpark/prj-mlcv/lib/DESRES/dataset/{molecule}-{num_data_str}/lag{time_lag}-pos.pt\")\n",
    "\ttorch.save(next_cad, f\"/home/shpark/prj-mlcv/lib/DESRES/dataset/{molecule}-{num_data_str}/lag{time_lag}-cad.pt\")\n",
    "\ttorch.save(next_orientation, f\"/home/shpark/prj-mlcv/lib/DESRES/dataset/{molecule}-{num_data_str}/lag{time_lag}-orientation.pt\")"
   ]
  },
  {
   "cell_type": "markdown",
   "id": "5c70f364",
   "metadata": {},
   "source": [
    "## Label"
   ]
  },
  {
   "cell_type": "code",
   "execution_count": 15,
   "id": "62445521",
   "metadata": {},
   "outputs": [],
   "source": [
    "def label_by_rmsd(\n",
    "\ttraj,\n",
    "\treference_traj,\n",
    "\tcutoff=0.3\n",
    "):\n",
    "\trmsd = md.rmsd(traj, reference_traj)\n",
    "\treturn rmsd < cutoff"
   ]
  },
  {
   "cell_type": "code",
   "execution_count": null,
   "id": "be6ccabd",
   "metadata": {},
   "outputs": [],
   "source": [
    "folded_pdb = md.load(f\"/home/shpark/prj-mlcv/lib/DESRES/data/{molecule}/folded.pdb\")\n",
    "current_pos = torch.load(f\"/home/shpark/prj-mlcv/lib/DESRES/dataset/{molecule}-{num_data_str}/current-pos.pt\")\n",
    "all_traj.xyz = current_pos.numpy()\n",
    "current_label = label_by_rmsd(\n",
    "\ttraj = all_traj,\n",
    "\treference_traj = folded_pdb,\n",
    "\tcutoff = 0.4 if molecule == \"2F4K\" else 0.3\n",
    ")\n",
    "torch.save(torch.from_numpy(current_label), f\"/home/shpark/prj-mlcv/lib/DESRES/dataset/{molecule}-{num_data_str}/current-label.pt\")\n",
    "\n",
    "for selected_lag in [1, 5, 10, 100]:\n",
    "\ttime_lagged_pos = torch.load(f\"/home/shpark/prj-mlcv/lib/DESRES/dataset/{molecule}-{num_data_str}/lag{selected_lag}-pos.pt\")\n",
    "\tall_traj.xyz = time_lagged_pos.numpy()\n",
    "\ttime_lagged_label = label_by_rmsd(all_traj, folded_pdb)\n",
    "\ttorch.save(torch.from_numpy(time_lagged_label), f\"/home/shpark/prj-mlcv/lib/DESRES/dataset/{molecule}-{num_data_str}/lag{selected_lag}-label.pt\")"
   ]
  },
  {
   "cell_type": "code",
   "execution_count": 18,
   "id": "d3fb372c",
   "metadata": {},
   "outputs": [
    {
     "name": "stdout",
     "output_type": "stream",
     "text": [
      "tensor(8421)\n"
     ]
    }
   ],
   "source": [
    "num_data_str = \"50k\"\n",
    "current_label_path = f\"/home/shpark/prj-mlcv/lib/DESRES/dataset/{molecule}-{num_data_str}/current-label.pt\"\n",
    "current_label = torch.load(current_label_path)\n",
    "print(current_label.sum() )"
   ]
  },
  {
   "cell_type": "markdown",
   "id": "e90a2cb2",
   "metadata": {},
   "source": [
    "# Stats"
   ]
  },
  {
   "cell_type": "markdown",
   "id": "5b6be005",
   "metadata": {},
   "source": [
    "## CAD, pos stats"
   ]
  },
  {
   "cell_type": "code",
   "execution_count": 14,
   "id": "28cdd685",
   "metadata": {},
   "outputs": [
    {
     "name": "stdout",
     "output_type": "stream",
     "text": [
      "torch.Size([5000, 272, 3])\n",
      "torch.Size([5000, 190])\n",
      "torch.Size([5000, 272, 3])\n",
      "torch.Size([5000, 190])\n"
     ]
    }
   ],
   "source": [
    "dataset_size_str = \"5k\"\n",
    "selected_lag = 5\n",
    "\n",
    "current_pos = torch.load(f\"/home/shpark/prj-mlcv/lib/DESRES/dataset/{molecule}-{dataset_size_str}/current-pos.pt\")\n",
    "current_cad = torch.load(f\"/home/shpark/prj-mlcv/lib/DESRES/dataset/{molecule}-{dataset_size_str}/current-cad.pt\")\n",
    "time_lagged_pos = torch.load(f\"/home/shpark/prj-mlcv/lib/DESRES/dataset/{molecule}-{dataset_size_str}/lag{selected_lag}-pos.pt\")\n",
    "time_lagged_cad = torch.load(f\"/home/shpark/prj-mlcv/lib/DESRES/dataset/{molecule}-{dataset_size_str}/lag{selected_lag}-cad.pt\")\n",
    "\n",
    "print(current_pos.shape)\n",
    "print(current_cad.shape)\n",
    "print(time_lagged_pos.shape)\n",
    "print(time_lagged_cad.shape)"
   ]
  },
  {
   "cell_type": "code",
   "execution_count": 15,
   "id": "f20347e9",
   "metadata": {},
   "outputs": [
    {
     "data": {
      "image/png": "[encoded data removed]",
      "text/plain": [
       "<Figure size 640x480 with 1 Axes>"
      ]
     },
     "metadata": {},
     "output_type": "display_data"
    },
    {
     "name": "stdout",
     "output_type": "stream",
     "text": [
      "Current CAD mean: 1.1419\n",
      "Time-lagged CAD mean: 1.1408\n",
      "Current CAD max: 5.3994\n",
      "Time-lagged CAD max: 4.9646\n"
     ]
    }
   ],
   "source": [
    "plt.hist(current_cad.flatten(), bins=100, alpha=0.5, log=True, label=\"current\")\n",
    "plt.hist(time_lagged_cad.flatten(), bins=100, alpha=0.5, log=True, label=\"time-lagged\")\n",
    "plt.legend()\n",
    "plt.show()\n",
    "\n",
    "print(f\"Current CAD mean: {current_cad.mean():.4f}\")\n",
    "print(f\"Time-lagged CAD mean: {time_lagged_cad.mean():.4f}\")\n",
    "print(f\"Current CAD max: {current_cad.max():.4f}\")\n",
    "print(f\"Time-lagged CAD max: {time_lagged_cad.max():.4f}\")"
   ]
  },
  {
   "cell_type": "markdown",
   "id": "7058471e",
   "metadata": {},
   "source": [
    "## ETC"
   ]
  },
  {
   "cell_type": "code",
   "execution_count": null,
   "id": "39ff1127",
   "metadata": {},
   "outputs": [],
   "source": []
  }
 ],
 "metadata": {
  "kernelspec": {
   "display_name": "bioemu",
   "language": "python",
   "name": "python3"
  },
  "language_info": {
   "codemirror_mode": {
    "name": "ipython",
    "version": 3
   },
   "file_extension": ".py",
   "mimetype": "text/x-python",
   "name": "python",
   "nbconvert_exporter": "python",
   "pygments_lexer": "ipython3",
   "version": "3.10.18"
  }
 },
 "nbformat": 4,
 "nbformat_minor": 5
}
