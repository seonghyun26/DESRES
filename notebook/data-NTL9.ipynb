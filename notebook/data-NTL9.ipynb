{
 "cells": [
  {
   "cell_type": "code",
   "execution_count": 1,
   "metadata": {},
   "outputs": [
    {
     "data": {
      "application/vnd.jupyter.widget-view+json": {
       "model_id": "70c1c5ecaf59441da09f8140456ab0d6",
       "version_major": 2,
       "version_minor": 0
      },
      "text/plain": []
     },
     "metadata": {},
     "output_type": "display_data"
    }
   ],
   "source": [
    "import pyemma\n",
    "import pickle\n",
    "import os\n",
    "import glob\n",
    "import torch\n",
    "\n",
    "import mdtraj as md\n",
    "import numpy as np\n",
    "import nglview as nv\n",
    "import matplotlib.pyplot as plt\n",
    "import numpy as np\n",
    "\n",
    "np.bool = np.bool_\n",
    "\n",
    "from tqdm import tqdm\n",
    "from matplotlib.colors import LogNorm\n",
    "from itertools import combinations\n",
    "\n",
    "blue = (70 / 255, 110 / 255, 250 / 255)\n",
    "green = (100 / 255, 170 / 255, 120 / 255)"
   ]
  },
  {
   "cell_type": "code",
   "execution_count": 2,
   "metadata": {},
   "outputs": [],
   "source": [
    "molecule = \"NTL9\"\n",
    "simulation_idx = 0\n",
    "base_dir = f\"/home/shpark/prj-mlcv/lib/DESRES/DESRES-Trajectory_{molecule}-{simulation_idx}-protein/{molecule}-{simulation_idx}-protein\"\n",
    "save_dir = f\"/home/shpark/prj-mlcv/lib/DESRES/DESRES-Trajectory_{molecule}-{simulation_idx}-protein\"\n",
    "pdb_path = f\"/home/shpark/prj-mlcv/lib/DESRES/data/{molecule}/{molecule}_from_mae.pdb\""
   ]
  },
  {
   "cell_type": "code",
   "execution_count": 3,
   "metadata": {},
   "outputs": [
    {
     "name": "stdout",
     "output_type": "stream",
     "text": [
      "MKVIFLKDVKGMGKKGEIKNVADGYANNFLFKQGLAIEA\n",
      "39\n"
     ]
    }
   ],
   "source": [
    "name2letter = {\n",
    "\t\"ALA\": \"A\",\n",
    "\t\"CYS\": \"C\",\n",
    "\t\"ASP\": \"D\",\n",
    "\t\"GLU\": \"E\",\n",
    "\t\"PHE\": \"F\",\n",
    "\t\"GLY\": \"G\",\n",
    "\t\"HIS\": \"H\",\n",
    "\t\"ILE\": \"I\",\n",
    "\t\"LYS\": \"K\",\n",
    "\t\"LEU\": \"L\",\n",
    "\t\"MET\": \"M\",\n",
    "\t\"ASN\": \"N\",\n",
    "\t\"PRO\": \"P\",\n",
    "\t\"GLN\": \"Q\",\n",
    "\t\"ARG\": \"R\",\n",
    "\t\"SER\": \"S\",\n",
    "\t\"THR\": \"T\",\n",
    "\t\"VAL\": \"V\",\n",
    "\t\"TRP\": \"W\",\n",
    "\t\"TYR\": \"Y\",\n",
    "\t\"NLE\": \"X\",\n",
    "}\n",
    "\n",
    "pdb_traj = md.load_pdb(pdb_path) \n",
    "residue_names = [residue.name for residue in pdb_traj.topology.residues]\n",
    "one_letter_str = \"\"\n",
    "for idx, names in enumerate(residue_names):\n",
    "    # print(f\"Letter {idx}: {name2letter[names]}\")\n",
    "    one_letter_str += name2letter[names]\n",
    "print(one_letter_str)\n",
    "print(len(one_letter_str))"
   ]
  },
  {
   "cell_type": "code",
   "execution_count": 4,
   "metadata": {},
   "outputs": [
    {
     "name": "stdout",
     "output_type": "stream",
     "text": [
      "d1: DISTANCE ATOMS=2,21\n",
      "d2: DISTANCE ATOMS=2,43\n",
      "d3: DISTANCE ATOMS=2,59\n",
      "d4: DISTANCE ATOMS=2,78\n",
      "d5: DISTANCE ATOMS=2,98\n",
      "d6: DISTANCE ATOMS=2,117\n",
      "d7: DISTANCE ATOMS=2,139\n",
      "d8: DISTANCE ATOMS=2,151\n",
      "d9: DISTANCE ATOMS=2,167\n",
      "d10: DISTANCE ATOMS=2,189\n",
      "d11: DISTANCE ATOMS=2,196\n",
      "d12: DISTANCE ATOMS=2,213\n",
      "d13: DISTANCE ATOMS=2,220\n",
      "d14: DISTANCE ATOMS=2,242\n",
      "d15: DISTANCE ATOMS=2,264\n",
      "d16: DISTANCE ATOMS=2,271\n",
      "d17: DISTANCE ATOMS=2,286\n",
      "d18: DISTANCE ATOMS=2,305\n",
      "d19: DISTANCE ATOMS=2,327\n",
      "d20: DISTANCE ATOMS=2,341\n",
      "d21: DISTANCE ATOMS=2,357\n",
      "d22: DISTANCE ATOMS=2,367\n",
      "d23: DISTANCE ATOMS=2,379\n",
      "d24: DISTANCE ATOMS=2,386\n",
      "d25: DISTANCE ATOMS=2,407\n",
      "d26: DISTANCE ATOMS=2,417\n",
      "d27: DISTANCE ATOMS=2,431\n",
      "d28: DISTANCE ATOMS=2,445\n",
      "d29: DISTANCE ATOMS=2,465\n",
      "d30: DISTANCE ATOMS=2,484\n",
      "d31: DISTANCE ATOMS=2,504\n",
      "d32: DISTANCE ATOMS=2,526\n",
      "d33: DISTANCE ATOMS=2,543\n",
      "d34: DISTANCE ATOMS=2,550\n",
      "d35: DISTANCE ATOMS=2,569\n",
      "d36: DISTANCE ATOMS=2,579\n",
      "d37: DISTANCE ATOMS=2,598\n",
      "d38: DISTANCE ATOMS=2,613\n",
      "d39: DISTANCE ATOMS=21,43\n",
      "d40: DISTANCE ATOMS=21,59\n",
      "d41: DISTANCE ATOMS=21,78\n",
      "d42: DISTANCE ATOMS=21,98\n",
      "d43: DISTANCE ATOMS=21,117\n",
      "d44: DISTANCE ATOMS=21,139\n",
      "d45: DISTANCE ATOMS=21,151\n",
      "d46: DISTANCE ATOMS=21,167\n",
      "d47: DISTANCE ATOMS=21,189\n",
      "d48: DISTANCE ATOMS=21,196\n",
      "d49: DISTANCE ATOMS=21,213\n",
      "d50: DISTANCE ATOMS=21,220\n",
      "d51: DISTANCE ATOMS=21,242\n",
      "d52: DISTANCE ATOMS=21,264\n",
      "d53: DISTANCE ATOMS=21,271\n",
      "d54: DISTANCE ATOMS=21,286\n",
      "d55: DISTANCE ATOMS=21,305\n",
      "d56: DISTANCE ATOMS=21,327\n",
      "d57: DISTANCE ATOMS=21,341\n",
      "d58: DISTANCE ATOMS=21,357\n",
      "d59: DISTANCE ATOMS=21,367\n",
      "d60: DISTANCE ATOMS=21,379\n",
      "d61: DISTANCE ATOMS=21,386\n",
      "d62: DISTANCE ATOMS=21,407\n",
      "d63: DISTANCE ATOMS=21,417\n",
      "d64: DISTANCE ATOMS=21,431\n",
      "d65: DISTANCE ATOMS=21,445\n",
      "d66: DISTANCE ATOMS=21,465\n",
      "d67: DISTANCE ATOMS=21,484\n",
      "d68: DISTANCE ATOMS=21,504\n",
      "d69: DISTANCE ATOMS=21,526\n",
      "d70: DISTANCE ATOMS=21,543\n",
      "d71: DISTANCE ATOMS=21,550\n",
      "d72: DISTANCE ATOMS=21,569\n",
      "d73: DISTANCE ATOMS=21,579\n",
      "d74: DISTANCE ATOMS=21,598\n",
      "d75: DISTANCE ATOMS=21,613\n",
      "d76: DISTANCE ATOMS=43,59\n",
      "d77: DISTANCE ATOMS=43,78\n",
      "d78: DISTANCE ATOMS=43,98\n",
      "d79: DISTANCE ATOMS=43,117\n",
      "d80: DISTANCE ATOMS=43,139\n",
      "d81: DISTANCE ATOMS=43,151\n",
      "d82: DISTANCE ATOMS=43,167\n",
      "d83: DISTANCE ATOMS=43,189\n",
      "d84: DISTANCE ATOMS=43,196\n",
      "d85: DISTANCE ATOMS=43,213\n",
      "d86: DISTANCE ATOMS=43,220\n",
      "d87: DISTANCE ATOMS=43,242\n",
      "d88: DISTANCE ATOMS=43,264\n",
      "d89: DISTANCE ATOMS=43,271\n",
      "d90: DISTANCE ATOMS=43,286\n",
      "d91: DISTANCE ATOMS=43,305\n",
      "d92: DISTANCE ATOMS=43,327\n",
      "d93: DISTANCE ATOMS=43,341\n",
      "d94: DISTANCE ATOMS=43,357\n",
      "d95: DISTANCE ATOMS=43,367\n",
      "d96: DISTANCE ATOMS=43,379\n",
      "d97: DISTANCE ATOMS=43,386\n",
      "d98: DISTANCE ATOMS=43,407\n",
      "d99: DISTANCE ATOMS=43,417\n",
      "d100: DISTANCE ATOMS=43,431\n",
      "d101: DISTANCE ATOMS=43,445\n",
      "d102: DISTANCE ATOMS=43,465\n",
      "d103: DISTANCE ATOMS=43,484\n",
      "d104: DISTANCE ATOMS=43,504\n",
      "d105: DISTANCE ATOMS=43,526\n",
      "d106: DISTANCE ATOMS=43,543\n",
      "d107: DISTANCE ATOMS=43,550\n",
      "d108: DISTANCE ATOMS=43,569\n",
      "d109: DISTANCE ATOMS=43,579\n",
      "d110: DISTANCE ATOMS=43,598\n",
      "d111: DISTANCE ATOMS=43,613\n",
      "d112: DISTANCE ATOMS=59,78\n",
      "d113: DISTANCE ATOMS=59,98\n",
      "d114: DISTANCE ATOMS=59,117\n",
      "d115: DISTANCE ATOMS=59,139\n",
      "d116: DISTANCE ATOMS=59,151\n",
      "d117: DISTANCE ATOMS=59,167\n",
      "d118: DISTANCE ATOMS=59,189\n",
      "d119: DISTANCE ATOMS=59,196\n",
      "d120: DISTANCE ATOMS=59,213\n",
      "d121: DISTANCE ATOMS=59,220\n",
      "d122: DISTANCE ATOMS=59,242\n",
      "d123: DISTANCE ATOMS=59,264\n",
      "d124: DISTANCE ATOMS=59,271\n",
      "d125: DISTANCE ATOMS=59,286\n",
      "d126: DISTANCE ATOMS=59,305\n",
      "d127: DISTANCE ATOMS=59,327\n",
      "d128: DISTANCE ATOMS=59,341\n",
      "d129: DISTANCE ATOMS=59,357\n",
      "d130: DISTANCE ATOMS=59,367\n",
      "d131: DISTANCE ATOMS=59,379\n",
      "d132: DISTANCE ATOMS=59,386\n",
      "d133: DISTANCE ATOMS=59,407\n",
      "d134: DISTANCE ATOMS=59,417\n",
      "d135: DISTANCE ATOMS=59,431\n",
      "d136: DISTANCE ATOMS=59,445\n",
      "d137: DISTANCE ATOMS=59,465\n",
      "d138: DISTANCE ATOMS=59,484\n",
      "d139: DISTANCE ATOMS=59,504\n",
      "d140: DISTANCE ATOMS=59,526\n",
      "d141: DISTANCE ATOMS=59,543\n",
      "d142: DISTANCE ATOMS=59,550\n",
      "d143: DISTANCE ATOMS=59,569\n",
      "d144: DISTANCE ATOMS=59,579\n",
      "d145: DISTANCE ATOMS=59,598\n",
      "d146: DISTANCE ATOMS=59,613\n",
      "d147: DISTANCE ATOMS=78,98\n",
      "d148: DISTANCE ATOMS=78,117\n",
      "d149: DISTANCE ATOMS=78,139\n",
      "d150: DISTANCE ATOMS=78,151\n",
      "d151: DISTANCE ATOMS=78,167\n",
      "d152: DISTANCE ATOMS=78,189\n",
      "d153: DISTANCE ATOMS=78,196\n",
      "d154: DISTANCE ATOMS=78,213\n",
      "d155: DISTANCE ATOMS=78,220\n",
      "d156: DISTANCE ATOMS=78,242\n",
      "d157: DISTANCE ATOMS=78,264\n",
      "d158: DISTANCE ATOMS=78,271\n",
      "d159: DISTANCE ATOMS=78,286\n",
      "d160: DISTANCE ATOMS=78,305\n",
      "d161: DISTANCE ATOMS=78,327\n",
      "d162: DISTANCE ATOMS=78,341\n",
      "d163: DISTANCE ATOMS=78,357\n",
      "d164: DISTANCE ATOMS=78,367\n",
      "d165: DISTANCE ATOMS=78,379\n",
      "d166: DISTANCE ATOMS=78,386\n",
      "d167: DISTANCE ATOMS=78,407\n",
      "d168: DISTANCE ATOMS=78,417\n",
      "d169: DISTANCE ATOMS=78,431\n",
      "d170: DISTANCE ATOMS=78,445\n",
      "d171: DISTANCE ATOMS=78,465\n",
      "d172: DISTANCE ATOMS=78,484\n",
      "d173: DISTANCE ATOMS=78,504\n",
      "d174: DISTANCE ATOMS=78,526\n",
      "d175: DISTANCE ATOMS=78,543\n",
      "d176: DISTANCE ATOMS=78,550\n",
      "d177: DISTANCE ATOMS=78,569\n",
      "d178: DISTANCE ATOMS=78,579\n",
      "d179: DISTANCE ATOMS=78,598\n",
      "d180: DISTANCE ATOMS=78,613\n",
      "d181: DISTANCE ATOMS=98,117\n",
      "d182: DISTANCE ATOMS=98,139\n",
      "d183: DISTANCE ATOMS=98,151\n",
      "d184: DISTANCE ATOMS=98,167\n",
      "d185: DISTANCE ATOMS=98,189\n",
      "d186: DISTANCE ATOMS=98,196\n",
      "d187: DISTANCE ATOMS=98,213\n",
      "d188: DISTANCE ATOMS=98,220\n",
      "d189: DISTANCE ATOMS=98,242\n",
      "d190: DISTANCE ATOMS=98,264\n",
      "d191: DISTANCE ATOMS=98,271\n",
      "d192: DISTANCE ATOMS=98,286\n",
      "d193: DISTANCE ATOMS=98,305\n",
      "d194: DISTANCE ATOMS=98,327\n",
      "d195: DISTANCE ATOMS=98,341\n",
      "d196: DISTANCE ATOMS=98,357\n",
      "d197: DISTANCE ATOMS=98,367\n",
      "d198: DISTANCE ATOMS=98,379\n",
      "d199: DISTANCE ATOMS=98,386\n",
      "d200: DISTANCE ATOMS=98,407\n",
      "d201: DISTANCE ATOMS=98,417\n",
      "d202: DISTANCE ATOMS=98,431\n",
      "d203: DISTANCE ATOMS=98,445\n",
      "d204: DISTANCE ATOMS=98,465\n",
      "d205: DISTANCE ATOMS=98,484\n",
      "d206: DISTANCE ATOMS=98,504\n",
      "d207: DISTANCE ATOMS=98,526\n",
      "d208: DISTANCE ATOMS=98,543\n",
      "d209: DISTANCE ATOMS=98,550\n",
      "d210: DISTANCE ATOMS=98,569\n",
      "d211: DISTANCE ATOMS=98,579\n",
      "d212: DISTANCE ATOMS=98,598\n",
      "d213: DISTANCE ATOMS=98,613\n",
      "d214: DISTANCE ATOMS=117,139\n",
      "d215: DISTANCE ATOMS=117,151\n",
      "d216: DISTANCE ATOMS=117,167\n",
      "d217: DISTANCE ATOMS=117,189\n",
      "d218: DISTANCE ATOMS=117,196\n",
      "d219: DISTANCE ATOMS=117,213\n",
      "d220: DISTANCE ATOMS=117,220\n",
      "d221: DISTANCE ATOMS=117,242\n",
      "d222: DISTANCE ATOMS=117,264\n",
      "d223: DISTANCE ATOMS=117,271\n",
      "d224: DISTANCE ATOMS=117,286\n",
      "d225: DISTANCE ATOMS=117,305\n",
      "d226: DISTANCE ATOMS=117,327\n",
      "d227: DISTANCE ATOMS=117,341\n",
      "d228: DISTANCE ATOMS=117,357\n",
      "d229: DISTANCE ATOMS=117,367\n",
      "d230: DISTANCE ATOMS=117,379\n",
      "d231: DISTANCE ATOMS=117,386\n",
      "d232: DISTANCE ATOMS=117,407\n",
      "d233: DISTANCE ATOMS=117,417\n",
      "d234: DISTANCE ATOMS=117,431\n",
      "d235: DISTANCE ATOMS=117,445\n",
      "d236: DISTANCE ATOMS=117,465\n",
      "d237: DISTANCE ATOMS=117,484\n",
      "d238: DISTANCE ATOMS=117,504\n",
      "d239: DISTANCE ATOMS=117,526\n",
      "d240: DISTANCE ATOMS=117,543\n",
      "d241: DISTANCE ATOMS=117,550\n",
      "d242: DISTANCE ATOMS=117,569\n",
      "d243: DISTANCE ATOMS=117,579\n",
      "d244: DISTANCE ATOMS=117,598\n",
      "d245: DISTANCE ATOMS=117,613\n",
      "d246: DISTANCE ATOMS=139,151\n",
      "d247: DISTANCE ATOMS=139,167\n",
      "d248: DISTANCE ATOMS=139,189\n",
      "d249: DISTANCE ATOMS=139,196\n",
      "d250: DISTANCE ATOMS=139,213\n",
      "d251: DISTANCE ATOMS=139,220\n",
      "d252: DISTANCE ATOMS=139,242\n",
      "d253: DISTANCE ATOMS=139,264\n",
      "d254: DISTANCE ATOMS=139,271\n",
      "d255: DISTANCE ATOMS=139,286\n",
      "d256: DISTANCE ATOMS=139,305\n",
      "d257: DISTANCE ATOMS=139,327\n",
      "d258: DISTANCE ATOMS=139,341\n",
      "d259: DISTANCE ATOMS=139,357\n",
      "d260: DISTANCE ATOMS=139,367\n",
      "d261: DISTANCE ATOMS=139,379\n",
      "d262: DISTANCE ATOMS=139,386\n",
      "d263: DISTANCE ATOMS=139,407\n",
      "d264: DISTANCE ATOMS=139,417\n",
      "d265: DISTANCE ATOMS=139,431\n",
      "d266: DISTANCE ATOMS=139,445\n",
      "d267: DISTANCE ATOMS=139,465\n",
      "d268: DISTANCE ATOMS=139,484\n",
      "d269: DISTANCE ATOMS=139,504\n",
      "d270: DISTANCE ATOMS=139,526\n",
      "d271: DISTANCE ATOMS=139,543\n",
      "d272: DISTANCE ATOMS=139,550\n",
      "d273: DISTANCE ATOMS=139,569\n",
      "d274: DISTANCE ATOMS=139,579\n",
      "d275: DISTANCE ATOMS=139,598\n",
      "d276: DISTANCE ATOMS=139,613\n",
      "d277: DISTANCE ATOMS=151,167\n",
      "d278: DISTANCE ATOMS=151,189\n",
      "d279: DISTANCE ATOMS=151,196\n",
      "d280: DISTANCE ATOMS=151,213\n",
      "d281: DISTANCE ATOMS=151,220\n",
      "d282: DISTANCE ATOMS=151,242\n",
      "d283: DISTANCE ATOMS=151,264\n",
      "d284: DISTANCE ATOMS=151,271\n",
      "d285: DISTANCE ATOMS=151,286\n",
      "d286: DISTANCE ATOMS=151,305\n",
      "d287: DISTANCE ATOMS=151,327\n",
      "d288: DISTANCE ATOMS=151,341\n",
      "d289: DISTANCE ATOMS=151,357\n",
      "d290: DISTANCE ATOMS=151,367\n",
      "d291: DISTANCE ATOMS=151,379\n",
      "d292: DISTANCE ATOMS=151,386\n",
      "d293: DISTANCE ATOMS=151,407\n",
      "d294: DISTANCE ATOMS=151,417\n",
      "d295: DISTANCE ATOMS=151,431\n",
      "d296: DISTANCE ATOMS=151,445\n",
      "d297: DISTANCE ATOMS=151,465\n",
      "d298: DISTANCE ATOMS=151,484\n",
      "d299: DISTANCE ATOMS=151,504\n",
      "d300: DISTANCE ATOMS=151,526\n",
      "d301: DISTANCE ATOMS=151,543\n",
      "d302: DISTANCE ATOMS=151,550\n",
      "d303: DISTANCE ATOMS=151,569\n",
      "d304: DISTANCE ATOMS=151,579\n",
      "d305: DISTANCE ATOMS=151,598\n",
      "d306: DISTANCE ATOMS=151,613\n",
      "d307: DISTANCE ATOMS=167,189\n",
      "d308: DISTANCE ATOMS=167,196\n",
      "d309: DISTANCE ATOMS=167,213\n",
      "d310: DISTANCE ATOMS=167,220\n",
      "d311: DISTANCE ATOMS=167,242\n",
      "d312: DISTANCE ATOMS=167,264\n",
      "d313: DISTANCE ATOMS=167,271\n",
      "d314: DISTANCE ATOMS=167,286\n",
      "d315: DISTANCE ATOMS=167,305\n",
      "d316: DISTANCE ATOMS=167,327\n",
      "d317: DISTANCE ATOMS=167,341\n",
      "d318: DISTANCE ATOMS=167,357\n",
      "d319: DISTANCE ATOMS=167,367\n",
      "d320: DISTANCE ATOMS=167,379\n",
      "d321: DISTANCE ATOMS=167,386\n",
      "d322: DISTANCE ATOMS=167,407\n",
      "d323: DISTANCE ATOMS=167,417\n",
      "d324: DISTANCE ATOMS=167,431\n",
      "d325: DISTANCE ATOMS=167,445\n",
      "d326: DISTANCE ATOMS=167,465\n",
      "d327: DISTANCE ATOMS=167,484\n",
      "d328: DISTANCE ATOMS=167,504\n",
      "d329: DISTANCE ATOMS=167,526\n",
      "d330: DISTANCE ATOMS=167,543\n",
      "d331: DISTANCE ATOMS=167,550\n",
      "d332: DISTANCE ATOMS=167,569\n",
      "d333: DISTANCE ATOMS=167,579\n",
      "d334: DISTANCE ATOMS=167,598\n",
      "d335: DISTANCE ATOMS=167,613\n",
      "d336: DISTANCE ATOMS=189,196\n",
      "d337: DISTANCE ATOMS=189,213\n",
      "d338: DISTANCE ATOMS=189,220\n",
      "d339: DISTANCE ATOMS=189,242\n",
      "d340: DISTANCE ATOMS=189,264\n",
      "d341: DISTANCE ATOMS=189,271\n",
      "d342: DISTANCE ATOMS=189,286\n",
      "d343: DISTANCE ATOMS=189,305\n",
      "d344: DISTANCE ATOMS=189,327\n",
      "d345: DISTANCE ATOMS=189,341\n",
      "d346: DISTANCE ATOMS=189,357\n",
      "d347: DISTANCE ATOMS=189,367\n",
      "d348: DISTANCE ATOMS=189,379\n",
      "d349: DISTANCE ATOMS=189,386\n",
      "d350: DISTANCE ATOMS=189,407\n",
      "d351: DISTANCE ATOMS=189,417\n",
      "d352: DISTANCE ATOMS=189,431\n",
      "d353: DISTANCE ATOMS=189,445\n",
      "d354: DISTANCE ATOMS=189,465\n",
      "d355: DISTANCE ATOMS=189,484\n",
      "d356: DISTANCE ATOMS=189,504\n",
      "d357: DISTANCE ATOMS=189,526\n",
      "d358: DISTANCE ATOMS=189,543\n",
      "d359: DISTANCE ATOMS=189,550\n",
      "d360: DISTANCE ATOMS=189,569\n",
      "d361: DISTANCE ATOMS=189,579\n",
      "d362: DISTANCE ATOMS=189,598\n",
      "d363: DISTANCE ATOMS=189,613\n",
      "d364: DISTANCE ATOMS=196,213\n",
      "d365: DISTANCE ATOMS=196,220\n",
      "d366: DISTANCE ATOMS=196,242\n",
      "d367: DISTANCE ATOMS=196,264\n",
      "d368: DISTANCE ATOMS=196,271\n",
      "d369: DISTANCE ATOMS=196,286\n",
      "d370: DISTANCE ATOMS=196,305\n",
      "d371: DISTANCE ATOMS=196,327\n",
      "d372: DISTANCE ATOMS=196,341\n",
      "d373: DISTANCE ATOMS=196,357\n",
      "d374: DISTANCE ATOMS=196,367\n",
      "d375: DISTANCE ATOMS=196,379\n",
      "d376: DISTANCE ATOMS=196,386\n",
      "d377: DISTANCE ATOMS=196,407\n",
      "d378: DISTANCE ATOMS=196,417\n",
      "d379: DISTANCE ATOMS=196,431\n",
      "d380: DISTANCE ATOMS=196,445\n",
      "d381: DISTANCE ATOMS=196,465\n",
      "d382: DISTANCE ATOMS=196,484\n",
      "d383: DISTANCE ATOMS=196,504\n",
      "d384: DISTANCE ATOMS=196,526\n",
      "d385: DISTANCE ATOMS=196,543\n",
      "d386: DISTANCE ATOMS=196,550\n",
      "d387: DISTANCE ATOMS=196,569\n",
      "d388: DISTANCE ATOMS=196,579\n",
      "d389: DISTANCE ATOMS=196,598\n",
      "d390: DISTANCE ATOMS=196,613\n",
      "d391: DISTANCE ATOMS=213,220\n",
      "d392: DISTANCE ATOMS=213,242\n",
      "d393: DISTANCE ATOMS=213,264\n",
      "d394: DISTANCE ATOMS=213,271\n",
      "d395: DISTANCE ATOMS=213,286\n",
      "d396: DISTANCE ATOMS=213,305\n",
      "d397: DISTANCE ATOMS=213,327\n",
      "d398: DISTANCE ATOMS=213,341\n",
      "d399: DISTANCE ATOMS=213,357\n",
      "d400: DISTANCE ATOMS=213,367\n",
      "d401: DISTANCE ATOMS=213,379\n",
      "d402: DISTANCE ATOMS=213,386\n",
      "d403: DISTANCE ATOMS=213,407\n",
      "d404: DISTANCE ATOMS=213,417\n",
      "d405: DISTANCE ATOMS=213,431\n",
      "d406: DISTANCE ATOMS=213,445\n",
      "d407: DISTANCE ATOMS=213,465\n",
      "d408: DISTANCE ATOMS=213,484\n",
      "d409: DISTANCE ATOMS=213,504\n",
      "d410: DISTANCE ATOMS=213,526\n",
      "d411: DISTANCE ATOMS=213,543\n",
      "d412: DISTANCE ATOMS=213,550\n",
      "d413: DISTANCE ATOMS=213,569\n",
      "d414: DISTANCE ATOMS=213,579\n",
      "d415: DISTANCE ATOMS=213,598\n",
      "d416: DISTANCE ATOMS=213,613\n",
      "d417: DISTANCE ATOMS=220,242\n",
      "d418: DISTANCE ATOMS=220,264\n",
      "d419: DISTANCE ATOMS=220,271\n",
      "d420: DISTANCE ATOMS=220,286\n",
      "d421: DISTANCE ATOMS=220,305\n",
      "d422: DISTANCE ATOMS=220,327\n",
      "d423: DISTANCE ATOMS=220,341\n",
      "d424: DISTANCE ATOMS=220,357\n",
      "d425: DISTANCE ATOMS=220,367\n",
      "d426: DISTANCE ATOMS=220,379\n",
      "d427: DISTANCE ATOMS=220,386\n",
      "d428: DISTANCE ATOMS=220,407\n",
      "d429: DISTANCE ATOMS=220,417\n",
      "d430: DISTANCE ATOMS=220,431\n",
      "d431: DISTANCE ATOMS=220,445\n",
      "d432: DISTANCE ATOMS=220,465\n",
      "d433: DISTANCE ATOMS=220,484\n",
      "d434: DISTANCE ATOMS=220,504\n",
      "d435: DISTANCE ATOMS=220,526\n",
      "d436: DISTANCE ATOMS=220,543\n",
      "d437: DISTANCE ATOMS=220,550\n",
      "d438: DISTANCE ATOMS=220,569\n",
      "d439: DISTANCE ATOMS=220,579\n",
      "d440: DISTANCE ATOMS=220,598\n",
      "d441: DISTANCE ATOMS=220,613\n",
      "d442: DISTANCE ATOMS=242,264\n",
      "d443: DISTANCE ATOMS=242,271\n",
      "d444: DISTANCE ATOMS=242,286\n",
      "d445: DISTANCE ATOMS=242,305\n",
      "d446: DISTANCE ATOMS=242,327\n",
      "d447: DISTANCE ATOMS=242,341\n",
      "d448: DISTANCE ATOMS=242,357\n",
      "d449: DISTANCE ATOMS=242,367\n",
      "d450: DISTANCE ATOMS=242,379\n",
      "d451: DISTANCE ATOMS=242,386\n",
      "d452: DISTANCE ATOMS=242,407\n",
      "d453: DISTANCE ATOMS=242,417\n",
      "d454: DISTANCE ATOMS=242,431\n",
      "d455: DISTANCE ATOMS=242,445\n",
      "d456: DISTANCE ATOMS=242,465\n",
      "d457: DISTANCE ATOMS=242,484\n",
      "d458: DISTANCE ATOMS=242,504\n",
      "d459: DISTANCE ATOMS=242,526\n",
      "d460: DISTANCE ATOMS=242,543\n",
      "d461: DISTANCE ATOMS=242,550\n",
      "d462: DISTANCE ATOMS=242,569\n",
      "d463: DISTANCE ATOMS=242,579\n",
      "d464: DISTANCE ATOMS=242,598\n",
      "d465: DISTANCE ATOMS=242,613\n",
      "d466: DISTANCE ATOMS=264,271\n",
      "d467: DISTANCE ATOMS=264,286\n",
      "d468: DISTANCE ATOMS=264,305\n",
      "d469: DISTANCE ATOMS=264,327\n",
      "d470: DISTANCE ATOMS=264,341\n",
      "d471: DISTANCE ATOMS=264,357\n",
      "d472: DISTANCE ATOMS=264,367\n",
      "d473: DISTANCE ATOMS=264,379\n",
      "d474: DISTANCE ATOMS=264,386\n",
      "d475: DISTANCE ATOMS=264,407\n",
      "d476: DISTANCE ATOMS=264,417\n",
      "d477: DISTANCE ATOMS=264,431\n",
      "d478: DISTANCE ATOMS=264,445\n",
      "d479: DISTANCE ATOMS=264,465\n",
      "d480: DISTANCE ATOMS=264,484\n",
      "d481: DISTANCE ATOMS=264,504\n",
      "d482: DISTANCE ATOMS=264,526\n",
      "d483: DISTANCE ATOMS=264,543\n",
      "d484: DISTANCE ATOMS=264,550\n",
      "d485: DISTANCE ATOMS=264,569\n",
      "d486: DISTANCE ATOMS=264,579\n",
      "d487: DISTANCE ATOMS=264,598\n",
      "d488: DISTANCE ATOMS=264,613\n",
      "d489: DISTANCE ATOMS=271,286\n",
      "d490: DISTANCE ATOMS=271,305\n",
      "d491: DISTANCE ATOMS=271,327\n",
      "d492: DISTANCE ATOMS=271,341\n",
      "d493: DISTANCE ATOMS=271,357\n",
      "d494: DISTANCE ATOMS=271,367\n",
      "d495: DISTANCE ATOMS=271,379\n",
      "d496: DISTANCE ATOMS=271,386\n",
      "d497: DISTANCE ATOMS=271,407\n",
      "d498: DISTANCE ATOMS=271,417\n",
      "d499: DISTANCE ATOMS=271,431\n",
      "d500: DISTANCE ATOMS=271,445\n",
      "d501: DISTANCE ATOMS=271,465\n",
      "d502: DISTANCE ATOMS=271,484\n",
      "d503: DISTANCE ATOMS=271,504\n",
      "d504: DISTANCE ATOMS=271,526\n",
      "d505: DISTANCE ATOMS=271,543\n",
      "d506: DISTANCE ATOMS=271,550\n",
      "d507: DISTANCE ATOMS=271,569\n",
      "d508: DISTANCE ATOMS=271,579\n",
      "d509: DISTANCE ATOMS=271,598\n",
      "d510: DISTANCE ATOMS=271,613\n",
      "d511: DISTANCE ATOMS=286,305\n",
      "d512: DISTANCE ATOMS=286,327\n",
      "d513: DISTANCE ATOMS=286,341\n",
      "d514: DISTANCE ATOMS=286,357\n",
      "d515: DISTANCE ATOMS=286,367\n",
      "d516: DISTANCE ATOMS=286,379\n",
      "d517: DISTANCE ATOMS=286,386\n",
      "d518: DISTANCE ATOMS=286,407\n",
      "d519: DISTANCE ATOMS=286,417\n",
      "d520: DISTANCE ATOMS=286,431\n",
      "d521: DISTANCE ATOMS=286,445\n",
      "d522: DISTANCE ATOMS=286,465\n",
      "d523: DISTANCE ATOMS=286,484\n",
      "d524: DISTANCE ATOMS=286,504\n",
      "d525: DISTANCE ATOMS=286,526\n",
      "d526: DISTANCE ATOMS=286,543\n",
      "d527: DISTANCE ATOMS=286,550\n",
      "d528: DISTANCE ATOMS=286,569\n",
      "d529: DISTANCE ATOMS=286,579\n",
      "d530: DISTANCE ATOMS=286,598\n",
      "d531: DISTANCE ATOMS=286,613\n",
      "d532: DISTANCE ATOMS=305,327\n",
      "d533: DISTANCE ATOMS=305,341\n",
      "d534: DISTANCE ATOMS=305,357\n",
      "d535: DISTANCE ATOMS=305,367\n",
      "d536: DISTANCE ATOMS=305,379\n",
      "d537: DISTANCE ATOMS=305,386\n",
      "d538: DISTANCE ATOMS=305,407\n",
      "d539: DISTANCE ATOMS=305,417\n",
      "d540: DISTANCE ATOMS=305,431\n",
      "d541: DISTANCE ATOMS=305,445\n",
      "d542: DISTANCE ATOMS=305,465\n",
      "d543: DISTANCE ATOMS=305,484\n",
      "d544: DISTANCE ATOMS=305,504\n",
      "d545: DISTANCE ATOMS=305,526\n",
      "d546: DISTANCE ATOMS=305,543\n",
      "d547: DISTANCE ATOMS=305,550\n",
      "d548: DISTANCE ATOMS=305,569\n",
      "d549: DISTANCE ATOMS=305,579\n",
      "d550: DISTANCE ATOMS=305,598\n",
      "d551: DISTANCE ATOMS=305,613\n",
      "d552: DISTANCE ATOMS=327,341\n",
      "d553: DISTANCE ATOMS=327,357\n",
      "d554: DISTANCE ATOMS=327,367\n",
      "d555: DISTANCE ATOMS=327,379\n",
      "d556: DISTANCE ATOMS=327,386\n",
      "d557: DISTANCE ATOMS=327,407\n",
      "d558: DISTANCE ATOMS=327,417\n",
      "d559: DISTANCE ATOMS=327,431\n",
      "d560: DISTANCE ATOMS=327,445\n",
      "d561: DISTANCE ATOMS=327,465\n",
      "d562: DISTANCE ATOMS=327,484\n",
      "d563: DISTANCE ATOMS=327,504\n",
      "d564: DISTANCE ATOMS=327,526\n",
      "d565: DISTANCE ATOMS=327,543\n",
      "d566: DISTANCE ATOMS=327,550\n",
      "d567: DISTANCE ATOMS=327,569\n",
      "d568: DISTANCE ATOMS=327,579\n",
      "d569: DISTANCE ATOMS=327,598\n",
      "d570: DISTANCE ATOMS=327,613\n",
      "d571: DISTANCE ATOMS=341,357\n",
      "d572: DISTANCE ATOMS=341,367\n",
      "d573: DISTANCE ATOMS=341,379\n",
      "d574: DISTANCE ATOMS=341,386\n",
      "d575: DISTANCE ATOMS=341,407\n",
      "d576: DISTANCE ATOMS=341,417\n",
      "d577: DISTANCE ATOMS=341,431\n",
      "d578: DISTANCE ATOMS=341,445\n",
      "d579: DISTANCE ATOMS=341,465\n",
      "d580: DISTANCE ATOMS=341,484\n",
      "d581: DISTANCE ATOMS=341,504\n",
      "d582: DISTANCE ATOMS=341,526\n",
      "d583: DISTANCE ATOMS=341,543\n",
      "d584: DISTANCE ATOMS=341,550\n",
      "d585: DISTANCE ATOMS=341,569\n",
      "d586: DISTANCE ATOMS=341,579\n",
      "d587: DISTANCE ATOMS=341,598\n",
      "d588: DISTANCE ATOMS=341,613\n",
      "d589: DISTANCE ATOMS=357,367\n",
      "d590: DISTANCE ATOMS=357,379\n",
      "d591: DISTANCE ATOMS=357,386\n",
      "d592: DISTANCE ATOMS=357,407\n",
      "d593: DISTANCE ATOMS=357,417\n",
      "d594: DISTANCE ATOMS=357,431\n",
      "d595: DISTANCE ATOMS=357,445\n",
      "d596: DISTANCE ATOMS=357,465\n",
      "d597: DISTANCE ATOMS=357,484\n",
      "d598: DISTANCE ATOMS=357,504\n",
      "d599: DISTANCE ATOMS=357,526\n",
      "d600: DISTANCE ATOMS=357,543\n",
      "d601: DISTANCE ATOMS=357,550\n",
      "d602: DISTANCE ATOMS=357,569\n",
      "d603: DISTANCE ATOMS=357,579\n",
      "d604: DISTANCE ATOMS=357,598\n",
      "d605: DISTANCE ATOMS=357,613\n",
      "d606: DISTANCE ATOMS=367,379\n",
      "d607: DISTANCE ATOMS=367,386\n",
      "d608: DISTANCE ATOMS=367,407\n",
      "d609: DISTANCE ATOMS=367,417\n",
      "d610: DISTANCE ATOMS=367,431\n",
      "d611: DISTANCE ATOMS=367,445\n",
      "d612: DISTANCE ATOMS=367,465\n",
      "d613: DISTANCE ATOMS=367,484\n",
      "d614: DISTANCE ATOMS=367,504\n",
      "d615: DISTANCE ATOMS=367,526\n",
      "d616: DISTANCE ATOMS=367,543\n",
      "d617: DISTANCE ATOMS=367,550\n",
      "d618: DISTANCE ATOMS=367,569\n",
      "d619: DISTANCE ATOMS=367,579\n",
      "d620: DISTANCE ATOMS=367,598\n",
      "d621: DISTANCE ATOMS=367,613\n",
      "d622: DISTANCE ATOMS=379,386\n",
      "d623: DISTANCE ATOMS=379,407\n",
      "d624: DISTANCE ATOMS=379,417\n",
      "d625: DISTANCE ATOMS=379,431\n",
      "d626: DISTANCE ATOMS=379,445\n",
      "d627: DISTANCE ATOMS=379,465\n",
      "d628: DISTANCE ATOMS=379,484\n",
      "d629: DISTANCE ATOMS=379,504\n",
      "d630: DISTANCE ATOMS=379,526\n",
      "d631: DISTANCE ATOMS=379,543\n",
      "d632: DISTANCE ATOMS=379,550\n",
      "d633: DISTANCE ATOMS=379,569\n",
      "d634: DISTANCE ATOMS=379,579\n",
      "d635: DISTANCE ATOMS=379,598\n",
      "d636: DISTANCE ATOMS=379,613\n",
      "d637: DISTANCE ATOMS=386,407\n",
      "d638: DISTANCE ATOMS=386,417\n",
      "d639: DISTANCE ATOMS=386,431\n",
      "d640: DISTANCE ATOMS=386,445\n",
      "d641: DISTANCE ATOMS=386,465\n",
      "d642: DISTANCE ATOMS=386,484\n",
      "d643: DISTANCE ATOMS=386,504\n",
      "d644: DISTANCE ATOMS=386,526\n",
      "d645: DISTANCE ATOMS=386,543\n",
      "d646: DISTANCE ATOMS=386,550\n",
      "d647: DISTANCE ATOMS=386,569\n",
      "d648: DISTANCE ATOMS=386,579\n",
      "d649: DISTANCE ATOMS=386,598\n",
      "d650: DISTANCE ATOMS=386,613\n",
      "d651: DISTANCE ATOMS=407,417\n",
      "d652: DISTANCE ATOMS=407,431\n",
      "d653: DISTANCE ATOMS=407,445\n",
      "d654: DISTANCE ATOMS=407,465\n",
      "d655: DISTANCE ATOMS=407,484\n",
      "d656: DISTANCE ATOMS=407,504\n",
      "d657: DISTANCE ATOMS=407,526\n",
      "d658: DISTANCE ATOMS=407,543\n",
      "d659: DISTANCE ATOMS=407,550\n",
      "d660: DISTANCE ATOMS=407,569\n",
      "d661: DISTANCE ATOMS=407,579\n",
      "d662: DISTANCE ATOMS=407,598\n",
      "d663: DISTANCE ATOMS=407,613\n",
      "d664: DISTANCE ATOMS=417,431\n",
      "d665: DISTANCE ATOMS=417,445\n",
      "d666: DISTANCE ATOMS=417,465\n",
      "d667: DISTANCE ATOMS=417,484\n",
      "d668: DISTANCE ATOMS=417,504\n",
      "d669: DISTANCE ATOMS=417,526\n",
      "d670: DISTANCE ATOMS=417,543\n",
      "d671: DISTANCE ATOMS=417,550\n",
      "d672: DISTANCE ATOMS=417,569\n",
      "d673: DISTANCE ATOMS=417,579\n",
      "d674: DISTANCE ATOMS=417,598\n",
      "d675: DISTANCE ATOMS=417,613\n",
      "d676: DISTANCE ATOMS=431,445\n",
      "d677: DISTANCE ATOMS=431,465\n",
      "d678: DISTANCE ATOMS=431,484\n",
      "d679: DISTANCE ATOMS=431,504\n",
      "d680: DISTANCE ATOMS=431,526\n",
      "d681: DISTANCE ATOMS=431,543\n",
      "d682: DISTANCE ATOMS=431,550\n",
      "d683: DISTANCE ATOMS=431,569\n",
      "d684: DISTANCE ATOMS=431,579\n",
      "d685: DISTANCE ATOMS=431,598\n",
      "d686: DISTANCE ATOMS=431,613\n",
      "d687: DISTANCE ATOMS=445,465\n",
      "d688: DISTANCE ATOMS=445,484\n",
      "d689: DISTANCE ATOMS=445,504\n",
      "d690: DISTANCE ATOMS=445,526\n",
      "d691: DISTANCE ATOMS=445,543\n",
      "d692: DISTANCE ATOMS=445,550\n",
      "d693: DISTANCE ATOMS=445,569\n",
      "d694: DISTANCE ATOMS=445,579\n",
      "d695: DISTANCE ATOMS=445,598\n",
      "d696: DISTANCE ATOMS=445,613\n",
      "d697: DISTANCE ATOMS=465,484\n",
      "d698: DISTANCE ATOMS=465,504\n",
      "d699: DISTANCE ATOMS=465,526\n",
      "d700: DISTANCE ATOMS=465,543\n",
      "d701: DISTANCE ATOMS=465,550\n",
      "d702: DISTANCE ATOMS=465,569\n",
      "d703: DISTANCE ATOMS=465,579\n",
      "d704: DISTANCE ATOMS=465,598\n",
      "d705: DISTANCE ATOMS=465,613\n",
      "d706: DISTANCE ATOMS=484,504\n",
      "d707: DISTANCE ATOMS=484,526\n",
      "d708: DISTANCE ATOMS=484,543\n",
      "d709: DISTANCE ATOMS=484,550\n",
      "d710: DISTANCE ATOMS=484,569\n",
      "d711: DISTANCE ATOMS=484,579\n",
      "d712: DISTANCE ATOMS=484,598\n",
      "d713: DISTANCE ATOMS=484,613\n",
      "d714: DISTANCE ATOMS=504,526\n",
      "d715: DISTANCE ATOMS=504,543\n",
      "d716: DISTANCE ATOMS=504,550\n",
      "d717: DISTANCE ATOMS=504,569\n",
      "d718: DISTANCE ATOMS=504,579\n",
      "d719: DISTANCE ATOMS=504,598\n",
      "d720: DISTANCE ATOMS=504,613\n",
      "d721: DISTANCE ATOMS=526,543\n",
      "d722: DISTANCE ATOMS=526,550\n",
      "d723: DISTANCE ATOMS=526,569\n",
      "d724: DISTANCE ATOMS=526,579\n",
      "d725: DISTANCE ATOMS=526,598\n",
      "d726: DISTANCE ATOMS=526,613\n",
      "d727: DISTANCE ATOMS=543,550\n",
      "d728: DISTANCE ATOMS=543,569\n",
      "d729: DISTANCE ATOMS=543,579\n",
      "d730: DISTANCE ATOMS=543,598\n",
      "d731: DISTANCE ATOMS=543,613\n",
      "d732: DISTANCE ATOMS=550,569\n",
      "d733: DISTANCE ATOMS=550,579\n",
      "d734: DISTANCE ATOMS=550,598\n",
      "d735: DISTANCE ATOMS=550,613\n",
      "d736: DISTANCE ATOMS=569,579\n",
      "d737: DISTANCE ATOMS=569,598\n",
      "d738: DISTANCE ATOMS=569,613\n",
      "d739: DISTANCE ATOMS=579,598\n",
      "d740: DISTANCE ATOMS=579,613\n",
      "d741: DISTANCE ATOMS=598,613\n",
      "ARG=d1,d2,d3,d4,d5,d6,d7,d8,d9,d10,d11,d12,d13,d14,d15,d16,d17,d18,d19,d20,d21,d22,d23,d24,d25,d26,d27,d28,d29,d30,d31,d32,d33,d34,d35,d36,d37,d38,d39,d40,d41,d42,d43,d44,d45,d46,d47,d48,d49,d50,d51,d52,d53,d54,d55,d56,d57,d58,d59,d60,d61,d62,d63,d64,d65,d66,d67,d68,d69,d70,d71,d72,d73,d74,d75,d76,d77,d78,d79,d80,d81,d82,d83,d84,d85,d86,d87,d88,d89,d90,d91,d92,d93,d94,d95,d96,d97,d98,d99,d100,d101,d102,d103,d104,d105,d106,d107,d108,d109,d110,d111,d112,d113,d114,d115,d116,d117,d118,d119,d120,d121,d122,d123,d124,d125,d126,d127,d128,d129,d130,d131,d132,d133,d134,d135,d136,d137,d138,d139,d140,d141,d142,d143,d144,d145,d146,d147,d148,d149,d150,d151,d152,d153,d154,d155,d156,d157,d158,d159,d160,d161,d162,d163,d164,d165,d166,d167,d168,d169,d170,d171,d172,d173,d174,d175,d176,d177,d178,d179,d180,d181,d182,d183,d184,d185,d186,d187,d188,d189,d190,d191,d192,d193,d194,d195,d196,d197,d198,d199,d200,d201,d202,d203,d204,d205,d206,d207,d208,d209,d210,d211,d212,d213,d214,d215,d216,d217,d218,d219,d220,d221,d222,d223,d224,d225,d226,d227,d228,d229,d230,d231,d232,d233,d234,d235,d236,d237,d238,d239,d240,d241,d242,d243,d244,d245,d246,d247,d248,d249,d250,d251,d252,d253,d254,d255,d256,d257,d258,d259,d260,d261,d262,d263,d264,d265,d266,d267,d268,d269,d270,d271,d272,d273,d274,d275,d276,d277,d278,d279,d280,d281,d282,d283,d284,d285,d286,d287,d288,d289,d290,d291,d292,d293,d294,d295,d296,d297,d298,d299,d300,d301,d302,d303,d304,d305,d306,d307,d308,d309,d310,d311,d312,d313,d314,d315,d316,d317,d318,d319,d320,d321,d322,d323,d324,d325,d326,d327,d328,d329,d330,d331,d332,d333,d334,d335,d336,d337,d338,d339,d340,d341,d342,d343,d344,d345,d346,d347,d348,d349,d350,d351,d352,d353,d354,d355,d356,d357,d358,d359,d360,d361,d362,d363,d364,d365,d366,d367,d368,d369,d370,d371,d372,d373,d374,d375,d376,d377,d378,d379,d380,d381,d382,d383,d384,d385,d386,d387,d388,d389,d390,d391,d392,d393,d394,d395,d396,d397,d398,d399,d400,d401,d402,d403,d404,d405,d406,d407,d408,d409,d410,d411,d412,d413,d414,d415,d416,d417,d418,d419,d420,d421,d422,d423,d424,d425,d426,d427,d428,d429,d430,d431,d432,d433,d434,d435,d436,d437,d438,d439,d440,d441,d442,d443,d444,d445,d446,d447,d448,d449,d450,d451,d452,d453,d454,d455,d456,d457,d458,d459,d460,d461,d462,d463,d464,d465,d466,d467,d468,d469,d470,d471,d472,d473,d474,d475,d476,d477,d478,d479,d480,d481,d482,d483,d484,d485,d486,d487,d488,d489,d490,d491,d492,d493,d494,d495,d496,d497,d498,d499,d500,d501,d502,d503,d504,d505,d506,d507,d508,d509,d510,d511,d512,d513,d514,d515,d516,d517,d518,d519,d520,d521,d522,d523,d524,d525,d526,d527,d528,d529,d530,d531,d532,d533,d534,d535,d536,d537,d538,d539,d540,d541,d542,d543,d544,d545,d546,d547,d548,d549,d550,d551,d552,d553,d554,d555,d556,d557,d558,d559,d560,d561,d562,d563,d564,d565,d566,d567,d568,d569,d570,d571,d572,d573,d574,d575,d576,d577,d578,d579,d580,d581,d582,d583,d584,d585,d586,d587,d588,d589,d590,d591,d592,d593,d594,d595,d596,d597,d598,d599,d600,d601,d602,d603,d604,d605,d606,d607,d608,d609,d610,d611,d612,d613,d614,d615,d616,d617,d618,d619,d620,d621,d622,d623,d624,d625,d626,d627,d628,d629,d630,d631,d632,d633,d634,d635,d636,d637,d638,d639,d640,d641,d642,d643,d644,d645,d646,d647,d648,d649,d650,d651,d652,d653,d654,d655,d656,d657,d658,d659,d660,d661,d662,d663,d664,d665,d666,d667,d668,d669,d670,d671,d672,d673,d674,d675,d676,d677,d678,d679,d680,d681,d682,d683,d684,d685,d686,d687,d688,d689,d690,d691,d692,d693,d694,d695,d696,d697,d698,d699,d700,d701,d702,d703,d704,d705,d706,d707,d708,d709,d710,d711,d712,d713,d714,d715,d716,d717,d718,d719,d720,d721,d722,d723,d724,d725,d726,d727,d728,d729,d730,d731,d732,d733,d734,d735,d736,d737,d738,d739,d740,d741,d742\n"
     ]
    }
   ],
   "source": [
    "# CA atom index\n",
    "ca_atoms = [atom for atom in pdb_traj.topology.atoms if atom.name == \"CA\"]\n",
    "ca_indices = [atom.index for atom in ca_atoms]\n",
    "\n",
    "cnt = 1\n",
    "for i in range(len(ca_indices)):\n",
    "    for j in range(i+1, len(ca_indices)):\n",
    "        print(f\"d{cnt}: DISTANCE ATOMS={ca_indices[i]+1},{ca_indices[j]+1}\")\n",
    "        cnt += 1\n",
    "\n",
    "print(\"ARG=\" + \",\".join(f\"d{i+1}\" for i in range(cnt)))"
   ]
  },
  {
   "cell_type": "markdown",
   "metadata": {},
   "source": [
    "# Visualization"
   ]
  },
  {
   "cell_type": "markdown",
   "metadata": {},
   "source": [
    "## Alignment"
   ]
  },
  {
   "cell_type": "code",
   "execution_count": null,
   "metadata": {},
   "outputs": [
    {
     "ename": "NameError",
     "evalue": "name 'base_dir' is not defined",
     "output_type": "error",
     "traceback": [
      "\u001b[0;31m---------------------------------------------------------------------------\u001b[0m",
      "\u001b[0;31mNameError\u001b[0m                                 Traceback (most recent call last)",
      "Cell \u001b[0;32mIn[1], line 2\u001b[0m\n\u001b[1;32m      1\u001b[0m \u001b[38;5;66;03m# Check .dcd files in the simulation directory\u001b[39;00m\n\u001b[0;32m----> 2\u001b[0m dcd_pattern \u001b[38;5;241m=\u001b[39m \u001b[38;5;124mf\u001b[39m\u001b[38;5;124m\"\u001b[39m\u001b[38;5;132;01m{\u001b[39;00m\u001b[43mbase_dir\u001b[49m\u001b[38;5;132;01m}\u001b[39;00m\u001b[38;5;124m/\u001b[39m\u001b[38;5;132;01m{\u001b[39;00mmolecule\u001b[38;5;132;01m}\u001b[39;00m\u001b[38;5;124m-\u001b[39m\u001b[38;5;132;01m{\u001b[39;00msimulation_idx\u001b[38;5;132;01m}\u001b[39;00m\u001b[38;5;124m-protein-*.dcd\u001b[39m\u001b[38;5;124m\"\u001b[39m\n\u001b[1;32m      3\u001b[0m dcd_files \u001b[38;5;241m=\u001b[39m glob\u001b[38;5;241m.\u001b[39mglob(dcd_pattern)\n\u001b[1;32m      4\u001b[0m num_files \u001b[38;5;241m=\u001b[39m \u001b[38;5;28mlen\u001b[39m(dcd_files)\n",
      "\u001b[0;31mNameError\u001b[0m: name 'base_dir' is not defined"
     ]
    }
   ],
   "source": [
    "# Check .dcd files in the simulation directory\n",
    "dcd_pattern = f\"{base_dir}/{molecule}-{simulation_idx}-protein-*-aligned.dcd\"\n",
    "dcd_files = glob.glob(dcd_pattern)\n",
    "num_files = len(dcd_files)\n",
    "print(f\"Found {num_files} .dcd files in {base_dir}\")\n",
    "print(f\"Pattern used: {dcd_pattern}\")\n",
    "\n",
    "file_indices = []\n",
    "for file_path in dcd_files:\n",
    "    filename = os.path.basename(file_path)\n",
    "    index_part = filename.split('-')[-2].replace('.dcd', '')\n",
    "    if index_part.isdigit():\n",
    "        file_indices.append(int(index_part))\n",
    "\n",
    "file_indices.sort()\n",
    "print(f\"File indices range: {min(file_indices)} to {max(file_indices)}\")\n",
    "print(f\"Total files to load: {len(file_indices)}\")"
   ]
  },
  {
   "cell_type": "code",
   "execution_count": null,
   "metadata": {},
   "outputs": [
    {
     "name": "stderr",
     "output_type": "stream",
     "text": [
      "Loading trajectories: 100%|██████████| 557/557 [03:22<00:00,  2.75it/s]\n"
     ]
    }
   ],
   "source": [
    "# Load trajectories \n",
    "atom_mapping = np.array([1, 2, 3, 4, 5, 6, 7, 8, 299, 300, 301, 302, 303, 304, 305, 306, 307, 308, 309, 9, 10, 11, 12, 13, 14, 15, 16, 17, 310, 311, 312, 313, 314, 315, 316, 317, 318, 319, 320, 321, 322, 18, 19, 20, 21, 22, 23, 24, 323, 324, 325, 326, 327, 328, 329, 330, 331, 25, 26, 27, 28, 29, 30, 31, 32, 332, 333, 334, 335, 336, 337, 338, 339, 340, 341, 342, 33, 34, 35, 36, 37, 38, 39, 40, 41, 42, 43, 343, 344, 345, 346, 347, 348, 349, 350, 351, 44, 45, 46, 47, 48, 49, 50, 51, 352, 353, 354, 355, 356, 357, 358, 359, 360, 361, 362, 52, 53, 54, 55, 56, 57, 58, 59, 60, 363, 364, 365, 366, 367, 368, 369, 370, 371, 372, 373, 374, 375, 61, 62, 63, 64, 65, 66, 67, 68, 376, 377, 378, 379, 69, 70, 71, 72, 73, 74, 75, 380, 381, 382, 383, 384, 385, 386, 387, 388, 76, 77, 78, 79, 80, 81, 82, 83, 84, 389, 390, 391, 392, 393, 394, 395, 396, 397, 398, 399, 400, 401, 85, 86, 87, 88, 402, 403, 404, 89, 90, 91, 92, 93, 94, 95, 96, 405, 406, 407, 408, 409, 410, 411, 412, 413, 97, 98, 99, 100, 414, 415, 416, 101, 102, 103, 104, 105, 106, 107, 108, 109, 417, 418, 419, 420, 421, 422, 423, 424, 425, 426, 427, 428, 429, 110, 111, 112, 113, 114, 115, 116, 117, 118, 430, 431, 432, 433, 434, 435, 436, 437, 438, 439, 440, 441, 442, 119, 120, 121, 122, 443, 444, 445, 123, 124, 125, 126, 127, 128, 129, 130, 131, 446, 447, 448, 449, 450, 451, 132, 133, 134, 135, 136, 137, 138, 139, 452, 453, 454, 455, 456, 457, 458, 459, 460, 461, 462, 140, 141, 142, 143, 144, 145, 146, 147, 148, 463, 464, 465, 466, 467, 468, 469, 470, 471, 472, 473, 474, 475, 149, 150, 151, 152, 153, 154, 155, 156, 476, 477, 478, 479, 480, 481, 157, 158, 159, 160, 161, 162, 163, 482, 483, 484, 485, 486, 487, 488, 489, 490, 164, 165, 166, 167, 168, 491, 492, 493, 494, 495, 169, 170, 171, 172, 173, 174, 175, 176, 496, 497, 498, 499, 177, 178, 179, 180, 500, 501, 502, 181, 182, 183, 184, 185, 186, 187, 188, 189, 190, 191, 192, 503, 504, 505, 506, 507, 508, 509, 510, 511, 193, 194, 195, 196, 197, 512, 513, 514, 515, 516, 198, 199, 200, 201, 202, 203, 204, 205, 517, 518, 519, 520, 521, 522, 206, 207, 208, 209, 210, 211, 212, 213, 523, 524, 525, 526, 527, 528, 214, 215, 216, 217, 218, 219, 220, 221, 222, 223, 224, 529, 530, 531, 532, 533, 534, 535, 536, 537, 225, 226, 227, 228, 229, 230, 231, 232, 538, 539, 540, 541, 542, 543, 544, 545, 546, 547, 548, 233, 234, 235, 236, 237, 238, 239, 240, 241, 242, 243, 549, 550, 551, 552, 553, 554, 555, 556, 557, 244, 245, 246, 247, 248, 249, 250, 251, 252, 558, 559, 560, 561, 562, 563, 564, 565, 566, 567, 568, 569, 570, 253, 254, 255, 256, 257, 258, 259, 260, 261, 571, 572, 573, 574, 575, 576, 577, 578, 262, 263, 264, 265, 579, 580, 581, 266, 267, 268, 269, 270, 271, 272, 273, 582, 583, 584, 585, 586, 587, 588, 589, 590, 591, 592, 274, 275, 276, 277, 278, 593, 594, 595, 596, 597, 279, 280, 281, 282, 283, 284, 285, 286, 598, 599, 600, 601, 602, 603, 604, 605, 606, 607, 608, 287, 288, 289, 290, 291, 292, 293, 294, 295, 609, 610, 611, 612, 613, 614, 296, 297, 620, 621, 298, 622, 615, 616, 617, 618, 619, 623, 624])\n",
    "for i in tqdm(\n",
    "    file_indices,\n",
    "    desc=\"Aligning trajectories\"\n",
    "):\n",
    "    file_idx = f\"{i:03d}\"\n",
    "    file_path = f\"{base_dir}/{molecule}-{simulation_idx}-protein-{file_idx}.dcd\"\n",
    "    if os.path.exists(file_path):\n",
    "        traj = md.load_dcd(file_path, top=pdb_path)\n",
    "        traj.xyz = traj.xyz[:, atom_mapping - 1]\n",
    "        # traj.save_dcd(f\"{base_dir}/{molecule}-{simulation_idx}-protein-{file_idx}-aligned.dcd\")"
   ]
  },
  {
   "cell_type": "markdown",
   "metadata": {},
   "source": [
    "## Trajectory"
   ]
  },
  {
   "cell_type": "code",
   "execution_count": 5,
   "metadata": {},
   "outputs": [
    {
     "name": "stdout",
     "output_type": "stream",
     "text": [
      "<mdtraj.Trajectory with 1 frames, 624 atoms, 39 residues, and unitcells>\n"
     ]
    },
    {
     "data": {
      "application/vnd.jupyter.widget-view+json": {
       "model_id": "d1783ca5ae0c47178666350361050faa",
       "version_major": 2,
       "version_minor": 0
      },
      "text/plain": [
       "NGLWidget()"
      ]
     },
     "metadata": {},
     "output_type": "display_data"
    }
   ],
   "source": [
    "# PDB\n",
    "pdb_traj = md.load_pdb(pdb_path)\n",
    "pdb_view = nv.show_mdtraj(\n",
    "    pdb_traj,\n",
    "    height=\"400px\",\n",
    "    width=\"400px\"\n",
    ")\n",
    "pdb_view.add_representation(\"licorice\", selection=\"protein\")\n",
    "\n",
    "print(pdb_traj)\n",
    "pdb_view"
   ]
  },
  {
   "cell_type": "code",
   "execution_count": 7,
   "metadata": {},
   "outputs": [
    {
     "name": "stdout",
     "output_type": "stream",
     "text": [
      "<mdtraj.Trajectory with 10000 frames, 624 atoms, 39 residues, and unitcells>\n"
     ]
    },
    {
     "data": {
      "application/vnd.jupyter.widget-view+json": {
       "model_id": "e067a8ed45f846409cf251b85a1d0363",
       "version_major": 2,
       "version_minor": 0
      },
      "text/plain": [
       "NGLWidget(max_frame=9999)"
      ]
     },
     "metadata": {},
     "output_type": "display_data"
    }
   ],
   "source": [
    "sample_file_path = f\"{base_dir}/{molecule}-{simulation_idx}-protein-000-aligned.dcd\"\n",
    "sample_traj = md.load_dcd(sample_file_path, top=pdb_path)\n",
    "print(sample_traj)\n",
    "\n",
    "sample_traj.center_coordinates()\n",
    "sample_view = nv.show_mdtraj(\n",
    "    sample_traj,\n",
    "    height=\"400px\",\n",
    "    width=\"400px\"\n",
    ")\n",
    "sample_view.add_representation(\"licorice\", selection=\"protein\")\n",
    "sample_view"
   ]
  },
  {
   "cell_type": "code",
   "execution_count": 8,
   "metadata": {},
   "outputs": [
    {
     "name": "stderr",
     "output_type": "stream",
     "text": [
      "Loading trajectories: 100%|██████████| 557/557 [00:48<00:00, 11.40it/s]\n"
     ]
    },
    {
     "name": "stdout",
     "output_type": "stream",
     "text": [
      "Successfully loaded 557 trajectory files\n"
     ]
    }
   ],
   "source": [
    "# Load trajectories \n",
    "traj_list = []\n",
    "for i in tqdm(\n",
    "    file_indices,\n",
    "    desc=\"Loading trajectories\"\n",
    "):\n",
    "    file_idx = f\"{i:03d}\"\n",
    "    file_path = f\"{base_dir}/{molecule}-{simulation_idx}-protein-{file_idx}-aligned.dcd\"\n",
    "    if os.path.exists(file_path):\n",
    "        traj = md.load_dcd(file_path, top=pdb_path)\n",
    "        traj_list.append(traj)\n",
    "    else:\n",
    "        print(f\"Warning: File not found: {file_path}\")\n",
    "\n",
    "print(f\"Successfully loaded {len(traj_list)} trajectory files\")\n",
    "all_traj = md.join(traj_list)"
   ]
  },
  {
   "cell_type": "code",
   "execution_count": 15,
   "metadata": {},
   "outputs": [
    {
     "name": "stdout",
     "output_type": "stream",
     "text": [
      "<mdtraj.Trajectory with 5560828 frames, 624 atoms, 39 residues, and unitcells>\n",
      "Total frames: 5560828\n"
     ]
    },
    {
     "data": {
      "application/vnd.jupyter.widget-view+json": {
       "model_id": "8fb56be40c8b42fda54d9d6798ed0a1a",
       "version_major": 2,
       "version_minor": 0
      },
      "text/plain": [
       "NGLWidget(max_frame=5560827)"
      ]
     },
     "metadata": {},
     "output_type": "display_data"
    }
   ],
   "source": [
    "print(all_traj)\n",
    "all_traj.center_coordinates()\n",
    "view = nv.show_mdtraj(\n",
    "    all_traj,\n",
    "\theight=\"400px\",\n",
    "    width=\"400px\"\n",
    ")\n",
    "view.add_representation(\"licorice\", selection=\"protein\")\n",
    "print(f\"Total frames: {all_traj.n_frames}\")\n",
    "view"
   ]
  },
  {
   "cell_type": "code",
   "execution_count": 64,
   "metadata": {},
   "outputs": [],
   "source": [
    "view.frame = 1"
   ]
  },
  {
   "cell_type": "markdown",
   "metadata": {},
   "source": [
    "# Descriptors"
   ]
  },
  {
   "cell_type": "code",
   "execution_count": null,
   "metadata": {},
   "outputs": [
    {
     "ename": "NameError",
     "evalue": "name 'all_traj' is not defined",
     "output_type": "error",
     "traceback": [
      "\u001b[0;31m---------------------------------------------------------------------------\u001b[0m",
      "\u001b[0;31mNameError\u001b[0m                                 Traceback (most recent call last)",
      "Cell \u001b[0;32mIn[8], line 2\u001b[0m\n\u001b[1;32m      1\u001b[0m ca_resid_pair \u001b[38;5;241m=\u001b[39m np\u001b[38;5;241m.\u001b[39marray(\n\u001b[0;32m----> 2\u001b[0m \t[(a\u001b[38;5;241m.\u001b[39mindex, b\u001b[38;5;241m.\u001b[39mindex) \u001b[38;5;28;01mfor\u001b[39;00m a, b \u001b[38;5;129;01min\u001b[39;00m combinations(\u001b[38;5;28mlist\u001b[39m(\u001b[43mall_traj\u001b[49m\u001b[38;5;241m.\u001b[39mtopology\u001b[38;5;241m.\u001b[39mresidues), \u001b[38;5;241m2\u001b[39m)]\n\u001b[1;32m      3\u001b[0m )\n\u001b[1;32m      5\u001b[0m \u001b[38;5;66;03m# ca_pair_contacts, resid_pairs = md.compute_contacts(\u001b[39;00m\n\u001b[1;32m      6\u001b[0m \u001b[38;5;66;03m# \tall_traj, scheme=\"ca\", contacts=ca_resid_pair, periodic=False\u001b[39;00m\n\u001b[1;32m      7\u001b[0m \u001b[38;5;66;03m# )\u001b[39;00m\n\u001b[0;32m   (...)\u001b[0m\n\u001b[1;32m     16\u001b[0m \u001b[38;5;66;03m# print(ca_pair_contacts.shape)\u001b[39;00m\n\u001b[1;32m     17\u001b[0m \u001b[38;5;66;03m# print(ca_pair_contacts.mean())\u001b[39;00m\n",
      "\u001b[0;31mNameError\u001b[0m: name 'all_traj' is not defined"
     ]
    }
   ],
   "source": [
    "ca_resid_pair = np.array(\n",
    "\t[(a.index, b.index) for a, b in combinations(list(all_traj.topology.residues), 2)]\n",
    ")\n",
    "\n",
    "# ca_pair_contacts, resid_pairs = md.compute_contacts(\n",
    "# \tall_traj, scheme=\"ca\", contacts=ca_resid_pair, periodic=False\n",
    "# )\n",
    "# torch.save(\n",
    "#     torch.from_numpy(ca_pair_contacts),\n",
    "#     f\"../DESRES-Trajectory_{molecule}-{simulation_idx}-protein/{molecule}-{simulation_idx}-cad.pt\"\n",
    "# )\n",
    "\n",
    "ca_pair_contacts = torch.load(\n",
    "\tf\"../DESRES-Trajectory_{molecule}-{simulation_idx}-protein/{molecule}-{simulation_idx}-cad.pt\"\n",
    ").numpy()\n",
    "print(ca_pair_contacts.shape)\n",
    "print(ca_pair_contacts.mean())"
   ]
  },
  {
   "cell_type": "code",
   "execution_count": null,
   "metadata": {},
   "outputs": [],
   "source": [
    "# exp = 2\n",
    "# ca_pair_distances_swtich = (1 - (np.power(ca_pair_contacts, exp) / 0.8)) / (1 - (np.power(ca_pair_contacts, exp) / 0.8))\n",
    "# torch.save(\n",
    "#     torch.from_numpy(ca_pair_distances_swtich),\n",
    "#     f\"../DESRES-Trajectory_{molecule}-{simulation_idx}-protein/{molecule}-{simulation_idx}-cad-switch.pt\"\n",
    "# )\n",
    "\n",
    "ca_pair_distances_swtich = torch.load(\n",
    "\tf\"../DESRES-Trajectory_{molecule}-{simulation_idx}-protein/{molecule}-{simulation_idx}-cad-switch.pt\"\n",
    ").numpy()\n",
    "print(ca_pair_distances_swtich.shape)\n",
    "print(ca_pair_distances_swtich.mean())"
   ]
  },
  {
   "cell_type": "code",
   "execution_count": null,
   "metadata": {},
   "outputs": [],
   "source": [
    "# xyz = all_traj.xyz\n",
    "# torch.save(\n",
    "#     torch.from_numpy(xyz),\n",
    "#     f\"../DESRES-Trajectory_{molecule}-{simulation_idx}-protein/{molecule}-{simulation_idx}-pos.pt\"\n",
    "# )\n",
    "\n",
    "xyz = torch.load(f\"../DESRES-Trajectory_{molecule}-{simulation_idx}-protein/{molecule}-{simulation_idx}-pos.pt\").numpy()\n",
    "print(xyz.shape)"
   ]
  },
  {
   "cell_type": "markdown",
   "metadata": {},
   "source": [
    "# TICA"
   ]
  },
  {
   "cell_type": "code",
   "execution_count": 13,
   "metadata": {},
   "outputs": [],
   "source": [
    "def cad2switch(\n",
    "    cad,\n",
    "    cutoff: float = 0.8\n",
    ") -> np.ndarray:\n",
    "\tif type(cad) == torch.Tensor:\n",
    "\t\tcad = cad.numpy()\n",
    "\treturn (1 - np.power(cad / cutoff, 6)) / (1 - np.power(cad / cutoff, 12))"
   ]
  },
  {
   "cell_type": "code",
   "execution_count": null,
   "metadata": {},
   "outputs": [],
   "source": [
    "# TICA with pair distances\n",
    "\n",
    "for lag in (10, 100, 1000):\n",
    "\ttica_coord_path = f\"../data/{molecule}/{molecule}_tica_coord_lag{lag}.npy\"\n",
    "\tif os.path.exists(tica_coord_path):\n",
    "\t\ttica_data = np.load(tica_coord_path)\n",
    "\telse:\n",
    "\t\ttica_obj = pyemma.coordinates.tica(ca_pair_contacts, lag=lag, dim=2)\n",
    "\t\ttica_data = tica_obj.get_output()[0]\n",
    "\t\tnp.save(tica_coord_path, tica_data)\n",
    "\tx = tica_data[:, 0]\n",
    "\ty = tica_data[:, 1]\n",
    "\n",
    "\t# Plot\n",
    "\tfig = plt.figure(figsize=(6, 6))\n",
    "\tax = fig.add_subplot(111)\n",
    "\tax.hist2d(x, y, bins=100, norm=LogNorm())\n",
    "\tax.set_xlabel(\"TIC 1\")\n",
    "\tax.set_ylabel(\"TIC 2\")\n",
    "\tplt.title(f\"TICA with pair distances, lag={lag}\")\n",
    "\tplt.savefig(f'../data/{molecule}/{molecule}_tica_model_lag{lag}.png')\n",
    "\tplt.show()\n",
    "\tplt.close()\n",
    "\n",
    "\ttica_model_path = f\"../data/{molecule}/{molecule}_tica_model_lag{lag}.pkl\"\n",
    "\tif not os.path.exists(tica_model_path):\n",
    "\t\twith open(tica_model_path, 'wb') as f:\n",
    "\t\t\tpickle.dump(tica_obj, f)"
   ]
  },
  {
   "cell_type": "code",
   "execution_count": 11,
   "metadata": {},
   "outputs": [
    {
     "data": {
      "image/png": "[encoded data removed]",
      "text/plain": [
       "<Figure size 600x600 with 1 Axes>"
      ]
     },
     "metadata": {},
     "output_type": "display_data"
    },
    {
     "name": "stderr",
     "output_type": "stream",
     "text": [
      "Loading trajectories: 100%|██████████| 557/557 [01:34<00:00,  5.92it/s]\n"
     ]
    },
    {
     "data": {
      "image/png": "[encoded data removed]",
      "text/plain": [
       "<Figure size 600x600 with 1 Axes>"
      ]
     },
     "metadata": {},
     "output_type": "display_data"
    },
    {
     "name": "stderr",
     "output_type": "stream",
     "text": [
      "Loading trajectories: 100%|██████████| 557/557 [01:29<00:00,  6.23it/s]\n"
     ]
    },
    {
     "data": {
      "image/png": "[encoded data removed]",
      "text/plain": [
       "<Figure size 600x600 with 1 Axes>"
      ]
     },
     "metadata": {},
     "output_type": "display_data"
    }
   ],
   "source": [
    "# TICA with pair distances\n",
    "ca_resid_pair = np.array(\n",
    "\t[(a.index, b.index) for a, b in combinations(list(pdb_traj.topology.residues), 2)]\n",
    ")\n",
    "\n",
    "for lag in (10, 100, 1000):\n",
    "\ttica_model_path = f\"/home/shpark/prj-mlcv/lib/DESRES/data/NTL9/NTL9_tica_model_lag{lag}.pkl\"\n",
    "\ttica_model = pickle.load(open(tica_model_path, 'rb'))\n",
    "\ttica_coord_path = f\"/home/shpark/prj-mlcv/lib/DESRES/data/NTL9/NTL9_tica_coord_lag{lag}.npy\"\n",
    "\tif os.path.exists(tica_coord_path):\n",
    "\t\ttica_data = np.load(tica_coord_path)\n",
    "\t\tx = tica_data[:, 0]\n",
    "\t\ty = tica_data[:, 1]\n",
    "\telse:\n",
    "\t\ttica_coords = []\n",
    "\t\tfor i in tqdm(\n",
    "\t\t\tfile_indices,\n",
    "\t\t\tdesc=\"Loading trajectories\"\n",
    "\t\t):\n",
    "\t\t\tfile_idx = f\"{i:03d}\"\n",
    "\t\t\tfile_path = f\"{base_dir}/{molecule}-{simulation_idx}-protein-{file_idx}-aligned.dcd\"\n",
    "\t\t\ttraj = md.load_dcd(file_path, top=pdb_path)\n",
    "\t\t\tca_pair_contacts, _ = md.compute_contacts(traj, scheme=\"ca\", contacts=ca_resid_pair, periodic=False)\n",
    "\t\t\ttica_data = tica_model.transform(ca_pair_contacts)\n",
    "\t\t\ttica_coords.append(tica_data)\n",
    "\t\ttica_data = np.concatenate(tica_coords, axis=0)\n",
    "\t\tnp.save(tica_coord_path, tica_data)\n",
    "\t\tx = tica_data[:, 0]\n",
    "\t\ty = tica_data[:, 1]\n",
    "\n",
    "\t# Plot\n",
    "\tfig = plt.figure(figsize=(6, 6))\n",
    "\tax = fig.add_subplot(111)\n",
    "\tax.hist2d(x, y, bins=100, norm=LogNorm())\n",
    "\tax.set_xlabel(\"TIC 1\")\n",
    "\tax.set_ylabel(\"TIC 2\")\n",
    "\tplt.title(f\"TICA with pair distances, lag={lag}\")\n",
    "\tplt.savefig(f'../data/{molecule}/{molecule}_tica_model_lag{lag}.png')\n",
    "\tplt.show()\n",
    "\tplt.close()\n",
    "\n",
    "\t# tica_model_path = f\"../data/{molecule}/{molecule}_tica_model_lag{lag}.pkl\"\n",
    "\t# if not os.path.exists(tica_model_path):\n",
    "\t# \twith open(tica_model_path, 'wb') as f:\n",
    "\t# \t\tpickle.dump(tica_obj, f)"
   ]
  },
  {
   "cell_type": "code",
   "execution_count": null,
   "metadata": {},
   "outputs": [],
   "source": [
    "lag = 10\n",
    "tica_coord_path = f\"../data/{molecule}/{molecule}_tica_coord_lag{lag}.npy\"\n",
    "tica_coord_loaded = np.load(tica_coord_path)\n",
    "print(tica_coord_loaded.shape)"
   ]
  },
  {
   "cell_type": "markdown",
   "metadata": {},
   "source": [
    "# Analysis"
   ]
  },
  {
   "cell_type": "markdown",
   "metadata": {},
   "source": [
    "## States by RMSD"
   ]
  },
  {
   "cell_type": "code",
   "execution_count": 10,
   "metadata": {},
   "outputs": [],
   "source": [
    "def rmsd_to_refpdb(\n",
    "\ttraj: md.Trajectory,\n",
    "\treference_traj: md.Trajectory,\n",
    "\tatom_type: str = \"ca\",\n",
    ") -> np.ndarray:\n",
    "\t\"\"\"\n",
    "\tGenerate binary labels for folded/unfolded states based on RMSD\n",
    "\t\"\"\"\n",
    "\tif atom_type == \"ca\":\n",
    "\t\tatom_indices = traj.topology.select(\"name CA\")\n",
    "\telse:\n",
    "\t\tatom_indices = None\n",
    "\t\n",
    "\trmsd = md.rmsd(\n",
    "\t\ttarget = traj,\n",
    "\t\treference = reference_traj,\n",
    "\t\tatom_indices = atom_indices\n",
    "\t)\n",
    "\treturn rmsd"
   ]
  },
  {
   "cell_type": "markdown",
   "metadata": {},
   "source": [
    "### Folded"
   ]
  },
  {
   "cell_type": "code",
   "execution_count": 60,
   "metadata": {},
   "outputs": [
    {
     "name": "stdout",
     "output_type": "stream",
     "text": [
      "0.19928907\n"
     ]
    },
    {
     "data": {
      "image/png": "[encoded data removed]",
      "text/plain": [
       "<Figure size 640x480 with 1 Axes>"
      ]
     },
     "metadata": {},
     "output_type": "display_data"
    },
    {
     "data": {
      "image/png": "[encoded data removed]",
      "text/plain": [
       "<Figure size 640x480 with 1 Axes>"
      ]
     },
     "metadata": {},
     "output_type": "display_data"
    }
   ],
   "source": [
    "selected_frame = all_traj[5246075]\n",
    "rmsd_to_folded = rmsd_to_refpdb(\n",
    "    traj = all_traj,\n",
    "    reference_traj = selected_frame,\n",
    ")\n",
    "\n",
    "print(rmsd_to_folded.mean())\n",
    "plt.hist(\n",
    "    rmsd_to_folded,\n",
    "    bins=100,\n",
    "    # log=True,\n",
    "    color=blue,\n",
    ")\n",
    "plt.show()\n",
    "\n",
    "plt.hist(\n",
    "    rmsd_to_folded,\n",
    "    bins=100,\n",
    "    log=True,\n",
    "    color=blue,\n",
    ")\n",
    "plt.show()"
   ]
  },
  {
   "cell_type": "code",
   "execution_count": 55,
   "metadata": {},
   "outputs": [
    {
     "name": "stdout",
     "output_type": "stream",
     "text": [
      "(1, 39)\n",
      "['C' 'E' 'E' 'E' 'E' 'C' 'C' 'C' 'H' 'H' 'H' 'C' 'C' 'C' 'C' 'C' 'C' 'E'\n",
      " 'E' 'E' 'C' 'C' 'H' 'H' 'H' 'H' 'H' 'H' 'H' 'C' 'C' 'C' 'C' 'C' 'C' 'E'\n",
      " 'E' 'E' 'C']\n"
     ]
    },
    {
     "data": {
      "application/vnd.jupyter.widget-view+json": {
       "model_id": "84a82f0247bc4f6789a2c40dfc8ffd53",
       "version_major": 2,
       "version_minor": 0
      },
      "text/plain": [
       "NGLWidget()"
      ]
     },
     "metadata": {},
     "output_type": "display_data"
    }
   ],
   "source": [
    "dssp_selected = md.compute_dssp(selected_frame)\n",
    "print(dssp_selected.shape)\n",
    "print(dssp_selected[0])\n",
    "view_selected = nv.show_mdtraj(selected_frame)\n",
    "view_selected.add_representation(\"licorice\", selection=\"protein\")\n",
    "view_selected"
   ]
  },
  {
   "cell_type": "code",
   "execution_count": 56,
   "metadata": {},
   "outputs": [
    {
     "data": {
      "image/png": "[encoded data removed]",
      "text/plain": [
       "<Figure size 600x600 with 1 Axes>"
      ]
     },
     "metadata": {},
     "output_type": "display_data"
    }
   ],
   "source": [
    "# pdb on TICA plot\n",
    "lag = 10\n",
    "\n",
    "ca_resid_pair = np.array(\n",
    "\t[(a.index, b.index) for a, b in combinations(list(all_traj.topology.residues), 2)]\n",
    ")\n",
    "selected_ca_pair_distances, resid_pairs = md.compute_contacts(\n",
    "\tselected_frame, scheme=\"ca\", contacts=ca_resid_pair, periodic=False\n",
    ")\n",
    "tica_model_path = f\"../data/{molecule}/{molecule}_tica_model_lag{lag}.pkl\"\n",
    "tica_model = pickle.load(open(tica_model_path, 'rb'))\n",
    "tica_data_selected = tica_model.transform(selected_ca_pair_distances)\n",
    "x_tica_selected = tica_data_selected[:, 0]\n",
    "y_tica_selected = tica_data_selected[:, 1]\n",
    "\n",
    "tica_coord_path = f\"../data/{molecule}/{molecule}_tica_coord_lag{lag}.npy\"\n",
    "tica_data = np.load(tica_coord_path)\n",
    "x = tica_data[:, 0]\n",
    "y = tica_data[:, 1]\n",
    "\n",
    "# Plot TICA with RMSD colors\n",
    "fig = plt.figure(figsize=(6, 6))\n",
    "ax = fig.add_subplot(111)\n",
    "ax.hist2d(x, y, bins=200, norm=LogNorm())\n",
    "ax.scatter(\n",
    "    x_tica_selected,\n",
    "    y_tica_selected,\n",
    "    c=\"red\",\n",
    "    s=20,\n",
    "    edgecolors=\"k\",\n",
    "    linewidths=0,\n",
    "    label=\"Selected state\",\n",
    ")\n",
    "ax.set_xlabel(\"TIC 1\")\n",
    "ax.set_ylabel(\"TIC 2\")\n",
    "ax.set_title(f\"TICA with RMSD colors (lag={lag})\")\n",
    "ax.legend(loc=\"best\")\n",
    "plt.tight_layout()\n",
    "plt.show()\n",
    "plt.close()\n"
   ]
  },
  {
   "cell_type": "code",
   "execution_count": 57,
   "metadata": {},
   "outputs": [],
   "source": [
    "rmsd_threshold = 0.5\n",
    "save_dir = f\"/home/shpark/prj-mlcv/lib/DESRES/DESRES-Trajectory_{molecule}-{simulation_idx}-protein\"\n",
    "\n",
    "selected_frame.save_pdb(\n",
    "\tf\"/home/shpark/prj-mlcv/lib/bioemu/opes/data/{molecule}/folded.pdb\"\n",
    ")\n",
    "torch.save(\n",
    "    torch.from_numpy(rmsd_to_folded),\n",
    "    f\"{save_dir}/{molecule}-{simulation_idx}-rmsd.pt\"\n",
    ")\n",
    "torch.save(\n",
    "    torch.from_numpy(rmsd_to_folded < rmsd_threshold),\n",
    "    f\"{save_dir}/{molecule}-{simulation_idx}-label-rmsd-folded.pt\"\n",
    ")"
   ]
  },
  {
   "cell_type": "markdown",
   "metadata": {},
   "source": [
    "### Unfolded"
   ]
  },
  {
   "cell_type": "code",
   "execution_count": 65,
   "metadata": {},
   "outputs": [
    {
     "data": {
      "text/plain": [
       "array([[      1],\n",
       "       [     19],\n",
       "       [     22],\n",
       "       ...,\n",
       "       [5212612],\n",
       "       [5212657],\n",
       "       [5212658]], shape=(46145, 1))"
      ]
     },
     "execution_count": 65,
     "metadata": {},
     "output_type": "execute_result"
    }
   ],
   "source": [
    "np.argwhere((rmsd_to_folded > 0.97) & (rmsd_to_folded < 1.03))"
   ]
  },
  {
   "cell_type": "code",
   "execution_count": 66,
   "metadata": {},
   "outputs": [
    {
     "name": "stdout",
     "output_type": "stream",
     "text": [
      "0.9214001\n"
     ]
    },
    {
     "data": {
      "image/png": "[encoded data removed]",
      "text/plain": [
       "<Figure size 640x480 with 1 Axes>"
      ]
     },
     "metadata": {},
     "output_type": "display_data"
    },
    {
     "data": {
      "image/png": "[encoded data removed]",
      "text/plain": [
       "<Figure size 640x480 with 1 Axes>"
      ]
     },
     "metadata": {},
     "output_type": "display_data"
    }
   ],
   "source": [
    "unfolded_selected_frame = all_traj[0]\n",
    "unfolded_selected_rmsd = rmsd_to_refpdb(\n",
    "    traj = all_traj,\n",
    "    reference_traj = unfolded_selected_frame,\n",
    ")\n",
    "\n",
    "print(unfolded_selected_rmsd.mean())\n",
    "plt.hist(\n",
    "    unfolded_selected_rmsd,\n",
    "    bins=100,\n",
    "    # log=True,\n",
    "    color=blue,\n",
    ")\n",
    "plt.show()\n",
    "\n",
    "plt.hist(\n",
    "    unfolded_selected_rmsd,\n",
    "    bins=100,\n",
    "    log=True,\n",
    "    color=blue,\n",
    ")\n",
    "plt.show()"
   ]
  },
  {
   "cell_type": "code",
   "execution_count": 67,
   "metadata": {},
   "outputs": [
    {
     "name": "stdout",
     "output_type": "stream",
     "text": [
      "(1, 39)\n",
      "['C' 'C' 'C' 'C' 'C' 'H' 'H' 'H' 'H' 'H' 'H' 'C' 'C' 'C' 'C' 'C' 'C' 'C'\n",
      " 'E' 'E' 'C' 'C' 'C' 'C' 'C' 'C' 'E' 'E' 'C' 'C' 'C' 'C' 'C' 'C' 'C' 'C'\n",
      " 'C' 'C' 'C']\n"
     ]
    },
    {
     "data": {
      "application/vnd.jupyter.widget-view+json": {
       "model_id": "939b8bcde48b430da8b268c749ecc514",
       "version_major": 2,
       "version_minor": 0
      },
      "text/plain": [
       "NGLWidget()"
      ]
     },
     "metadata": {},
     "output_type": "display_data"
    }
   ],
   "source": [
    "unfolded_dssp_selected = md.compute_dssp(unfolded_selected_frame)\n",
    "print(unfolded_dssp_selected.shape)\n",
    "print(unfolded_dssp_selected[0])\n",
    "unfolded_selected_view = nv.show_mdtraj(unfolded_selected_frame)\n",
    "unfolded_selected_view.add_representation(\"licorice\", selection=\"protein\")\n",
    "unfolded_selected_view"
   ]
  },
  {
   "cell_type": "code",
   "execution_count": 69,
   "metadata": {},
   "outputs": [
    {
     "data": {
      "image/png": "[encoded data removed]",
      "text/plain": [
       "<Figure size 600x600 with 1 Axes>"
      ]
     },
     "metadata": {},
     "output_type": "display_data"
    }
   ],
   "source": [
    "# pdb on TICA plot\n",
    "lag = 10\n",
    "\n",
    "ca_resid_pair = np.array(\n",
    "\t[(a.index, b.index) for a, b in combinations(list(all_traj.topology.residues), 2)]\n",
    ")\n",
    "unfolded_ca_pair_distances, resid_pairs = md.compute_contacts(\n",
    "\tunfolded_selected_frame, scheme=\"ca\", contacts=ca_resid_pair, periodic=False\n",
    ")\n",
    "tica_model_path = f\"../data/{molecule}/{molecule}_tica_model_lag{lag}.pkl\"\n",
    "tica_model = pickle.load(open(tica_model_path, 'rb'))\n",
    "tica_data_selected = tica_model.transform(unfolded_ca_pair_distances)\n",
    "x_tica_selected = tica_data_selected[:, 0]\n",
    "y_tica_selected = tica_data_selected[:, 1]\n",
    "\n",
    "tica_coord_path = f\"../data/{molecule}/{molecule}_tica_coord_lag{lag}.npy\"\n",
    "tica_data = np.load(tica_coord_path)\n",
    "x = tica_data[:, 0]\n",
    "y = tica_data[:, 1]\n",
    "\n",
    "# Plot TICA with RMSD colors\n",
    "fig = plt.figure(figsize=(6, 6))\n",
    "ax = fig.add_subplot(111)\n",
    "ax.hist2d(x, y, bins=100, norm=LogNorm())\n",
    "ax.scatter(\n",
    "    x_tica_selected,\n",
    "    y_tica_selected,\n",
    "    c=\"red\",\n",
    "    s=100,\n",
    "    edgecolors=\"k\",\n",
    "    linewidths=2,\n",
    "    label=\"Unfolded selected state\",\n",
    ")\n",
    "ax.set_xlabel(\"TIC 1\")\n",
    "ax.set_ylabel(\"TIC 2\")\n",
    "ax.set_title(f\"TICA with RMSD colors (lag={lag})\")\n",
    "ax.legend(loc=\"best\")\n",
    "plt.tight_layout()\n",
    "plt.show()\n",
    "plt.close()\n"
   ]
  },
  {
   "cell_type": "code",
   "execution_count": 70,
   "metadata": {},
   "outputs": [],
   "source": [
    "save_dir = f\"/home/shpark/prj-mlcv/lib/DESRES/DESRES-Trajectory_{molecule}-{simulation_idx}-protein\"\n",
    "\n",
    "unfolded_selected_frame.save_pdb(\n",
    "\tf\"/home/shpark/prj-mlcv/lib/bioemu/opes/data/{molecule}/unfolded.pdb\"\n",
    ")\n",
    "torch.save(\n",
    "    torch.from_numpy(unfolded_selected_rmsd),\n",
    "    f\"{save_dir}/{molecule}-{simulation_idx}-rmsd_unfolded.pt\"\n",
    ")"
   ]
  },
  {
   "cell_type": "markdown",
   "metadata": {},
   "source": [
    "# Conclusion"
   ]
  },
  {
   "cell_type": "markdown",
   "metadata": {},
   "source": []
  }
 ],
 "metadata": {
  "kernelspec": {
   "display_name": "bioemu",
   "language": "python",
   "name": "python3"
  },
  "language_info": {
   "codemirror_mode": {
    "name": "ipython",
    "version": 3
   },
   "file_extension": ".py",
   "mimetype": "text/x-python",
   "name": "python",
   "nbconvert_exporter": "python",
   "pygments_lexer": "ipython3",
   "version": "3.10.18"
  }
 },
 "nbformat": 4,
 "nbformat_minor": 2
}
